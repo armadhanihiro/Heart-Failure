{
  "nbformat": 4,
  "nbformat_minor": 0,
  "metadata": {
    "colab": {
      "name": "Project Kelompok 5.ipynb",
      "provenance": [],
      "collapsed_sections": []
    },
    "kernelspec": {
      "name": "python3",
      "display_name": "Python 3"
    },
    "language_info": {
      "name": "python"
    }
  },
  "cells": [
    {
      "cell_type": "markdown",
      "metadata": {
        "id": "HN3ou5LaCu_5"
      },
      "source": [
        "**Project Kelompok 5 TelU-01 Microcredensial Associate Data Scientist:**\n",
        "\n",
        "\n",
        "*   Armadhani Hiro Juni Permana\n",
        "*   David Kevin Handel Hutabarat \n",
        "*   Yunata Putra Gunawan \n",
        "\n"
      ]
    },
    {
      "cell_type": "markdown",
      "metadata": {
        "id": "DMLAtRKrgpdj"
      },
      "source": [
        "#**Akuisisi Data**"
      ]
    },
    {
      "cell_type": "markdown",
      "metadata": {
        "id": "ZBzux8KSRUIv"
      },
      "source": [
        "Data diakuisisi dari https://archive.ics.uci.edu/ml/datasets/Heart+failure+clinical+records#\n",
        "Data ini merupakan data record gagal jantung. Data ini terdiri atas 299 observasi dan 13 atribut.\n",
        "Deskripsi dari setiap atribut adalah sebagai berikut:\n",
        "1. age : umur pasien (integer)\n",
        "2. anaemia : kondisi tubuh kekurangan sel darah merah (boolean: 1 (True) atau 0 (No))\n",
        "3. high_blood_pressure : pasien memiliki tekanan darah tinggi (boolean: 1 (True) atau 0 (False))\n",
        "4. creatinine_phosphokinase (CPK) : kadar enzim CPK di dalam darah (integer)\n",
        "5. diabetes : pasien memiliki diabetes (boolean: 1 (True) atau 0 (False))\n",
        "6. ejection_fraction : banyak darah yang dipompakan keluar melalui jantung dalam setiap kontraksinya (float: persentasi)\n",
        "7. platelets : trombosit/keping darah (float: kiloplatelets/mL)\n",
        "8. sex : jenis kelamin (Boolean: 1 (Laki-laki) atau 0 (Perempuan))\n",
        "9. serum_creatinine : kadar kreatinin di dalam darah (float: mg/dL)\n",
        "10. serum_sodium : kadar sodium di dalam darah (float: mEQ/L)\n",
        "11. smoking : pasien merokok (Boolean: 1 (True) atau 0 (False)\n",
        "12. time : periode follow-up (Hari)\n",
        "13. DEATH_EVENT : kematian (Boolean: 1 (True) atau 0 (False))"
      ]
    },
    {
      "cell_type": "code",
      "metadata": {
        "id": "LxnKJEcT87lh"
      },
      "source": [
        "# Import library yang dibutuhkan\n",
        "import pandas as pd\n",
        "import numpy as np\n",
        "import matplotlib.pyplot as plt\n",
        "import seaborn as sns\n",
        "import plotly.figure_factory as ff\n",
        "import plotly.express as px\n",
        "from sklearn.ensemble import ExtraTreesClassifier\n",
        "from scipy import stats\n",
        "from scipy.stats import norm, skew, boxcox\n",
        "from collections import Counter"
      ],
      "execution_count": null,
      "outputs": []
    },
    {
      "cell_type": "markdown",
      "metadata": {
        "id": "t68ohQ2JdGTJ"
      },
      "source": [
        "#Mengimpor Data menggunakan Gdrive"
      ]
    },
    {
      "cell_type": "code",
      "metadata": {
        "colab": {
          "base_uri": "https://localhost:8080/"
        },
        "id": "SsuhwWb2Klu2",
        "outputId": "a02d49d3-8528-4b17-92da-615f059c19dc"
      },
      "source": [
        "!gdown --id 1AEpO2omCTByqZMtEdRsjvgdvXafeoM09"
      ],
      "execution_count": null,
      "outputs": [
        {
          "output_type": "stream",
          "name": "stdout",
          "text": [
            "Downloading...\n",
            "From: https://drive.google.com/uc?id=1AEpO2omCTByqZMtEdRsjvgdvXafeoM09\n",
            "To: /content/heart_failure_clinical_records_dataset.csv\n",
            "\r  0% 0.00/12.2k [00:00<?, ?B/s]\r100% 12.2k/12.2k [00:00<00:00, 20.0MB/s]\n"
          ]
        }
      ]
    },
    {
      "cell_type": "markdown",
      "metadata": {
        "id": "GtsFgZHX0WTS"
      },
      "source": [
        "# Menampilkan 5 Data Teratas pada Dataset"
      ]
    },
    {
      "cell_type": "code",
      "metadata": {
        "id": "UCBYblPz-3uQ",
        "colab": {
          "base_uri": "https://localhost:8080/",
          "height": 206
        },
        "outputId": "bc312c39-e750-4c2b-f58e-5ca97e5dbb7c"
      },
      "source": [
        "df = pd.read_csv('heart_failure_clinical_records_dataset.csv')\n",
        "df.head()"
      ],
      "execution_count": null,
      "outputs": [
        {
          "output_type": "execute_result",
          "data": {
            "text/html": [
              "<div>\n",
              "<style scoped>\n",
              "    .dataframe tbody tr th:only-of-type {\n",
              "        vertical-align: middle;\n",
              "    }\n",
              "\n",
              "    .dataframe tbody tr th {\n",
              "        vertical-align: top;\n",
              "    }\n",
              "\n",
              "    .dataframe thead th {\n",
              "        text-align: right;\n",
              "    }\n",
              "</style>\n",
              "<table border=\"1\" class=\"dataframe\">\n",
              "  <thead>\n",
              "    <tr style=\"text-align: right;\">\n",
              "      <th></th>\n",
              "      <th>age</th>\n",
              "      <th>anaemia</th>\n",
              "      <th>creatinine_phosphokinase</th>\n",
              "      <th>diabetes</th>\n",
              "      <th>ejection_fraction</th>\n",
              "      <th>high_blood_pressure</th>\n",
              "      <th>platelets</th>\n",
              "      <th>serum_creatinine</th>\n",
              "      <th>serum_sodium</th>\n",
              "      <th>sex</th>\n",
              "      <th>smoking</th>\n",
              "      <th>time</th>\n",
              "      <th>DEATH_EVENT</th>\n",
              "    </tr>\n",
              "  </thead>\n",
              "  <tbody>\n",
              "    <tr>\n",
              "      <th>0</th>\n",
              "      <td>75.0</td>\n",
              "      <td>0</td>\n",
              "      <td>582</td>\n",
              "      <td>0</td>\n",
              "      <td>20</td>\n",
              "      <td>1</td>\n",
              "      <td>265000.00</td>\n",
              "      <td>1.9</td>\n",
              "      <td>130</td>\n",
              "      <td>1</td>\n",
              "      <td>0</td>\n",
              "      <td>4</td>\n",
              "      <td>1</td>\n",
              "    </tr>\n",
              "    <tr>\n",
              "      <th>1</th>\n",
              "      <td>55.0</td>\n",
              "      <td>0</td>\n",
              "      <td>7861</td>\n",
              "      <td>0</td>\n",
              "      <td>38</td>\n",
              "      <td>0</td>\n",
              "      <td>263358.03</td>\n",
              "      <td>1.1</td>\n",
              "      <td>136</td>\n",
              "      <td>1</td>\n",
              "      <td>0</td>\n",
              "      <td>6</td>\n",
              "      <td>1</td>\n",
              "    </tr>\n",
              "    <tr>\n",
              "      <th>2</th>\n",
              "      <td>65.0</td>\n",
              "      <td>0</td>\n",
              "      <td>146</td>\n",
              "      <td>0</td>\n",
              "      <td>20</td>\n",
              "      <td>0</td>\n",
              "      <td>162000.00</td>\n",
              "      <td>1.3</td>\n",
              "      <td>129</td>\n",
              "      <td>1</td>\n",
              "      <td>1</td>\n",
              "      <td>7</td>\n",
              "      <td>1</td>\n",
              "    </tr>\n",
              "    <tr>\n",
              "      <th>3</th>\n",
              "      <td>50.0</td>\n",
              "      <td>1</td>\n",
              "      <td>111</td>\n",
              "      <td>0</td>\n",
              "      <td>20</td>\n",
              "      <td>0</td>\n",
              "      <td>210000.00</td>\n",
              "      <td>1.9</td>\n",
              "      <td>137</td>\n",
              "      <td>1</td>\n",
              "      <td>0</td>\n",
              "      <td>7</td>\n",
              "      <td>1</td>\n",
              "    </tr>\n",
              "    <tr>\n",
              "      <th>4</th>\n",
              "      <td>65.0</td>\n",
              "      <td>1</td>\n",
              "      <td>160</td>\n",
              "      <td>1</td>\n",
              "      <td>20</td>\n",
              "      <td>0</td>\n",
              "      <td>327000.00</td>\n",
              "      <td>2.7</td>\n",
              "      <td>116</td>\n",
              "      <td>0</td>\n",
              "      <td>0</td>\n",
              "      <td>8</td>\n",
              "      <td>1</td>\n",
              "    </tr>\n",
              "  </tbody>\n",
              "</table>\n",
              "</div>"
            ],
            "text/plain": [
              "    age  anaemia  creatinine_phosphokinase  ...  smoking  time  DEATH_EVENT\n",
              "0  75.0        0                       582  ...        0     4            1\n",
              "1  55.0        0                      7861  ...        0     6            1\n",
              "2  65.0        0                       146  ...        1     7            1\n",
              "3  50.0        1                       111  ...        0     7            1\n",
              "4  65.0        1                       160  ...        0     8            1\n",
              "\n",
              "[5 rows x 13 columns]"
            ]
          },
          "metadata": {},
          "execution_count": 3
        }
      ]
    },
    {
      "cell_type": "markdown",
      "metadata": {
        "id": "91doLYdjJytd"
      },
      "source": [
        "# **Eksplorasi Data**\n",
        "\n"
      ]
    },
    {
      "cell_type": "code",
      "metadata": {
        "id": "vJzTHwJE7axM",
        "colab": {
          "base_uri": "https://localhost:8080/"
        },
        "outputId": "9052efe2-ff0f-4b39-97c4-65b9eb161155"
      },
      "source": [
        "# Menampilkan ukuran dataset\n",
        "df.shape"
      ],
      "execution_count": null,
      "outputs": [
        {
          "output_type": "execute_result",
          "data": {
            "text/plain": [
              "(299, 13)"
            ]
          },
          "metadata": {},
          "execution_count": 4
        }
      ]
    },
    {
      "cell_type": "code",
      "metadata": {
        "id": "Kcdm5HAhNol9",
        "colab": {
          "base_uri": "https://localhost:8080/"
        },
        "outputId": "84f8ff59-133f-4722-a719-2457401ac8f0"
      },
      "source": [
        "# Menampilkan info umum dari dataset\n",
        "df.info()"
      ],
      "execution_count": null,
      "outputs": [
        {
          "output_type": "stream",
          "name": "stdout",
          "text": [
            "<class 'pandas.core.frame.DataFrame'>\n",
            "RangeIndex: 299 entries, 0 to 298\n",
            "Data columns (total 13 columns):\n",
            " #   Column                    Non-Null Count  Dtype  \n",
            "---  ------                    --------------  -----  \n",
            " 0   age                       299 non-null    float64\n",
            " 1   anaemia                   299 non-null    int64  \n",
            " 2   creatinine_phosphokinase  299 non-null    int64  \n",
            " 3   diabetes                  299 non-null    int64  \n",
            " 4   ejection_fraction         299 non-null    int64  \n",
            " 5   high_blood_pressure       299 non-null    int64  \n",
            " 6   platelets                 299 non-null    float64\n",
            " 7   serum_creatinine          299 non-null    float64\n",
            " 8   serum_sodium              299 non-null    int64  \n",
            " 9   sex                       299 non-null    int64  \n",
            " 10  smoking                   299 non-null    int64  \n",
            " 11  time                      299 non-null    int64  \n",
            " 12  DEATH_EVENT               299 non-null    int64  \n",
            "dtypes: float64(3), int64(10)\n",
            "memory usage: 30.5 KB\n"
          ]
        }
      ]
    },
    {
      "cell_type": "code",
      "metadata": {
        "id": "cBzjSvcKNi8C",
        "colab": {
          "base_uri": "https://localhost:8080/"
        },
        "outputId": "d1a851a7-44aa-4281-923b-fd25e6215834"
      },
      "source": [
        "df.isnull().sum()"
      ],
      "execution_count": null,
      "outputs": [
        {
          "output_type": "execute_result",
          "data": {
            "text/plain": [
              "age                         0\n",
              "anaemia                     0\n",
              "creatinine_phosphokinase    0\n",
              "diabetes                    0\n",
              "ejection_fraction           0\n",
              "high_blood_pressure         0\n",
              "platelets                   0\n",
              "serum_creatinine            0\n",
              "serum_sodium                0\n",
              "sex                         0\n",
              "smoking                     0\n",
              "time                        0\n",
              "DEATH_EVENT                 0\n",
              "dtype: int64"
            ]
          },
          "metadata": {},
          "execution_count": 6
        }
      ]
    },
    {
      "cell_type": "markdown",
      "metadata": {
        "id": "-yGgCEG40gQz"
      },
      "source": [
        "Dari tampilan di atas, diketahui tidak terdapat data kosong atau *missing values*"
      ]
    },
    {
      "cell_type": "code",
      "metadata": {
        "id": "qMcwy2CJNudF",
        "colab": {
          "base_uri": "https://localhost:8080/",
          "height": 320
        },
        "outputId": "228c0b93-8ec5-4fa2-a0df-5067ead11814"
      },
      "source": [
        "# Menampilkan Statistika Deskriptif dari Dataset\n",
        "df.describe()"
      ],
      "execution_count": null,
      "outputs": [
        {
          "output_type": "execute_result",
          "data": {
            "text/html": [
              "<div>\n",
              "<style scoped>\n",
              "    .dataframe tbody tr th:only-of-type {\n",
              "        vertical-align: middle;\n",
              "    }\n",
              "\n",
              "    .dataframe tbody tr th {\n",
              "        vertical-align: top;\n",
              "    }\n",
              "\n",
              "    .dataframe thead th {\n",
              "        text-align: right;\n",
              "    }\n",
              "</style>\n",
              "<table border=\"1\" class=\"dataframe\">\n",
              "  <thead>\n",
              "    <tr style=\"text-align: right;\">\n",
              "      <th></th>\n",
              "      <th>age</th>\n",
              "      <th>anaemia</th>\n",
              "      <th>creatinine_phosphokinase</th>\n",
              "      <th>diabetes</th>\n",
              "      <th>ejection_fraction</th>\n",
              "      <th>high_blood_pressure</th>\n",
              "      <th>platelets</th>\n",
              "      <th>serum_creatinine</th>\n",
              "      <th>serum_sodium</th>\n",
              "      <th>sex</th>\n",
              "      <th>smoking</th>\n",
              "      <th>time</th>\n",
              "      <th>DEATH_EVENT</th>\n",
              "    </tr>\n",
              "  </thead>\n",
              "  <tbody>\n",
              "    <tr>\n",
              "      <th>count</th>\n",
              "      <td>299.000000</td>\n",
              "      <td>299.000000</td>\n",
              "      <td>299.000000</td>\n",
              "      <td>299.000000</td>\n",
              "      <td>299.000000</td>\n",
              "      <td>299.000000</td>\n",
              "      <td>299.000000</td>\n",
              "      <td>299.00000</td>\n",
              "      <td>299.000000</td>\n",
              "      <td>299.000000</td>\n",
              "      <td>299.00000</td>\n",
              "      <td>299.000000</td>\n",
              "      <td>299.00000</td>\n",
              "    </tr>\n",
              "    <tr>\n",
              "      <th>mean</th>\n",
              "      <td>60.833893</td>\n",
              "      <td>0.431438</td>\n",
              "      <td>581.839465</td>\n",
              "      <td>0.418060</td>\n",
              "      <td>38.083612</td>\n",
              "      <td>0.351171</td>\n",
              "      <td>263358.029264</td>\n",
              "      <td>1.39388</td>\n",
              "      <td>136.625418</td>\n",
              "      <td>0.648829</td>\n",
              "      <td>0.32107</td>\n",
              "      <td>130.260870</td>\n",
              "      <td>0.32107</td>\n",
              "    </tr>\n",
              "    <tr>\n",
              "      <th>std</th>\n",
              "      <td>11.894809</td>\n",
              "      <td>0.496107</td>\n",
              "      <td>970.287881</td>\n",
              "      <td>0.494067</td>\n",
              "      <td>11.834841</td>\n",
              "      <td>0.478136</td>\n",
              "      <td>97804.236869</td>\n",
              "      <td>1.03451</td>\n",
              "      <td>4.412477</td>\n",
              "      <td>0.478136</td>\n",
              "      <td>0.46767</td>\n",
              "      <td>77.614208</td>\n",
              "      <td>0.46767</td>\n",
              "    </tr>\n",
              "    <tr>\n",
              "      <th>min</th>\n",
              "      <td>40.000000</td>\n",
              "      <td>0.000000</td>\n",
              "      <td>23.000000</td>\n",
              "      <td>0.000000</td>\n",
              "      <td>14.000000</td>\n",
              "      <td>0.000000</td>\n",
              "      <td>25100.000000</td>\n",
              "      <td>0.50000</td>\n",
              "      <td>113.000000</td>\n",
              "      <td>0.000000</td>\n",
              "      <td>0.00000</td>\n",
              "      <td>4.000000</td>\n",
              "      <td>0.00000</td>\n",
              "    </tr>\n",
              "    <tr>\n",
              "      <th>25%</th>\n",
              "      <td>51.000000</td>\n",
              "      <td>0.000000</td>\n",
              "      <td>116.500000</td>\n",
              "      <td>0.000000</td>\n",
              "      <td>30.000000</td>\n",
              "      <td>0.000000</td>\n",
              "      <td>212500.000000</td>\n",
              "      <td>0.90000</td>\n",
              "      <td>134.000000</td>\n",
              "      <td>0.000000</td>\n",
              "      <td>0.00000</td>\n",
              "      <td>73.000000</td>\n",
              "      <td>0.00000</td>\n",
              "    </tr>\n",
              "    <tr>\n",
              "      <th>50%</th>\n",
              "      <td>60.000000</td>\n",
              "      <td>0.000000</td>\n",
              "      <td>250.000000</td>\n",
              "      <td>0.000000</td>\n",
              "      <td>38.000000</td>\n",
              "      <td>0.000000</td>\n",
              "      <td>262000.000000</td>\n",
              "      <td>1.10000</td>\n",
              "      <td>137.000000</td>\n",
              "      <td>1.000000</td>\n",
              "      <td>0.00000</td>\n",
              "      <td>115.000000</td>\n",
              "      <td>0.00000</td>\n",
              "    </tr>\n",
              "    <tr>\n",
              "      <th>75%</th>\n",
              "      <td>70.000000</td>\n",
              "      <td>1.000000</td>\n",
              "      <td>582.000000</td>\n",
              "      <td>1.000000</td>\n",
              "      <td>45.000000</td>\n",
              "      <td>1.000000</td>\n",
              "      <td>303500.000000</td>\n",
              "      <td>1.40000</td>\n",
              "      <td>140.000000</td>\n",
              "      <td>1.000000</td>\n",
              "      <td>1.00000</td>\n",
              "      <td>203.000000</td>\n",
              "      <td>1.00000</td>\n",
              "    </tr>\n",
              "    <tr>\n",
              "      <th>max</th>\n",
              "      <td>95.000000</td>\n",
              "      <td>1.000000</td>\n",
              "      <td>7861.000000</td>\n",
              "      <td>1.000000</td>\n",
              "      <td>80.000000</td>\n",
              "      <td>1.000000</td>\n",
              "      <td>850000.000000</td>\n",
              "      <td>9.40000</td>\n",
              "      <td>148.000000</td>\n",
              "      <td>1.000000</td>\n",
              "      <td>1.00000</td>\n",
              "      <td>285.000000</td>\n",
              "      <td>1.00000</td>\n",
              "    </tr>\n",
              "  </tbody>\n",
              "</table>\n",
              "</div>"
            ],
            "text/plain": [
              "              age     anaemia  ...        time  DEATH_EVENT\n",
              "count  299.000000  299.000000  ...  299.000000    299.00000\n",
              "mean    60.833893    0.431438  ...  130.260870      0.32107\n",
              "std     11.894809    0.496107  ...   77.614208      0.46767\n",
              "min     40.000000    0.000000  ...    4.000000      0.00000\n",
              "25%     51.000000    0.000000  ...   73.000000      0.00000\n",
              "50%     60.000000    0.000000  ...  115.000000      0.00000\n",
              "75%     70.000000    1.000000  ...  203.000000      1.00000\n",
              "max     95.000000    1.000000  ...  285.000000      1.00000\n",
              "\n",
              "[8 rows x 13 columns]"
            ]
          },
          "metadata": {},
          "execution_count": 7
        }
      ]
    },
    {
      "cell_type": "markdown",
      "metadata": {
        "id": "npbMROA1QpGp"
      },
      "source": [
        "## **Mencari Data Pencilan**"
      ]
    },
    {
      "cell_type": "code",
      "metadata": {
        "id": "VE1pnnDyJnZK"
      },
      "source": [
        "def mencari_pencilan(df,fitur):\n",
        "    indeks_pencilan = []\n",
        "    \n",
        "    for c in fitur:\n",
        "        # Kuartil Pertama\n",
        "        Q1 = np.percentile(df[c],25)\n",
        "        # Kuartil Ketiga\n",
        "        Q3 = np.percentile(df[c],75)\n",
        "        # IQR\n",
        "        IQR = Q3 - Q1\n",
        "        # Jarak Antar Kuartil\n",
        "        jarak_kuartil = IQR * 1.5\n",
        "        # Mencari Pencilan\n",
        "        list_pencilan = df[(df[c] < Q1 - jarak_kuartil) | (df[c] > Q3 + jarak_kuartil)].index\n",
        "        # Menyimpan Indeks\n",
        "        indeks_pencilan.extend(list_pencilan)\n",
        "        \n",
        "    indeks_pencilan = Counter(indeks_pencilan)\n",
        "    hasil_pencilan = list(i for i, v in indeks_pencilan.items() if v > 1) \n",
        "    \n",
        "    return hasil_pencilan"
      ],
      "execution_count": null,
      "outputs": []
    },
    {
      "cell_type": "code",
      "metadata": {
        "colab": {
          "base_uri": "https://localhost:8080/",
          "height": 363
        },
        "id": "MLDGjz6rLHPC",
        "outputId": "fa11ec5a-da2d-412e-ab25-947cd7be93d4"
      },
      "source": [
        "df.loc[mencari_pencilan(df,[\"age\",\"creatinine_phosphokinase\",\"ejection_fraction\",\"platelets\",\"serum_creatinine\",\"serum_sodium\",\"time\"])]"
      ],
      "execution_count": null,
      "outputs": [
        {
          "output_type": "execute_result",
          "data": {
            "text/html": [
              "<div>\n",
              "<style scoped>\n",
              "    .dataframe tbody tr th:only-of-type {\n",
              "        vertical-align: middle;\n",
              "    }\n",
              "\n",
              "    .dataframe tbody tr th {\n",
              "        vertical-align: top;\n",
              "    }\n",
              "\n",
              "    .dataframe thead th {\n",
              "        text-align: right;\n",
              "    }\n",
              "</style>\n",
              "<table border=\"1\" class=\"dataframe\">\n",
              "  <thead>\n",
              "    <tr style=\"text-align: right;\">\n",
              "      <th></th>\n",
              "      <th>age</th>\n",
              "      <th>anaemia</th>\n",
              "      <th>creatinine_phosphokinase</th>\n",
              "      <th>diabetes</th>\n",
              "      <th>ejection_fraction</th>\n",
              "      <th>high_blood_pressure</th>\n",
              "      <th>platelets</th>\n",
              "      <th>serum_creatinine</th>\n",
              "      <th>serum_sodium</th>\n",
              "      <th>sex</th>\n",
              "      <th>smoking</th>\n",
              "      <th>time</th>\n",
              "      <th>DEATH_EVENT</th>\n",
              "    </tr>\n",
              "  </thead>\n",
              "  <tbody>\n",
              "    <tr>\n",
              "      <th>38</th>\n",
              "      <td>60.0</td>\n",
              "      <td>0</td>\n",
              "      <td>2656</td>\n",
              "      <td>1</td>\n",
              "      <td>30</td>\n",
              "      <td>0</td>\n",
              "      <td>305000.00</td>\n",
              "      <td>2.3</td>\n",
              "      <td>137</td>\n",
              "      <td>1</td>\n",
              "      <td>0</td>\n",
              "      <td>30</td>\n",
              "      <td>0</td>\n",
              "    </tr>\n",
              "    <tr>\n",
              "      <th>52</th>\n",
              "      <td>60.0</td>\n",
              "      <td>0</td>\n",
              "      <td>3964</td>\n",
              "      <td>1</td>\n",
              "      <td>62</td>\n",
              "      <td>0</td>\n",
              "      <td>263358.03</td>\n",
              "      <td>6.8</td>\n",
              "      <td>146</td>\n",
              "      <td>0</td>\n",
              "      <td>0</td>\n",
              "      <td>43</td>\n",
              "      <td>1</td>\n",
              "    </tr>\n",
              "    <tr>\n",
              "      <th>163</th>\n",
              "      <td>50.0</td>\n",
              "      <td>1</td>\n",
              "      <td>2334</td>\n",
              "      <td>1</td>\n",
              "      <td>35</td>\n",
              "      <td>0</td>\n",
              "      <td>75000.00</td>\n",
              "      <td>0.9</td>\n",
              "      <td>142</td>\n",
              "      <td>0</td>\n",
              "      <td>0</td>\n",
              "      <td>126</td>\n",
              "      <td>1</td>\n",
              "    </tr>\n",
              "    <tr>\n",
              "      <th>200</th>\n",
              "      <td>63.0</td>\n",
              "      <td>1</td>\n",
              "      <td>1767</td>\n",
              "      <td>0</td>\n",
              "      <td>45</td>\n",
              "      <td>0</td>\n",
              "      <td>73000.00</td>\n",
              "      <td>0.7</td>\n",
              "      <td>137</td>\n",
              "      <td>1</td>\n",
              "      <td>0</td>\n",
              "      <td>186</td>\n",
              "      <td>0</td>\n",
              "    </tr>\n",
              "    <tr>\n",
              "      <th>296</th>\n",
              "      <td>45.0</td>\n",
              "      <td>0</td>\n",
              "      <td>2060</td>\n",
              "      <td>1</td>\n",
              "      <td>60</td>\n",
              "      <td>0</td>\n",
              "      <td>742000.00</td>\n",
              "      <td>0.8</td>\n",
              "      <td>138</td>\n",
              "      <td>0</td>\n",
              "      <td>0</td>\n",
              "      <td>278</td>\n",
              "      <td>0</td>\n",
              "    </tr>\n",
              "    <tr>\n",
              "      <th>217</th>\n",
              "      <td>54.0</td>\n",
              "      <td>1</td>\n",
              "      <td>427</td>\n",
              "      <td>0</td>\n",
              "      <td>70</td>\n",
              "      <td>1</td>\n",
              "      <td>151000.00</td>\n",
              "      <td>9.0</td>\n",
              "      <td>137</td>\n",
              "      <td>0</td>\n",
              "      <td>0</td>\n",
              "      <td>196</td>\n",
              "      <td>1</td>\n",
              "    </tr>\n",
              "    <tr>\n",
              "      <th>117</th>\n",
              "      <td>85.0</td>\n",
              "      <td>1</td>\n",
              "      <td>102</td>\n",
              "      <td>0</td>\n",
              "      <td>60</td>\n",
              "      <td>0</td>\n",
              "      <td>507000.00</td>\n",
              "      <td>3.2</td>\n",
              "      <td>138</td>\n",
              "      <td>0</td>\n",
              "      <td>0</td>\n",
              "      <td>94</td>\n",
              "      <td>0</td>\n",
              "    </tr>\n",
              "    <tr>\n",
              "      <th>167</th>\n",
              "      <td>59.0</td>\n",
              "      <td>0</td>\n",
              "      <td>66</td>\n",
              "      <td>1</td>\n",
              "      <td>20</td>\n",
              "      <td>0</td>\n",
              "      <td>70000.00</td>\n",
              "      <td>2.4</td>\n",
              "      <td>134</td>\n",
              "      <td>1</td>\n",
              "      <td>0</td>\n",
              "      <td>135</td>\n",
              "      <td>1</td>\n",
              "    </tr>\n",
              "    <tr>\n",
              "      <th>281</th>\n",
              "      <td>70.0</td>\n",
              "      <td>0</td>\n",
              "      <td>582</td>\n",
              "      <td>0</td>\n",
              "      <td>40</td>\n",
              "      <td>0</td>\n",
              "      <td>51000.00</td>\n",
              "      <td>2.7</td>\n",
              "      <td>136</td>\n",
              "      <td>1</td>\n",
              "      <td>1</td>\n",
              "      <td>250</td>\n",
              "      <td>0</td>\n",
              "    </tr>\n",
              "    <tr>\n",
              "      <th>4</th>\n",
              "      <td>65.0</td>\n",
              "      <td>1</td>\n",
              "      <td>160</td>\n",
              "      <td>1</td>\n",
              "      <td>20</td>\n",
              "      <td>0</td>\n",
              "      <td>327000.00</td>\n",
              "      <td>2.7</td>\n",
              "      <td>116</td>\n",
              "      <td>0</td>\n",
              "      <td>0</td>\n",
              "      <td>8</td>\n",
              "      <td>1</td>\n",
              "    </tr>\n",
              "  </tbody>\n",
              "</table>\n",
              "</div>"
            ],
            "text/plain": [
              "      age  anaemia  creatinine_phosphokinase  ...  smoking  time  DEATH_EVENT\n",
              "38   60.0        0                      2656  ...        0    30            0\n",
              "52   60.0        0                      3964  ...        0    43            1\n",
              "163  50.0        1                      2334  ...        0   126            1\n",
              "200  63.0        1                      1767  ...        0   186            0\n",
              "296  45.0        0                      2060  ...        0   278            0\n",
              "217  54.0        1                       427  ...        0   196            1\n",
              "117  85.0        1                       102  ...        0    94            0\n",
              "167  59.0        0                        66  ...        0   135            1\n",
              "281  70.0        0                       582  ...        1   250            0\n",
              "4    65.0        1                       160  ...        0     8            1\n",
              "\n",
              "[10 rows x 13 columns]"
            ]
          },
          "metadata": {},
          "execution_count": 9
        }
      ]
    },
    {
      "cell_type": "code",
      "metadata": {
        "id": "C9NJVVxOLUeN"
      },
      "source": [
        "df = df.drop(mencari_pencilan(df,[\"age\",\"creatinine_phosphokinase\",\"ejection_fraction\",\"platelets\",\"serum_creatinine\",\"serum_sodium\",\"time\"]),axis = 0).reset_index(drop=True)"
      ],
      "execution_count": null,
      "outputs": []
    },
    {
      "cell_type": "code",
      "metadata": {
        "colab": {
          "base_uri": "https://localhost:8080/",
          "height": 423
        },
        "id": "ZdagHl7DLcEe",
        "outputId": "a56c24e9-fb94-4344-ff88-97dfca52f1d0"
      },
      "source": [
        "df"
      ],
      "execution_count": null,
      "outputs": [
        {
          "output_type": "execute_result",
          "data": {
            "text/html": [
              "<div>\n",
              "<style scoped>\n",
              "    .dataframe tbody tr th:only-of-type {\n",
              "        vertical-align: middle;\n",
              "    }\n",
              "\n",
              "    .dataframe tbody tr th {\n",
              "        vertical-align: top;\n",
              "    }\n",
              "\n",
              "    .dataframe thead th {\n",
              "        text-align: right;\n",
              "    }\n",
              "</style>\n",
              "<table border=\"1\" class=\"dataframe\">\n",
              "  <thead>\n",
              "    <tr style=\"text-align: right;\">\n",
              "      <th></th>\n",
              "      <th>age</th>\n",
              "      <th>anaemia</th>\n",
              "      <th>creatinine_phosphokinase</th>\n",
              "      <th>diabetes</th>\n",
              "      <th>ejection_fraction</th>\n",
              "      <th>high_blood_pressure</th>\n",
              "      <th>platelets</th>\n",
              "      <th>serum_creatinine</th>\n",
              "      <th>serum_sodium</th>\n",
              "      <th>sex</th>\n",
              "      <th>smoking</th>\n",
              "      <th>time</th>\n",
              "      <th>DEATH_EVENT</th>\n",
              "    </tr>\n",
              "  </thead>\n",
              "  <tbody>\n",
              "    <tr>\n",
              "      <th>0</th>\n",
              "      <td>75.0</td>\n",
              "      <td>0</td>\n",
              "      <td>582</td>\n",
              "      <td>0</td>\n",
              "      <td>20</td>\n",
              "      <td>1</td>\n",
              "      <td>265000.00</td>\n",
              "      <td>1.9</td>\n",
              "      <td>130</td>\n",
              "      <td>1</td>\n",
              "      <td>0</td>\n",
              "      <td>4</td>\n",
              "      <td>1</td>\n",
              "    </tr>\n",
              "    <tr>\n",
              "      <th>1</th>\n",
              "      <td>55.0</td>\n",
              "      <td>0</td>\n",
              "      <td>7861</td>\n",
              "      <td>0</td>\n",
              "      <td>38</td>\n",
              "      <td>0</td>\n",
              "      <td>263358.03</td>\n",
              "      <td>1.1</td>\n",
              "      <td>136</td>\n",
              "      <td>1</td>\n",
              "      <td>0</td>\n",
              "      <td>6</td>\n",
              "      <td>1</td>\n",
              "    </tr>\n",
              "    <tr>\n",
              "      <th>2</th>\n",
              "      <td>65.0</td>\n",
              "      <td>0</td>\n",
              "      <td>146</td>\n",
              "      <td>0</td>\n",
              "      <td>20</td>\n",
              "      <td>0</td>\n",
              "      <td>162000.00</td>\n",
              "      <td>1.3</td>\n",
              "      <td>129</td>\n",
              "      <td>1</td>\n",
              "      <td>1</td>\n",
              "      <td>7</td>\n",
              "      <td>1</td>\n",
              "    </tr>\n",
              "    <tr>\n",
              "      <th>3</th>\n",
              "      <td>50.0</td>\n",
              "      <td>1</td>\n",
              "      <td>111</td>\n",
              "      <td>0</td>\n",
              "      <td>20</td>\n",
              "      <td>0</td>\n",
              "      <td>210000.00</td>\n",
              "      <td>1.9</td>\n",
              "      <td>137</td>\n",
              "      <td>1</td>\n",
              "      <td>0</td>\n",
              "      <td>7</td>\n",
              "      <td>1</td>\n",
              "    </tr>\n",
              "    <tr>\n",
              "      <th>4</th>\n",
              "      <td>90.0</td>\n",
              "      <td>1</td>\n",
              "      <td>47</td>\n",
              "      <td>0</td>\n",
              "      <td>40</td>\n",
              "      <td>1</td>\n",
              "      <td>204000.00</td>\n",
              "      <td>2.1</td>\n",
              "      <td>132</td>\n",
              "      <td>1</td>\n",
              "      <td>1</td>\n",
              "      <td>8</td>\n",
              "      <td>1</td>\n",
              "    </tr>\n",
              "    <tr>\n",
              "      <th>...</th>\n",
              "      <td>...</td>\n",
              "      <td>...</td>\n",
              "      <td>...</td>\n",
              "      <td>...</td>\n",
              "      <td>...</td>\n",
              "      <td>...</td>\n",
              "      <td>...</td>\n",
              "      <td>...</td>\n",
              "      <td>...</td>\n",
              "      <td>...</td>\n",
              "      <td>...</td>\n",
              "      <td>...</td>\n",
              "      <td>...</td>\n",
              "    </tr>\n",
              "    <tr>\n",
              "      <th>284</th>\n",
              "      <td>63.0</td>\n",
              "      <td>1</td>\n",
              "      <td>103</td>\n",
              "      <td>1</td>\n",
              "      <td>35</td>\n",
              "      <td>0</td>\n",
              "      <td>179000.00</td>\n",
              "      <td>0.9</td>\n",
              "      <td>136</td>\n",
              "      <td>1</td>\n",
              "      <td>1</td>\n",
              "      <td>270</td>\n",
              "      <td>0</td>\n",
              "    </tr>\n",
              "    <tr>\n",
              "      <th>285</th>\n",
              "      <td>62.0</td>\n",
              "      <td>0</td>\n",
              "      <td>61</td>\n",
              "      <td>1</td>\n",
              "      <td>38</td>\n",
              "      <td>1</td>\n",
              "      <td>155000.00</td>\n",
              "      <td>1.1</td>\n",
              "      <td>143</td>\n",
              "      <td>1</td>\n",
              "      <td>1</td>\n",
              "      <td>270</td>\n",
              "      <td>0</td>\n",
              "    </tr>\n",
              "    <tr>\n",
              "      <th>286</th>\n",
              "      <td>55.0</td>\n",
              "      <td>0</td>\n",
              "      <td>1820</td>\n",
              "      <td>0</td>\n",
              "      <td>38</td>\n",
              "      <td>0</td>\n",
              "      <td>270000.00</td>\n",
              "      <td>1.2</td>\n",
              "      <td>139</td>\n",
              "      <td>0</td>\n",
              "      <td>0</td>\n",
              "      <td>271</td>\n",
              "      <td>0</td>\n",
              "    </tr>\n",
              "    <tr>\n",
              "      <th>287</th>\n",
              "      <td>45.0</td>\n",
              "      <td>0</td>\n",
              "      <td>2413</td>\n",
              "      <td>0</td>\n",
              "      <td>38</td>\n",
              "      <td>0</td>\n",
              "      <td>140000.00</td>\n",
              "      <td>1.4</td>\n",
              "      <td>140</td>\n",
              "      <td>1</td>\n",
              "      <td>1</td>\n",
              "      <td>280</td>\n",
              "      <td>0</td>\n",
              "    </tr>\n",
              "    <tr>\n",
              "      <th>288</th>\n",
              "      <td>50.0</td>\n",
              "      <td>0</td>\n",
              "      <td>196</td>\n",
              "      <td>0</td>\n",
              "      <td>45</td>\n",
              "      <td>0</td>\n",
              "      <td>395000.00</td>\n",
              "      <td>1.6</td>\n",
              "      <td>136</td>\n",
              "      <td>1</td>\n",
              "      <td>1</td>\n",
              "      <td>285</td>\n",
              "      <td>0</td>\n",
              "    </tr>\n",
              "  </tbody>\n",
              "</table>\n",
              "<p>289 rows × 13 columns</p>\n",
              "</div>"
            ],
            "text/plain": [
              "      age  anaemia  creatinine_phosphokinase  ...  smoking  time  DEATH_EVENT\n",
              "0    75.0        0                       582  ...        0     4            1\n",
              "1    55.0        0                      7861  ...        0     6            1\n",
              "2    65.0        0                       146  ...        1     7            1\n",
              "3    50.0        1                       111  ...        0     7            1\n",
              "4    90.0        1                        47  ...        1     8            1\n",
              "..    ...      ...                       ...  ...      ...   ...          ...\n",
              "284  63.0        1                       103  ...        1   270            0\n",
              "285  62.0        0                        61  ...        1   270            0\n",
              "286  55.0        0                      1820  ...        0   271            0\n",
              "287  45.0        0                      2413  ...        1   280            0\n",
              "288  50.0        0                       196  ...        1   285            0\n",
              "\n",
              "[289 rows x 13 columns]"
            ]
          },
          "metadata": {},
          "execution_count": 11
        }
      ]
    },
    {
      "cell_type": "markdown",
      "metadata": {
        "id": "7fhpCkCcMmAZ"
      },
      "source": [
        "##**Feature Engineering**"
      ]
    },
    {
      "cell_type": "markdown",
      "metadata": {
        "id": "IrcjjC9yMwBX"
      },
      "source": [
        "####Skewness"
      ]
    },
    {
      "cell_type": "code",
      "metadata": {
        "colab": {
          "base_uri": "https://localhost:8080/",
          "height": 457
        },
        "id": "U6n8MgWSMlQC",
        "outputId": "16084b11-c723-41d1-87a0-5fe084e5b668"
      },
      "source": [
        "skewed_feats = df.apply(lambda x: skew(x.dropna())).sort_values(ascending = False)\n",
        "skewness = pd.DataFrame(skewed_feats, columns = [\"skewed\"])\n",
        "skewness"
      ],
      "execution_count": null,
      "outputs": [
        {
          "output_type": "execute_result",
          "data": {
            "text/html": [
              "<div>\n",
              "<style scoped>\n",
              "    .dataframe tbody tr th:only-of-type {\n",
              "        vertical-align: middle;\n",
              "    }\n",
              "\n",
              "    .dataframe tbody tr th {\n",
              "        vertical-align: top;\n",
              "    }\n",
              "\n",
              "    .dataframe thead th {\n",
              "        text-align: right;\n",
              "    }\n",
              "</style>\n",
              "<table border=\"1\" class=\"dataframe\">\n",
              "  <thead>\n",
              "    <tr style=\"text-align: right;\">\n",
              "      <th></th>\n",
              "      <th>skewed</th>\n",
              "    </tr>\n",
              "  </thead>\n",
              "  <tbody>\n",
              "    <tr>\n",
              "      <th>creatinine_phosphokinase</th>\n",
              "      <td>4.827396</td>\n",
              "    </tr>\n",
              "    <tr>\n",
              "      <th>serum_creatinine</th>\n",
              "      <td>4.605615</td>\n",
              "    </tr>\n",
              "    <tr>\n",
              "      <th>platelets</th>\n",
              "      <td>1.429547</td>\n",
              "    </tr>\n",
              "    <tr>\n",
              "      <th>DEATH_EVENT</th>\n",
              "      <td>0.797132</td>\n",
              "    </tr>\n",
              "    <tr>\n",
              "      <th>smoking</th>\n",
              "      <td>0.729243</td>\n",
              "    </tr>\n",
              "    <tr>\n",
              "      <th>high_blood_pressure</th>\n",
              "      <td>0.583959</td>\n",
              "    </tr>\n",
              "    <tr>\n",
              "      <th>ejection_fraction</th>\n",
              "      <td>0.546146</td>\n",
              "    </tr>\n",
              "    <tr>\n",
              "      <th>age</th>\n",
              "      <td>0.413840</td>\n",
              "    </tr>\n",
              "    <tr>\n",
              "      <th>diabetes</th>\n",
              "      <td>0.358569</td>\n",
              "    </tr>\n",
              "    <tr>\n",
              "      <th>anaemia</th>\n",
              "      <td>0.286636</td>\n",
              "    </tr>\n",
              "    <tr>\n",
              "      <th>time</th>\n",
              "      <td>0.125442</td>\n",
              "    </tr>\n",
              "    <tr>\n",
              "      <th>sex</th>\n",
              "      <td>-0.663509</td>\n",
              "    </tr>\n",
              "    <tr>\n",
              "      <th>serum_sodium</th>\n",
              "      <td>-0.855445</td>\n",
              "    </tr>\n",
              "  </tbody>\n",
              "</table>\n",
              "</div>"
            ],
            "text/plain": [
              "                            skewed\n",
              "creatinine_phosphokinase  4.827396\n",
              "serum_creatinine          4.605615\n",
              "platelets                 1.429547\n",
              "DEATH_EVENT               0.797132\n",
              "smoking                   0.729243\n",
              "high_blood_pressure       0.583959\n",
              "ejection_fraction         0.546146\n",
              "age                       0.413840\n",
              "diabetes                  0.358569\n",
              "anaemia                   0.286636\n",
              "time                      0.125442\n",
              "sex                      -0.663509\n",
              "serum_sodium             -0.855445"
            ]
          },
          "metadata": {},
          "execution_count": 12
        }
      ]
    },
    {
      "cell_type": "code",
      "metadata": {
        "colab": {
          "base_uri": "https://localhost:8080/",
          "height": 404
        },
        "id": "8336qxFUNrid",
        "outputId": "6fe19a30-5431-4afd-d0bb-170751d49c94"
      },
      "source": [
        "# creatinine_phosphokinase\n",
        "sns.distplot(df[\"creatinine_phosphokinase\"], fit = norm)\n",
        "plt.show()\n",
        "(mu, sigma) = norm.fit(df[\"creatinine_phosphokinase\"])\n",
        "print(\"mu {} : {}, sigma {} : {}\".format(\"creatinine_phosphokinase\", mu, \"creatinine_phosphokinase\", sigma))\n",
        "print()"
      ],
      "execution_count": null,
      "outputs": [
        {
          "output_type": "stream",
          "name": "stderr",
          "text": [
            "/usr/local/lib/python3.7/dist-packages/seaborn/distributions.py:2619: FutureWarning:\n",
            "\n",
            "`distplot` is a deprecated function and will be removed in a future version. Please adapt your code to use either `displot` (a figure-level function with similar flexibility) or `histplot` (an axes-level function for histograms).\n",
            "\n"
          ]
        },
        {
          "output_type": "display_data",
          "data": {
            "image/png": "[encoded data removed]",
            "text/plain": [
              "<Figure size 432x288 with 1 Axes>"
            ]
          },
          "metadata": {
            "needs_background": "light"
          }
        },
        {
          "output_type": "stream",
          "name": "stdout",
          "text": [
            "mu creatinine_phosphokinase : 553.121107266436, sigma creatinine_phosphokinase : 943.411428667967\n",
            "\n"
          ]
        }
      ]
    },
    {
      "cell_type": "code",
      "metadata": {
        "id": "qUjCGzWEN75x"
      },
      "source": [
        "df[\"creatinine_phosphokinase\"], lam = boxcox(df[\"creatinine_phosphokinase\"])"
      ],
      "execution_count": null,
      "outputs": []
    },
    {
      "cell_type": "code",
      "metadata": {
        "colab": {
          "base_uri": "https://localhost:8080/",
          "height": 404
        },
        "id": "3bs5qJkIOKKk",
        "outputId": "1a29f83f-19d0-42e3-f7d5-f18010ddb357"
      },
      "source": [
        "# creatinine_phosphokinase\n",
        "sns.distplot(df[\"creatinine_phosphokinase\"], fit = norm)\n",
        "plt.show()\n",
        "(mu, sigma) = norm.fit(df[\"creatinine_phosphokinase\"])\n",
        "print(\"mu {} : {}, sigma {} : {}\".format(\"creatinine_phosphokinase\", mu, \"creatinine_phosphokinase\", sigma))\n",
        "print()"
      ],
      "execution_count": null,
      "outputs": [
        {
          "output_type": "stream",
          "name": "stderr",
          "text": [
            "/usr/local/lib/python3.7/dist-packages/seaborn/distributions.py:2619: FutureWarning:\n",
            "\n",
            "`distplot` is a deprecated function and will be removed in a future version. Please adapt your code to use either `displot` (a figure-level function with similar flexibility) or `histplot` (an axes-level function for histograms).\n",
            "\n"
          ]
        },
        {
          "output_type": "display_data",
          "data": {
            "image/png": "[encoded data removed]",
            "text/plain": [
              "<Figure size 432x288 with 1 Axes>"
            ]
          },
          "metadata": {
            "needs_background": "light"
          }
        },
        {
          "output_type": "stream",
          "name": "stdout",
          "text": [
            "mu creatinine_phosphokinase : 3.698843171315633, sigma creatinine_phosphokinase : 0.4504255141000855\n",
            "\n"
          ]
        }
      ]
    },
    {
      "cell_type": "code",
      "metadata": {
        "colab": {
          "base_uri": "https://localhost:8080/",
          "height": 404
        },
        "id": "iRZ0SdA5OUfJ",
        "outputId": "f8a2a33b-fe16-4f1a-95fa-c86038c72879"
      },
      "source": [
        "# serum_creatinine\n",
        "sns.distplot(df[\"serum_creatinine\"], fit = norm)\n",
        "plt.show()\n",
        "(mu, sigma) = norm.fit(df[\"serum_creatinine\"])\n",
        "print(\"mu {} : {}, sigma {} : {}\".format(\"serum_creatinine\", mu, \"serum_creatinine\", sigma))\n",
        "print()"
      ],
      "execution_count": null,
      "outputs": [
        {
          "output_type": "stream",
          "name": "stderr",
          "text": [
            "/usr/local/lib/python3.7/dist-packages/seaborn/distributions.py:2619: FutureWarning:\n",
            "\n",
            "`distplot` is a deprecated function and will be removed in a future version. Please adapt your code to use either `displot` (a figure-level function with similar flexibility) or `histplot` (an axes-level function for histograms).\n",
            "\n"
          ]
        },
        {
          "output_type": "display_data",
          "data": {
            "image/png": "[encoded data removed]",
            "text/plain": [
              "<Figure size 432x288 with 1 Axes>"
            ]
          },
          "metadata": {
            "needs_background": "light"
          }
        },
        {
          "output_type": "stream",
          "name": "stdout",
          "text": [
            "mu serum_creatinine : 1.333114186851211, sigma serum_creatinine : 0.8748528244624999\n",
            "\n"
          ]
        }
      ]
    },
    {
      "cell_type": "code",
      "metadata": {
        "id": "npzJFCoQOcyf"
      },
      "source": [
        "df[\"serum_creatinine\"], lam_serum_creatine = boxcox(df[\"serum_creatinine\"])"
      ],
      "execution_count": null,
      "outputs": []
    },
    {
      "cell_type": "code",
      "metadata": {
        "colab": {
          "base_uri": "https://localhost:8080/",
          "height": 404
        },
        "id": "mlOvMsqMOla8",
        "outputId": "a249d294-7d1f-49c6-b30f-7ca2c620e1ec"
      },
      "source": [
        "# serum_creatinine\n",
        "sns.distplot(df[\"serum_creatinine\"], fit = norm)\n",
        "plt.show()\n",
        "(mu, sigma) = norm.fit(df[\"serum_creatinine\"])\n",
        "print(\"mu {} : {}, sigma {} : {}\".format(\"serum_creatinine\", mu, \"serum_creatinine\", sigma))\n",
        "print()"
      ],
      "execution_count": null,
      "outputs": [
        {
          "output_type": "stream",
          "name": "stderr",
          "text": [
            "/usr/local/lib/python3.7/dist-packages/seaborn/distributions.py:2619: FutureWarning:\n",
            "\n",
            "`distplot` is a deprecated function and will be removed in a future version. Please adapt your code to use either `displot` (a figure-level function with similar flexibility) or `histplot` (an axes-level function for histograms).\n",
            "\n"
          ]
        },
        {
          "output_type": "display_data",
          "data": {
            "image/png": "[encoded data removed]",
            "text/plain": [
              "<Figure size 432x288 with 1 Axes>"
            ]
          },
          "metadata": {
            "needs_background": "light"
          }
        },
        {
          "output_type": "stream",
          "name": "stdout",
          "text": [
            "mu serum_creatinine : 0.10109147159013519, sigma serum_creatinine : 0.3073176761803753\n",
            "\n"
          ]
        }
      ]
    },
    {
      "cell_type": "code",
      "metadata": {
        "colab": {
          "base_uri": "https://localhost:8080/",
          "height": 404
        },
        "id": "dhl9xxO2OuJZ",
        "outputId": "2ceea03f-d4f2-4433-9de1-342cf9495e25"
      },
      "source": [
        "# ejection_fraction\n",
        "sns.distplot(df[\"ejection_fraction\"], fit = norm)\n",
        "plt.show()\n",
        "(mu, sigma) = norm.fit(df[\"ejection_fraction\"])\n",
        "print(\"mu {} : {}, sigma {} : {}\".format(\"ejection_fraction\", mu, \"smejection_fractionoking\", sigma))\n",
        "print()"
      ],
      "execution_count": null,
      "outputs": [
        {
          "output_type": "stream",
          "name": "stderr",
          "text": [
            "/usr/local/lib/python3.7/dist-packages/seaborn/distributions.py:2619: FutureWarning:\n",
            "\n",
            "`distplot` is a deprecated function and will be removed in a future version. Please adapt your code to use either `displot` (a figure-level function with similar flexibility) or `histplot` (an axes-level function for histograms).\n",
            "\n"
          ]
        },
        {
          "output_type": "display_data",
          "data": {
            "image/png": "[encoded data removed]",
            "text/plain": [
              "<Figure size 432x288 with 1 Axes>"
            ]
          },
          "metadata": {
            "needs_background": "light"
          }
        },
        {
          "output_type": "stream",
          "name": "stdout",
          "text": [
            "mu ejection_fraction : 37.8719723183391, sigma smejection_fractionoking : 11.526149444782293\n",
            "\n"
          ]
        }
      ]
    },
    {
      "cell_type": "code",
      "metadata": {
        "id": "i-YfP92bO1U6"
      },
      "source": [
        "df[\"ejection_fraction\"], lam_serum_creatine = boxcox(df[\"ejection_fraction\"])"
      ],
      "execution_count": null,
      "outputs": []
    },
    {
      "cell_type": "code",
      "metadata": {
        "colab": {
          "base_uri": "https://localhost:8080/",
          "height": 404
        },
        "id": "6CYu0A5_O77P",
        "outputId": "c2b0f792-44da-465b-a84a-2c36f6b5ba69"
      },
      "source": [
        "# ejection_fraction\n",
        "sns.distplot(df[\"ejection_fraction\"], fit = norm)\n",
        "plt.show()\n",
        "(mu, sigma) = norm.fit(df[\"ejection_fraction\"])\n",
        "print(\"mu {} : {}, sigma {} : {}\".format(\"ejection_fraction\", mu, \"smejection_fractionoking\", sigma))\n",
        "print()"
      ],
      "execution_count": null,
      "outputs": [
        {
          "output_type": "stream",
          "name": "stderr",
          "text": [
            "/usr/local/lib/python3.7/dist-packages/seaborn/distributions.py:2619: FutureWarning:\n",
            "\n",
            "`distplot` is a deprecated function and will be removed in a future version. Please adapt your code to use either `displot` (a figure-level function with similar flexibility) or `histplot` (an axes-level function for histograms).\n",
            "\n"
          ]
        },
        {
          "output_type": "display_data",
          "data": {
            "image/png": "[encoded data removed]",
            "text/plain": [
              "<Figure size 432x288 with 1 Axes>"
            ]
          },
          "metadata": {
            "needs_background": "light"
          }
        },
        {
          "output_type": "stream",
          "name": "stdout",
          "text": [
            "mu ejection_fraction : 6.8528622136803135, sigma smejection_fractionoking : 0.9951607969085129\n",
            "\n"
          ]
        }
      ]
    },
    {
      "cell_type": "code",
      "metadata": {
        "colab": {
          "base_uri": "https://localhost:8080/",
          "height": 414
        },
        "id": "z2Uhej3DPFFR",
        "outputId": "d7c28c60-b30b-4eae-8cb5-e073368eebc8"
      },
      "source": [
        "# platelets\n",
        "sns.distplot(df[\"platelets\"], fit = norm)\n",
        "plt.show()\n",
        "(mu, sigma) = norm.fit(df[\"platelets\"])\n",
        "print(\"mu {} : {}, sigma {} : {}\".format(\"platelets\", mu, \"platelets\", sigma))\n",
        "print()"
      ],
      "execution_count": null,
      "outputs": [
        {
          "output_type": "stream",
          "name": "stderr",
          "text": [
            "/usr/local/lib/python3.7/dist-packages/seaborn/distributions.py:2619: FutureWarning:\n",
            "\n",
            "`distplot` is a deprecated function and will be removed in a future version. Please adapt your code to use either `displot` (a figure-level function with similar flexibility) or `histplot` (an axes-level function for histograms).\n",
            "\n"
          ]
        },
        {
          "output_type": "display_data",
          "data": {
            "image/png": "[encoded data removed]",
            "text/plain": [
              "<Figure size 432x288 with 1 Axes>"
            ]
          },
          "metadata": {
            "needs_background": "light"
          }
        },
        {
          "output_type": "stream",
          "name": "stdout",
          "text": [
            "mu platelets : 263597.55266435986, sigma platelets : 90929.19587502987\n",
            "\n"
          ]
        }
      ]
    },
    {
      "cell_type": "code",
      "metadata": {
        "id": "aRD6Fd7TPNlc"
      },
      "source": [
        "df[\"platelets\"], lam_serum_creatine = boxcox(df[\"platelets\"])"
      ],
      "execution_count": null,
      "outputs": []
    },
    {
      "cell_type": "code",
      "metadata": {
        "colab": {
          "base_uri": "https://localhost:8080/",
          "height": 403
        },
        "id": "TKn_eqfYPTNO",
        "outputId": "d35d0326-dc0d-436d-d2a6-6267514f3f4a"
      },
      "source": [
        "# platelets\n",
        "sns.distplot(df[\"platelets\"], fit = norm)\n",
        "plt.show()\n",
        "(mu, sigma) = norm.fit(df[\"platelets\"])\n",
        "print(\"mu {} : {}, sigma {} : {}\".format(\"platelets\", mu, \"platelets\", sigma))\n",
        "print()"
      ],
      "execution_count": null,
      "outputs": [
        {
          "output_type": "stream",
          "name": "stderr",
          "text": [
            "/usr/local/lib/python3.7/dist-packages/seaborn/distributions.py:2619: FutureWarning:\n",
            "\n",
            "`distplot` is a deprecated function and will be removed in a future version. Please adapt your code to use either `displot` (a figure-level function with similar flexibility) or `histplot` (an axes-level function for histograms).\n",
            "\n"
          ]
        },
        {
          "output_type": "display_data",
          "data": {
            "image/png": "[encoded data removed]",
            "text/plain": [
              "<Figure size 432x288 with 1 Axes>"
            ]
          },
          "metadata": {
            "needs_background": "light"
          }
        },
        {
          "output_type": "stream",
          "name": "stdout",
          "text": [
            "mu platelets : 763.3363077948457, sigma platelets : 124.37245302525076\n",
            "\n"
          ]
        }
      ]
    },
    {
      "cell_type": "code",
      "metadata": {
        "colab": {
          "base_uri": "https://localhost:8080/",
          "height": 457
        },
        "id": "B3OwWIQDPcyO",
        "outputId": "cd7ca5f7-d217-4b94-af5a-952770c1924a"
      },
      "source": [
        "skewed_feats = df.apply(lambda x: skew(x.dropna())).sort_values(ascending = False)\n",
        "skewness_new = pd.DataFrame(skewed_feats, columns = [\"skewed\"])\n",
        "skewness_new"
      ],
      "execution_count": null,
      "outputs": [
        {
          "output_type": "execute_result",
          "data": {
            "text/html": [
              "<div>\n",
              "<style scoped>\n",
              "    .dataframe tbody tr th:only-of-type {\n",
              "        vertical-align: middle;\n",
              "    }\n",
              "\n",
              "    .dataframe tbody tr th {\n",
              "        vertical-align: top;\n",
              "    }\n",
              "\n",
              "    .dataframe thead th {\n",
              "        text-align: right;\n",
              "    }\n",
              "</style>\n",
              "<table border=\"1\" class=\"dataframe\">\n",
              "  <thead>\n",
              "    <tr style=\"text-align: right;\">\n",
              "      <th></th>\n",
              "      <th>skewed</th>\n",
              "    </tr>\n",
              "  </thead>\n",
              "  <tbody>\n",
              "    <tr>\n",
              "      <th>DEATH_EVENT</th>\n",
              "      <td>0.797132</td>\n",
              "    </tr>\n",
              "    <tr>\n",
              "      <th>smoking</th>\n",
              "      <td>0.729243</td>\n",
              "    </tr>\n",
              "    <tr>\n",
              "      <th>high_blood_pressure</th>\n",
              "      <td>0.583959</td>\n",
              "    </tr>\n",
              "    <tr>\n",
              "      <th>age</th>\n",
              "      <td>0.413840</td>\n",
              "    </tr>\n",
              "    <tr>\n",
              "      <th>diabetes</th>\n",
              "      <td>0.358569</td>\n",
              "    </tr>\n",
              "    <tr>\n",
              "      <th>anaemia</th>\n",
              "      <td>0.286636</td>\n",
              "    </tr>\n",
              "    <tr>\n",
              "      <th>platelets</th>\n",
              "      <td>0.153154</td>\n",
              "    </tr>\n",
              "    <tr>\n",
              "      <th>time</th>\n",
              "      <td>0.125442</td>\n",
              "    </tr>\n",
              "    <tr>\n",
              "      <th>creatinine_phosphokinase</th>\n",
              "      <td>0.038332</td>\n",
              "    </tr>\n",
              "    <tr>\n",
              "      <th>serum_creatinine</th>\n",
              "      <td>-0.005096</td>\n",
              "    </tr>\n",
              "    <tr>\n",
              "      <th>ejection_fraction</th>\n",
              "      <td>-0.005676</td>\n",
              "    </tr>\n",
              "    <tr>\n",
              "      <th>sex</th>\n",
              "      <td>-0.663509</td>\n",
              "    </tr>\n",
              "    <tr>\n",
              "      <th>serum_sodium</th>\n",
              "      <td>-0.855445</td>\n",
              "    </tr>\n",
              "  </tbody>\n",
              "</table>\n",
              "</div>"
            ],
            "text/plain": [
              "                            skewed\n",
              "DEATH_EVENT               0.797132\n",
              "smoking                   0.729243\n",
              "high_blood_pressure       0.583959\n",
              "age                       0.413840\n",
              "diabetes                  0.358569\n",
              "anaemia                   0.286636\n",
              "platelets                 0.153154\n",
              "time                      0.125442\n",
              "creatinine_phosphokinase  0.038332\n",
              "serum_creatinine         -0.005096\n",
              "ejection_fraction        -0.005676\n",
              "sex                      -0.663509\n",
              "serum_sodium             -0.855445"
            ]
          },
          "metadata": {},
          "execution_count": 25
        }
      ]
    },
    {
      "cell_type": "code",
      "metadata": {
        "colab": {
          "base_uri": "https://localhost:8080/",
          "height": 384
        },
        "id": "N1IMGrNnPjkd",
        "outputId": "153565bb-6b54-4df4-c114-0b81d15b2e1a"
      },
      "source": [
        "#AGE\n",
        "g = sns.FacetGrid(df, col = \"DEATH_EVENT\")\n",
        "g.map(sns.distplot, \"age\", bins = 25)\n",
        "plt.show()"
      ],
      "execution_count": null,
      "outputs": [
        {
          "output_type": "stream",
          "name": "stderr",
          "text": [
            "/usr/local/lib/python3.7/dist-packages/seaborn/distributions.py:2619: FutureWarning:\n",
            "\n",
            "`distplot` is a deprecated function and will be removed in a future version. Please adapt your code to use either `displot` (a figure-level function with similar flexibility) or `histplot` (an axes-level function for histograms).\n",
            "\n",
            "/usr/local/lib/python3.7/dist-packages/seaborn/distributions.py:2619: FutureWarning:\n",
            "\n",
            "`distplot` is a deprecated function and will be removed in a future version. Please adapt your code to use either `displot` (a figure-level function with similar flexibility) or `histplot` (an axes-level function for histograms).\n",
            "\n"
          ]
        },
        {
          "output_type": "display_data",
          "data": {
            "image/png": "[encoded data removed]",
            "text/plain": [
              "<Figure size 432x216 with 2 Axes>"
            ]
          },
          "metadata": {
            "needs_background": "light"
          }
        }
      ]
    },
    {
      "cell_type": "markdown",
      "metadata": {
        "id": "P2SjLnuojunZ"
      },
      "source": [
        "# Visualisasi Distribusi Umur"
      ]
    },
    {
      "cell_type": "code",
      "metadata": {
        "id": "u0HQ3EgiIvfW",
        "colab": {
          "base_uri": "https://localhost:8080/",
          "height": 542
        },
        "outputId": "ea13e301-5b0e-45b5-e78f-bf2e380ea56a"
      },
      "source": [
        "fig = px.histogram(df, x=\"age\", color_discrete_sequence=['#FE6F5E'])\n",
        "fig.update_layout(\n",
        "    title_text='Histogram Distribusi Umur', # judul plot\n",
        "    xaxis_title_text='Umur', # judul sumbu x\n",
        "    yaxis_title_text='Jumlah', # judul sumbu y\n",
        "    bargap=0.05, # jarak antara tiap batang yang berdekatan\n",
        "    template = 'plotly_dark'\n",
        ")\n",
        "\n",
        "fig.show()"
      ],
      "execution_count": null,
      "outputs": [
        {
          "output_type": "display_data",
          "data": {
            "text/html": [
              "<html>\n",
              "<head><meta charset=\"utf-8\" /></head>\n",
              "<body>\n",
              "    <div>\n",
              "            <script src=\"https://cdnjs.cloudflare.com/ajax/libs/mathjax/2.7.5/MathJax.js?config=TeX-AMS-MML_SVG\"></script><script type=\"text/javascript\">if (window.MathJax) {MathJax.Hub.Config({SVG: {font: \"STIX-Web\"}});}</script>\n",
              "                <script type=\"text/javascript\">window.PlotlyConfig = {MathJaxConfig: 'local'};</script>\n",
              "        <script src=\"https://cdn.plot.ly/plotly-latest.min.js\"></script>    \n",
              "            <div id=\"6e2341b3-3d3f-409a-8886-c0adfa4bd123\" class=\"plotly-graph-div\" style=\"height:525px; width:100%;\"></div>\n",
              "            <script type=\"text/javascript\">\n",
              "                \n",
              "                    window.PLOTLYENV=window.PLOTLYENV || {};\n",
              "                    \n",
              "                if (document.getElementById(\"6e2341b3-3d3f-409a-8886-c0adfa4bd123\")) {\n",
              "                    Plotly.newPlot(\n",
              "                        '6e2341b3-3d3f-409a-8886-c0adfa4bd123',\n",
              "                        [{\"alignmentgroup\": \"True\", \"bingroup\": \"x\", \"hoverlabel\": {\"namelength\": 0}, \"hovertemplate\": \"age=%{x}<br>count=%{y}\", \"legendgroup\": \"\", \"marker\": {\"color\": \"#FE6F5E\"}, \"name\": \"\", \"offsetgroup\": \"\", \"orientation\": \"v\", \"showlegend\": false, \"type\": \"histogram\", \"x\": [75.0, 55.0, 65.0, 50.0, 90.0, 75.0, 60.0, 65.0, 80.0, 75.0, 62.0, 45.0, 50.0, 49.0, 82.0, 87.0, 45.0, 70.0, 48.0, 65.0, 65.0, 68.0, 53.0, 75.0, 80.0, 95.0, 70.0, 58.0, 82.0, 94.0, 85.0, 50.0, 50.0, 65.0, 69.0, 90.0, 82.0, 60.0, 70.0, 50.0, 70.0, 72.0, 60.0, 50.0, 51.0, 60.0, 80.0, 57.0, 68.0, 53.0, 70.0, 60.0, 95.0, 70.0, 60.0, 49.0, 72.0, 45.0, 50.0, 55.0, 45.0, 45.0, 60.0, 42.0, 72.0, 70.0, 65.0, 41.0, 58.0, 85.0, 65.0, 69.0, 60.0, 70.0, 42.0, 75.0, 55.0, 70.0, 67.0, 60.0, 79.0, 59.0, 51.0, 55.0, 65.0, 44.0, 57.0, 70.0, 60.0, 42.0, 60.0, 58.0, 58.0, 63.0, 70.0, 60.0, 63.0, 65.0, 75.0, 80.0, 42.0, 60.0, 72.0, 55.0, 45.0, 63.0, 45.0, 85.0, 55.0, 50.0, 70.0, 60.0, 58.0, 60.0, 65.0, 86.0, 60.0, 66.0, 60.0, 60.0, 60.0, 43.0, 46.0, 58.0, 61.0, 53.0, 53.0, 60.0, 46.0, 63.0, 81.0, 75.0, 65.0, 68.0, 62.0, 50.0, 80.0, 46.0, 50.0, 61.0, 72.0, 50.0, 52.0, 64.0, 75.0, 60.0, 72.0, 62.0, 50.0, 50.0, 65.0, 60.0, 52.0, 50.0, 85.0, 59.0, 66.0, 45.0, 63.0, 45.0, 80.0, 53.0, 65.0, 70.0, 51.0, 52.0, 70.0, 50.0, 65.0, 60.0, 69.0, 49.0, 63.0, 55.0, 40.0, 59.0, 65.0, 75.0, 58.0, 60.667, 50.0, 60.0, 60.667, 40.0, 80.0, 64.0, 50.0, 73.0, 45.0, 77.0, 45.0, 65.0, 50.0, 60.0, 45.0, 70.0, 60.0, 78.0, 50.0, 40.0, 85.0, 60.0, 49.0, 70.0, 50.0, 78.0, 48.0, 65.0, 73.0, 70.0, 68.0, 55.0, 73.0, 65.0, 42.0, 47.0, 58.0, 75.0, 58.0, 55.0, 65.0, 72.0, 60.0, 70.0, 40.0, 53.0, 53.0, 77.0, 75.0, 70.0, 65.0, 55.0, 70.0, 65.0, 40.0, 73.0, 54.0, 61.0, 55.0, 64.0, 40.0, 53.0, 50.0, 55.0, 50.0, 70.0, 53.0, 52.0, 65.0, 58.0, 45.0, 53.0, 55.0, 62.0, 65.0, 68.0, 61.0, 50.0, 55.0, 56.0, 45.0, 40.0, 44.0, 51.0, 67.0, 42.0, 60.0, 45.0, 70.0, 70.0, 50.0, 55.0, 70.0, 42.0, 65.0, 50.0, 55.0, 60.0, 45.0, 65.0, 90.0, 45.0, 60.0, 52.0, 63.0, 62.0, 55.0, 45.0, 50.0], \"xaxis\": \"x\", \"yaxis\": \"y\"}],\n",
              "                        {\"bargap\": 0.05, \"barmode\": \"relative\", \"legend\": {\"tracegroupgap\": 0}, \"margin\": {\"t\": 60}, \"template\": {\"data\": {\"bar\": [{\"error_x\": {\"color\": \"#f2f5fa\"}, \"error_y\": {\"color\": \"#f2f5fa\"}, \"marker\": {\"line\": {\"color\": \"rgb(17,17,17)\", \"width\": 0.5}}, \"type\": \"bar\"}], \"barpolar\": [{\"marker\": {\"line\": {\"color\": \"rgb(17,17,17)\", \"width\": 0.5}}, \"type\": \"barpolar\"}], \"carpet\": [{\"aaxis\": {\"endlinecolor\": \"#A2B1C6\", \"gridcolor\": \"#506784\", \"linecolor\": \"#506784\", \"minorgridcolor\": \"#506784\", \"startlinecolor\": \"#A2B1C6\"}, \"baxis\": {\"endlinecolor\": \"#A2B1C6\", \"gridcolor\": \"#506784\", \"linecolor\": \"#506784\", \"minorgridcolor\": \"#506784\", \"startlinecolor\": \"#A2B1C6\"}, \"type\": \"carpet\"}], \"choropleth\": [{\"colorbar\": {\"outlinewidth\": 0, \"ticks\": \"\"}, \"type\": \"choropleth\"}], \"contour\": [{\"colorbar\": {\"outlinewidth\": 0, \"ticks\": \"\"}, \"colorscale\": [[0.0, \"#0d0887\"], [0.1111111111111111, \"#46039f\"], [0.2222222222222222, \"#7201a8\"], [0.3333333333333333, \"#9c179e\"], [0.4444444444444444, \"#bd3786\"], [0.5555555555555556, \"#d8576b\"], [0.6666666666666666, \"#ed7953\"], [0.7777777777777778, \"#fb9f3a\"], [0.8888888888888888, \"#fdca26\"], [1.0, \"#f0f921\"]], \"type\": \"contour\"}], \"contourcarpet\": [{\"colorbar\": {\"outlinewidth\": 0, \"ticks\": \"\"}, \"type\": \"contourcarpet\"}], \"heatmap\": [{\"colorbar\": {\"outlinewidth\": 0, \"ticks\": \"\"}, \"colorscale\": [[0.0, \"#0d0887\"], [0.1111111111111111, \"#46039f\"], [0.2222222222222222, \"#7201a8\"], [0.3333333333333333, \"#9c179e\"], [0.4444444444444444, \"#bd3786\"], [0.5555555555555556, \"#d8576b\"], [0.6666666666666666, \"#ed7953\"], [0.7777777777777778, \"#fb9f3a\"], [0.8888888888888888, \"#fdca26\"], [1.0, \"#f0f921\"]], \"type\": \"heatmap\"}], \"heatmapgl\": [{\"colorbar\": {\"outlinewidth\": 0, \"ticks\": \"\"}, \"colorscale\": [[0.0, \"#0d0887\"], [0.1111111111111111, \"#46039f\"], [0.2222222222222222, \"#7201a8\"], [0.3333333333333333, \"#9c179e\"], [0.4444444444444444, \"#bd3786\"], [0.5555555555555556, \"#d8576b\"], [0.6666666666666666, \"#ed7953\"], [0.7777777777777778, \"#fb9f3a\"], [0.8888888888888888, \"#fdca26\"], [1.0, \"#f0f921\"]], \"type\": \"heatmapgl\"}], \"histogram\": [{\"marker\": {\"colorbar\": {\"outlinewidth\": 0, \"ticks\": \"\"}}, \"type\": \"histogram\"}], \"histogram2d\": [{\"colorbar\": {\"outlinewidth\": 0, \"ticks\": \"\"}, \"colorscale\": [[0.0, \"#0d0887\"], [0.1111111111111111, \"#46039f\"], [0.2222222222222222, \"#7201a8\"], [0.3333333333333333, \"#9c179e\"], [0.4444444444444444, \"#bd3786\"], [0.5555555555555556, \"#d8576b\"], [0.6666666666666666, \"#ed7953\"], [0.7777777777777778, \"#fb9f3a\"], [0.8888888888888888, \"#fdca26\"], [1.0, \"#f0f921\"]], \"type\": \"histogram2d\"}], \"histogram2dcontour\": [{\"colorbar\": {\"outlinewidth\": 0, \"ticks\": \"\"}, \"colorscale\": [[0.0, \"#0d0887\"], [0.1111111111111111, \"#46039f\"], [0.2222222222222222, \"#7201a8\"], [0.3333333333333333, \"#9c179e\"], [0.4444444444444444, \"#bd3786\"], [0.5555555555555556, \"#d8576b\"], [0.6666666666666666, \"#ed7953\"], [0.7777777777777778, \"#fb9f3a\"], [0.8888888888888888, \"#fdca26\"], [1.0, \"#f0f921\"]], \"type\": \"histogram2dcontour\"}], \"mesh3d\": [{\"colorbar\": {\"outlinewidth\": 0, \"ticks\": \"\"}, \"type\": \"mesh3d\"}], \"parcoords\": [{\"line\": {\"colorbar\": {\"outlinewidth\": 0, \"ticks\": \"\"}}, \"type\": \"parcoords\"}], \"pie\": [{\"automargin\": true, \"type\": \"pie\"}], \"scatter\": [{\"marker\": {\"line\": {\"color\": \"#283442\"}}, \"type\": \"scatter\"}], \"scatter3d\": [{\"line\": {\"colorbar\": {\"outlinewidth\": 0, \"ticks\": \"\"}}, \"marker\": {\"colorbar\": {\"outlinewidth\": 0, \"ticks\": \"\"}}, \"type\": \"scatter3d\"}], \"scattercarpet\": [{\"marker\": {\"colorbar\": {\"outlinewidth\": 0, \"ticks\": \"\"}}, \"type\": \"scattercarpet\"}], \"scattergeo\": [{\"marker\": {\"colorbar\": {\"outlinewidth\": 0, \"ticks\": \"\"}}, \"type\": \"scattergeo\"}], \"scattergl\": [{\"marker\": {\"line\": {\"color\": \"#283442\"}}, \"type\": \"scattergl\"}], \"scattermapbox\": [{\"marker\": {\"colorbar\": {\"outlinewidth\": 0, \"ticks\": \"\"}}, \"type\": \"scattermapbox\"}], \"scatterpolar\": [{\"marker\": {\"colorbar\": {\"outlinewidth\": 0, \"ticks\": \"\"}}, \"type\": \"scatterpolar\"}], \"scatterpolargl\": [{\"marker\": {\"colorbar\": {\"outlinewidth\": 0, \"ticks\": \"\"}}, \"type\": \"scatterpolargl\"}], \"scatterternary\": [{\"marker\": {\"colorbar\": {\"outlinewidth\": 0, \"ticks\": \"\"}}, \"type\": \"scatterternary\"}], \"surface\": [{\"colorbar\": {\"outlinewidth\": 0, \"ticks\": \"\"}, \"colorscale\": [[0.0, \"#0d0887\"], [0.1111111111111111, \"#46039f\"], [0.2222222222222222, \"#7201a8\"], [0.3333333333333333, \"#9c179e\"], [0.4444444444444444, \"#bd3786\"], [0.5555555555555556, \"#d8576b\"], [0.6666666666666666, \"#ed7953\"], [0.7777777777777778, \"#fb9f3a\"], [0.8888888888888888, \"#fdca26\"], [1.0, \"#f0f921\"]], \"type\": \"surface\"}], \"table\": [{\"cells\": {\"fill\": {\"color\": \"#506784\"}, \"line\": {\"color\": \"rgb(17,17,17)\"}}, \"header\": {\"fill\": {\"color\": \"#2a3f5f\"}, \"line\": {\"color\": \"rgb(17,17,17)\"}}, \"type\": \"table\"}]}, \"layout\": {\"annotationdefaults\": {\"arrowcolor\": \"#f2f5fa\", \"arrowhead\": 0, \"arrowwidth\": 1}, \"coloraxis\": {\"colorbar\": {\"outlinewidth\": 0, \"ticks\": \"\"}}, \"colorscale\": {\"diverging\": [[0, \"#8e0152\"], [0.1, \"#c51b7d\"], [0.2, \"#de77ae\"], [0.3, \"#f1b6da\"], [0.4, \"#fde0ef\"], [0.5, \"#f7f7f7\"], [0.6, \"#e6f5d0\"], [0.7, \"#b8e186\"], [0.8, \"#7fbc41\"], [0.9, \"#4d9221\"], [1, \"#276419\"]], \"sequential\": [[0.0, \"#0d0887\"], [0.1111111111111111, \"#46039f\"], [0.2222222222222222, \"#7201a8\"], [0.3333333333333333, \"#9c179e\"], [0.4444444444444444, \"#bd3786\"], [0.5555555555555556, \"#d8576b\"], [0.6666666666666666, \"#ed7953\"], [0.7777777777777778, \"#fb9f3a\"], [0.8888888888888888, \"#fdca26\"], [1.0, \"#f0f921\"]], \"sequentialminus\": [[0.0, \"#0d0887\"], [0.1111111111111111, \"#46039f\"], [0.2222222222222222, \"#7201a8\"], [0.3333333333333333, \"#9c179e\"], [0.4444444444444444, \"#bd3786\"], [0.5555555555555556, \"#d8576b\"], [0.6666666666666666, \"#ed7953\"], [0.7777777777777778, \"#fb9f3a\"], [0.8888888888888888, \"#fdca26\"], [1.0, \"#f0f921\"]]}, \"colorway\": [\"#636efa\", \"#EF553B\", \"#00cc96\", \"#ab63fa\", \"#FFA15A\", \"#19d3f3\", \"#FF6692\", \"#B6E880\", \"#FF97FF\", \"#FECB52\"], \"font\": {\"color\": \"#f2f5fa\"}, \"geo\": {\"bgcolor\": \"rgb(17,17,17)\", \"lakecolor\": \"rgb(17,17,17)\", \"landcolor\": \"rgb(17,17,17)\", \"showlakes\": true, \"showland\": true, \"subunitcolor\": \"#506784\"}, \"hoverlabel\": {\"align\": \"left\"}, \"hovermode\": \"closest\", \"mapbox\": {\"style\": \"dark\"}, \"paper_bgcolor\": \"rgb(17,17,17)\", \"plot_bgcolor\": \"rgb(17,17,17)\", \"polar\": {\"angularaxis\": {\"gridcolor\": \"#506784\", \"linecolor\": \"#506784\", \"ticks\": \"\"}, \"bgcolor\": \"rgb(17,17,17)\", \"radialaxis\": {\"gridcolor\": \"#506784\", \"linecolor\": \"#506784\", \"ticks\": \"\"}}, \"scene\": {\"xaxis\": {\"backgroundcolor\": \"rgb(17,17,17)\", \"gridcolor\": \"#506784\", \"gridwidth\": 2, \"linecolor\": \"#506784\", \"showbackground\": true, \"ticks\": \"\", \"zerolinecolor\": \"#C8D4E3\"}, \"yaxis\": {\"backgroundcolor\": \"rgb(17,17,17)\", \"gridcolor\": \"#506784\", \"gridwidth\": 2, \"linecolor\": \"#506784\", \"showbackground\": true, \"ticks\": \"\", \"zerolinecolor\": \"#C8D4E3\"}, \"zaxis\": {\"backgroundcolor\": \"rgb(17,17,17)\", \"gridcolor\": \"#506784\", \"gridwidth\": 2, \"linecolor\": \"#506784\", \"showbackground\": true, \"ticks\": \"\", \"zerolinecolor\": \"#C8D4E3\"}}, \"shapedefaults\": {\"line\": {\"color\": \"#f2f5fa\"}}, \"sliderdefaults\": {\"bgcolor\": \"#C8D4E3\", \"bordercolor\": \"rgb(17,17,17)\", \"borderwidth\": 1, \"tickwidth\": 0}, \"ternary\": {\"aaxis\": {\"gridcolor\": \"#506784\", \"linecolor\": \"#506784\", \"ticks\": \"\"}, \"baxis\": {\"gridcolor\": \"#506784\", \"linecolor\": \"#506784\", \"ticks\": \"\"}, \"bgcolor\": \"rgb(17,17,17)\", \"caxis\": {\"gridcolor\": \"#506784\", \"linecolor\": \"#506784\", \"ticks\": \"\"}}, \"title\": {\"x\": 0.05}, \"updatemenudefaults\": {\"bgcolor\": \"#506784\", \"borderwidth\": 0}, \"xaxis\": {\"automargin\": true, \"gridcolor\": \"#283442\", \"linecolor\": \"#506784\", \"ticks\": \"\", \"title\": {\"standoff\": 15}, \"zerolinecolor\": \"#283442\", \"zerolinewidth\": 2}, \"yaxis\": {\"automargin\": true, \"gridcolor\": \"#283442\", \"linecolor\": \"#506784\", \"ticks\": \"\", \"title\": {\"standoff\": 15}, \"zerolinecolor\": \"#283442\", \"zerolinewidth\": 2}}}, \"title\": {\"text\": \"Histogram Distribusi Umur\"}, \"xaxis\": {\"anchor\": \"y\", \"domain\": [0.0, 1.0], \"title\": {\"text\": \"Umur\"}}, \"yaxis\": {\"anchor\": \"x\", \"domain\": [0.0, 1.0], \"title\": {\"text\": \"Jumlah\"}}},\n",
              "                        {\"responsive\": true}\n",
              "                    ).then(function(){\n",
              "                            \n",
              "var gd = document.getElementById('6e2341b3-3d3f-409a-8886-c0adfa4bd123');\n",
              "var x = new MutationObserver(function (mutations, observer) {{\n",
              "        var display = window.getComputedStyle(gd).display;\n",
              "        if (!display || display === 'none') {{\n",
              "            console.log([gd, 'removed!']);\n",
              "            Plotly.purge(gd);\n",
              "            observer.disconnect();\n",
              "        }}\n",
              "}});\n",
              "\n",
              "// Listen for the removal of the full notebook cells\n",
              "var notebookContainer = gd.closest('#notebook-container');\n",
              "if (notebookContainer) {{\n",
              "    x.observe(notebookContainer, {childList: true});\n",
              "}}\n",
              "\n",
              "// Listen for the clearing of the current output cell\n",
              "var outputEl = gd.closest('.output');\n",
              "if (outputEl) {{\n",
              "    x.observe(outputEl, {childList: true});\n",
              "}}\n",
              "\n",
              "                        })\n",
              "                };\n",
              "                \n",
              "            </script>\n",
              "        </div>\n",
              "</body>\n",
              "</html>"
            ]
          },
          "metadata": {}
        }
      ]
    },
    {
      "cell_type": "code",
      "metadata": {
        "id": "6jY3cEUL759L",
        "colab": {
          "base_uri": "https://localhost:8080/",
          "height": 542
        },
        "outputId": "325ebd5b-2506-4cea-faa9-5fa7a5ae2f40"
      },
      "source": [
        "import plotly.express as px\n",
        "fig = px.histogram(df, x=\"age\", color=\"DEATH_EVENT\", marginal=\"violin\", hover_data=df.columns, \n",
        "                   title =\"Distribusi Umur vs Kematian\", \n",
        "                   labels={\"age\": \"AGE\"},\n",
        "                   template=\"plotly_dark\",\n",
        "                   color_discrete_map={\"0\": \"RebeccaPurple\", \"1\": \"MediumPurple\"}\n",
        "                  )\n",
        "fig.show()"
      ],
      "execution_count": null,
      "outputs": [
        {
          "output_type": "display_data",
          "data": {
            "text/html": [
              "<html>\n",
              "<head><meta charset=\"utf-8\" /></head>\n",
              "<body>\n",
              "    <div>\n",
              "            <script src=\"https://cdnjs.cloudflare.com/ajax/libs/mathjax/2.7.5/MathJax.js?config=TeX-AMS-MML_SVG\"></script><script type=\"text/javascript\">if (window.MathJax) {MathJax.Hub.Config({SVG: {font: \"STIX-Web\"}});}</script>\n",
              "                <script type=\"text/javascript\">window.PlotlyConfig = {MathJaxConfig: 'local'};</script>\n",
              "        <script src=\"https://cdn.plot.ly/plotly-latest.min.js\"></script>    \n",
              "            <div id=\"4d1088d1-99ac-433f-a28a-ae7e755ae9f8\" class=\"plotly-graph-div\" style=\"height:525px; width:100%;\"></div>\n",
              "            <script type=\"text/javascript\">\n",
              "                \n",
              "                    window.PLOTLYENV=window.PLOTLYENV || {};\n",
              "                    \n",
              "                if (document.getElementById(\"4d1088d1-99ac-433f-a28a-ae7e755ae9f8\")) {\n",
              "                    Plotly.newPlot(\n",
              "                        '4d1088d1-99ac-433f-a28a-ae7e755ae9f8',\n",
              "                        [{\"alignmentgroup\": \"True\", \"bingroup\": \"x\", \"hoverlabel\": {\"namelength\": 0}, \"hovertemplate\": \"DEATH_EVENT=1<br>AGE=%{x}<br>count=%{y}\", \"legendgroup\": \"DEATH_EVENT=1\", \"marker\": {\"color\": \"#00cc96\"}, \"name\": \"DEATH_EVENT=1\", \"offsetgroup\": \"DEATH_EVENT=1\", \"orientation\": \"v\", \"showlegend\": true, \"type\": \"histogram\", \"x\": [75.0, 55.0, 65.0, 50.0, 90.0, 75.0, 60.0, 65.0, 80.0, 75.0, 62.0, 45.0, 50.0, 82.0, 87.0, 45.0, 70.0, 48.0, 65.0, 68.0, 75.0, 80.0, 95.0, 70.0, 58.0, 82.0, 94.0, 85.0, 50.0, 65.0, 69.0, 90.0, 82.0, 60.0, 70.0, 50.0, 70.0, 60.0, 50.0, 51.0, 60.0, 80.0, 57.0, 68.0, 53.0, 70.0, 60.0, 95.0, 49.0, 72.0, 45.0, 50.0, 45.0, 60.0, 42.0, 72.0, 70.0, 65.0, 85.0, 69.0, 60.0, 60.0, 59.0, 60.0, 72.0, 85.0, 70.0, 86.0, 60.0, 46.0, 80.0, 72.0, 75.0, 72.0, 45.0, 80.0, 59.0, 65.0, 75.0, 58.0, 60.667, 50.0, 60.0, 45.0, 77.0, 48.0, 73.0, 60.0, 55.0, 65.0, 55.0], \"xaxis\": \"x\", \"yaxis\": \"y\"}, {\"alignmentgroup\": \"True\", \"customdata\": [[75.0, 0.0, 4.025637862396358, 0.0, 5.073540247790502, 1.0, 776.4424769965113, 0.4789426376835807, 130.0, 1.0, 0.0, 4.0, 1.0], [55.0, 0.0, 4.812378887350636, 0.0, 6.966172261451928, 0.0, 774.1559554351417, 0.09107302012510697, 136.0, 1.0, 0.0, 6.0, 1.0], [65.0, 0.0, 3.4570548997227055, 0.0, 5.073540247790502, 0.0, 614.6943008960727, 0.2318846842881995, 129.0, 1.0, 1.0, 7.0, 1.0], [50.0, 1.0, 3.3289576162017305, 0.0, 5.073540247790502, 0.0, 695.2879768764706, 0.4789426376835807, 137.0, 1.0, 0.0, 7.0, 1.0], [90.0, 1.0, 2.88963710097958, 0.0, 7.135176462792489, 1.0, 685.786861883189, 0.5304160641785284, 132.0, 1.0, 1.0, 8.0, 1.0], [75.0, 1.0, 3.6861811576371863, 0.0, 4.345403961411269, 0.0, 547.5868579262194, 0.16723372590987146, 137.0, 1.0, 0.0, 10.0, 1.0], [60.0, 1.0, 3.7883813412996696, 1.0, 8.575247780217278, 0.0, 1002.343886077364, 0.09107302012510697, 131.0, 1.0, 1.0, 10.0, 1.0], [65.0, 0.0, 3.4900911822976983, 0.0, 8.882691017043939, 0.0, 774.1559554351417, 0.33576579935320783, 138.0, 0.0, 0.0, 10.0, 1.0], [80.0, 1.0, 3.377582487715956, 0.0, 6.701029399874939, 1.0, 930.3826429977106, 0.9193638018485613, 133.0, 1.0, 1.0, 10.0, 1.0], [75.0, 1.0, 3.1747232377525965, 0.0, 6.966172261451928, 1.0, 907.3196585819123, 0.7657365262751427, 131.0, 1.0, 1.0, 10.0, 1.0], [62.0, 0.0, 3.659535746118753, 0.0, 5.687197660638561, 1.0, 759.5555109746059, -0.11088268777686425, 140.0, 1.0, 1.0, 10.0, 1.0], [45.0, 1.0, 4.210187576125048, 0.0, 6.222755101703694, 0.0, 565.6886894407847, 0.09107302012510697, 137.0, 1.0, 0.0, 11.0, 1.0], [50.0, 1.0, 3.520551991416286, 0.0, 6.966172261451928, 1.0, 791.5717032413037, 0.09107302012510697, 137.0, 1.0, 0.0, 11.0, 1.0], [82.0, 1.0, 3.8622864787279982, 0.0, 7.904145325280192, 0.0, 341.31609674189446, 0.2318846842881995, 136.0, 1.0, 0.0, 13.0, 1.0], [87.0, 1.0, 3.466343381811516, 0.0, 6.966172261451928, 0.0, 772.2591534855301, -0.11088268777686425, 140.0, 1.0, 0.0, 14.0, 1.0], [45.0, 0.0, 4.025637862396358, 0.0, 4.180684498623985, 0.0, 621.8549428925608, -0.2488922424935961, 127.0, 1.0, 0.0, 14.0, 1.0], [70.0, 1.0, 3.385151629770763, 0.0, 5.687197660638561, 1.0, 736.3690457956537, 0.0, 140.0, 0.0, 0.0, 15.0, 1.0], [48.0, 1.0, 4.025637862396358, 1.0, 8.250000161791457, 0.0, 457.49141757834116, 0.4789426376835807, 121.0, 0.0, 0.0, 15.0, 1.0], [65.0, 1.0, 3.396246496923772, 1.0, 6.222755101703694, 1.0, 819.597002315633, 0.37813826526469946, 136.0, 0.0, 0.0, 20.0, 1.0], [68.0, 1.0, 3.638690114731251, 0.0, 6.701029399874939, 1.0, 809.047764738165, -0.11088268777686425, 140.0, 1.0, 1.0, 20.0, 1.0], [75.0, 0.0, 4.025637862396358, 1.0, 6.222755101703694, 1.0, 774.1559554351417, 0.4583228867072044, 134.0, 0.0, 0.0, 23.0, 1.0], [80.0, 0.0, 3.4632714480164832, 1.0, 6.966172261451928, 0.0, 590.7553925915604, 0.4789426376835807, 144.0, 1.0, 1.0, 23.0, 1.0], [95.0, 1.0, 3.3332371685703257, 0.0, 7.135176462792489, 1.0, 672.8867116488877, 0.0, 138.0, 0.0, 0.0, 24.0, 1.0], [70.0, 0.0, 3.373744327318973, 1.0, 7.534101647809663, 1.0, 802.3762083043258, 0.2318846842881995, 136.0, 1.0, 1.0, 26.0, 1.0], [58.0, 1.0, 3.0205551670471475, 0.0, 6.966172261451928, 0.0, 598.2344654863812, 0.848115479623464, 134.0, 1.0, 0.0, 26.0, 1.0], [82.0, 0.0, 3.1006514096420683, 1.0, 6.222755101703694, 0.0, 679.3707675299254, 0.16723372590987146, 132.0, 1.0, 1.0, 26.0, 1.0], [94.0, 0.0, 4.025637862396358, 1.0, 6.966172261451928, 1.0, 774.1559554351417, 0.4583228867072044, 134.0, 1.0, 0.0, 27.0, 1.0], [85.0, 0.0, 2.4763653125100604, 0.0, 7.534101647809663, 0.0, 897.9099527727451, 0.6783532998801614, 132.0, 1.0, 0.0, 28.0, 1.0], [50.0, 1.0, 3.6912846636505745, 1.0, 6.701029399874939, 1.0, 847.8584767065978, 0.0, 128.0, 0.0, 0.0, 28.0, 1.0], [65.0, 0.0, 3.248535125258288, 1.0, 7.904145325280192, 1.0, 659.7060852640824, 0.0, 140.0, 1.0, 0.0, 29.0, 1.0], [69.0, 0.0, 4.025637862396358, 1.0, 6.701029399874939, 0.0, 722.9630959443265, 0.7281679148382327, 134.0, 1.0, 0.0, 30.0, 1.0], [90.0, 1.0, 3.0205551670471475, 1.0, 7.904145325280192, 0.0, 719.946331078969, 0.0, 134.0, 1.0, 0.0, 30.0, 1.0], [82.0, 1.0, 4.163052214542158, 1.0, 7.904145325280192, 1.0, 850.3760615547534, 0.0, 145.0, 0.0, 0.0, 30.0, 1.0], [60.0, 0.0, 3.666832817196654, 1.0, 6.966172261451928, 0.0, 860.364677002239, 0.6783532998801614, 142.0, 0.0, 0.0, 30.0, 1.0], [70.0, 0.0, 4.025637862396358, 0.0, 5.073540247790502, 1.0, 774.1559554351417, 0.4583228867072044, 134.0, 1.0, 1.0, 31.0, 1.0], [50.0, 0.0, 3.381384714478249, 1.0, 6.222755101703694, 1.0, 598.2344654863812, 0.16723372590987146, 136.0, 0.0, 1.0, 32.0, 1.0], [70.0, 0.0, 4.018602474797208, 1.0, 7.534101647809663, 1.0, 654.687340199836, 0.16723372590987146, 139.0, 1.0, 1.0, 33.0, 1.0], [60.0, 1.0, 4.02941080896221, 1.0, 8.575247780217278, 0.0, 669.618537028356, 0.09107302012510697, 142.0, 0.0, 0.0, 33.0, 1.0], [50.0, 0.0, 4.025637862396358, 1.0, 6.966172261451928, 0.0, 836.4251045417325, 0.4789426376835807, 135.0, 1.0, 1.0, 35.0, 1.0], [51.0, 0.0, 4.322895951444924, 0.0, 5.687197660638561, 1.0, 784.7349251625859, -0.11088268777686425, 130.0, 1.0, 0.0, 38.0, 1.0], [60.0, 0.0, 4.025637862396358, 1.0, 6.966172261451928, 1.0, 999.1975116441009, -0.6596212892708068, 138.0, 1.0, 1.0, 40.0, 1.0], [80.0, 1.0, 4.00674486574818, 0.0, 5.073540247790502, 1.0, 573.5310365674736, 0.7897497661251607, 133.0, 1.0, 0.0, 41.0, 1.0], [57.0, 1.0, 3.3998780827461768, 0.0, 6.222755101703694, 0.0, 938.3061823271569, 0.0, 140.0, 0.0, 0.0, 42.0, 1.0], [68.0, 1.0, 4.022459200450082, 0.0, 5.687197660638561, 1.0, 621.8549428925608, 0.0, 138.0, 1.0, 0.0, 43.0, 1.0], [53.0, 1.0, 3.232597233459061, 0.0, 5.073540247790502, 1.0, 963.8325583526581, 0.28746421927002, 139.0, 0.0, 0.0, 43.0, 1.0], [70.0, 1.0, 3.093256796369123, 1.0, 7.904145325280192, 1.0, 887.1913877442206, 0.0, 134.0, 0.0, 0.0, 44.0, 1.0], [60.0, 1.0, 3.7094065786329438, 1.0, 6.966172261451928, 0.0, 762.3988578427951, 0.552706432945649, 132.0, 0.0, 1.0, 45.0, 1.0], [95.0, 1.0, 3.8538711380859096, 0.0, 6.222755101703694, 0.0, 1009.6430960033683, 0.5059415072413381, 132.0, 1.0, 0.0, 50.0, 1.0], [49.0, 0.0, 4.13503279172315, 0.0, 5.073540247790502, 1.0, 847.8584767065978, 0.09107302012510697, 136.0, 1.0, 1.0, 55.0, 1.0], [72.0, 0.0, 3.8463336502851693, 1.0, 5.073540247790502, 1.0, 760.9786586656928, 0.2318846842881995, 136.0, 1.0, 1.0, 59.0, 1.0], [45.0, 0.0, 4.80737128232443, 1.0, 5.687197660638561, 1.0, 932.6541418213105, 0.0, 139.0, 1.0, 0.0, 60.0, 1.0], [50.0, 0.0, 3.792221109090949, 0.0, 7.135176462792489, 1.0, 704.6471363644654, 0.5730941029367999, 131.0, 0.0, 0.0, 60.0, 1.0], [45.0, 0.0, 4.025637862396358, 0.0, 6.701029399874939, 0.0, 926.9637986572712, 0.0, 145.0, 1.0, 0.0, 61.0, 1.0], [60.0, 0.0, 3.085737141873115, 0.0, 5.073540247790502, 0.0, 530.9201007814545, 0.6663715723635272, 127.0, 1.0, 1.0, 64.0, 1.0], [42.0, 1.0, 3.6929700423747898, 1.0, 4.345403961411269, 0.0, 699.9849174493443, 0.2318846842881995, 136.0, 0.0, 0.0, 65.0, 1.0], [72.0, 1.0, 3.3246332237381946, 0.0, 5.687197660638561, 0.0, 788.8448857751116, 0.0, 140.0, 1.0, 1.0, 65.0, 1.0], [70.0, 0.0, 3.5014457535638677, 0.0, 5.687197660638561, 0.0, 746.6114994403825, 0.16723372590987146, 142.0, 0.0, 0.0, 66.0, 1.0], [65.0, 0.0, 3.3374727399760893, 1.0, 5.687197660638561, 0.0, 1046.2912989981567, 0.4583228867072044, 135.0, 1.0, 0.0, 67.0, 1.0], [85.0, 0.0, 4.739780005327763, 0.0, 6.701029399874939, 0.0, 745.1578565906556, 0.0, 132.0, 1.0, 1.0, 72.0, 1.0], [69.0, 0.0, 4.025637862396358, 0.0, 5.073540247790502, 0.0, 777.831369374731, 0.16723372590987146, 134.0, 1.0, 1.0, 73.0, 1.0], [60.0, 1.0, 2.88963710097958, 0.0, 5.073540247790502, 0.0, 685.786861883189, -0.42547670384637193, 139.0, 1.0, 1.0, 73.0, 1.0], [60.0, 1.0, 3.1425959544652553, 1.0, 5.687197660638561, 0.0, 672.8867116488877, 0.6090640253260807, 132.0, 0.0, 0.0, 77.0, 1.0], [59.0, 1.0, 3.7401887318797953, 1.0, 5.687197660638561, 1.0, 826.1144030522476, 0.0, 141.0, 0.0, 0.0, 78.0, 1.0], [60.0, 1.0, 3.481353339936911, 0.0, 5.687197660638561, 0.0, 695.2879768764706, 0.4156157553193581, 135.0, 1.0, 0.0, 82.0, 1.0], [72.0, 1.0, 3.8047239412929845, 0.0, 6.222755101703694, 1.0, 1162.831066672007, 0.4156157553193581, 138.0, 0.0, 1.0, 88.0, 1.0], [85.0, 0.0, 3.3998780827461768, 0.0, 8.575247780217278, 0.0, 831.2875045383672, 0.16723372590987146, 132.0, 1.0, 1.0, 90.0, 1.0], [70.0, 1.0, 3.4475429312903905, 0.0, 8.575247780217278, 0.0, 887.1913877442206, 0.2318846842881995, 137.0, 0.0, 0.0, 90.0, 1.0], [86.0, 0.0, 4.025637862396358, 0.0, 6.966172261451928, 0.0, 774.1559554351417, 0.4583228867072044, 134.0, 0.0, 0.0, 95.0, 1.0], [60.0, 0.0, 4.025637862396358, 0.0, 7.135176462792489, 0.0, 706.1936209561458, 0.7443902496186251, 134.0, 1.0, 0.0, 96.0, 1.0], [46.0, 0.0, 3.520551991416286, 1.0, 4.653837033100984, 1.0, 784.7349251625859, 0.5304160641785284, 124.0, 0.0, 0.0, 100.0, 1.0], [80.0, 0.0, 4.142068064058192, 0.0, 6.966172261451928, 0.0, 774.1559554351417, 0.09107302012510697, 134.0, 1.0, 0.0, 109.0, 1.0], [72.0, 1.0, 4.196745876639239, 0.0, 5.687197660638561, 1.0, 871.4501186309717, 0.4156157553193581, 139.0, 1.0, 1.0, 111.0, 1.0], [75.0, 1.0, 4.025637862396358, 0.0, 6.222755101703694, 0.0, 718.4326743063957, 0.4583228867072044, 134.0, 1.0, 0.0, 113.0, 1.0], [72.0, 0.0, 3.663202398564424, 0.0, 7.534101647809663, 1.0, 733.4134437432065, 0.6090640253260807, 135.0, 0.0, 0.0, 115.0, 1.0], [45.0, 0.0, 4.498407845328968, 1.0, 6.222755101703694, 0.0, 866.542697377834, 0.09107302012510697, 139.0, 1.0, 0.0, 129.0, 1.0], [80.0, 0.0, 4.129193985270717, 1.0, 6.966172261451928, 1.0, 666.3325649127631, 0.2318846842881995, 135.0, 0.0, 0.0, 130.0, 1.0], [59.0, 1.0, 3.54129068801935, 1.0, 5.687197660638561, 0.0, 712.3423231121928, 0.0, 136.0, 1.0, 1.0, 150.0, 1.0], [65.0, 0.0, 3.8785169656495833, 1.0, 5.687197660638561, 0.0, 776.4424769965113, 0.16723372590987146, 136.0, 1.0, 1.0, 154.0, 1.0], [75.0, 0.0, 3.2738328867537296, 0.0, 6.966172261451928, 1.0, 716.9154694734661, 0.6090640253260807, 134.0, 1.0, 0.0, 162.0, 1.0], [58.0, 1.0, 3.4539095672149585, 0.0, 5.687197660638561, 0.0, 709.2753672683968, 0.16723372590987146, 137.0, 1.0, 1.0, 170.0, 1.0], [60.667, 1.0, 3.297693868635824, 1.0, 6.222755101703694, 0.0, 931.5191614323888, 0.33576579935320783, 136.0, 1.0, 0.0, 171.0, 1.0], [50.0, 0.0, 4.025637862396358, 0.0, 7.904145325280192, 0.0, 598.2344654863812, -0.6596212892708068, 134.0, 0.0, 0.0, 172.0, 1.0], [60.0, 0.0, 4.422520060619963, 1.0, 5.687197660638561, 0.0, 903.8037681633854, 0.5304160641785284, 144.0, 0.0, 0.0, 172.0, 1.0], [45.0, 0.0, 4.025637862396358, 0.0, 5.073540247790502, 1.0, 545.5343667062825, 0.37813826526469946, 135.0, 1.0, 0.0, 180.0, 1.0], [77.0, 1.0, 3.900561772817684, 0.0, 7.534101647809663, 0.0, 715.3946923679188, 0.44900454996621825, 145.0, 1.0, 0.0, 180.0, 1.0], [48.0, 1.0, 3.4070445141334997, 1.0, 6.222755101703694, 1.0, 746.6114994403825, 0.37813826526469946, 130.0, 0.0, 0.0, 193.0, 1.0], [73.0, 0.0, 4.025637862396358, 0.0, 5.073540247790502, 0.0, 774.1559554351417, 0.4583228867072044, 134.0, 1.0, 0.0, 198.0, 1.0], [60.0, 0.0, 3.5151884318144755, 0.0, 6.222755101703694, 0.0, 389.4139100270236, 0.4156157553193581, 127.0, 0.0, 0.0, 207.0, 1.0], [55.0, 0.0, 4.44135063034038, 0.0, 5.687197660638561, 0.0, 841.5279001260941, 0.09107302012510697, 138.0, 1.0, 0.0, 214.0, 1.0], [65.0, 1.0, 3.706178433909776, 1.0, 5.687197660638561, 0.0, 676.1373653155916, 0.28746421927002, 129.0, 1.0, 0.0, 235.0, 1.0], [55.0, 0.0, 4.27719217124118, 0.0, 5.073540247790502, 0.0, 774.1559554351417, 0.4583228867072044, 134.0, 1.0, 1.0, 241.0, 1.0]], \"hoverlabel\": {\"namelength\": 0}, \"hovertemplate\": \"DEATH_EVENT=%{customdata[12]}<br>AGE=%{customdata[0]}<br>anaemia=%{customdata[1]}<br>creatinine_phosphokinase=%{customdata[2]}<br>diabetes=%{customdata[3]}<br>ejection_fraction=%{customdata[4]}<br>high_blood_pressure=%{customdata[5]}<br>platelets=%{customdata[6]}<br>serum_creatinine=%{customdata[7]}<br>serum_sodium=%{customdata[8]}<br>sex=%{customdata[9]}<br>smoking=%{customdata[10]}<br>time=%{customdata[11]}\", \"legendgroup\": \"DEATH_EVENT=1\", \"marker\": {\"color\": \"#00cc96\"}, \"name\": \"DEATH_EVENT=1\", \"offsetgroup\": \"DEATH_EVENT=1\", \"scalegroup\": \"x\", \"showlegend\": false, \"type\": \"violin\", \"x\": [75.0, 55.0, 65.0, 50.0, 90.0, 75.0, 60.0, 65.0, 80.0, 75.0, 62.0, 45.0, 50.0, 82.0, 87.0, 45.0, 70.0, 48.0, 65.0, 68.0, 75.0, 80.0, 95.0, 70.0, 58.0, 82.0, 94.0, 85.0, 50.0, 65.0, 69.0, 90.0, 82.0, 60.0, 70.0, 50.0, 70.0, 60.0, 50.0, 51.0, 60.0, 80.0, 57.0, 68.0, 53.0, 70.0, 60.0, 95.0, 49.0, 72.0, 45.0, 50.0, 45.0, 60.0, 42.0, 72.0, 70.0, 65.0, 85.0, 69.0, 60.0, 60.0, 59.0, 60.0, 72.0, 85.0, 70.0, 86.0, 60.0, 46.0, 80.0, 72.0, 75.0, 72.0, 45.0, 80.0, 59.0, 65.0, 75.0, 58.0, 60.667, 50.0, 60.0, 45.0, 77.0, 48.0, 73.0, 60.0, 55.0, 65.0, 55.0], \"xaxis\": \"x2\", \"yaxis\": \"y2\"}, {\"alignmentgroup\": \"True\", \"bingroup\": \"x\", \"hoverlabel\": {\"namelength\": 0}, \"hovertemplate\": \"DEATH_EVENT=0<br>AGE=%{x}<br>count=%{y}\", \"legendgroup\": \"DEATH_EVENT=0\", \"marker\": {\"color\": \"#ab63fa\"}, \"name\": \"DEATH_EVENT=0\", \"offsetgroup\": \"DEATH_EVENT=0\", \"orientation\": \"v\", \"showlegend\": true, \"type\": \"histogram\", \"x\": [49.0, 65.0, 53.0, 50.0, 72.0, 70.0, 60.0, 55.0, 45.0, 41.0, 58.0, 65.0, 70.0, 42.0, 75.0, 55.0, 70.0, 67.0, 79.0, 51.0, 55.0, 65.0, 44.0, 57.0, 70.0, 60.0, 42.0, 58.0, 58.0, 63.0, 70.0, 60.0, 63.0, 65.0, 75.0, 80.0, 42.0, 60.0, 55.0, 45.0, 63.0, 45.0, 55.0, 50.0, 60.0, 58.0, 60.0, 65.0, 60.0, 66.0, 60.0, 60.0, 43.0, 58.0, 61.0, 53.0, 53.0, 60.0, 46.0, 63.0, 81.0, 75.0, 65.0, 68.0, 62.0, 50.0, 46.0, 50.0, 61.0, 50.0, 52.0, 64.0, 60.0, 62.0, 50.0, 50.0, 65.0, 60.0, 52.0, 50.0, 85.0, 59.0, 66.0, 45.0, 63.0, 53.0, 65.0, 70.0, 51.0, 52.0, 70.0, 50.0, 65.0, 60.0, 69.0, 49.0, 63.0, 55.0, 40.0, 60.667, 40.0, 80.0, 64.0, 50.0, 73.0, 45.0, 65.0, 50.0, 60.0, 45.0, 70.0, 60.0, 78.0, 50.0, 40.0, 85.0, 60.0, 49.0, 70.0, 50.0, 78.0, 65.0, 73.0, 70.0, 68.0, 55.0, 65.0, 42.0, 47.0, 58.0, 75.0, 58.0, 55.0, 65.0, 72.0, 70.0, 40.0, 53.0, 53.0, 77.0, 75.0, 70.0, 65.0, 55.0, 70.0, 65.0, 40.0, 73.0, 54.0, 61.0, 64.0, 40.0, 53.0, 50.0, 55.0, 50.0, 70.0, 53.0, 52.0, 65.0, 58.0, 45.0, 53.0, 55.0, 62.0, 68.0, 61.0, 50.0, 56.0, 45.0, 40.0, 44.0, 51.0, 67.0, 42.0, 60.0, 45.0, 70.0, 70.0, 50.0, 55.0, 70.0, 42.0, 65.0, 50.0, 55.0, 60.0, 45.0, 65.0, 90.0, 45.0, 60.0, 52.0, 63.0, 62.0, 55.0, 45.0, 50.0], \"xaxis\": \"x\", \"yaxis\": \"y\"}, {\"alignmentgroup\": \"True\", \"customdata\": [[49.0, 1.0, 3.1684846465272583, 0.0, 6.222755101703694, 1.0, 973.6191534590789, 0.0, 138.0, 0.0, 0.0, 12.0, 0.0], [65.0, 1.0, 2.9444457368957844, 0.0, 5.687197660638561, 1.0, 791.5717032413037, 0.2318846842881995, 137.0, 0.0, 0.0, 16.0, 0.0], [53.0, 0.0, 3.0461163167914935, 1.0, 8.575247780217278, 0.0, 907.3196585819123, -0.2488922424935961, 135.0, 1.0, 0.0, 22.0, 0.0], [50.0, 1.0, 3.495809779393574, 1.0, 6.222755101703694, 0.0, 826.1144030522476, 0.16723372590987146, 138.0, 0.0, 0.0, 29.0, 0.0], [72.0, 0.0, 3.392581936914349, 1.0, 7.904145325280192, 1.0, 707.7363558474772, 0.0, 134.0, 1.0, 0.0, 33.0, 0.0], [70.0, 1.0, 3.1358769110652616, 0.0, 6.701029399874939, 0.0, 715.3946923679188, 0.639799653655621, 138.0, 1.0, 1.0, 54.0, 0.0], [60.0, 1.0, 4.041070866936736, 0.0, 7.135176462792489, 0.0, 704.6471363644654, -0.6596212892708068, 138.0, 1.0, 1.0, 54.0, 0.0], [55.0, 0.0, 3.3202631072599207, 0.0, 6.701029399874939, 0.0, 760.9786586656928, 0.09107302012510697, 139.0, 1.0, 1.0, 60.0, 0.0], [45.0, 0.0, 4.025637862396358, 0.0, 9.71859519435444, 0.0, 774.1559554351417, 0.15301479280432287, 137.0, 0.0, 0.0, 63.0, 0.0], [41.0, 0.0, 3.4632714480164832, 0.0, 7.135176462792489, 0.0, 914.3064249105983, -0.2488922424935961, 140.0, 1.0, 1.0, 68.0, 0.0], [58.0, 0.0, 4.025637862396358, 1.0, 6.701029399874939, 0.0, 537.2373459527821, -0.11088268777686425, 139.0, 1.0, 1.0, 71.0, 0.0], [65.0, 0.0, 3.6464071306534116, 1.0, 7.904145325280192, 0.0, 590.7553925915604, 0.2318846842881995, 137.0, 1.0, 1.0, 72.0, 0.0], [70.0, 0.0, 3.237976574459835, 0.0, 8.575247780217278, 1.0, 845.3325631011305, -0.2488922424935961, 140.0, 0.0, 1.0, 74.0, 0.0], [42.0, 0.0, 3.288312103752678, 1.0, 7.135176462792489, 0.0, 736.3690457956537, 0.16723372590987146, 140.0, 1.0, 0.0, 74.0, 0.0], [75.0, 1.0, 3.6039796064457867, 1.0, 6.966172261451928, 1.0, 801.0344905952237, -0.6596212892708068, 131.0, 1.0, 1.0, 74.0, 0.0], [55.0, 0.0, 3.814412795329531, 0.0, 7.534101647809663, 1.0, 854.1369950998895, -0.11088268777686425, 140.0, 0.0, 0.0, 74.0, 0.0], [70.0, 0.0, 3.093256796369123, 0.0, 7.135176462792489, 0.0, 814.3413507793258, 0.4156157553193581, 136.0, 0.0, 0.0, 75.0, 0.0], [67.0, 0.0, 4.025637862396358, 0.0, 7.904145325280192, 0.0, 774.1559554351417, 0.15301479280432287, 137.0, 1.0, 1.0, 76.0, 0.0], [79.0, 1.0, 2.974481274913581, 0.0, 7.904145325280192, 1.0, 632.427549909296, 0.44900454996621825, 133.0, 1.0, 0.0, 78.0, 0.0], [51.0, 0.0, 3.15573231999406, 0.0, 7.904145325280192, 0.0, 950.6094478297553, -0.42547670384637193, 140.0, 1.0, 0.0, 79.0, 0.0], [55.0, 0.0, 2.88963710097958, 0.0, 6.701029399874939, 1.0, 634.1706539412304, 0.09107302012510697, 137.0, 1.0, 0.0, 79.0, 0.0], [65.0, 1.0, 3.085737141873115, 1.0, 8.575247780217278, 1.0, 828.7054359489688, -0.2488922424935961, 140.0, 1.0, 0.0, 79.0, 0.0], [44.0, 0.0, 3.1929172980713, 1.0, 7.135176462792489, 1.0, 733.4134437432065, -0.42547670384637193, 139.0, 1.0, 0.0, 79.0, 0.0], [57.0, 1.0, 3.3458152578917644, 0.0, 5.687197660638561, 1.0, 647.9285130915692, 0.09107302012510697, 144.0, 1.0, 0.0, 79.0, 0.0], [70.0, 0.0, 3.070306516971223, 1.0, 7.534101647809663, 0.0, 753.8330761308384, -0.2488922424935961, 136.0, 1.0, 1.0, 80.0, 0.0], [60.0, 0.0, 4.179610208504033, 1.0, 7.534101647809663, 0.0, 819.597002315633, 0.0, 133.0, 1.0, 0.0, 80.0, 0.0], [42.0, 0.0, 4.025637862396358, 0.0, 8.575247780217278, 0.0, 774.1559554351417, 0.15301479280432287, 137.0, 0.0, 0.0, 82.0, 0.0], [58.0, 0.0, 3.4507390373886433, 1.0, 6.966172261451928, 1.0, 857.8796284051286, -0.42547670384637193, 142.0, 0.0, 0.0, 83.0, 0.0], [58.0, 1.0, 3.41408546547616, 0.0, 8.575247780217278, 1.0, 709.2753672683968, 0.0, 141.0, 1.0, 0.0, 83.0, 0.0], [63.0, 1.0, 3.97944668281799, 1.0, 5.687197660638561, 1.0, 760.9786586656928, 0.2318846842881995, 134.0, 1.0, 0.0, 83.0, 0.0], [70.0, 1.0, 3.011704497231516, 0.0, 8.575247780217278, 0.0, 762.3988578427951, 0.09107302012510697, 136.0, 0.0, 0.0, 85.0, 0.0], [60.0, 1.0, 3.487200189017973, 1.0, 5.687197660638561, 1.0, 846.5965659912968, 0.16723372590987146, 137.0, 0.0, 0.0, 85.0, 0.0], [63.0, 1.0, 3.029236795715439, 1.0, 7.135176462792489, 0.0, 712.3423231121928, 0.09107302012510697, 140.0, 0.0, 0.0, 86.0, 0.0], [65.0, 1.0, 3.7752698180618083, 0.0, 5.687197660638561, 0.0, 820.9050796072819, 0.09107302012510697, 141.0, 1.0, 0.0, 87.0, 0.0], [75.0, 0.0, 4.025637862396358, 0.0, 7.534101647809663, 1.0, 774.1559554351417, 0.15301479280432287, 137.0, 1.0, 0.0, 87.0, 0.0], [80.0, 0.0, 4.179993449101688, 0.0, 5.687197660638561, 0.0, 590.7553925915604, 0.09107302012510697, 144.0, 1.0, 1.0, 87.0, 0.0], [42.0, 0.0, 4.708366991133288, 0.0, 6.222755101703694, 0.0, 719.946331078969, 0.0, 140.0, 1.0, 1.0, 87.0, 0.0], [60.0, 0.0, 2.9546755841073375, 0.0, 7.904145325280192, 1.0, 805.0521977270029, 0.5730941029367999, 143.0, 0.0, 0.0, 87.0, 0.0], [55.0, 0.0, 4.116224395293592, 0.0, 7.534101647809663, 0.0, 773.6563851281757, 0.2318846842881995, 137.0, 1.0, 0.0, 88.0, 0.0], [45.0, 1.0, 4.419273824459844, 1.0, 6.701029399874939, 0.0, 719.946331078969, -0.11088268777686425, 138.0, 1.0, 0.0, 88.0, 0.0], [63.0, 0.0, 4.19420143685751, 0.0, 6.966172261451928, 0.0, 828.7054359489688, 0.09107302012510697, 133.0, 1.0, 1.0, 88.0, 0.0], [45.0, 0.0, 3.7574612368095015, 1.0, 6.701029399874939, 0.0, 1349.3894074988548, 0.2318846842881995, 142.0, 1.0, 1.0, 88.0, 0.0], [55.0, 0.0, 3.0205551670471475, 0.0, 6.701029399874939, 0.0, 722.9630959443265, 0.16723372590987146, 135.0, 1.0, 1.0, 90.0, 0.0], [50.0, 0.0, 3.8517344703285468, 1.0, 5.687197660638561, 0.0, 758.1293969574043, 0.37813826526469946, 136.0, 1.0, 0.0, 90.0, 0.0], [60.0, 1.0, 4.119050365491325, 1.0, 7.135176462792489, 1.0, 859.1231504901432, 0.16723372590987146, 126.0, 1.0, 0.0, 91.0, 0.0], [58.0, 1.0, 3.8834335167541476, 0.0, 7.135176462792489, 0.0, 618.2861226406208, 0.0, 139.0, 0.0, 0.0, 91.0, 0.0], [60.0, 1.0, 3.2588369087377838, 1.0, 8.575247780217278, 1.0, 784.7349251625859, -0.42547670384637193, 136.0, 0.0, 0.0, 94.0, 0.0], [65.0, 1.0, 3.3374727399760893, 1.0, 8.575247780217278, 1.0, 684.1890972560772, -0.11088268777686425, 140.0, 0.0, 0.0, 94.0, 0.0], [60.0, 1.0, 4.110974683941758, 0.0, 8.575247780217278, 1.0, 695.2879768764706, 0.33576579935320783, 135.0, 1.0, 1.0, 95.0, 0.0], [66.0, 1.0, 3.085737141873115, 1.0, 6.966172261451928, 1.0, 614.6943008960727, 0.0, 136.0, 0.0, 0.0, 95.0, 0.0], [60.0, 0.0, 3.2588369087377838, 1.0, 6.966172261451928, 0.0, 722.9630959443265, -0.3314111042813302, 140.0, 0.0, 0.0, 95.0, 0.0], [60.0, 1.0, 4.025637862396358, 0.0, 6.222755101703694, 1.0, 547.5868579262194, -0.11088268777686425, 145.0, 0.0, 0.0, 95.0, 0.0], [43.0, 1.0, 3.839738229790088, 0.0, 7.904145325280192, 0.0, 736.3690457956537, 0.2318846842881995, 135.0, 0.0, 0.0, 97.0, 0.0], [58.0, 1.0, 3.597505374097021, 1.0, 8.575247780217278, 0.0, 823.5143150488784, -0.2488922424935961, 137.0, 0.0, 0.0, 104.0, 0.0], [61.0, 0.0, 3.6895914357173876, 0.0, 6.222755101703694, 1.0, 779.2175138962601, -0.42547670384637193, 136.0, 1.0, 1.0, 104.0, 0.0], [53.0, 1.0, 3.725127479140868, 1.0, 6.701029399874939, 0.0, 721.456463733054, 0.719355314012556, 145.0, 1.0, 0.0, 105.0, 0.0], [53.0, 1.0, 4.407929551232915, 0.0, 8.575247780217278, 1.0, 753.8330761308384, -0.42547670384637193, 138.0, 1.0, 1.0, 106.0, 0.0], [60.0, 1.0, 4.243171772908823, 1.0, 7.534101647809663, 0.0, 755.2681977996755, 0.8571957454628651, 131.0, 1.0, 0.0, 107.0, 0.0], [46.0, 0.0, 4.102185625459166, 0.0, 7.135176462792489, 1.0, 774.1559554351417, 0.15301479280432287, 137.0, 0.0, 0.0, 107.0, 0.0], [63.0, 0.0, 3.5819515336464267, 0.0, 8.575247780217278, 1.0, 816.9738691534773, 0.2318846842881995, 145.0, 1.0, 1.0, 107.0, 0.0], [81.0, 0.0, 4.67210023885116, 0.0, 6.701029399874939, 0.0, 727.462222770865, 0.15301479280432287, 137.0, 1.0, 1.0, 107.0, 0.0], [75.0, 0.0, 4.025637862396358, 0.0, 7.135176462792489, 0.0, 774.1559554351417, 0.15301479280432287, 137.0, 1.0, 0.0, 107.0, 0.0], [65.0, 1.0, 3.011704497231516, 1.0, 8.575247780217278, 0.0, 632.427549909296, -0.11088268777686425, 137.0, 0.0, 0.0, 107.0, 0.0], [68.0, 1.0, 4.063734384423375, 0.0, 5.687197660638561, 0.0, 829.9975851660085, 0.5304160641785284, 130.0, 1.0, 0.0, 108.0, 0.0], [62.0, 0.0, 3.741660542510888, 1.0, 6.701029399874939, 0.0, 712.3423231121928, 0.0, 136.0, 0.0, 0.0, 108.0, 0.0], [50.0, 0.0, 4.3594988631991995, 0.0, 6.222755101703694, 1.0, 696.8575280623202, -0.2488922424935961, 138.0, 1.0, 0.0, 108.0, 0.0], [46.0, 1.0, 3.756053491288467, 0.0, 6.701029399874939, 0.0, 883.5864200580681, -0.11088268777686425, 140.0, 0.0, 0.0, 109.0, 0.0], [50.0, 0.0, 3.955193819076111, 1.0, 6.222755101703694, 0.0, 860.364677002239, -0.11088268777686425, 132.0, 0.0, 0.0, 109.0, 0.0], [61.0, 1.0, 3.1929172980713, 0.0, 7.135176462792489, 1.0, 724.4662511263754, -0.11088268777686425, 141.0, 0.0, 0.0, 110.0, 0.0], [50.0, 0.0, 3.5633560873152086, 0.0, 6.222755101703694, 0.0, 777.831369374731, -0.42547670384637193, 141.0, 1.0, 1.0, 112.0, 0.0], [52.0, 0.0, 3.4105804180928208, 0.0, 6.222755101703694, 0.0, 707.7363558474772, -0.42547670384637193, 136.0, 1.0, 1.0, 112.0, 0.0], [64.0, 0.0, 4.371860515187577, 0.0, 8.575247780217278, 0.0, 743.701059029639, 0.0, 137.0, 1.0, 0.0, 113.0, 0.0], [60.0, 0.0, 4.475633221295353, 0.0, 6.701029399874939, 1.0, 722.9630959443265, -0.11088268777686425, 136.0, 1.0, 0.0, 115.0, 0.0], [62.0, 0.0, 2.6354550436836317, 1.0, 8.575247780217278, 1.0, 746.6114994403825, -0.11088268777686425, 139.0, 1.0, 0.0, 117.0, 0.0], [50.0, 0.0, 3.3458152578917644, 0.0, 7.534101647809663, 1.0, 653.0049094064092, -0.11088268777686425, 134.0, 1.0, 1.0, 118.0, 0.0], [50.0, 0.0, 4.414328634859375, 1.0, 6.701029399874939, 0.0, 774.1559554351417, 0.15301479280432287, 137.0, 1.0, 1.0, 119.0, 0.0], [65.0, 1.0, 3.8132163652538806, 0.0, 6.701029399874939, 1.0, 733.4134437432065, -0.2488922424935961, 136.0, 0.0, 0.0, 120.0, 0.0], [60.0, 1.0, 3.659535746118753, 1.0, 5.687197660638561, 0.0, 669.618537028356, 0.4156157553193581, 140.0, 1.0, 0.0, 120.0, 0.0], [52.0, 1.0, 3.0026785447767916, 0.0, 6.701029399874939, 0.0, 792.9312087956066, 0.28746421927002, 136.0, 0.0, 0.0, 120.0, 0.0], [50.0, 0.0, 3.6929700423747898, 0.0, 5.687197660638561, 0.0, 772.2591534855301, 0.0, 136.0, 1.0, 1.0, 120.0, 0.0], [85.0, 1.0, 4.184554183587198, 0.0, 7.904145325280192, 0.0, 733.4134437432065, 0.2318846842881995, 134.0, 1.0, 0.0, 121.0, 0.0], [59.0, 1.0, 3.3998780827461768, 0.0, 7.534101647809663, 1.0, 900.2726215493195, 0.09107302012510697, 139.0, 1.0, 1.0, 121.0, 0.0], [66.0, 1.0, 3.115080630234826, 0.0, 7.135176462792489, 1.0, 743.701059029639, 0.16723372590987146, 134.0, 1.0, 0.0, 121.0, 0.0], [45.0, 1.0, 3.4034772432751206, 0.0, 6.701029399874939, 0.0, 635.9084582277882, -0.2488922424935961, 139.0, 1.0, 1.0, 121.0, 0.0], [63.0, 1.0, 4.025637862396358, 0.0, 7.135176462792489, 0.0, 996.0400924553876, -0.11088268777686425, 137.0, 1.0, 1.0, 123.0, 0.0], [53.0, 0.0, 3.588696108461663, 0.0, 8.575247780217278, 0.0, 710.8106811465606, -0.42547670384637193, 133.0, 1.0, 1.0, 134.0, 0.0], [65.0, 0.0, 4.025637862396358, 1.0, 7.135176462792489, 0.0, 783.3596165600484, 0.0, 138.0, 0.0, 0.0, 140.0, 0.0], [70.0, 0.0, 4.154833323382541, 0.0, 6.701029399874939, 1.0, 829.9975851660085, -0.2488922424935961, 133.0, 0.0, 0.0, 145.0, 0.0], [51.0, 1.0, 4.025637862396358, 1.0, 6.701029399874939, 0.0, 774.1559554351417, 0.33576579935320783, 136.0, 1.0, 1.0, 145.0, 0.0], [52.0, 0.0, 4.635666967716511, 0.0, 7.135176462792489, 0.0, 855.3865601439179, -0.11088268777686425, 140.0, 1.0, 1.0, 146.0, 0.0], [70.0, 1.0, 3.5284603424816834, 0.0, 8.575247780217278, 1.0, 639.3683526295772, 0.09107302012510697, 145.0, 1.0, 1.0, 146.0, 0.0], [50.0, 1.0, 3.3458152578917644, 0.0, 5.073540247790502, 0.0, 661.3696134728824, -0.2488922424935961, 139.0, 1.0, 0.0, 146.0, 0.0], [65.0, 0.0, 3.593126478863179, 1.0, 6.701029399874939, 1.0, 798.3435420455652, -0.11088268777686425, 137.0, 1.0, 1.0, 146.0, 0.0], [60.0, 1.0, 3.2537173825296515, 0.0, 8.575247780217278, 0.0, 870.2261442093983, 0.0, 138.0, 1.0, 1.0, 146.0, 0.0], [69.0, 0.0, 4.331836208267133, 0.0, 7.135176462792489, 0.0, 500.2659862730978, 0.0, 135.0, 1.0, 1.0, 147.0, 0.0], [49.0, 1.0, 3.093256796369123, 0.0, 7.904145325280192, 0.0, 557.723866182209, 0.0, 140.0, 0.0, 0.0, 147.0, 0.0], [63.0, 1.0, 3.373744327318973, 1.0, 8.575247780217278, 0.0, 779.2175138962601, 0.16723372590987146, 145.0, 1.0, 0.0, 147.0, 0.0], [55.0, 0.0, 4.154833323382541, 0.0, 7.135176462792489, 0.0, 795.6424850606941, -0.42547670384637193, 140.0, 1.0, 1.0, 147.0, 0.0], [40.0, 0.0, 3.9520316349307, 1.0, 6.222755101703694, 0.0, 827.4110456784875, -0.11088268777686425, 136.0, 1.0, 0.0, 148.0, 0.0], [60.667, 1.0, 3.4724163071733463, 1.0, 7.135176462792489, 1.0, 680.9810816978916, 0.0, 136.0, 0.0, 0.0, 172.0, 0.0], [40.0, 0.0, 3.682738650104513, 0.0, 7.534101647809663, 1.0, 790.2096003791468, -0.11088268777686425, 140.0, 0.0, 0.0, 174.0, 0.0], [80.0, 0.0, 4.025637862396358, 1.0, 6.701029399874939, 0.0, 885.9915417472831, 0.5304160641785284, 134.0, 1.0, 0.0, 174.0, 0.0], [64.0, 1.0, 3.0377553047191284, 0.0, 8.575247780217278, 0.0, 835.1439942941836, 0.33576579935320783, 135.0, 0.0, 0.0, 174.0, 0.0], [50.0, 1.0, 3.36986959494581, 1.0, 7.135176462792489, 0.0, 769.4562372354645, -0.42547670384637193, 130.0, 1.0, 0.0, 175.0, 0.0], [73.0, 1.0, 3.659535746118753, 1.0, 6.222755101703694, 0.0, 611.0790426634615, 0.15301479280432287, 142.0, 1.0, 1.0, 180.0, 0.0], [45.0, 0.0, 4.025637862396358, 1.0, 6.966172261451928, 1.0, 774.1559554351417, 0.15301479280432287, 137.0, 0.0, 0.0, 185.0, 0.0], [65.0, 0.0, 3.5178795011840127, 0.0, 6.222755101703694, 0.0, 768.0505195334568, -0.2488922424935961, 138.0, 0.0, 0.0, 186.0, 0.0], [50.0, 1.0, 4.025637862396358, 1.0, 5.073540247790502, 1.0, 795.6424850606941, 0.0, 134.0, 0.0, 0.0, 186.0, 0.0], [60.0, 0.0, 4.280462728555355, 1.0, 6.701029399874939, 0.0, 774.1559554351417, 0.44900454996621825, 113.0, 1.0, 1.0, 186.0, 0.0], [45.0, 0.0, 3.7792548970055115, 1.0, 8.575247780217278, 1.0, 917.777668310215, 0.0, 136.0, 1.0, 0.0, 186.0, 0.0], [70.0, 0.0, 3.263895104933416, 0.0, 8.575247780217278, 1.0, 710.8106811465606, -0.11088268777686425, 138.0, 1.0, 0.0, 186.0, 0.0], [60.0, 0.0, 3.011704497231516, 0.0, 5.687197660638561, 1.0, 698.4231655362427, 0.7281679148382327, 136.0, 1.0, 1.0, 187.0, 0.0], [78.0, 1.0, 3.054325175451314, 0.0, 7.135176462792489, 0.0, 792.9312087956066, -0.42547670384637193, 137.0, 1.0, 1.0, 187.0, 0.0], [50.0, 1.0, 3.5178795011840127, 1.0, 7.534101647809663, 0.0, 900.2726215493195, 0.0, 136.0, 0.0, 0.0, 187.0, 0.0], [40.0, 1.0, 3.2835410635260756, 0.0, 7.135176462792489, 0.0, 719.946331078969, -0.2488922424935961, 141.0, 0.0, 0.0, 187.0, 0.0], [85.0, 0.0, 3.622757261581563, 0.0, 6.966172261451928, 0.0, 656.3649870527959, -0.11088268777686425, 136.0, 1.0, 0.0, 187.0, 0.0], [60.0, 1.0, 4.478251649433291, 1.0, 7.135176462792489, 0.0, 801.0344905952237, 0.0, 141.0, 0.0, 0.0, 187.0, 0.0], [49.0, 0.0, 4.207059123978379, 1.0, 6.701029399874939, 1.0, 780.6009262587678, -0.2488922424935961, 130.0, 0.0, 0.0, 187.0, 0.0], [70.0, 0.0, 3.622757261581563, 1.0, 4.653837033100984, 1.0, 931.5191614323888, 0.0, 136.0, 1.0, 1.0, 188.0, 0.0], [50.0, 0.0, 4.025637862396358, 0.0, 8.700225387158447, 1.0, 586.97618025688, -0.2488922424935961, 140.0, 1.0, 1.0, 192.0, 0.0], [78.0, 0.0, 3.6464071306534116, 0.0, 7.904145325280192, 0.0, 1030.182007286907, 0.28746421927002, 138.0, 1.0, 1.0, 192.0, 0.0], [65.0, 1.0, 3.4210049718746154, 0.0, 6.701029399874939, 1.0, 810.3747611317938, -0.2488922424935961, 134.0, 1.0, 0.0, 194.0, 0.0], [73.0, 0.0, 4.025637862396358, 0.0, 6.701029399874939, 1.0, 684.1890972560772, 0.2318846842881995, 134.0, 1.0, 0.0, 195.0, 0.0], [70.0, 0.0, 4.278013349594755, 0.0, 7.904145325280192, 1.0, 895.5403592378601, -0.11088268777686425, 141.0, 0.0, 0.0, 196.0, 0.0], [68.0, 1.0, 4.22370096666247, 1.0, 6.701029399874939, 0.0, 784.7349251625859, 0.09107302012510697, 134.0, 1.0, 0.0, 197.0, 0.0], [55.0, 0.0, 4.025637862396358, 1.0, 6.701029399874939, 1.0, 910.8204822903367, -0.42547670384637193, 140.0, 0.0, 0.0, 197.0, 0.0], [65.0, 0.0, 3.3580193280085133, 0.0, 7.904145325280192, 0.0, 669.618537028356, 0.09107302012510697, 145.0, 1.0, 1.0, 200.0, 0.0], [42.0, 1.0, 3.204633956099047, 0.0, 6.701029399874939, 0.0, 903.8037681633854, 0.09107302012510697, 139.0, 1.0, 1.0, 201.0, 0.0], [47.0, 0.0, 4.025637862396358, 0.0, 5.687197660638561, 0.0, 553.6937576645514, -0.2488922424935961, 134.0, 1.0, 0.0, 201.0, 0.0], [58.0, 0.0, 4.025637862396358, 1.0, 5.687197660638561, 0.0, 1053.253133996072, 0.0, 138.0, 1.0, 0.0, 205.0, 0.0], [75.0, 0.0, 4.0795839939451755, 1.0, 8.575247780217278, 0.0, 776.4424769965113, 0.28746421927002, 125.0, 0.0, 0.0, 205.0, 0.0], [58.0, 1.0, 2.9934707250131223, 0.0, 5.687197660638561, 0.0, 661.3696134728824, 0.2318846842881995, 132.0, 1.0, 1.0, 205.0, 0.0], [55.0, 1.0, 4.537575083516385, 0.0, 6.701029399874939, 1.0, 575.4731164437891, 0.0, 140.0, 1.0, 0.0, 206.0, 0.0], [65.0, 0.0, 2.9840740848055227, 0.0, 5.687197660638561, 0.0, 736.3690457956537, 0.8186887275972219, 130.0, 0.0, 0.0, 207.0, 0.0], [72.0, 0.0, 3.6207168343918568, 0.0, 5.687197660638561, 0.0, 788.8448857751116, 0.16723372590987146, 134.0, 0.0, 0.0, 207.0, 0.0], [70.0, 0.0, 3.243288688526272, 0.0, 6.701029399874939, 0.0, 654.687340199836, 0.09107302012510697, 134.0, 1.0, 1.0, 208.0, 0.0], [40.0, 1.0, 3.3998780827461768, 0.0, 6.701029399874939, 0.0, 762.3988578427951, -0.11088268777686425, 137.0, 1.0, 0.0, 209.0, 0.0], [53.0, 1.0, 4.096183607465114, 0.0, 6.966172261451928, 0.0, 861.6042171948717, 0.28746421927002, 137.0, 1.0, 1.0, 209.0, 0.0], [53.0, 1.0, 4.025637862396358, 0.0, 7.534101647809663, 0.0, 829.9975851660085, 0.09107302012510697, 137.0, 1.0, 1.0, 209.0, 0.0], [77.0, 1.0, 3.3202631072599207, 0.0, 7.904145325280192, 1.0, 950.6094478297553, 0.09107302012510697, 137.0, 1.0, 0.0, 209.0, 0.0], [75.0, 0.0, 3.362007776647375, 0.0, 7.904145325280192, 1.0, 752.3949150740973, 0.09107302012510697, 148.0, 1.0, 0.0, 209.0, 0.0], [70.0, 0.0, 3.6613736436395707, 0.0, 6.222755101703694, 0.0, 634.1706539412304, 0.16723372590987146, 132.0, 1.0, 0.0, 210.0, 0.0], [65.0, 1.0, 4.102680555108649, 1.0, 7.135176462792489, 0.0, 765.2304810243983, 0.0, 136.0, 0.0, 0.0, 210.0, 0.0], [55.0, 1.0, 3.5512550085839614, 0.0, 7.534101647809663, 0.0, 774.1559554351417, 0.15301479280432287, 137.0, 1.0, 1.0, 211.0, 0.0], [70.0, 0.0, 3.1747232377525965, 1.0, 6.701029399874939, 1.0, 1081.5659448576394, 0.2318846842881995, 139.0, 0.0, 0.0, 212.0, 0.0], [65.0, 0.0, 4.025637862396358, 1.0, 6.222755101703694, 0.0, 753.8330761308384, 0.2318846842881995, 136.0, 1.0, 1.0, 212.0, 0.0], [40.0, 0.0, 3.2271490618197807, 0.0, 6.701029399874939, 0.0, 762.3988578427951, 0.09107302012510697, 136.0, 1.0, 1.0, 212.0, 0.0], [73.0, 1.0, 4.2733283192721965, 0.0, 7.135176462792489, 1.0, 710.8106811465606, -0.11088268777686425, 141.0, 0.0, 0.0, 213.0, 0.0], [54.0, 0.0, 4.025637862396358, 1.0, 6.966172261451928, 0.0, 775.0508209141032, 0.44900454996621825, 134.0, 1.0, 0.0, 213.0, 0.0], [61.0, 1.0, 3.1684846465272583, 1.0, 6.966172261451928, 0.0, 799.69027302474, 0.28746421927002, 137.0, 1.0, 0.0, 213.0, 0.0], [64.0, 0.0, 3.4475429312903905, 0.0, 5.687197660638561, 0.0, 749.5093996783344, 0.5918140604594808, 135.0, 1.0, 0.0, 214.0, 0.0], [40.0, 0.0, 4.051151121287894, 0.0, 6.701029399874939, 0.0, 824.8154966732849, 0.0, 142.0, 1.0, 1.0, 214.0, 0.0], [53.0, 0.0, 3.6124417726828515, 1.0, 7.135176462792489, 0.0, 715.3946923679188, 0.16723372590987146, 130.0, 0.0, 0.0, 214.0, 0.0], [50.0, 0.0, 4.507859402491384, 0.0, 6.222755101703694, 1.0, 948.3856728383939, -0.9853029888780486, 139.0, 0.0, 0.0, 214.0, 0.0], [55.0, 0.0, 4.01924850956512, 1.0, 6.701029399874939, 0.0, 727.462222770865, -0.2488922424935961, 143.0, 0.0, 0.0, 215.0, 0.0], [50.0, 0.0, 3.6844639679902556, 0.0, 7.534101647809663, 1.0, 788.8448857751116, 0.0, 133.0, 1.0, 0.0, 215.0, 0.0], [70.0, 0.0, 3.2160395260494328, 1.0, 6.701029399874939, 1.0, 734.8928941133563, 0.16723372590987146, 132.0, 0.0, 0.0, 215.0, 0.0], [53.0, 1.0, 3.9255773899748867, 0.0, 8.575247780217278, 1.0, 774.1559554351417, 0.0, 139.0, 1.0, 0.0, 215.0, 0.0], [52.0, 1.0, 3.577387407026194, 1.0, 6.222755101703694, 1.0, 866.542697377834, 0.0, 142.0, 1.0, 1.0, 216.0, 0.0], [65.0, 0.0, 3.802258965792817, 0.0, 6.966172261451928, 0.0, 815.6587892026752, 0.4156157553193581, 139.0, 0.0, 0.0, 220.0, 0.0], [58.0, 0.0, 3.4105804180928208, 1.0, 6.966172261451928, 1.0, 759.5555109746059, 0.0, 139.0, 1.0, 0.0, 230.0, 0.0], [45.0, 1.0, 3.070306516971223, 1.0, 5.687197660638561, 0.0, 730.444560884831, -0.2488922424935961, 135.0, 1.0, 0.0, 230.0, 0.0], [53.0, 0.0, 2.9840740848055227, 0.0, 7.904145325280192, 0.0, 833.860698122771, -0.42547670384637193, 135.0, 1.0, 1.0, 231.0, 0.0], [55.0, 0.0, 3.070306516971223, 0.0, 7.135176462792489, 0.0, 684.1890972560772, 0.0, 138.0, 1.0, 0.0, 233.0, 0.0], [62.0, 1.0, 4.068739914586581, 0.0, 7.135176462792489, 0.0, 801.0344905952237, -0.42547670384637193, 133.0, 0.0, 0.0, 233.0, 0.0], [68.0, 1.0, 3.4900911822976983, 1.0, 8.575247780217278, 0.0, 692.137019063076, 0.0, 140.0, 0.0, 0.0, 237.0, 0.0], [61.0, 0.0, 4.025637862396358, 1.0, 6.966172261451928, 0.0, 586.97618025688, 0.16723372590987146, 141.0, 1.0, 0.0, 237.0, 0.0], [50.0, 1.0, 3.7657922251608413, 0.0, 6.701029399874939, 0.0, 900.2726215493195, -0.11088268777686425, 140.0, 1.0, 1.0, 240.0, 0.0], [56.0, 1.0, 3.4210049718746154, 1.0, 6.966172261451928, 0.0, 559.726859198066, 0.4156157553193581, 140.0, 1.0, 0.0, 244.0, 0.0], [45.0, 0.0, 4.025637862396358, 1.0, 6.966172261451928, 0.0, 826.1144030522476, -0.11088268777686425, 140.0, 0.0, 0.0, 244.0, 0.0], [40.0, 0.0, 4.025637862396358, 1.0, 6.701029399874939, 0.0, 713.8703185028197, 0.0, 132.0, 1.0, 0.0, 244.0, 0.0], [44.0, 0.0, 4.025637862396358, 1.0, 6.222755101703694, 1.0, 774.1559554351417, 0.37813826526469946, 130.0, 1.0, 1.0, 244.0, 0.0], [51.0, 0.0, 4.025637862396358, 1.0, 7.135176462792489, 0.0, 712.3423231121928, -0.11088268777686425, 134.0, 0.0, 0.0, 244.0, 0.0], [67.0, 0.0, 3.6247865837393984, 0.0, 6.966172261451928, 0.0, 703.0968755352851, 0.16723372590987146, 133.0, 0.0, 0.0, 245.0, 0.0], [42.0, 0.0, 3.054325175451314, 0.0, 7.135176462792489, 0.0, 661.3696134728824, -0.42547670384637193, 140.0, 1.0, 0.0, 245.0, 0.0], [60.0, 1.0, 3.70455348599729, 1.0, 6.222755101703694, 0.0, 592.6349787380514, 0.0, 137.0, 1.0, 1.0, 245.0, 0.0], [45.0, 0.0, 4.025637862396358, 0.0, 6.966172261451928, 1.0, 968.1957227183908, -0.2488922424935961, 137.0, 0.0, 0.0, 245.0, 0.0], [70.0, 0.0, 4.047630059569936, 0.0, 6.701029399874939, 0.0, 857.8796284051286, 0.09107302012510697, 142.0, 0.0, 0.0, 245.0, 0.0], [70.0, 0.0, 4.025637862396358, 1.0, 6.966172261451928, 0.0, 253.11163857983811, 0.09107302012510697, 140.0, 1.0, 0.0, 246.0, 0.0], [50.0, 1.0, 4.233440160285953, 1.0, 6.222755101703694, 0.0, 728.9550847859641, -0.42547670384637193, 136.0, 0.0, 0.0, 246.0, 0.0], [55.0, 0.0, 3.1929172980713, 1.0, 6.966172261451928, 0.0, 999.1975116441009, 0.2318846842881995, 136.0, 0.0, 0.0, 246.0, 0.0], [70.0, 0.0, 4.52716279796163, 1.0, 7.135176462792489, 0.0, 742.2410868323398, 0.0, 137.0, 1.0, 0.0, 247.0, 0.0], [42.0, 0.0, 3.054325175451314, 0.0, 6.222755101703694, 0.0, 703.0968755352851, 0.7518729240004571, 128.0, 1.0, 1.0, 250.0, 0.0], [65.0, 0.0, 4.386652127771893, 0.0, 6.966172261451928, 0.0, 774.1559554351417, 0.09107302012510697, 138.0, 1.0, 1.0, 250.0, 0.0], [50.0, 1.0, 2.964684519731618, 0.0, 7.135176462792489, 0.0, 795.6424850606941, -0.2488922424935961, 141.0, 1.0, 0.0, 250.0, 0.0], [55.0, 1.0, 3.5258421809283442, 1.0, 7.135176462792489, 0.0, 869.0002550093895, 0.16723372590987146, 135.0, 1.0, 0.0, 250.0, 0.0], [60.0, 0.0, 3.6979797547229696, 0.0, 6.701029399874939, 0.0, 795.6424850606941, 0.4156157553193581, 140.0, 1.0, 0.0, 250.0, 0.0], [45.0, 0.0, 4.025637862396358, 1.0, 8.250000161791457, 0.0, 1091.1400504775881, 0.0, 132.0, 0.0, 0.0, 250.0, 0.0], [65.0, 0.0, 4.177686562251363, 1.0, 6.701029399874939, 0.0, 774.1559554351417, 0.09107302012510697, 142.0, 0.0, 0.0, 256.0, 0.0], [90.0, 1.0, 3.815605112789745, 0.0, 6.966172261451928, 0.0, 932.6541418213105, -0.11088268777686425, 144.0, 0.0, 0.0, 256.0, 0.0], [45.0, 0.0, 4.045854665516563, 1.0, 8.250000161791457, 0.0, 713.8703185028197, -0.2488922424935961, 141.0, 0.0, 0.0, 257.0, 0.0], [60.0, 0.0, 3.7947577450252012, 0.0, 6.701029399874939, 0.0, 559.726859198066, 0.28746421927002, 139.0, 1.0, 0.0, 258.0, 0.0], [52.0, 0.0, 3.575084560951318, 1.0, 6.966172261451928, 0.0, 923.5308914820124, 0.0, 140.0, 1.0, 1.0, 258.0, 0.0], [63.0, 1.0, 3.2930293319142407, 1.0, 6.701029399874939, 0.0, 644.5195855029045, -0.11088268777686425, 136.0, 1.0, 1.0, 270.0, 0.0], [62.0, 0.0, 3.029236795715439, 1.0, 6.966172261451928, 1.0, 601.9353817159371, 0.09107302012510697, 143.0, 1.0, 1.0, 270.0, 0.0], [55.0, 0.0, 4.409966996257951, 0.0, 6.966172261451928, 0.0, 783.3596165600484, 0.16723372590987146, 139.0, 0.0, 0.0, 271.0, 0.0], [45.0, 0.0, 4.494892832728779, 0.0, 6.966172261451928, 0.0, 573.5310365674736, 0.28746421927002, 140.0, 1.0, 1.0, 280.0, 0.0], [50.0, 0.0, 3.588696108461663, 0.0, 7.534101647809663, 0.0, 938.3061823271569, 0.37813826526469946, 136.0, 1.0, 1.0, 285.0, 0.0]], \"hoverlabel\": {\"namelength\": 0}, \"hovertemplate\": \"DEATH_EVENT=%{customdata[12]}<br>AGE=%{customdata[0]}<br>anaemia=%{customdata[1]}<br>creatinine_phosphokinase=%{customdata[2]}<br>diabetes=%{customdata[3]}<br>ejection_fraction=%{customdata[4]}<br>high_blood_pressure=%{customdata[5]}<br>platelets=%{customdata[6]}<br>serum_creatinine=%{customdata[7]}<br>serum_sodium=%{customdata[8]}<br>sex=%{customdata[9]}<br>smoking=%{customdata[10]}<br>time=%{customdata[11]}\", \"legendgroup\": \"DEATH_EVENT=0\", \"marker\": {\"color\": \"#ab63fa\"}, \"name\": \"DEATH_EVENT=0\", \"offsetgroup\": \"DEATH_EVENT=0\", \"scalegroup\": \"x\", \"showlegend\": false, \"type\": \"violin\", \"x\": [49.0, 65.0, 53.0, 50.0, 72.0, 70.0, 60.0, 55.0, 45.0, 41.0, 58.0, 65.0, 70.0, 42.0, 75.0, 55.0, 70.0, 67.0, 79.0, 51.0, 55.0, 65.0, 44.0, 57.0, 70.0, 60.0, 42.0, 58.0, 58.0, 63.0, 70.0, 60.0, 63.0, 65.0, 75.0, 80.0, 42.0, 60.0, 55.0, 45.0, 63.0, 45.0, 55.0, 50.0, 60.0, 58.0, 60.0, 65.0, 60.0, 66.0, 60.0, 60.0, 43.0, 58.0, 61.0, 53.0, 53.0, 60.0, 46.0, 63.0, 81.0, 75.0, 65.0, 68.0, 62.0, 50.0, 46.0, 50.0, 61.0, 50.0, 52.0, 64.0, 60.0, 62.0, 50.0, 50.0, 65.0, 60.0, 52.0, 50.0, 85.0, 59.0, 66.0, 45.0, 63.0, 53.0, 65.0, 70.0, 51.0, 52.0, 70.0, 50.0, 65.0, 60.0, 69.0, 49.0, 63.0, 55.0, 40.0, 60.667, 40.0, 80.0, 64.0, 50.0, 73.0, 45.0, 65.0, 50.0, 60.0, 45.0, 70.0, 60.0, 78.0, 50.0, 40.0, 85.0, 60.0, 49.0, 70.0, 50.0, 78.0, 65.0, 73.0, 70.0, 68.0, 55.0, 65.0, 42.0, 47.0, 58.0, 75.0, 58.0, 55.0, 65.0, 72.0, 70.0, 40.0, 53.0, 53.0, 77.0, 75.0, 70.0, 65.0, 55.0, 70.0, 65.0, 40.0, 73.0, 54.0, 61.0, 64.0, 40.0, 53.0, 50.0, 55.0, 50.0, 70.0, 53.0, 52.0, 65.0, 58.0, 45.0, 53.0, 55.0, 62.0, 68.0, 61.0, 50.0, 56.0, 45.0, 40.0, 44.0, 51.0, 67.0, 42.0, 60.0, 45.0, 70.0, 70.0, 50.0, 55.0, 70.0, 42.0, 65.0, 50.0, 55.0, 60.0, 45.0, 65.0, 90.0, 45.0, 60.0, 52.0, 63.0, 62.0, 55.0, 45.0, 50.0], \"xaxis\": \"x2\", \"yaxis\": \"y2\"}],\n",
              "                        {\"barmode\": \"relative\", \"legend\": {\"tracegroupgap\": 0}, \"template\": {\"data\": {\"bar\": [{\"error_x\": {\"color\": \"#f2f5fa\"}, \"error_y\": {\"color\": \"#f2f5fa\"}, \"marker\": {\"line\": {\"color\": \"rgb(17,17,17)\", \"width\": 0.5}}, \"type\": \"bar\"}], \"barpolar\": [{\"marker\": {\"line\": {\"color\": \"rgb(17,17,17)\", \"width\": 0.5}}, \"type\": \"barpolar\"}], \"carpet\": [{\"aaxis\": {\"endlinecolor\": \"#A2B1C6\", \"gridcolor\": \"#506784\", \"linecolor\": \"#506784\", \"minorgridcolor\": \"#506784\", \"startlinecolor\": \"#A2B1C6\"}, \"baxis\": {\"endlinecolor\": \"#A2B1C6\", \"gridcolor\": \"#506784\", \"linecolor\": \"#506784\", \"minorgridcolor\": \"#506784\", \"startlinecolor\": \"#A2B1C6\"}, \"type\": \"carpet\"}], \"choropleth\": [{\"colorbar\": {\"outlinewidth\": 0, \"ticks\": \"\"}, \"type\": \"choropleth\"}], \"contour\": [{\"colorbar\": {\"outlinewidth\": 0, \"ticks\": \"\"}, \"colorscale\": [[0.0, \"#0d0887\"], [0.1111111111111111, \"#46039f\"], [0.2222222222222222, \"#7201a8\"], [0.3333333333333333, \"#9c179e\"], [0.4444444444444444, \"#bd3786\"], [0.5555555555555556, \"#d8576b\"], [0.6666666666666666, \"#ed7953\"], [0.7777777777777778, \"#fb9f3a\"], [0.8888888888888888, \"#fdca26\"], [1.0, \"#f0f921\"]], \"type\": \"contour\"}], \"contourcarpet\": [{\"colorbar\": {\"outlinewidth\": 0, \"ticks\": \"\"}, \"type\": \"contourcarpet\"}], \"heatmap\": [{\"colorbar\": {\"outlinewidth\": 0, \"ticks\": \"\"}, \"colorscale\": [[0.0, \"#0d0887\"], [0.1111111111111111, \"#46039f\"], [0.2222222222222222, \"#7201a8\"], [0.3333333333333333, \"#9c179e\"], [0.4444444444444444, \"#bd3786\"], [0.5555555555555556, \"#d8576b\"], [0.6666666666666666, \"#ed7953\"], [0.7777777777777778, \"#fb9f3a\"], [0.8888888888888888, \"#fdca26\"], [1.0, \"#f0f921\"]], \"type\": \"heatmap\"}], \"heatmapgl\": [{\"colorbar\": {\"outlinewidth\": 0, \"ticks\": \"\"}, \"colorscale\": [[0.0, \"#0d0887\"], [0.1111111111111111, \"#46039f\"], [0.2222222222222222, \"#7201a8\"], [0.3333333333333333, \"#9c179e\"], [0.4444444444444444, \"#bd3786\"], [0.5555555555555556, \"#d8576b\"], [0.6666666666666666, \"#ed7953\"], [0.7777777777777778, \"#fb9f3a\"], [0.8888888888888888, \"#fdca26\"], [1.0, \"#f0f921\"]], \"type\": \"heatmapgl\"}], \"histogram\": [{\"marker\": {\"colorbar\": {\"outlinewidth\": 0, \"ticks\": \"\"}}, \"type\": \"histogram\"}], \"histogram2d\": [{\"colorbar\": {\"outlinewidth\": 0, \"ticks\": \"\"}, \"colorscale\": [[0.0, \"#0d0887\"], [0.1111111111111111, \"#46039f\"], [0.2222222222222222, \"#7201a8\"], [0.3333333333333333, \"#9c179e\"], [0.4444444444444444, \"#bd3786\"], [0.5555555555555556, \"#d8576b\"], [0.6666666666666666, \"#ed7953\"], [0.7777777777777778, \"#fb9f3a\"], [0.8888888888888888, \"#fdca26\"], [1.0, \"#f0f921\"]], \"type\": \"histogram2d\"}], \"histogram2dcontour\": [{\"colorbar\": {\"outlinewidth\": 0, \"ticks\": \"\"}, \"colorscale\": [[0.0, \"#0d0887\"], [0.1111111111111111, \"#46039f\"], [0.2222222222222222, \"#7201a8\"], [0.3333333333333333, \"#9c179e\"], [0.4444444444444444, \"#bd3786\"], [0.5555555555555556, \"#d8576b\"], [0.6666666666666666, \"#ed7953\"], [0.7777777777777778, \"#fb9f3a\"], [0.8888888888888888, \"#fdca26\"], [1.0, \"#f0f921\"]], \"type\": \"histogram2dcontour\"}], \"mesh3d\": [{\"colorbar\": {\"outlinewidth\": 0, \"ticks\": \"\"}, \"type\": \"mesh3d\"}], \"parcoords\": [{\"line\": {\"colorbar\": {\"outlinewidth\": 0, \"ticks\": \"\"}}, \"type\": \"parcoords\"}], \"pie\": [{\"automargin\": true, \"type\": \"pie\"}], \"scatter\": [{\"marker\": {\"line\": {\"color\": \"#283442\"}}, \"type\": \"scatter\"}], \"scatter3d\": [{\"line\": {\"colorbar\": {\"outlinewidth\": 0, \"ticks\": \"\"}}, \"marker\": {\"colorbar\": {\"outlinewidth\": 0, \"ticks\": \"\"}}, \"type\": \"scatter3d\"}], \"scattercarpet\": [{\"marker\": {\"colorbar\": {\"outlinewidth\": 0, \"ticks\": \"\"}}, \"type\": \"scattercarpet\"}], \"scattergeo\": [{\"marker\": {\"colorbar\": {\"outlinewidth\": 0, \"ticks\": \"\"}}, \"type\": \"scattergeo\"}], \"scattergl\": [{\"marker\": {\"line\": {\"color\": \"#283442\"}}, \"type\": \"scattergl\"}], \"scattermapbox\": [{\"marker\": {\"colorbar\": {\"outlinewidth\": 0, \"ticks\": \"\"}}, \"type\": \"scattermapbox\"}], \"scatterpolar\": [{\"marker\": {\"colorbar\": {\"outlinewidth\": 0, \"ticks\": \"\"}}, \"type\": \"scatterpolar\"}], \"scatterpolargl\": [{\"marker\": {\"colorbar\": {\"outlinewidth\": 0, \"ticks\": \"\"}}, \"type\": \"scatterpolargl\"}], \"scatterternary\": [{\"marker\": {\"colorbar\": {\"outlinewidth\": 0, \"ticks\": \"\"}}, \"type\": \"scatterternary\"}], \"surface\": [{\"colorbar\": {\"outlinewidth\": 0, \"ticks\": \"\"}, \"colorscale\": [[0.0, \"#0d0887\"], [0.1111111111111111, \"#46039f\"], [0.2222222222222222, \"#7201a8\"], [0.3333333333333333, \"#9c179e\"], [0.4444444444444444, \"#bd3786\"], [0.5555555555555556, \"#d8576b\"], [0.6666666666666666, \"#ed7953\"], [0.7777777777777778, \"#fb9f3a\"], [0.8888888888888888, \"#fdca26\"], [1.0, \"#f0f921\"]], \"type\": \"surface\"}], \"table\": [{\"cells\": {\"fill\": {\"color\": \"#506784\"}, \"line\": {\"color\": \"rgb(17,17,17)\"}}, \"header\": {\"fill\": {\"color\": \"#2a3f5f\"}, \"line\": {\"color\": \"rgb(17,17,17)\"}}, \"type\": \"table\"}]}, \"layout\": {\"annotationdefaults\": {\"arrowcolor\": \"#f2f5fa\", \"arrowhead\": 0, \"arrowwidth\": 1}, \"coloraxis\": {\"colorbar\": {\"outlinewidth\": 0, \"ticks\": \"\"}}, \"colorscale\": {\"diverging\": [[0, \"#8e0152\"], [0.1, \"#c51b7d\"], [0.2, \"#de77ae\"], [0.3, \"#f1b6da\"], [0.4, \"#fde0ef\"], [0.5, \"#f7f7f7\"], [0.6, \"#e6f5d0\"], [0.7, \"#b8e186\"], [0.8, \"#7fbc41\"], [0.9, \"#4d9221\"], [1, \"#276419\"]], \"sequential\": [[0.0, \"#0d0887\"], [0.1111111111111111, \"#46039f\"], [0.2222222222222222, \"#7201a8\"], [0.3333333333333333, \"#9c179e\"], [0.4444444444444444, \"#bd3786\"], [0.5555555555555556, \"#d8576b\"], [0.6666666666666666, \"#ed7953\"], [0.7777777777777778, \"#fb9f3a\"], [0.8888888888888888, \"#fdca26\"], [1.0, \"#f0f921\"]], \"sequentialminus\": [[0.0, \"#0d0887\"], [0.1111111111111111, \"#46039f\"], [0.2222222222222222, \"#7201a8\"], [0.3333333333333333, \"#9c179e\"], [0.4444444444444444, \"#bd3786\"], [0.5555555555555556, \"#d8576b\"], [0.6666666666666666, \"#ed7953\"], [0.7777777777777778, \"#fb9f3a\"], [0.8888888888888888, \"#fdca26\"], [1.0, \"#f0f921\"]]}, \"colorway\": [\"#636efa\", \"#EF553B\", \"#00cc96\", \"#ab63fa\", \"#FFA15A\", \"#19d3f3\", \"#FF6692\", \"#B6E880\", \"#FF97FF\", \"#FECB52\"], \"font\": {\"color\": \"#f2f5fa\"}, \"geo\": {\"bgcolor\": \"rgb(17,17,17)\", \"lakecolor\": \"rgb(17,17,17)\", \"landcolor\": \"rgb(17,17,17)\", \"showlakes\": true, \"showland\": true, \"subunitcolor\": \"#506784\"}, \"hoverlabel\": {\"align\": \"left\"}, \"hovermode\": \"closest\", \"mapbox\": {\"style\": \"dark\"}, \"paper_bgcolor\": \"rgb(17,17,17)\", \"plot_bgcolor\": \"rgb(17,17,17)\", \"polar\": {\"angularaxis\": {\"gridcolor\": \"#506784\", \"linecolor\": \"#506784\", \"ticks\": \"\"}, \"bgcolor\": \"rgb(17,17,17)\", \"radialaxis\": {\"gridcolor\": \"#506784\", \"linecolor\": \"#506784\", \"ticks\": \"\"}}, \"scene\": {\"xaxis\": {\"backgroundcolor\": \"rgb(17,17,17)\", \"gridcolor\": \"#506784\", \"gridwidth\": 2, \"linecolor\": \"#506784\", \"showbackground\": true, \"ticks\": \"\", \"zerolinecolor\": \"#C8D4E3\"}, \"yaxis\": {\"backgroundcolor\": \"rgb(17,17,17)\", \"gridcolor\": \"#506784\", \"gridwidth\": 2, \"linecolor\": \"#506784\", \"showbackground\": true, \"ticks\": \"\", \"zerolinecolor\": \"#C8D4E3\"}, \"zaxis\": {\"backgroundcolor\": \"rgb(17,17,17)\", \"gridcolor\": \"#506784\", \"gridwidth\": 2, \"linecolor\": \"#506784\", \"showbackground\": true, \"ticks\": \"\", \"zerolinecolor\": \"#C8D4E3\"}}, \"shapedefaults\": {\"line\": {\"color\": \"#f2f5fa\"}}, \"sliderdefaults\": {\"bgcolor\": \"#C8D4E3\", \"bordercolor\": \"rgb(17,17,17)\", \"borderwidth\": 1, \"tickwidth\": 0}, \"ternary\": {\"aaxis\": {\"gridcolor\": \"#506784\", \"linecolor\": \"#506784\", \"ticks\": \"\"}, \"baxis\": {\"gridcolor\": \"#506784\", \"linecolor\": \"#506784\", \"ticks\": \"\"}, \"bgcolor\": \"rgb(17,17,17)\", \"caxis\": {\"gridcolor\": \"#506784\", \"linecolor\": \"#506784\", \"ticks\": \"\"}}, \"title\": {\"x\": 0.05}, \"updatemenudefaults\": {\"bgcolor\": \"#506784\", \"borderwidth\": 0}, \"xaxis\": {\"automargin\": true, \"gridcolor\": \"#283442\", \"linecolor\": \"#506784\", \"ticks\": \"\", \"title\": {\"standoff\": 15}, \"zerolinecolor\": \"#283442\", \"zerolinewidth\": 2}, \"yaxis\": {\"automargin\": true, \"gridcolor\": \"#283442\", \"linecolor\": \"#506784\", \"ticks\": \"\", \"title\": {\"standoff\": 15}, \"zerolinecolor\": \"#283442\", \"zerolinewidth\": 2}}}, \"title\": {\"text\": \"Distribusi Umur vs Kematian\"}, \"xaxis\": {\"anchor\": \"y\", \"domain\": [0.0, 1.0], \"title\": {\"text\": \"AGE\"}}, \"xaxis2\": {\"anchor\": \"y2\", \"domain\": [0.0, 1.0], \"matches\": \"x\", \"showgrid\": true, \"showticklabels\": false}, \"yaxis\": {\"anchor\": \"x\", \"domain\": [0.0, 0.7326], \"title\": {\"text\": \"count\"}}, \"yaxis2\": {\"anchor\": \"x2\", \"domain\": [0.7426, 1.0], \"matches\": \"y2\", \"showgrid\": false, \"showline\": false, \"showticklabels\": false, \"ticks\": \"\"}},\n",
              "                        {\"responsive\": true}\n",
              "                    ).then(function(){\n",
              "                            \n",
              "var gd = document.getElementById('4d1088d1-99ac-433f-a28a-ae7e755ae9f8');\n",
              "var x = new MutationObserver(function (mutations, observer) {{\n",
              "        var display = window.getComputedStyle(gd).display;\n",
              "        if (!display || display === 'none') {{\n",
              "            console.log([gd, 'removed!']);\n",
              "            Plotly.purge(gd);\n",
              "            observer.disconnect();\n",
              "        }}\n",
              "}});\n",
              "\n",
              "// Listen for the removal of the full notebook cells\n",
              "var notebookContainer = gd.closest('#notebook-container');\n",
              "if (notebookContainer) {{\n",
              "    x.observe(notebookContainer, {childList: true});\n",
              "}}\n",
              "\n",
              "// Listen for the clearing of the current output cell\n",
              "var outputEl = gd.closest('.output');\n",
              "if (outputEl) {{\n",
              "    x.observe(outputEl, {childList: true});\n",
              "}}\n",
              "\n",
              "                        })\n",
              "                };\n",
              "                \n",
              "            </script>\n",
              "        </div>\n",
              "</body>\n",
              "</html>"
            ]
          },
          "metadata": {}
        }
      ]
    },
    {
      "cell_type": "markdown",
      "metadata": {
        "id": "l6yhwf1ykpA1"
      },
      "source": [
        "# Visualisasi Distribusi Enzim CPK"
      ]
    },
    {
      "cell_type": "code",
      "metadata": {
        "id": "dCHW9ON68BlW",
        "colab": {
          "base_uri": "https://localhost:8080/",
          "height": 542
        },
        "outputId": "11dabad6-3ea1-4c00-8590-0cc11cad8ef8"
      },
      "source": [
        "import plotly.graph_objects as go\n",
        "\n",
        "fig = go.Figure()\n",
        "fig.add_trace(go.Histogram(\n",
        "    x = df['creatinine_phosphokinase'],\n",
        "    xbins=dict( # bin yang digunakan untuk histogram\n",
        "        start=23,\n",
        "        end=582,\n",
        "        size=15\n",
        "    ),\n",
        "    marker_color='#FE6F5E',\n",
        "    opacity=1\n",
        "))\n",
        "\n",
        "fig.update_layout(\n",
        "    title_text='HISTOGRAM DISTRIBUSI ENZIM CREATININE PHOSPHOKINASE',\n",
        "    xaxis_title_text='KADAR CREATININE PHOSPHOKINASE',\n",
        "    yaxis_title_text='JUMLAH', \n",
        "    bargap=0.05, # jarak antara tiap batang yang berdekatan\n",
        "    xaxis =  {'showgrid': False },\n",
        "    yaxis = {'showgrid': False },\n",
        "    template = 'plotly_dark'\n",
        ")\n",
        "\n",
        "fig.show()"
      ],
      "execution_count": null,
      "outputs": [
        {
          "output_type": "display_data",
          "data": {
            "text/html": [
              "<html>\n",
              "<head><meta charset=\"utf-8\" /></head>\n",
              "<body>\n",
              "    <div>\n",
              "            <script src=\"https://cdnjs.cloudflare.com/ajax/libs/mathjax/2.7.5/MathJax.js?config=TeX-AMS-MML_SVG\"></script><script type=\"text/javascript\">if (window.MathJax) {MathJax.Hub.Config({SVG: {font: \"STIX-Web\"}});}</script>\n",
              "                <script type=\"text/javascript\">window.PlotlyConfig = {MathJaxConfig: 'local'};</script>\n",
              "        <script src=\"https://cdn.plot.ly/plotly-latest.min.js\"></script>    \n",
              "            <div id=\"819b79d8-a2ac-465c-a4e5-222ce6918d6c\" class=\"plotly-graph-div\" style=\"height:525px; width:100%;\"></div>\n",
              "            <script type=\"text/javascript\">\n",
              "                \n",
              "                    window.PLOTLYENV=window.PLOTLYENV || {};\n",
              "                    \n",
              "                if (document.getElementById(\"819b79d8-a2ac-465c-a4e5-222ce6918d6c\")) {\n",
              "                    Plotly.newPlot(\n",
              "                        '819b79d8-a2ac-465c-a4e5-222ce6918d6c',\n",
              "                        [{\"marker\": {\"color\": \"#FE6F5E\"}, \"opacity\": 1, \"type\": \"histogram\", \"x\": [4.025637862396358, 4.812378887350636, 3.4570548997227055, 3.3289576162017305, 2.88963710097958, 3.6861811576371863, 3.7883813412996696, 3.4900911822976983, 3.377582487715956, 3.1747232377525965, 3.659535746118753, 4.210187576125048, 3.520551991416286, 3.1684846465272583, 3.8622864787279982, 3.466343381811516, 4.025637862396358, 3.385151629770763, 4.025637862396358, 2.9444457368957844, 3.396246496923772, 3.638690114731251, 3.0461163167914935, 4.025637862396358, 3.4632714480164832, 3.3332371685703257, 3.373744327318973, 3.0205551670471475, 3.1006514096420683, 4.025637862396358, 2.4763653125100604, 3.6912846636505745, 3.495809779393574, 3.248535125258288, 4.025637862396358, 3.0205551670471475, 4.163052214542158, 3.666832817196654, 4.025637862396358, 3.381384714478249, 4.018602474797208, 3.392581936914349, 4.02941080896221, 4.025637862396358, 4.322895951444924, 4.025637862396358, 4.00674486574818, 3.3998780827461768, 4.022459200450082, 3.232597233459061, 3.093256796369123, 3.7094065786329438, 3.8538711380859096, 3.1358769110652616, 4.041070866936736, 4.13503279172315, 3.8463336502851693, 4.80737128232443, 3.792221109090949, 3.3202631072599207, 4.025637862396358, 4.025637862396358, 3.085737141873115, 3.6929700423747898, 3.3246332237381946, 3.5014457535638677, 3.3374727399760893, 3.4632714480164832, 4.025637862396358, 4.739780005327763, 3.6464071306534116, 4.025637862396358, 2.88963710097958, 3.237976574459835, 3.288312103752678, 3.6039796064457867, 3.814412795329531, 3.093256796369123, 4.025637862396358, 3.1425959544652553, 2.974481274913581, 3.7401887318797953, 3.15573231999406, 2.88963710097958, 3.085737141873115, 3.1929172980713, 3.3458152578917644, 3.070306516971223, 4.179610208504033, 4.025637862396358, 3.481353339936911, 3.4507390373886433, 3.41408546547616, 3.97944668281799, 3.011704497231516, 3.487200189017973, 3.029236795715439, 3.7752698180618083, 4.025637862396358, 4.179993449101688, 4.708366991133288, 2.9546755841073375, 3.8047239412929845, 4.116224395293592, 4.419273824459844, 4.19420143685751, 3.7574612368095015, 3.3998780827461768, 3.0205551670471475, 3.8517344703285468, 3.4475429312903905, 4.119050365491325, 3.8834335167541476, 3.2588369087377838, 3.3374727399760893, 4.025637862396358, 4.110974683941758, 3.085737141873115, 3.2588369087377838, 4.025637862396358, 4.025637862396358, 3.839738229790088, 3.520551991416286, 3.597505374097021, 3.6895914357173876, 3.725127479140868, 4.407929551232915, 4.243171772908823, 4.102185625459166, 3.5819515336464267, 4.67210023885116, 4.025637862396358, 3.011704497231516, 4.063734384423375, 3.741660542510888, 4.3594988631991995, 4.142068064058192, 3.756053491288467, 3.955193819076111, 3.1929172980713, 4.196745876639239, 3.5633560873152086, 3.4105804180928208, 4.371860515187577, 4.025637862396358, 4.475633221295353, 3.663202398564424, 2.6354550436836317, 3.3458152578917644, 4.414328634859375, 3.8132163652538806, 3.659535746118753, 3.0026785447767916, 3.6929700423747898, 4.184554183587198, 3.3998780827461768, 3.115080630234826, 3.4034772432751206, 4.025637862396358, 4.498407845328968, 4.129193985270717, 3.588696108461663, 4.025637862396358, 4.154833323382541, 4.025637862396358, 4.635666967716511, 3.5284603424816834, 3.3458152578917644, 3.593126478863179, 3.2537173825296515, 4.331836208267133, 3.093256796369123, 3.373744327318973, 4.154833323382541, 3.9520316349307, 3.54129068801935, 3.8785169656495833, 3.2738328867537296, 3.4539095672149585, 3.297693868635824, 4.025637862396358, 4.422520060619963, 3.4724163071733463, 3.682738650104513, 4.025637862396358, 3.0377553047191284, 3.36986959494581, 3.659535746118753, 4.025637862396358, 3.900561772817684, 4.025637862396358, 3.5178795011840127, 4.025637862396358, 4.280462728555355, 3.7792548970055115, 3.263895104933416, 3.011704497231516, 3.054325175451314, 3.5178795011840127, 3.2835410635260756, 3.622757261581563, 4.478251649433291, 4.207059123978379, 3.622757261581563, 4.025637862396358, 3.6464071306534116, 3.4070445141334997, 3.4210049718746154, 4.025637862396358, 4.278013349594755, 4.22370096666247, 4.025637862396358, 4.025637862396358, 3.3580193280085133, 3.204633956099047, 4.025637862396358, 4.025637862396358, 4.0795839939451755, 2.9934707250131223, 4.537575083516385, 2.9840740848055227, 3.6207168343918568, 3.5151884318144755, 3.243288688526272, 3.3998780827461768, 4.096183607465114, 4.025637862396358, 3.3202631072599207, 3.362007776647375, 3.6613736436395707, 4.102680555108649, 3.5512550085839614, 3.1747232377525965, 4.025637862396358, 3.2271490618197807, 4.2733283192721965, 4.025637862396358, 3.1684846465272583, 4.44135063034038, 3.4475429312903905, 4.051151121287894, 3.6124417726828515, 4.507859402491384, 4.01924850956512, 3.6844639679902556, 3.2160395260494328, 3.9255773899748867, 3.577387407026194, 3.802258965792817, 3.4105804180928208, 3.070306516971223, 2.9840740848055227, 3.070306516971223, 4.068739914586581, 3.706178433909776, 3.4900911822976983, 4.025637862396358, 3.7657922251608413, 4.27719217124118, 3.4210049718746154, 4.025637862396358, 4.025637862396358, 4.025637862396358, 4.025637862396358, 3.6247865837393984, 3.054325175451314, 3.70455348599729, 4.025637862396358, 4.047630059569936, 4.025637862396358, 4.233440160285953, 3.1929172980713, 4.52716279796163, 3.054325175451314, 4.386652127771893, 2.964684519731618, 3.5258421809283442, 3.6979797547229696, 4.025637862396358, 4.177686562251363, 3.815605112789745, 4.045854665516563, 3.7947577450252012, 3.575084560951318, 3.2930293319142407, 3.029236795715439, 4.409966996257951, 4.494892832728779, 3.588696108461663], \"xbins\": {\"end\": 582, \"size\": 15, \"start\": 23}}],\n",
              "                        {\"bargap\": 0.05, \"template\": {\"data\": {\"bar\": [{\"error_x\": {\"color\": \"#f2f5fa\"}, \"error_y\": {\"color\": \"#f2f5fa\"}, \"marker\": {\"line\": {\"color\": \"rgb(17,17,17)\", \"width\": 0.5}}, \"type\": \"bar\"}], \"barpolar\": [{\"marker\": {\"line\": {\"color\": \"rgb(17,17,17)\", \"width\": 0.5}}, \"type\": \"barpolar\"}], \"carpet\": [{\"aaxis\": {\"endlinecolor\": \"#A2B1C6\", \"gridcolor\": \"#506784\", \"linecolor\": \"#506784\", \"minorgridcolor\": \"#506784\", \"startlinecolor\": \"#A2B1C6\"}, \"baxis\": {\"endlinecolor\": \"#A2B1C6\", \"gridcolor\": \"#506784\", \"linecolor\": \"#506784\", \"minorgridcolor\": \"#506784\", \"startlinecolor\": \"#A2B1C6\"}, \"type\": \"carpet\"}], \"choropleth\": [{\"colorbar\": {\"outlinewidth\": 0, \"ticks\": \"\"}, \"type\": \"choropleth\"}], \"contour\": [{\"colorbar\": {\"outlinewidth\": 0, \"ticks\": \"\"}, \"colorscale\": [[0.0, \"#0d0887\"], [0.1111111111111111, \"#46039f\"], [0.2222222222222222, \"#7201a8\"], [0.3333333333333333, \"#9c179e\"], [0.4444444444444444, \"#bd3786\"], [0.5555555555555556, \"#d8576b\"], [0.6666666666666666, \"#ed7953\"], [0.7777777777777778, \"#fb9f3a\"], [0.8888888888888888, \"#fdca26\"], [1.0, \"#f0f921\"]], \"type\": \"contour\"}], \"contourcarpet\": [{\"colorbar\": {\"outlinewidth\": 0, \"ticks\": \"\"}, \"type\": \"contourcarpet\"}], \"heatmap\": [{\"colorbar\": {\"outlinewidth\": 0, \"ticks\": \"\"}, \"colorscale\": [[0.0, \"#0d0887\"], [0.1111111111111111, \"#46039f\"], [0.2222222222222222, \"#7201a8\"], [0.3333333333333333, \"#9c179e\"], [0.4444444444444444, \"#bd3786\"], [0.5555555555555556, \"#d8576b\"], [0.6666666666666666, \"#ed7953\"], [0.7777777777777778, \"#fb9f3a\"], [0.8888888888888888, \"#fdca26\"], [1.0, \"#f0f921\"]], \"type\": \"heatmap\"}], \"heatmapgl\": [{\"colorbar\": {\"outlinewidth\": 0, \"ticks\": \"\"}, \"colorscale\": [[0.0, \"#0d0887\"], [0.1111111111111111, \"#46039f\"], [0.2222222222222222, \"#7201a8\"], [0.3333333333333333, \"#9c179e\"], [0.4444444444444444, \"#bd3786\"], [0.5555555555555556, \"#d8576b\"], [0.6666666666666666, \"#ed7953\"], [0.7777777777777778, \"#fb9f3a\"], [0.8888888888888888, \"#fdca26\"], [1.0, \"#f0f921\"]], \"type\": \"heatmapgl\"}], \"histogram\": [{\"marker\": {\"colorbar\": {\"outlinewidth\": 0, \"ticks\": \"\"}}, \"type\": \"histogram\"}], \"histogram2d\": [{\"colorbar\": {\"outlinewidth\": 0, \"ticks\": \"\"}, \"colorscale\": [[0.0, \"#0d0887\"], [0.1111111111111111, \"#46039f\"], [0.2222222222222222, \"#7201a8\"], [0.3333333333333333, \"#9c179e\"], [0.4444444444444444, \"#bd3786\"], [0.5555555555555556, \"#d8576b\"], [0.6666666666666666, \"#ed7953\"], [0.7777777777777778, \"#fb9f3a\"], [0.8888888888888888, \"#fdca26\"], [1.0, \"#f0f921\"]], \"type\": \"histogram2d\"}], \"histogram2dcontour\": [{\"colorbar\": {\"outlinewidth\": 0, \"ticks\": \"\"}, \"colorscale\": [[0.0, \"#0d0887\"], [0.1111111111111111, \"#46039f\"], [0.2222222222222222, \"#7201a8\"], [0.3333333333333333, \"#9c179e\"], [0.4444444444444444, \"#bd3786\"], [0.5555555555555556, \"#d8576b\"], [0.6666666666666666, \"#ed7953\"], [0.7777777777777778, \"#fb9f3a\"], [0.8888888888888888, \"#fdca26\"], [1.0, \"#f0f921\"]], \"type\": \"histogram2dcontour\"}], \"mesh3d\": [{\"colorbar\": {\"outlinewidth\": 0, \"ticks\": \"\"}, \"type\": \"mesh3d\"}], \"parcoords\": [{\"line\": {\"colorbar\": {\"outlinewidth\": 0, \"ticks\": \"\"}}, \"type\": \"parcoords\"}], \"pie\": [{\"automargin\": true, \"type\": \"pie\"}], \"scatter\": [{\"marker\": {\"line\": {\"color\": \"#283442\"}}, \"type\": \"scatter\"}], \"scatter3d\": [{\"line\": {\"colorbar\": {\"outlinewidth\": 0, \"ticks\": \"\"}}, \"marker\": {\"colorbar\": {\"outlinewidth\": 0, \"ticks\": \"\"}}, \"type\": \"scatter3d\"}], \"scattercarpet\": [{\"marker\": {\"colorbar\": {\"outlinewidth\": 0, \"ticks\": \"\"}}, \"type\": \"scattercarpet\"}], \"scattergeo\": [{\"marker\": {\"colorbar\": {\"outlinewidth\": 0, \"ticks\": \"\"}}, \"type\": \"scattergeo\"}], \"scattergl\": [{\"marker\": {\"line\": {\"color\": \"#283442\"}}, \"type\": \"scattergl\"}], \"scattermapbox\": [{\"marker\": {\"colorbar\": {\"outlinewidth\": 0, \"ticks\": \"\"}}, \"type\": \"scattermapbox\"}], \"scatterpolar\": [{\"marker\": {\"colorbar\": {\"outlinewidth\": 0, \"ticks\": \"\"}}, \"type\": \"scatterpolar\"}], \"scatterpolargl\": [{\"marker\": {\"colorbar\": {\"outlinewidth\": 0, \"ticks\": \"\"}}, \"type\": \"scatterpolargl\"}], \"scatterternary\": [{\"marker\": {\"colorbar\": {\"outlinewidth\": 0, \"ticks\": \"\"}}, \"type\": \"scatterternary\"}], \"surface\": [{\"colorbar\": {\"outlinewidth\": 0, \"ticks\": \"\"}, \"colorscale\": [[0.0, \"#0d0887\"], [0.1111111111111111, \"#46039f\"], [0.2222222222222222, \"#7201a8\"], [0.3333333333333333, \"#9c179e\"], [0.4444444444444444, \"#bd3786\"], [0.5555555555555556, \"#d8576b\"], [0.6666666666666666, \"#ed7953\"], [0.7777777777777778, \"#fb9f3a\"], [0.8888888888888888, \"#fdca26\"], [1.0, \"#f0f921\"]], \"type\": \"surface\"}], \"table\": [{\"cells\": {\"fill\": {\"color\": \"#506784\"}, \"line\": {\"color\": \"rgb(17,17,17)\"}}, \"header\": {\"fill\": {\"color\": \"#2a3f5f\"}, \"line\": {\"color\": \"rgb(17,17,17)\"}}, \"type\": \"table\"}]}, \"layout\": {\"annotationdefaults\": {\"arrowcolor\": \"#f2f5fa\", \"arrowhead\": 0, \"arrowwidth\": 1}, \"coloraxis\": {\"colorbar\": {\"outlinewidth\": 0, \"ticks\": \"\"}}, \"colorscale\": {\"diverging\": [[0, \"#8e0152\"], [0.1, \"#c51b7d\"], [0.2, \"#de77ae\"], [0.3, \"#f1b6da\"], [0.4, \"#fde0ef\"], [0.5, \"#f7f7f7\"], [0.6, \"#e6f5d0\"], [0.7, \"#b8e186\"], [0.8, \"#7fbc41\"], [0.9, \"#4d9221\"], [1, \"#276419\"]], \"sequential\": [[0.0, \"#0d0887\"], [0.1111111111111111, \"#46039f\"], [0.2222222222222222, \"#7201a8\"], [0.3333333333333333, \"#9c179e\"], [0.4444444444444444, \"#bd3786\"], [0.5555555555555556, \"#d8576b\"], [0.6666666666666666, \"#ed7953\"], [0.7777777777777778, \"#fb9f3a\"], [0.8888888888888888, \"#fdca26\"], [1.0, \"#f0f921\"]], \"sequentialminus\": [[0.0, \"#0d0887\"], [0.1111111111111111, \"#46039f\"], [0.2222222222222222, \"#7201a8\"], [0.3333333333333333, \"#9c179e\"], [0.4444444444444444, \"#bd3786\"], [0.5555555555555556, \"#d8576b\"], [0.6666666666666666, \"#ed7953\"], [0.7777777777777778, \"#fb9f3a\"], [0.8888888888888888, \"#fdca26\"], [1.0, \"#f0f921\"]]}, \"colorway\": [\"#636efa\", \"#EF553B\", \"#00cc96\", \"#ab63fa\", \"#FFA15A\", \"#19d3f3\", \"#FF6692\", \"#B6E880\", \"#FF97FF\", \"#FECB52\"], \"font\": {\"color\": \"#f2f5fa\"}, \"geo\": {\"bgcolor\": \"rgb(17,17,17)\", \"lakecolor\": \"rgb(17,17,17)\", \"landcolor\": \"rgb(17,17,17)\", \"showlakes\": true, \"showland\": true, \"subunitcolor\": \"#506784\"}, \"hoverlabel\": {\"align\": \"left\"}, \"hovermode\": \"closest\", \"mapbox\": {\"style\": \"dark\"}, \"paper_bgcolor\": \"rgb(17,17,17)\", \"plot_bgcolor\": \"rgb(17,17,17)\", \"polar\": {\"angularaxis\": {\"gridcolor\": \"#506784\", \"linecolor\": \"#506784\", \"ticks\": \"\"}, \"bgcolor\": \"rgb(17,17,17)\", \"radialaxis\": {\"gridcolor\": \"#506784\", \"linecolor\": \"#506784\", \"ticks\": \"\"}}, \"scene\": {\"xaxis\": {\"backgroundcolor\": \"rgb(17,17,17)\", \"gridcolor\": \"#506784\", \"gridwidth\": 2, \"linecolor\": \"#506784\", \"showbackground\": true, \"ticks\": \"\", \"zerolinecolor\": \"#C8D4E3\"}, \"yaxis\": {\"backgroundcolor\": \"rgb(17,17,17)\", \"gridcolor\": \"#506784\", \"gridwidth\": 2, \"linecolor\": \"#506784\", \"showbackground\": true, \"ticks\": \"\", \"zerolinecolor\": \"#C8D4E3\"}, \"zaxis\": {\"backgroundcolor\": \"rgb(17,17,17)\", \"gridcolor\": \"#506784\", \"gridwidth\": 2, \"linecolor\": \"#506784\", \"showbackground\": true, \"ticks\": \"\", \"zerolinecolor\": \"#C8D4E3\"}}, \"shapedefaults\": {\"line\": {\"color\": \"#f2f5fa\"}}, \"sliderdefaults\": {\"bgcolor\": \"#C8D4E3\", \"bordercolor\": \"rgb(17,17,17)\", \"borderwidth\": 1, \"tickwidth\": 0}, \"ternary\": {\"aaxis\": {\"gridcolor\": \"#506784\", \"linecolor\": \"#506784\", \"ticks\": \"\"}, \"baxis\": {\"gridcolor\": \"#506784\", \"linecolor\": \"#506784\", \"ticks\": \"\"}, \"bgcolor\": \"rgb(17,17,17)\", \"caxis\": {\"gridcolor\": \"#506784\", \"linecolor\": \"#506784\", \"ticks\": \"\"}}, \"title\": {\"x\": 0.05}, \"updatemenudefaults\": {\"bgcolor\": \"#506784\", \"borderwidth\": 0}, \"xaxis\": {\"automargin\": true, \"gridcolor\": \"#283442\", \"linecolor\": \"#506784\", \"ticks\": \"\", \"title\": {\"standoff\": 15}, \"zerolinecolor\": \"#283442\", \"zerolinewidth\": 2}, \"yaxis\": {\"automargin\": true, \"gridcolor\": \"#283442\", \"linecolor\": \"#506784\", \"ticks\": \"\", \"title\": {\"standoff\": 15}, \"zerolinecolor\": \"#283442\", \"zerolinewidth\": 2}}}, \"title\": {\"text\": \"HISTOGRAM DISTRIBUSI ENZIM CREATININE PHOSPHOKINASE\"}, \"xaxis\": {\"showgrid\": false, \"title\": {\"text\": \"KADAR CREATININE PHOSPHOKINASE\"}}, \"yaxis\": {\"showgrid\": false, \"title\": {\"text\": \"JUMLAH\"}}},\n",
              "                        {\"responsive\": true}\n",
              "                    ).then(function(){\n",
              "                            \n",
              "var gd = document.getElementById('819b79d8-a2ac-465c-a4e5-222ce6918d6c');\n",
              "var x = new MutationObserver(function (mutations, observer) {{\n",
              "        var display = window.getComputedStyle(gd).display;\n",
              "        if (!display || display === 'none') {{\n",
              "            console.log([gd, 'removed!']);\n",
              "            Plotly.purge(gd);\n",
              "            observer.disconnect();\n",
              "        }}\n",
              "}});\n",
              "\n",
              "// Listen for the removal of the full notebook cells\n",
              "var notebookContainer = gd.closest('#notebook-container');\n",
              "if (notebookContainer) {{\n",
              "    x.observe(notebookContainer, {childList: true});\n",
              "}}\n",
              "\n",
              "// Listen for the clearing of the current output cell\n",
              "var outputEl = gd.closest('.output');\n",
              "if (outputEl) {{\n",
              "    x.observe(outputEl, {childList: true});\n",
              "}}\n",
              "\n",
              "                        })\n",
              "                };\n",
              "                \n",
              "            </script>\n",
              "        </div>\n",
              "</body>\n",
              "</html>"
            ]
          },
          "metadata": {}
        }
      ]
    },
    {
      "cell_type": "code",
      "metadata": {
        "id": "jy7_lEqy-q2H",
        "colab": {
          "base_uri": "https://localhost:8080/",
          "height": 542
        },
        "outputId": "cf331796-b1ec-48d7-b093-8b0d9f397893"
      },
      "source": [
        "import plotly.express as px\n",
        "fig = px.histogram(df, x=\"creatinine_phosphokinase\", color=\"DEATH_EVENT\", marginal=\"violin\", hover_data=df.columns,\n",
        "                   title =\"DISTRIBUSI ENZIM CPK vs KEMATIAN\", \n",
        "                   labels={\"creatinine_phosphokinase\": \"KADAR CREATININE PHOSPHOKINASE\"},\n",
        "                   template=\"plotly_dark\",\n",
        "                   color_discrete_map={\"0\": \"RebeccaPurple\", \"1\": \"MediumPurple\"})\n",
        "fig.show()"
      ],
      "execution_count": null,
      "outputs": [
        {
          "output_type": "display_data",
          "data": {
            "text/html": [
              "<html>\n",
              "<head><meta charset=\"utf-8\" /></head>\n",
              "<body>\n",
              "    <div>\n",
              "            <script src=\"https://cdnjs.cloudflare.com/ajax/libs/mathjax/2.7.5/MathJax.js?config=TeX-AMS-MML_SVG\"></script><script type=\"text/javascript\">if (window.MathJax) {MathJax.Hub.Config({SVG: {font: \"STIX-Web\"}});}</script>\n",
              "                <script type=\"text/javascript\">window.PlotlyConfig = {MathJaxConfig: 'local'};</script>\n",
              "        <script src=\"https://cdn.plot.ly/plotly-latest.min.js\"></script>    \n",
              "            <div id=\"f7797dac-1662-436d-8e56-7fc3c111fd7e\" class=\"plotly-graph-div\" style=\"height:525px; width:100%;\"></div>\n",
              "            <script type=\"text/javascript\">\n",
              "                \n",
              "                    window.PLOTLYENV=window.PLOTLYENV || {};\n",
              "                    \n",
              "                if (document.getElementById(\"f7797dac-1662-436d-8e56-7fc3c111fd7e\")) {\n",
              "                    Plotly.newPlot(\n",
              "                        'f7797dac-1662-436d-8e56-7fc3c111fd7e',\n",
              "                        [{\"alignmentgroup\": \"True\", \"bingroup\": \"x\", \"hoverlabel\": {\"namelength\": 0}, \"hovertemplate\": \"DEATH_EVENT=1<br>KADAR CREATININE PHOSPHOKINASE=%{x}<br>count=%{y}\", \"legendgroup\": \"DEATH_EVENT=1\", \"marker\": {\"color\": \"#00cc96\"}, \"name\": \"DEATH_EVENT=1\", \"offsetgroup\": \"DEATH_EVENT=1\", \"orientation\": \"v\", \"showlegend\": true, \"type\": \"histogram\", \"x\": [4.025637862396358, 4.812378887350636, 3.4570548997227055, 3.3289576162017305, 2.88963710097958, 3.6861811576371863, 3.7883813412996696, 3.4900911822976983, 3.377582487715956, 3.1747232377525965, 3.659535746118753, 4.210187576125048, 3.520551991416286, 3.8622864787279982, 3.466343381811516, 4.025637862396358, 3.385151629770763, 4.025637862396358, 3.396246496923772, 3.638690114731251, 4.025637862396358, 3.4632714480164832, 3.3332371685703257, 3.373744327318973, 3.0205551670471475, 3.1006514096420683, 4.025637862396358, 2.4763653125100604, 3.6912846636505745, 3.248535125258288, 4.025637862396358, 3.0205551670471475, 4.163052214542158, 3.666832817196654, 4.025637862396358, 3.381384714478249, 4.018602474797208, 4.02941080896221, 4.025637862396358, 4.322895951444924, 4.025637862396358, 4.00674486574818, 3.3998780827461768, 4.022459200450082, 3.232597233459061, 3.093256796369123, 3.7094065786329438, 3.8538711380859096, 4.13503279172315, 3.8463336502851693, 4.80737128232443, 3.792221109090949, 4.025637862396358, 3.085737141873115, 3.6929700423747898, 3.3246332237381946, 3.5014457535638677, 3.3374727399760893, 4.739780005327763, 4.025637862396358, 2.88963710097958, 3.1425959544652553, 3.7401887318797953, 3.481353339936911, 3.8047239412929845, 3.3998780827461768, 3.4475429312903905, 4.025637862396358, 4.025637862396358, 3.520551991416286, 4.142068064058192, 4.196745876639239, 4.025637862396358, 3.663202398564424, 4.498407845328968, 4.129193985270717, 3.54129068801935, 3.8785169656495833, 3.2738328867537296, 3.4539095672149585, 3.297693868635824, 4.025637862396358, 4.422520060619963, 4.025637862396358, 3.900561772817684, 3.4070445141334997, 4.025637862396358, 3.5151884318144755, 4.44135063034038, 3.706178433909776, 4.27719217124118], \"xaxis\": \"x\", \"yaxis\": \"y\"}, {\"alignmentgroup\": \"True\", \"customdata\": [[75.0, 0.0, 4.025637862396358, 0.0, 5.073540247790502, 1.0, 776.4424769965113, 0.4789426376835807, 130.0, 1.0, 0.0, 4.0, 1.0], [55.0, 0.0, 4.812378887350636, 0.0, 6.966172261451928, 0.0, 774.1559554351417, 0.09107302012510697, 136.0, 1.0, 0.0, 6.0, 1.0], [65.0, 0.0, 3.4570548997227055, 0.0, 5.073540247790502, 0.0, 614.6943008960727, 0.2318846842881995, 129.0, 1.0, 1.0, 7.0, 1.0], [50.0, 1.0, 3.3289576162017305, 0.0, 5.073540247790502, 0.0, 695.2879768764706, 0.4789426376835807, 137.0, 1.0, 0.0, 7.0, 1.0], [90.0, 1.0, 2.88963710097958, 0.0, 7.135176462792489, 1.0, 685.786861883189, 0.5304160641785284, 132.0, 1.0, 1.0, 8.0, 1.0], [75.0, 1.0, 3.6861811576371863, 0.0, 4.345403961411269, 0.0, 547.5868579262194, 0.16723372590987146, 137.0, 1.0, 0.0, 10.0, 1.0], [60.0, 1.0, 3.7883813412996696, 1.0, 8.575247780217278, 0.0, 1002.343886077364, 0.09107302012510697, 131.0, 1.0, 1.0, 10.0, 1.0], [65.0, 0.0, 3.4900911822976983, 0.0, 8.882691017043939, 0.0, 774.1559554351417, 0.33576579935320783, 138.0, 0.0, 0.0, 10.0, 1.0], [80.0, 1.0, 3.377582487715956, 0.0, 6.701029399874939, 1.0, 930.3826429977106, 0.9193638018485613, 133.0, 1.0, 1.0, 10.0, 1.0], [75.0, 1.0, 3.1747232377525965, 0.0, 6.966172261451928, 1.0, 907.3196585819123, 0.7657365262751427, 131.0, 1.0, 1.0, 10.0, 1.0], [62.0, 0.0, 3.659535746118753, 0.0, 5.687197660638561, 1.0, 759.5555109746059, -0.11088268777686425, 140.0, 1.0, 1.0, 10.0, 1.0], [45.0, 1.0, 4.210187576125048, 0.0, 6.222755101703694, 0.0, 565.6886894407847, 0.09107302012510697, 137.0, 1.0, 0.0, 11.0, 1.0], [50.0, 1.0, 3.520551991416286, 0.0, 6.966172261451928, 1.0, 791.5717032413037, 0.09107302012510697, 137.0, 1.0, 0.0, 11.0, 1.0], [82.0, 1.0, 3.8622864787279982, 0.0, 7.904145325280192, 0.0, 341.31609674189446, 0.2318846842881995, 136.0, 1.0, 0.0, 13.0, 1.0], [87.0, 1.0, 3.466343381811516, 0.0, 6.966172261451928, 0.0, 772.2591534855301, -0.11088268777686425, 140.0, 1.0, 0.0, 14.0, 1.0], [45.0, 0.0, 4.025637862396358, 0.0, 4.180684498623985, 0.0, 621.8549428925608, -0.2488922424935961, 127.0, 1.0, 0.0, 14.0, 1.0], [70.0, 1.0, 3.385151629770763, 0.0, 5.687197660638561, 1.0, 736.3690457956537, 0.0, 140.0, 0.0, 0.0, 15.0, 1.0], [48.0, 1.0, 4.025637862396358, 1.0, 8.250000161791457, 0.0, 457.49141757834116, 0.4789426376835807, 121.0, 0.0, 0.0, 15.0, 1.0], [65.0, 1.0, 3.396246496923772, 1.0, 6.222755101703694, 1.0, 819.597002315633, 0.37813826526469946, 136.0, 0.0, 0.0, 20.0, 1.0], [68.0, 1.0, 3.638690114731251, 0.0, 6.701029399874939, 1.0, 809.047764738165, -0.11088268777686425, 140.0, 1.0, 1.0, 20.0, 1.0], [75.0, 0.0, 4.025637862396358, 1.0, 6.222755101703694, 1.0, 774.1559554351417, 0.4583228867072044, 134.0, 0.0, 0.0, 23.0, 1.0], [80.0, 0.0, 3.4632714480164832, 1.0, 6.966172261451928, 0.0, 590.7553925915604, 0.4789426376835807, 144.0, 1.0, 1.0, 23.0, 1.0], [95.0, 1.0, 3.3332371685703257, 0.0, 7.135176462792489, 1.0, 672.8867116488877, 0.0, 138.0, 0.0, 0.0, 24.0, 1.0], [70.0, 0.0, 3.373744327318973, 1.0, 7.534101647809663, 1.0, 802.3762083043258, 0.2318846842881995, 136.0, 1.0, 1.0, 26.0, 1.0], [58.0, 1.0, 3.0205551670471475, 0.0, 6.966172261451928, 0.0, 598.2344654863812, 0.848115479623464, 134.0, 1.0, 0.0, 26.0, 1.0], [82.0, 0.0, 3.1006514096420683, 1.0, 6.222755101703694, 0.0, 679.3707675299254, 0.16723372590987146, 132.0, 1.0, 1.0, 26.0, 1.0], [94.0, 0.0, 4.025637862396358, 1.0, 6.966172261451928, 1.0, 774.1559554351417, 0.4583228867072044, 134.0, 1.0, 0.0, 27.0, 1.0], [85.0, 0.0, 2.4763653125100604, 0.0, 7.534101647809663, 0.0, 897.9099527727451, 0.6783532998801614, 132.0, 1.0, 0.0, 28.0, 1.0], [50.0, 1.0, 3.6912846636505745, 1.0, 6.701029399874939, 1.0, 847.8584767065978, 0.0, 128.0, 0.0, 0.0, 28.0, 1.0], [65.0, 0.0, 3.248535125258288, 1.0, 7.904145325280192, 1.0, 659.7060852640824, 0.0, 140.0, 1.0, 0.0, 29.0, 1.0], [69.0, 0.0, 4.025637862396358, 1.0, 6.701029399874939, 0.0, 722.9630959443265, 0.7281679148382327, 134.0, 1.0, 0.0, 30.0, 1.0], [90.0, 1.0, 3.0205551670471475, 1.0, 7.904145325280192, 0.0, 719.946331078969, 0.0, 134.0, 1.0, 0.0, 30.0, 1.0], [82.0, 1.0, 4.163052214542158, 1.0, 7.904145325280192, 1.0, 850.3760615547534, 0.0, 145.0, 0.0, 0.0, 30.0, 1.0], [60.0, 0.0, 3.666832817196654, 1.0, 6.966172261451928, 0.0, 860.364677002239, 0.6783532998801614, 142.0, 0.0, 0.0, 30.0, 1.0], [70.0, 0.0, 4.025637862396358, 0.0, 5.073540247790502, 1.0, 774.1559554351417, 0.4583228867072044, 134.0, 1.0, 1.0, 31.0, 1.0], [50.0, 0.0, 3.381384714478249, 1.0, 6.222755101703694, 1.0, 598.2344654863812, 0.16723372590987146, 136.0, 0.0, 1.0, 32.0, 1.0], [70.0, 0.0, 4.018602474797208, 1.0, 7.534101647809663, 1.0, 654.687340199836, 0.16723372590987146, 139.0, 1.0, 1.0, 33.0, 1.0], [60.0, 1.0, 4.02941080896221, 1.0, 8.575247780217278, 0.0, 669.618537028356, 0.09107302012510697, 142.0, 0.0, 0.0, 33.0, 1.0], [50.0, 0.0, 4.025637862396358, 1.0, 6.966172261451928, 0.0, 836.4251045417325, 0.4789426376835807, 135.0, 1.0, 1.0, 35.0, 1.0], [51.0, 0.0, 4.322895951444924, 0.0, 5.687197660638561, 1.0, 784.7349251625859, -0.11088268777686425, 130.0, 1.0, 0.0, 38.0, 1.0], [60.0, 0.0, 4.025637862396358, 1.0, 6.966172261451928, 1.0, 999.1975116441009, -0.6596212892708068, 138.0, 1.0, 1.0, 40.0, 1.0], [80.0, 1.0, 4.00674486574818, 0.0, 5.073540247790502, 1.0, 573.5310365674736, 0.7897497661251607, 133.0, 1.0, 0.0, 41.0, 1.0], [57.0, 1.0, 3.3998780827461768, 0.0, 6.222755101703694, 0.0, 938.3061823271569, 0.0, 140.0, 0.0, 0.0, 42.0, 1.0], [68.0, 1.0, 4.022459200450082, 0.0, 5.687197660638561, 1.0, 621.8549428925608, 0.0, 138.0, 1.0, 0.0, 43.0, 1.0], [53.0, 1.0, 3.232597233459061, 0.0, 5.073540247790502, 1.0, 963.8325583526581, 0.28746421927002, 139.0, 0.0, 0.0, 43.0, 1.0], [70.0, 1.0, 3.093256796369123, 1.0, 7.904145325280192, 1.0, 887.1913877442206, 0.0, 134.0, 0.0, 0.0, 44.0, 1.0], [60.0, 1.0, 3.7094065786329438, 1.0, 6.966172261451928, 0.0, 762.3988578427951, 0.552706432945649, 132.0, 0.0, 1.0, 45.0, 1.0], [95.0, 1.0, 3.8538711380859096, 0.0, 6.222755101703694, 0.0, 1009.6430960033683, 0.5059415072413381, 132.0, 1.0, 0.0, 50.0, 1.0], [49.0, 0.0, 4.13503279172315, 0.0, 5.073540247790502, 1.0, 847.8584767065978, 0.09107302012510697, 136.0, 1.0, 1.0, 55.0, 1.0], [72.0, 0.0, 3.8463336502851693, 1.0, 5.073540247790502, 1.0, 760.9786586656928, 0.2318846842881995, 136.0, 1.0, 1.0, 59.0, 1.0], [45.0, 0.0, 4.80737128232443, 1.0, 5.687197660638561, 1.0, 932.6541418213105, 0.0, 139.0, 1.0, 0.0, 60.0, 1.0], [50.0, 0.0, 3.792221109090949, 0.0, 7.135176462792489, 1.0, 704.6471363644654, 0.5730941029367999, 131.0, 0.0, 0.0, 60.0, 1.0], [45.0, 0.0, 4.025637862396358, 0.0, 6.701029399874939, 0.0, 926.9637986572712, 0.0, 145.0, 1.0, 0.0, 61.0, 1.0], [60.0, 0.0, 3.085737141873115, 0.0, 5.073540247790502, 0.0, 530.9201007814545, 0.6663715723635272, 127.0, 1.0, 1.0, 64.0, 1.0], [42.0, 1.0, 3.6929700423747898, 1.0, 4.345403961411269, 0.0, 699.9849174493443, 0.2318846842881995, 136.0, 0.0, 0.0, 65.0, 1.0], [72.0, 1.0, 3.3246332237381946, 0.0, 5.687197660638561, 0.0, 788.8448857751116, 0.0, 140.0, 1.0, 1.0, 65.0, 1.0], [70.0, 0.0, 3.5014457535638677, 0.0, 5.687197660638561, 0.0, 746.6114994403825, 0.16723372590987146, 142.0, 0.0, 0.0, 66.0, 1.0], [65.0, 0.0, 3.3374727399760893, 1.0, 5.687197660638561, 0.0, 1046.2912989981567, 0.4583228867072044, 135.0, 1.0, 0.0, 67.0, 1.0], [85.0, 0.0, 4.739780005327763, 0.0, 6.701029399874939, 0.0, 745.1578565906556, 0.0, 132.0, 1.0, 1.0, 72.0, 1.0], [69.0, 0.0, 4.025637862396358, 0.0, 5.073540247790502, 0.0, 777.831369374731, 0.16723372590987146, 134.0, 1.0, 1.0, 73.0, 1.0], [60.0, 1.0, 2.88963710097958, 0.0, 5.073540247790502, 0.0, 685.786861883189, -0.42547670384637193, 139.0, 1.0, 1.0, 73.0, 1.0], [60.0, 1.0, 3.1425959544652553, 1.0, 5.687197660638561, 0.0, 672.8867116488877, 0.6090640253260807, 132.0, 0.0, 0.0, 77.0, 1.0], [59.0, 1.0, 3.7401887318797953, 1.0, 5.687197660638561, 1.0, 826.1144030522476, 0.0, 141.0, 0.0, 0.0, 78.0, 1.0], [60.0, 1.0, 3.481353339936911, 0.0, 5.687197660638561, 0.0, 695.2879768764706, 0.4156157553193581, 135.0, 1.0, 0.0, 82.0, 1.0], [72.0, 1.0, 3.8047239412929845, 0.0, 6.222755101703694, 1.0, 1162.831066672007, 0.4156157553193581, 138.0, 0.0, 1.0, 88.0, 1.0], [85.0, 0.0, 3.3998780827461768, 0.0, 8.575247780217278, 0.0, 831.2875045383672, 0.16723372590987146, 132.0, 1.0, 1.0, 90.0, 1.0], [70.0, 1.0, 3.4475429312903905, 0.0, 8.575247780217278, 0.0, 887.1913877442206, 0.2318846842881995, 137.0, 0.0, 0.0, 90.0, 1.0], [86.0, 0.0, 4.025637862396358, 0.0, 6.966172261451928, 0.0, 774.1559554351417, 0.4583228867072044, 134.0, 0.0, 0.0, 95.0, 1.0], [60.0, 0.0, 4.025637862396358, 0.0, 7.135176462792489, 0.0, 706.1936209561458, 0.7443902496186251, 134.0, 1.0, 0.0, 96.0, 1.0], [46.0, 0.0, 3.520551991416286, 1.0, 4.653837033100984, 1.0, 784.7349251625859, 0.5304160641785284, 124.0, 0.0, 0.0, 100.0, 1.0], [80.0, 0.0, 4.142068064058192, 0.0, 6.966172261451928, 0.0, 774.1559554351417, 0.09107302012510697, 134.0, 1.0, 0.0, 109.0, 1.0], [72.0, 1.0, 4.196745876639239, 0.0, 5.687197660638561, 1.0, 871.4501186309717, 0.4156157553193581, 139.0, 1.0, 1.0, 111.0, 1.0], [75.0, 1.0, 4.025637862396358, 0.0, 6.222755101703694, 0.0, 718.4326743063957, 0.4583228867072044, 134.0, 1.0, 0.0, 113.0, 1.0], [72.0, 0.0, 3.663202398564424, 0.0, 7.534101647809663, 1.0, 733.4134437432065, 0.6090640253260807, 135.0, 0.0, 0.0, 115.0, 1.0], [45.0, 0.0, 4.498407845328968, 1.0, 6.222755101703694, 0.0, 866.542697377834, 0.09107302012510697, 139.0, 1.0, 0.0, 129.0, 1.0], [80.0, 0.0, 4.129193985270717, 1.0, 6.966172261451928, 1.0, 666.3325649127631, 0.2318846842881995, 135.0, 0.0, 0.0, 130.0, 1.0], [59.0, 1.0, 3.54129068801935, 1.0, 5.687197660638561, 0.0, 712.3423231121928, 0.0, 136.0, 1.0, 1.0, 150.0, 1.0], [65.0, 0.0, 3.8785169656495833, 1.0, 5.687197660638561, 0.0, 776.4424769965113, 0.16723372590987146, 136.0, 1.0, 1.0, 154.0, 1.0], [75.0, 0.0, 3.2738328867537296, 0.0, 6.966172261451928, 1.0, 716.9154694734661, 0.6090640253260807, 134.0, 1.0, 0.0, 162.0, 1.0], [58.0, 1.0, 3.4539095672149585, 0.0, 5.687197660638561, 0.0, 709.2753672683968, 0.16723372590987146, 137.0, 1.0, 1.0, 170.0, 1.0], [60.667, 1.0, 3.297693868635824, 1.0, 6.222755101703694, 0.0, 931.5191614323888, 0.33576579935320783, 136.0, 1.0, 0.0, 171.0, 1.0], [50.0, 0.0, 4.025637862396358, 0.0, 7.904145325280192, 0.0, 598.2344654863812, -0.6596212892708068, 134.0, 0.0, 0.0, 172.0, 1.0], [60.0, 0.0, 4.422520060619963, 1.0, 5.687197660638561, 0.0, 903.8037681633854, 0.5304160641785284, 144.0, 0.0, 0.0, 172.0, 1.0], [45.0, 0.0, 4.025637862396358, 0.0, 5.073540247790502, 1.0, 545.5343667062825, 0.37813826526469946, 135.0, 1.0, 0.0, 180.0, 1.0], [77.0, 1.0, 3.900561772817684, 0.0, 7.534101647809663, 0.0, 715.3946923679188, 0.44900454996621825, 145.0, 1.0, 0.0, 180.0, 1.0], [48.0, 1.0, 3.4070445141334997, 1.0, 6.222755101703694, 1.0, 746.6114994403825, 0.37813826526469946, 130.0, 0.0, 0.0, 193.0, 1.0], [73.0, 0.0, 4.025637862396358, 0.0, 5.073540247790502, 0.0, 774.1559554351417, 0.4583228867072044, 134.0, 1.0, 0.0, 198.0, 1.0], [60.0, 0.0, 3.5151884318144755, 0.0, 6.222755101703694, 0.0, 389.4139100270236, 0.4156157553193581, 127.0, 0.0, 0.0, 207.0, 1.0], [55.0, 0.0, 4.44135063034038, 0.0, 5.687197660638561, 0.0, 841.5279001260941, 0.09107302012510697, 138.0, 1.0, 0.0, 214.0, 1.0], [65.0, 1.0, 3.706178433909776, 1.0, 5.687197660638561, 0.0, 676.1373653155916, 0.28746421927002, 129.0, 1.0, 0.0, 235.0, 1.0], [55.0, 0.0, 4.27719217124118, 0.0, 5.073540247790502, 0.0, 774.1559554351417, 0.4583228867072044, 134.0, 1.0, 1.0, 241.0, 1.0]], \"hoverlabel\": {\"namelength\": 0}, \"hovertemplate\": \"DEATH_EVENT=%{customdata[12]}<br>KADAR CREATININE PHOSPHOKINASE=%{customdata[2]}<br>age=%{customdata[0]}<br>anaemia=%{customdata[1]}<br>diabetes=%{customdata[3]}<br>ejection_fraction=%{customdata[4]}<br>high_blood_pressure=%{customdata[5]}<br>platelets=%{customdata[6]}<br>serum_creatinine=%{customdata[7]}<br>serum_sodium=%{customdata[8]}<br>sex=%{customdata[9]}<br>smoking=%{customdata[10]}<br>time=%{customdata[11]}\", \"legendgroup\": \"DEATH_EVENT=1\", \"marker\": {\"color\": \"#00cc96\"}, \"name\": \"DEATH_EVENT=1\", \"offsetgroup\": \"DEATH_EVENT=1\", \"scalegroup\": \"x\", \"showlegend\": false, \"type\": \"violin\", \"x\": [4.025637862396358, 4.812378887350636, 3.4570548997227055, 3.3289576162017305, 2.88963710097958, 3.6861811576371863, 3.7883813412996696, 3.4900911822976983, 3.377582487715956, 3.1747232377525965, 3.659535746118753, 4.210187576125048, 3.520551991416286, 3.8622864787279982, 3.466343381811516, 4.025637862396358, 3.385151629770763, 4.025637862396358, 3.396246496923772, 3.638690114731251, 4.025637862396358, 3.4632714480164832, 3.3332371685703257, 3.373744327318973, 3.0205551670471475, 3.1006514096420683, 4.025637862396358, 2.4763653125100604, 3.6912846636505745, 3.248535125258288, 4.025637862396358, 3.0205551670471475, 4.163052214542158, 3.666832817196654, 4.025637862396358, 3.381384714478249, 4.018602474797208, 4.02941080896221, 4.025637862396358, 4.322895951444924, 4.025637862396358, 4.00674486574818, 3.3998780827461768, 4.022459200450082, 3.232597233459061, 3.093256796369123, 3.7094065786329438, 3.8538711380859096, 4.13503279172315, 3.8463336502851693, 4.80737128232443, 3.792221109090949, 4.025637862396358, 3.085737141873115, 3.6929700423747898, 3.3246332237381946, 3.5014457535638677, 3.3374727399760893, 4.739780005327763, 4.025637862396358, 2.88963710097958, 3.1425959544652553, 3.7401887318797953, 3.481353339936911, 3.8047239412929845, 3.3998780827461768, 3.4475429312903905, 4.025637862396358, 4.025637862396358, 3.520551991416286, 4.142068064058192, 4.196745876639239, 4.025637862396358, 3.663202398564424, 4.498407845328968, 4.129193985270717, 3.54129068801935, 3.8785169656495833, 3.2738328867537296, 3.4539095672149585, 3.297693868635824, 4.025637862396358, 4.422520060619963, 4.025637862396358, 3.900561772817684, 3.4070445141334997, 4.025637862396358, 3.5151884318144755, 4.44135063034038, 3.706178433909776, 4.27719217124118], \"xaxis\": \"x2\", \"yaxis\": \"y2\"}, {\"alignmentgroup\": \"True\", \"bingroup\": \"x\", \"hoverlabel\": {\"namelength\": 0}, \"hovertemplate\": \"DEATH_EVENT=0<br>KADAR CREATININE PHOSPHOKINASE=%{x}<br>count=%{y}\", \"legendgroup\": \"DEATH_EVENT=0\", \"marker\": {\"color\": \"#ab63fa\"}, \"name\": \"DEATH_EVENT=0\", \"offsetgroup\": \"DEATH_EVENT=0\", \"orientation\": \"v\", \"showlegend\": true, \"type\": \"histogram\", \"x\": [3.1684846465272583, 2.9444457368957844, 3.0461163167914935, 3.495809779393574, 3.392581936914349, 3.1358769110652616, 4.041070866936736, 3.3202631072599207, 4.025637862396358, 3.4632714480164832, 4.025637862396358, 3.6464071306534116, 3.237976574459835, 3.288312103752678, 3.6039796064457867, 3.814412795329531, 3.093256796369123, 4.025637862396358, 2.974481274913581, 3.15573231999406, 2.88963710097958, 3.085737141873115, 3.1929172980713, 3.3458152578917644, 3.070306516971223, 4.179610208504033, 4.025637862396358, 3.4507390373886433, 3.41408546547616, 3.97944668281799, 3.011704497231516, 3.487200189017973, 3.029236795715439, 3.7752698180618083, 4.025637862396358, 4.179993449101688, 4.708366991133288, 2.9546755841073375, 4.116224395293592, 4.419273824459844, 4.19420143685751, 3.7574612368095015, 3.0205551670471475, 3.8517344703285468, 4.119050365491325, 3.8834335167541476, 3.2588369087377838, 3.3374727399760893, 4.110974683941758, 3.085737141873115, 3.2588369087377838, 4.025637862396358, 3.839738229790088, 3.597505374097021, 3.6895914357173876, 3.725127479140868, 4.407929551232915, 4.243171772908823, 4.102185625459166, 3.5819515336464267, 4.67210023885116, 4.025637862396358, 3.011704497231516, 4.063734384423375, 3.741660542510888, 4.3594988631991995, 3.756053491288467, 3.955193819076111, 3.1929172980713, 3.5633560873152086, 3.4105804180928208, 4.371860515187577, 4.475633221295353, 2.6354550436836317, 3.3458152578917644, 4.414328634859375, 3.8132163652538806, 3.659535746118753, 3.0026785447767916, 3.6929700423747898, 4.184554183587198, 3.3998780827461768, 3.115080630234826, 3.4034772432751206, 4.025637862396358, 3.588696108461663, 4.025637862396358, 4.154833323382541, 4.025637862396358, 4.635666967716511, 3.5284603424816834, 3.3458152578917644, 3.593126478863179, 3.2537173825296515, 4.331836208267133, 3.093256796369123, 3.373744327318973, 4.154833323382541, 3.9520316349307, 3.4724163071733463, 3.682738650104513, 4.025637862396358, 3.0377553047191284, 3.36986959494581, 3.659535746118753, 4.025637862396358, 3.5178795011840127, 4.025637862396358, 4.280462728555355, 3.7792548970055115, 3.263895104933416, 3.011704497231516, 3.054325175451314, 3.5178795011840127, 3.2835410635260756, 3.622757261581563, 4.478251649433291, 4.207059123978379, 3.622757261581563, 4.025637862396358, 3.6464071306534116, 3.4210049718746154, 4.025637862396358, 4.278013349594755, 4.22370096666247, 4.025637862396358, 3.3580193280085133, 3.204633956099047, 4.025637862396358, 4.025637862396358, 4.0795839939451755, 2.9934707250131223, 4.537575083516385, 2.9840740848055227, 3.6207168343918568, 3.243288688526272, 3.3998780827461768, 4.096183607465114, 4.025637862396358, 3.3202631072599207, 3.362007776647375, 3.6613736436395707, 4.102680555108649, 3.5512550085839614, 3.1747232377525965, 4.025637862396358, 3.2271490618197807, 4.2733283192721965, 4.025637862396358, 3.1684846465272583, 3.4475429312903905, 4.051151121287894, 3.6124417726828515, 4.507859402491384, 4.01924850956512, 3.6844639679902556, 3.2160395260494328, 3.9255773899748867, 3.577387407026194, 3.802258965792817, 3.4105804180928208, 3.070306516971223, 2.9840740848055227, 3.070306516971223, 4.068739914586581, 3.4900911822976983, 4.025637862396358, 3.7657922251608413, 3.4210049718746154, 4.025637862396358, 4.025637862396358, 4.025637862396358, 4.025637862396358, 3.6247865837393984, 3.054325175451314, 3.70455348599729, 4.025637862396358, 4.047630059569936, 4.025637862396358, 4.233440160285953, 3.1929172980713, 4.52716279796163, 3.054325175451314, 4.386652127771893, 2.964684519731618, 3.5258421809283442, 3.6979797547229696, 4.025637862396358, 4.177686562251363, 3.815605112789745, 4.045854665516563, 3.7947577450252012, 3.575084560951318, 3.2930293319142407, 3.029236795715439, 4.409966996257951, 4.494892832728779, 3.588696108461663], \"xaxis\": \"x\", \"yaxis\": \"y\"}, {\"alignmentgroup\": \"True\", \"customdata\": [[49.0, 1.0, 3.1684846465272583, 0.0, 6.222755101703694, 1.0, 973.6191534590789, 0.0, 138.0, 0.0, 0.0, 12.0, 0.0], [65.0, 1.0, 2.9444457368957844, 0.0, 5.687197660638561, 1.0, 791.5717032413037, 0.2318846842881995, 137.0, 0.0, 0.0, 16.0, 0.0], [53.0, 0.0, 3.0461163167914935, 1.0, 8.575247780217278, 0.0, 907.3196585819123, -0.2488922424935961, 135.0, 1.0, 0.0, 22.0, 0.0], [50.0, 1.0, 3.495809779393574, 1.0, 6.222755101703694, 0.0, 826.1144030522476, 0.16723372590987146, 138.0, 0.0, 0.0, 29.0, 0.0], [72.0, 0.0, 3.392581936914349, 1.0, 7.904145325280192, 1.0, 707.7363558474772, 0.0, 134.0, 1.0, 0.0, 33.0, 0.0], [70.0, 1.0, 3.1358769110652616, 0.0, 6.701029399874939, 0.0, 715.3946923679188, 0.639799653655621, 138.0, 1.0, 1.0, 54.0, 0.0], [60.0, 1.0, 4.041070866936736, 0.0, 7.135176462792489, 0.0, 704.6471363644654, -0.6596212892708068, 138.0, 1.0, 1.0, 54.0, 0.0], [55.0, 0.0, 3.3202631072599207, 0.0, 6.701029399874939, 0.0, 760.9786586656928, 0.09107302012510697, 139.0, 1.0, 1.0, 60.0, 0.0], [45.0, 0.0, 4.025637862396358, 0.0, 9.71859519435444, 0.0, 774.1559554351417, 0.15301479280432287, 137.0, 0.0, 0.0, 63.0, 0.0], [41.0, 0.0, 3.4632714480164832, 0.0, 7.135176462792489, 0.0, 914.3064249105983, -0.2488922424935961, 140.0, 1.0, 1.0, 68.0, 0.0], [58.0, 0.0, 4.025637862396358, 1.0, 6.701029399874939, 0.0, 537.2373459527821, -0.11088268777686425, 139.0, 1.0, 1.0, 71.0, 0.0], [65.0, 0.0, 3.6464071306534116, 1.0, 7.904145325280192, 0.0, 590.7553925915604, 0.2318846842881995, 137.0, 1.0, 1.0, 72.0, 0.0], [70.0, 0.0, 3.237976574459835, 0.0, 8.575247780217278, 1.0, 845.3325631011305, -0.2488922424935961, 140.0, 0.0, 1.0, 74.0, 0.0], [42.0, 0.0, 3.288312103752678, 1.0, 7.135176462792489, 0.0, 736.3690457956537, 0.16723372590987146, 140.0, 1.0, 0.0, 74.0, 0.0], [75.0, 1.0, 3.6039796064457867, 1.0, 6.966172261451928, 1.0, 801.0344905952237, -0.6596212892708068, 131.0, 1.0, 1.0, 74.0, 0.0], [55.0, 0.0, 3.814412795329531, 0.0, 7.534101647809663, 1.0, 854.1369950998895, -0.11088268777686425, 140.0, 0.0, 0.0, 74.0, 0.0], [70.0, 0.0, 3.093256796369123, 0.0, 7.135176462792489, 0.0, 814.3413507793258, 0.4156157553193581, 136.0, 0.0, 0.0, 75.0, 0.0], [67.0, 0.0, 4.025637862396358, 0.0, 7.904145325280192, 0.0, 774.1559554351417, 0.15301479280432287, 137.0, 1.0, 1.0, 76.0, 0.0], [79.0, 1.0, 2.974481274913581, 0.0, 7.904145325280192, 1.0, 632.427549909296, 0.44900454996621825, 133.0, 1.0, 0.0, 78.0, 0.0], [51.0, 0.0, 3.15573231999406, 0.0, 7.904145325280192, 0.0, 950.6094478297553, -0.42547670384637193, 140.0, 1.0, 0.0, 79.0, 0.0], [55.0, 0.0, 2.88963710097958, 0.0, 6.701029399874939, 1.0, 634.1706539412304, 0.09107302012510697, 137.0, 1.0, 0.0, 79.0, 0.0], [65.0, 1.0, 3.085737141873115, 1.0, 8.575247780217278, 1.0, 828.7054359489688, -0.2488922424935961, 140.0, 1.0, 0.0, 79.0, 0.0], [44.0, 0.0, 3.1929172980713, 1.0, 7.135176462792489, 1.0, 733.4134437432065, -0.42547670384637193, 139.0, 1.0, 0.0, 79.0, 0.0], [57.0, 1.0, 3.3458152578917644, 0.0, 5.687197660638561, 1.0, 647.9285130915692, 0.09107302012510697, 144.0, 1.0, 0.0, 79.0, 0.0], [70.0, 0.0, 3.070306516971223, 1.0, 7.534101647809663, 0.0, 753.8330761308384, -0.2488922424935961, 136.0, 1.0, 1.0, 80.0, 0.0], [60.0, 0.0, 4.179610208504033, 1.0, 7.534101647809663, 0.0, 819.597002315633, 0.0, 133.0, 1.0, 0.0, 80.0, 0.0], [42.0, 0.0, 4.025637862396358, 0.0, 8.575247780217278, 0.0, 774.1559554351417, 0.15301479280432287, 137.0, 0.0, 0.0, 82.0, 0.0], [58.0, 0.0, 3.4507390373886433, 1.0, 6.966172261451928, 1.0, 857.8796284051286, -0.42547670384637193, 142.0, 0.0, 0.0, 83.0, 0.0], [58.0, 1.0, 3.41408546547616, 0.0, 8.575247780217278, 1.0, 709.2753672683968, 0.0, 141.0, 1.0, 0.0, 83.0, 0.0], [63.0, 1.0, 3.97944668281799, 1.0, 5.687197660638561, 1.0, 760.9786586656928, 0.2318846842881995, 134.0, 1.0, 0.0, 83.0, 0.0], [70.0, 1.0, 3.011704497231516, 0.0, 8.575247780217278, 0.0, 762.3988578427951, 0.09107302012510697, 136.0, 0.0, 0.0, 85.0, 0.0], [60.0, 1.0, 3.487200189017973, 1.0, 5.687197660638561, 1.0, 846.5965659912968, 0.16723372590987146, 137.0, 0.0, 0.0, 85.0, 0.0], [63.0, 1.0, 3.029236795715439, 1.0, 7.135176462792489, 0.0, 712.3423231121928, 0.09107302012510697, 140.0, 0.0, 0.0, 86.0, 0.0], [65.0, 1.0, 3.7752698180618083, 0.0, 5.687197660638561, 0.0, 820.9050796072819, 0.09107302012510697, 141.0, 1.0, 0.0, 87.0, 0.0], [75.0, 0.0, 4.025637862396358, 0.0, 7.534101647809663, 1.0, 774.1559554351417, 0.15301479280432287, 137.0, 1.0, 0.0, 87.0, 0.0], [80.0, 0.0, 4.179993449101688, 0.0, 5.687197660638561, 0.0, 590.7553925915604, 0.09107302012510697, 144.0, 1.0, 1.0, 87.0, 0.0], [42.0, 0.0, 4.708366991133288, 0.0, 6.222755101703694, 0.0, 719.946331078969, 0.0, 140.0, 1.0, 1.0, 87.0, 0.0], [60.0, 0.0, 2.9546755841073375, 0.0, 7.904145325280192, 1.0, 805.0521977270029, 0.5730941029367999, 143.0, 0.0, 0.0, 87.0, 0.0], [55.0, 0.0, 4.116224395293592, 0.0, 7.534101647809663, 0.0, 773.6563851281757, 0.2318846842881995, 137.0, 1.0, 0.0, 88.0, 0.0], [45.0, 1.0, 4.419273824459844, 1.0, 6.701029399874939, 0.0, 719.946331078969, -0.11088268777686425, 138.0, 1.0, 0.0, 88.0, 0.0], [63.0, 0.0, 4.19420143685751, 0.0, 6.966172261451928, 0.0, 828.7054359489688, 0.09107302012510697, 133.0, 1.0, 1.0, 88.0, 0.0], [45.0, 0.0, 3.7574612368095015, 1.0, 6.701029399874939, 0.0, 1349.3894074988548, 0.2318846842881995, 142.0, 1.0, 1.0, 88.0, 0.0], [55.0, 0.0, 3.0205551670471475, 0.0, 6.701029399874939, 0.0, 722.9630959443265, 0.16723372590987146, 135.0, 1.0, 1.0, 90.0, 0.0], [50.0, 0.0, 3.8517344703285468, 1.0, 5.687197660638561, 0.0, 758.1293969574043, 0.37813826526469946, 136.0, 1.0, 0.0, 90.0, 0.0], [60.0, 1.0, 4.119050365491325, 1.0, 7.135176462792489, 1.0, 859.1231504901432, 0.16723372590987146, 126.0, 1.0, 0.0, 91.0, 0.0], [58.0, 1.0, 3.8834335167541476, 0.0, 7.135176462792489, 0.0, 618.2861226406208, 0.0, 139.0, 0.0, 0.0, 91.0, 0.0], [60.0, 1.0, 3.2588369087377838, 1.0, 8.575247780217278, 1.0, 784.7349251625859, -0.42547670384637193, 136.0, 0.0, 0.0, 94.0, 0.0], [65.0, 1.0, 3.3374727399760893, 1.0, 8.575247780217278, 1.0, 684.1890972560772, -0.11088268777686425, 140.0, 0.0, 0.0, 94.0, 0.0], [60.0, 1.0, 4.110974683941758, 0.0, 8.575247780217278, 1.0, 695.2879768764706, 0.33576579935320783, 135.0, 1.0, 1.0, 95.0, 0.0], [66.0, 1.0, 3.085737141873115, 1.0, 6.966172261451928, 1.0, 614.6943008960727, 0.0, 136.0, 0.0, 0.0, 95.0, 0.0], [60.0, 0.0, 3.2588369087377838, 1.0, 6.966172261451928, 0.0, 722.9630959443265, -0.3314111042813302, 140.0, 0.0, 0.0, 95.0, 0.0], [60.0, 1.0, 4.025637862396358, 0.0, 6.222755101703694, 1.0, 547.5868579262194, -0.11088268777686425, 145.0, 0.0, 0.0, 95.0, 0.0], [43.0, 1.0, 3.839738229790088, 0.0, 7.904145325280192, 0.0, 736.3690457956537, 0.2318846842881995, 135.0, 0.0, 0.0, 97.0, 0.0], [58.0, 1.0, 3.597505374097021, 1.0, 8.575247780217278, 0.0, 823.5143150488784, -0.2488922424935961, 137.0, 0.0, 0.0, 104.0, 0.0], [61.0, 0.0, 3.6895914357173876, 0.0, 6.222755101703694, 1.0, 779.2175138962601, -0.42547670384637193, 136.0, 1.0, 1.0, 104.0, 0.0], [53.0, 1.0, 3.725127479140868, 1.0, 6.701029399874939, 0.0, 721.456463733054, 0.719355314012556, 145.0, 1.0, 0.0, 105.0, 0.0], [53.0, 1.0, 4.407929551232915, 0.0, 8.575247780217278, 1.0, 753.8330761308384, -0.42547670384637193, 138.0, 1.0, 1.0, 106.0, 0.0], [60.0, 1.0, 4.243171772908823, 1.0, 7.534101647809663, 0.0, 755.2681977996755, 0.8571957454628651, 131.0, 1.0, 0.0, 107.0, 0.0], [46.0, 0.0, 4.102185625459166, 0.0, 7.135176462792489, 1.0, 774.1559554351417, 0.15301479280432287, 137.0, 0.0, 0.0, 107.0, 0.0], [63.0, 0.0, 3.5819515336464267, 0.0, 8.575247780217278, 1.0, 816.9738691534773, 0.2318846842881995, 145.0, 1.0, 1.0, 107.0, 0.0], [81.0, 0.0, 4.67210023885116, 0.0, 6.701029399874939, 0.0, 727.462222770865, 0.15301479280432287, 137.0, 1.0, 1.0, 107.0, 0.0], [75.0, 0.0, 4.025637862396358, 0.0, 7.135176462792489, 0.0, 774.1559554351417, 0.15301479280432287, 137.0, 1.0, 0.0, 107.0, 0.0], [65.0, 1.0, 3.011704497231516, 1.0, 8.575247780217278, 0.0, 632.427549909296, -0.11088268777686425, 137.0, 0.0, 0.0, 107.0, 0.0], [68.0, 1.0, 4.063734384423375, 0.0, 5.687197660638561, 0.0, 829.9975851660085, 0.5304160641785284, 130.0, 1.0, 0.0, 108.0, 0.0], [62.0, 0.0, 3.741660542510888, 1.0, 6.701029399874939, 0.0, 712.3423231121928, 0.0, 136.0, 0.0, 0.0, 108.0, 0.0], [50.0, 0.0, 4.3594988631991995, 0.0, 6.222755101703694, 1.0, 696.8575280623202, -0.2488922424935961, 138.0, 1.0, 0.0, 108.0, 0.0], [46.0, 1.0, 3.756053491288467, 0.0, 6.701029399874939, 0.0, 883.5864200580681, -0.11088268777686425, 140.0, 0.0, 0.0, 109.0, 0.0], [50.0, 0.0, 3.955193819076111, 1.0, 6.222755101703694, 0.0, 860.364677002239, -0.11088268777686425, 132.0, 0.0, 0.0, 109.0, 0.0], [61.0, 1.0, 3.1929172980713, 0.0, 7.135176462792489, 1.0, 724.4662511263754, -0.11088268777686425, 141.0, 0.0, 0.0, 110.0, 0.0], [50.0, 0.0, 3.5633560873152086, 0.0, 6.222755101703694, 0.0, 777.831369374731, -0.42547670384637193, 141.0, 1.0, 1.0, 112.0, 0.0], [52.0, 0.0, 3.4105804180928208, 0.0, 6.222755101703694, 0.0, 707.7363558474772, -0.42547670384637193, 136.0, 1.0, 1.0, 112.0, 0.0], [64.0, 0.0, 4.371860515187577, 0.0, 8.575247780217278, 0.0, 743.701059029639, 0.0, 137.0, 1.0, 0.0, 113.0, 0.0], [60.0, 0.0, 4.475633221295353, 0.0, 6.701029399874939, 1.0, 722.9630959443265, -0.11088268777686425, 136.0, 1.0, 0.0, 115.0, 0.0], [62.0, 0.0, 2.6354550436836317, 1.0, 8.575247780217278, 1.0, 746.6114994403825, -0.11088268777686425, 139.0, 1.0, 0.0, 117.0, 0.0], [50.0, 0.0, 3.3458152578917644, 0.0, 7.534101647809663, 1.0, 653.0049094064092, -0.11088268777686425, 134.0, 1.0, 1.0, 118.0, 0.0], [50.0, 0.0, 4.414328634859375, 1.0, 6.701029399874939, 0.0, 774.1559554351417, 0.15301479280432287, 137.0, 1.0, 1.0, 119.0, 0.0], [65.0, 1.0, 3.8132163652538806, 0.0, 6.701029399874939, 1.0, 733.4134437432065, -0.2488922424935961, 136.0, 0.0, 0.0, 120.0, 0.0], [60.0, 1.0, 3.659535746118753, 1.0, 5.687197660638561, 0.0, 669.618537028356, 0.4156157553193581, 140.0, 1.0, 0.0, 120.0, 0.0], [52.0, 1.0, 3.0026785447767916, 0.0, 6.701029399874939, 0.0, 792.9312087956066, 0.28746421927002, 136.0, 0.0, 0.0, 120.0, 0.0], [50.0, 0.0, 3.6929700423747898, 0.0, 5.687197660638561, 0.0, 772.2591534855301, 0.0, 136.0, 1.0, 1.0, 120.0, 0.0], [85.0, 1.0, 4.184554183587198, 0.0, 7.904145325280192, 0.0, 733.4134437432065, 0.2318846842881995, 134.0, 1.0, 0.0, 121.0, 0.0], [59.0, 1.0, 3.3998780827461768, 0.0, 7.534101647809663, 1.0, 900.2726215493195, 0.09107302012510697, 139.0, 1.0, 1.0, 121.0, 0.0], [66.0, 1.0, 3.115080630234826, 0.0, 7.135176462792489, 1.0, 743.701059029639, 0.16723372590987146, 134.0, 1.0, 0.0, 121.0, 0.0], [45.0, 1.0, 3.4034772432751206, 0.0, 6.701029399874939, 0.0, 635.9084582277882, -0.2488922424935961, 139.0, 1.0, 1.0, 121.0, 0.0], [63.0, 1.0, 4.025637862396358, 0.0, 7.135176462792489, 0.0, 996.0400924553876, -0.11088268777686425, 137.0, 1.0, 1.0, 123.0, 0.0], [53.0, 0.0, 3.588696108461663, 0.0, 8.575247780217278, 0.0, 710.8106811465606, -0.42547670384637193, 133.0, 1.0, 1.0, 134.0, 0.0], [65.0, 0.0, 4.025637862396358, 1.0, 7.135176462792489, 0.0, 783.3596165600484, 0.0, 138.0, 0.0, 0.0, 140.0, 0.0], [70.0, 0.0, 4.154833323382541, 0.0, 6.701029399874939, 1.0, 829.9975851660085, -0.2488922424935961, 133.0, 0.0, 0.0, 145.0, 0.0], [51.0, 1.0, 4.025637862396358, 1.0, 6.701029399874939, 0.0, 774.1559554351417, 0.33576579935320783, 136.0, 1.0, 1.0, 145.0, 0.0], [52.0, 0.0, 4.635666967716511, 0.0, 7.135176462792489, 0.0, 855.3865601439179, -0.11088268777686425, 140.0, 1.0, 1.0, 146.0, 0.0], [70.0, 1.0, 3.5284603424816834, 0.0, 8.575247780217278, 1.0, 639.3683526295772, 0.09107302012510697, 145.0, 1.0, 1.0, 146.0, 0.0], [50.0, 1.0, 3.3458152578917644, 0.0, 5.073540247790502, 0.0, 661.3696134728824, -0.2488922424935961, 139.0, 1.0, 0.0, 146.0, 0.0], [65.0, 0.0, 3.593126478863179, 1.0, 6.701029399874939, 1.0, 798.3435420455652, -0.11088268777686425, 137.0, 1.0, 1.0, 146.0, 0.0], [60.0, 1.0, 3.2537173825296515, 0.0, 8.575247780217278, 0.0, 870.2261442093983, 0.0, 138.0, 1.0, 1.0, 146.0, 0.0], [69.0, 0.0, 4.331836208267133, 0.0, 7.135176462792489, 0.0, 500.2659862730978, 0.0, 135.0, 1.0, 1.0, 147.0, 0.0], [49.0, 1.0, 3.093256796369123, 0.0, 7.904145325280192, 0.0, 557.723866182209, 0.0, 140.0, 0.0, 0.0, 147.0, 0.0], [63.0, 1.0, 3.373744327318973, 1.0, 8.575247780217278, 0.0, 779.2175138962601, 0.16723372590987146, 145.0, 1.0, 0.0, 147.0, 0.0], [55.0, 0.0, 4.154833323382541, 0.0, 7.135176462792489, 0.0, 795.6424850606941, -0.42547670384637193, 140.0, 1.0, 1.0, 147.0, 0.0], [40.0, 0.0, 3.9520316349307, 1.0, 6.222755101703694, 0.0, 827.4110456784875, -0.11088268777686425, 136.0, 1.0, 0.0, 148.0, 0.0], [60.667, 1.0, 3.4724163071733463, 1.0, 7.135176462792489, 1.0, 680.9810816978916, 0.0, 136.0, 0.0, 0.0, 172.0, 0.0], [40.0, 0.0, 3.682738650104513, 0.0, 7.534101647809663, 1.0, 790.2096003791468, -0.11088268777686425, 140.0, 0.0, 0.0, 174.0, 0.0], [80.0, 0.0, 4.025637862396358, 1.0, 6.701029399874939, 0.0, 885.9915417472831, 0.5304160641785284, 134.0, 1.0, 0.0, 174.0, 0.0], [64.0, 1.0, 3.0377553047191284, 0.0, 8.575247780217278, 0.0, 835.1439942941836, 0.33576579935320783, 135.0, 0.0, 0.0, 174.0, 0.0], [50.0, 1.0, 3.36986959494581, 1.0, 7.135176462792489, 0.0, 769.4562372354645, -0.42547670384637193, 130.0, 1.0, 0.0, 175.0, 0.0], [73.0, 1.0, 3.659535746118753, 1.0, 6.222755101703694, 0.0, 611.0790426634615, 0.15301479280432287, 142.0, 1.0, 1.0, 180.0, 0.0], [45.0, 0.0, 4.025637862396358, 1.0, 6.966172261451928, 1.0, 774.1559554351417, 0.15301479280432287, 137.0, 0.0, 0.0, 185.0, 0.0], [65.0, 0.0, 3.5178795011840127, 0.0, 6.222755101703694, 0.0, 768.0505195334568, -0.2488922424935961, 138.0, 0.0, 0.0, 186.0, 0.0], [50.0, 1.0, 4.025637862396358, 1.0, 5.073540247790502, 1.0, 795.6424850606941, 0.0, 134.0, 0.0, 0.0, 186.0, 0.0], [60.0, 0.0, 4.280462728555355, 1.0, 6.701029399874939, 0.0, 774.1559554351417, 0.44900454996621825, 113.0, 1.0, 1.0, 186.0, 0.0], [45.0, 0.0, 3.7792548970055115, 1.0, 8.575247780217278, 1.0, 917.777668310215, 0.0, 136.0, 1.0, 0.0, 186.0, 0.0], [70.0, 0.0, 3.263895104933416, 0.0, 8.575247780217278, 1.0, 710.8106811465606, -0.11088268777686425, 138.0, 1.0, 0.0, 186.0, 0.0], [60.0, 0.0, 3.011704497231516, 0.0, 5.687197660638561, 1.0, 698.4231655362427, 0.7281679148382327, 136.0, 1.0, 1.0, 187.0, 0.0], [78.0, 1.0, 3.054325175451314, 0.0, 7.135176462792489, 0.0, 792.9312087956066, -0.42547670384637193, 137.0, 1.0, 1.0, 187.0, 0.0], [50.0, 1.0, 3.5178795011840127, 1.0, 7.534101647809663, 0.0, 900.2726215493195, 0.0, 136.0, 0.0, 0.0, 187.0, 0.0], [40.0, 1.0, 3.2835410635260756, 0.0, 7.135176462792489, 0.0, 719.946331078969, -0.2488922424935961, 141.0, 0.0, 0.0, 187.0, 0.0], [85.0, 0.0, 3.622757261581563, 0.0, 6.966172261451928, 0.0, 656.3649870527959, -0.11088268777686425, 136.0, 1.0, 0.0, 187.0, 0.0], [60.0, 1.0, 4.478251649433291, 1.0, 7.135176462792489, 0.0, 801.0344905952237, 0.0, 141.0, 0.0, 0.0, 187.0, 0.0], [49.0, 0.0, 4.207059123978379, 1.0, 6.701029399874939, 1.0, 780.6009262587678, -0.2488922424935961, 130.0, 0.0, 0.0, 187.0, 0.0], [70.0, 0.0, 3.622757261581563, 1.0, 4.653837033100984, 1.0, 931.5191614323888, 0.0, 136.0, 1.0, 1.0, 188.0, 0.0], [50.0, 0.0, 4.025637862396358, 0.0, 8.700225387158447, 1.0, 586.97618025688, -0.2488922424935961, 140.0, 1.0, 1.0, 192.0, 0.0], [78.0, 0.0, 3.6464071306534116, 0.0, 7.904145325280192, 0.0, 1030.182007286907, 0.28746421927002, 138.0, 1.0, 1.0, 192.0, 0.0], [65.0, 1.0, 3.4210049718746154, 0.0, 6.701029399874939, 1.0, 810.3747611317938, -0.2488922424935961, 134.0, 1.0, 0.0, 194.0, 0.0], [73.0, 0.0, 4.025637862396358, 0.0, 6.701029399874939, 1.0, 684.1890972560772, 0.2318846842881995, 134.0, 1.0, 0.0, 195.0, 0.0], [70.0, 0.0, 4.278013349594755, 0.0, 7.904145325280192, 1.0, 895.5403592378601, -0.11088268777686425, 141.0, 0.0, 0.0, 196.0, 0.0], [68.0, 1.0, 4.22370096666247, 1.0, 6.701029399874939, 0.0, 784.7349251625859, 0.09107302012510697, 134.0, 1.0, 0.0, 197.0, 0.0], [55.0, 0.0, 4.025637862396358, 1.0, 6.701029399874939, 1.0, 910.8204822903367, -0.42547670384637193, 140.0, 0.0, 0.0, 197.0, 0.0], [65.0, 0.0, 3.3580193280085133, 0.0, 7.904145325280192, 0.0, 669.618537028356, 0.09107302012510697, 145.0, 1.0, 1.0, 200.0, 0.0], [42.0, 1.0, 3.204633956099047, 0.0, 6.701029399874939, 0.0, 903.8037681633854, 0.09107302012510697, 139.0, 1.0, 1.0, 201.0, 0.0], [47.0, 0.0, 4.025637862396358, 0.0, 5.687197660638561, 0.0, 553.6937576645514, -0.2488922424935961, 134.0, 1.0, 0.0, 201.0, 0.0], [58.0, 0.0, 4.025637862396358, 1.0, 5.687197660638561, 0.0, 1053.253133996072, 0.0, 138.0, 1.0, 0.0, 205.0, 0.0], [75.0, 0.0, 4.0795839939451755, 1.0, 8.575247780217278, 0.0, 776.4424769965113, 0.28746421927002, 125.0, 0.0, 0.0, 205.0, 0.0], [58.0, 1.0, 2.9934707250131223, 0.0, 5.687197660638561, 0.0, 661.3696134728824, 0.2318846842881995, 132.0, 1.0, 1.0, 205.0, 0.0], [55.0, 1.0, 4.537575083516385, 0.0, 6.701029399874939, 1.0, 575.4731164437891, 0.0, 140.0, 1.0, 0.0, 206.0, 0.0], [65.0, 0.0, 2.9840740848055227, 0.0, 5.687197660638561, 0.0, 736.3690457956537, 0.8186887275972219, 130.0, 0.0, 0.0, 207.0, 0.0], [72.0, 0.0, 3.6207168343918568, 0.0, 5.687197660638561, 0.0, 788.8448857751116, 0.16723372590987146, 134.0, 0.0, 0.0, 207.0, 0.0], [70.0, 0.0, 3.243288688526272, 0.0, 6.701029399874939, 0.0, 654.687340199836, 0.09107302012510697, 134.0, 1.0, 1.0, 208.0, 0.0], [40.0, 1.0, 3.3998780827461768, 0.0, 6.701029399874939, 0.0, 762.3988578427951, -0.11088268777686425, 137.0, 1.0, 0.0, 209.0, 0.0], [53.0, 1.0, 4.096183607465114, 0.0, 6.966172261451928, 0.0, 861.6042171948717, 0.28746421927002, 137.0, 1.0, 1.0, 209.0, 0.0], [53.0, 1.0, 4.025637862396358, 0.0, 7.534101647809663, 0.0, 829.9975851660085, 0.09107302012510697, 137.0, 1.0, 1.0, 209.0, 0.0], [77.0, 1.0, 3.3202631072599207, 0.0, 7.904145325280192, 1.0, 950.6094478297553, 0.09107302012510697, 137.0, 1.0, 0.0, 209.0, 0.0], [75.0, 0.0, 3.362007776647375, 0.0, 7.904145325280192, 1.0, 752.3949150740973, 0.09107302012510697, 148.0, 1.0, 0.0, 209.0, 0.0], [70.0, 0.0, 3.6613736436395707, 0.0, 6.222755101703694, 0.0, 634.1706539412304, 0.16723372590987146, 132.0, 1.0, 0.0, 210.0, 0.0], [65.0, 1.0, 4.102680555108649, 1.0, 7.135176462792489, 0.0, 765.2304810243983, 0.0, 136.0, 0.0, 0.0, 210.0, 0.0], [55.0, 1.0, 3.5512550085839614, 0.0, 7.534101647809663, 0.0, 774.1559554351417, 0.15301479280432287, 137.0, 1.0, 1.0, 211.0, 0.0], [70.0, 0.0, 3.1747232377525965, 1.0, 6.701029399874939, 1.0, 1081.5659448576394, 0.2318846842881995, 139.0, 0.0, 0.0, 212.0, 0.0], [65.0, 0.0, 4.025637862396358, 1.0, 6.222755101703694, 0.0, 753.8330761308384, 0.2318846842881995, 136.0, 1.0, 1.0, 212.0, 0.0], [40.0, 0.0, 3.2271490618197807, 0.0, 6.701029399874939, 0.0, 762.3988578427951, 0.09107302012510697, 136.0, 1.0, 1.0, 212.0, 0.0], [73.0, 1.0, 4.2733283192721965, 0.0, 7.135176462792489, 1.0, 710.8106811465606, -0.11088268777686425, 141.0, 0.0, 0.0, 213.0, 0.0], [54.0, 0.0, 4.025637862396358, 1.0, 6.966172261451928, 0.0, 775.0508209141032, 0.44900454996621825, 134.0, 1.0, 0.0, 213.0, 0.0], [61.0, 1.0, 3.1684846465272583, 1.0, 6.966172261451928, 0.0, 799.69027302474, 0.28746421927002, 137.0, 1.0, 0.0, 213.0, 0.0], [64.0, 0.0, 3.4475429312903905, 0.0, 5.687197660638561, 0.0, 749.5093996783344, 0.5918140604594808, 135.0, 1.0, 0.0, 214.0, 0.0], [40.0, 0.0, 4.051151121287894, 0.0, 6.701029399874939, 0.0, 824.8154966732849, 0.0, 142.0, 1.0, 1.0, 214.0, 0.0], [53.0, 0.0, 3.6124417726828515, 1.0, 7.135176462792489, 0.0, 715.3946923679188, 0.16723372590987146, 130.0, 0.0, 0.0, 214.0, 0.0], [50.0, 0.0, 4.507859402491384, 0.0, 6.222755101703694, 1.0, 948.3856728383939, -0.9853029888780486, 139.0, 0.0, 0.0, 214.0, 0.0], [55.0, 0.0, 4.01924850956512, 1.0, 6.701029399874939, 0.0, 727.462222770865, -0.2488922424935961, 143.0, 0.0, 0.0, 215.0, 0.0], [50.0, 0.0, 3.6844639679902556, 0.0, 7.534101647809663, 1.0, 788.8448857751116, 0.0, 133.0, 1.0, 0.0, 215.0, 0.0], [70.0, 0.0, 3.2160395260494328, 1.0, 6.701029399874939, 1.0, 734.8928941133563, 0.16723372590987146, 132.0, 0.0, 0.0, 215.0, 0.0], [53.0, 1.0, 3.9255773899748867, 0.0, 8.575247780217278, 1.0, 774.1559554351417, 0.0, 139.0, 1.0, 0.0, 215.0, 0.0], [52.0, 1.0, 3.577387407026194, 1.0, 6.222755101703694, 1.0, 866.542697377834, 0.0, 142.0, 1.0, 1.0, 216.0, 0.0], [65.0, 0.0, 3.802258965792817, 0.0, 6.966172261451928, 0.0, 815.6587892026752, 0.4156157553193581, 139.0, 0.0, 0.0, 220.0, 0.0], [58.0, 0.0, 3.4105804180928208, 1.0, 6.966172261451928, 1.0, 759.5555109746059, 0.0, 139.0, 1.0, 0.0, 230.0, 0.0], [45.0, 1.0, 3.070306516971223, 1.0, 5.687197660638561, 0.0, 730.444560884831, -0.2488922424935961, 135.0, 1.0, 0.0, 230.0, 0.0], [53.0, 0.0, 2.9840740848055227, 0.0, 7.904145325280192, 0.0, 833.860698122771, -0.42547670384637193, 135.0, 1.0, 1.0, 231.0, 0.0], [55.0, 0.0, 3.070306516971223, 0.0, 7.135176462792489, 0.0, 684.1890972560772, 0.0, 138.0, 1.0, 0.0, 233.0, 0.0], [62.0, 1.0, 4.068739914586581, 0.0, 7.135176462792489, 0.0, 801.0344905952237, -0.42547670384637193, 133.0, 0.0, 0.0, 233.0, 0.0], [68.0, 1.0, 3.4900911822976983, 1.0, 8.575247780217278, 0.0, 692.137019063076, 0.0, 140.0, 0.0, 0.0, 237.0, 0.0], [61.0, 0.0, 4.025637862396358, 1.0, 6.966172261451928, 0.0, 586.97618025688, 0.16723372590987146, 141.0, 1.0, 0.0, 237.0, 0.0], [50.0, 1.0, 3.7657922251608413, 0.0, 6.701029399874939, 0.0, 900.2726215493195, -0.11088268777686425, 140.0, 1.0, 1.0, 240.0, 0.0], [56.0, 1.0, 3.4210049718746154, 1.0, 6.966172261451928, 0.0, 559.726859198066, 0.4156157553193581, 140.0, 1.0, 0.0, 244.0, 0.0], [45.0, 0.0, 4.025637862396358, 1.0, 6.966172261451928, 0.0, 826.1144030522476, -0.11088268777686425, 140.0, 0.0, 0.0, 244.0, 0.0], [40.0, 0.0, 4.025637862396358, 1.0, 6.701029399874939, 0.0, 713.8703185028197, 0.0, 132.0, 1.0, 0.0, 244.0, 0.0], [44.0, 0.0, 4.025637862396358, 1.0, 6.222755101703694, 1.0, 774.1559554351417, 0.37813826526469946, 130.0, 1.0, 1.0, 244.0, 0.0], [51.0, 0.0, 4.025637862396358, 1.0, 7.135176462792489, 0.0, 712.3423231121928, -0.11088268777686425, 134.0, 0.0, 0.0, 244.0, 0.0], [67.0, 0.0, 3.6247865837393984, 0.0, 6.966172261451928, 0.0, 703.0968755352851, 0.16723372590987146, 133.0, 0.0, 0.0, 245.0, 0.0], [42.0, 0.0, 3.054325175451314, 0.0, 7.135176462792489, 0.0, 661.3696134728824, -0.42547670384637193, 140.0, 1.0, 0.0, 245.0, 0.0], [60.0, 1.0, 3.70455348599729, 1.0, 6.222755101703694, 0.0, 592.6349787380514, 0.0, 137.0, 1.0, 1.0, 245.0, 0.0], [45.0, 0.0, 4.025637862396358, 0.0, 6.966172261451928, 1.0, 968.1957227183908, -0.2488922424935961, 137.0, 0.0, 0.0, 245.0, 0.0], [70.0, 0.0, 4.047630059569936, 0.0, 6.701029399874939, 0.0, 857.8796284051286, 0.09107302012510697, 142.0, 0.0, 0.0, 245.0, 0.0], [70.0, 0.0, 4.025637862396358, 1.0, 6.966172261451928, 0.0, 253.11163857983811, 0.09107302012510697, 140.0, 1.0, 0.0, 246.0, 0.0], [50.0, 1.0, 4.233440160285953, 1.0, 6.222755101703694, 0.0, 728.9550847859641, -0.42547670384637193, 136.0, 0.0, 0.0, 246.0, 0.0], [55.0, 0.0, 3.1929172980713, 1.0, 6.966172261451928, 0.0, 999.1975116441009, 0.2318846842881995, 136.0, 0.0, 0.0, 246.0, 0.0], [70.0, 0.0, 4.52716279796163, 1.0, 7.135176462792489, 0.0, 742.2410868323398, 0.0, 137.0, 1.0, 0.0, 247.0, 0.0], [42.0, 0.0, 3.054325175451314, 0.0, 6.222755101703694, 0.0, 703.0968755352851, 0.7518729240004571, 128.0, 1.0, 1.0, 250.0, 0.0], [65.0, 0.0, 4.386652127771893, 0.0, 6.966172261451928, 0.0, 774.1559554351417, 0.09107302012510697, 138.0, 1.0, 1.0, 250.0, 0.0], [50.0, 1.0, 2.964684519731618, 0.0, 7.135176462792489, 0.0, 795.6424850606941, -0.2488922424935961, 141.0, 1.0, 0.0, 250.0, 0.0], [55.0, 1.0, 3.5258421809283442, 1.0, 7.135176462792489, 0.0, 869.0002550093895, 0.16723372590987146, 135.0, 1.0, 0.0, 250.0, 0.0], [60.0, 0.0, 3.6979797547229696, 0.0, 6.701029399874939, 0.0, 795.6424850606941, 0.4156157553193581, 140.0, 1.0, 0.0, 250.0, 0.0], [45.0, 0.0, 4.025637862396358, 1.0, 8.250000161791457, 0.0, 1091.1400504775881, 0.0, 132.0, 0.0, 0.0, 250.0, 0.0], [65.0, 0.0, 4.177686562251363, 1.0, 6.701029399874939, 0.0, 774.1559554351417, 0.09107302012510697, 142.0, 0.0, 0.0, 256.0, 0.0], [90.0, 1.0, 3.815605112789745, 0.0, 6.966172261451928, 0.0, 932.6541418213105, -0.11088268777686425, 144.0, 0.0, 0.0, 256.0, 0.0], [45.0, 0.0, 4.045854665516563, 1.0, 8.250000161791457, 0.0, 713.8703185028197, -0.2488922424935961, 141.0, 0.0, 0.0, 257.0, 0.0], [60.0, 0.0, 3.7947577450252012, 0.0, 6.701029399874939, 0.0, 559.726859198066, 0.28746421927002, 139.0, 1.0, 0.0, 258.0, 0.0], [52.0, 0.0, 3.575084560951318, 1.0, 6.966172261451928, 0.0, 923.5308914820124, 0.0, 140.0, 1.0, 1.0, 258.0, 0.0], [63.0, 1.0, 3.2930293319142407, 1.0, 6.701029399874939, 0.0, 644.5195855029045, -0.11088268777686425, 136.0, 1.0, 1.0, 270.0, 0.0], [62.0, 0.0, 3.029236795715439, 1.0, 6.966172261451928, 1.0, 601.9353817159371, 0.09107302012510697, 143.0, 1.0, 1.0, 270.0, 0.0], [55.0, 0.0, 4.409966996257951, 0.0, 6.966172261451928, 0.0, 783.3596165600484, 0.16723372590987146, 139.0, 0.0, 0.0, 271.0, 0.0], [45.0, 0.0, 4.494892832728779, 0.0, 6.966172261451928, 0.0, 573.5310365674736, 0.28746421927002, 140.0, 1.0, 1.0, 280.0, 0.0], [50.0, 0.0, 3.588696108461663, 0.0, 7.534101647809663, 0.0, 938.3061823271569, 0.37813826526469946, 136.0, 1.0, 1.0, 285.0, 0.0]], \"hoverlabel\": {\"namelength\": 0}, \"hovertemplate\": \"DEATH_EVENT=%{customdata[12]}<br>KADAR CREATININE PHOSPHOKINASE=%{customdata[2]}<br>age=%{customdata[0]}<br>anaemia=%{customdata[1]}<br>diabetes=%{customdata[3]}<br>ejection_fraction=%{customdata[4]}<br>high_blood_pressure=%{customdata[5]}<br>platelets=%{customdata[6]}<br>serum_creatinine=%{customdata[7]}<br>serum_sodium=%{customdata[8]}<br>sex=%{customdata[9]}<br>smoking=%{customdata[10]}<br>time=%{customdata[11]}\", \"legendgroup\": \"DEATH_EVENT=0\", \"marker\": {\"color\": \"#ab63fa\"}, \"name\": \"DEATH_EVENT=0\", \"offsetgroup\": \"DEATH_EVENT=0\", \"scalegroup\": \"x\", \"showlegend\": false, \"type\": \"violin\", \"x\": [3.1684846465272583, 2.9444457368957844, 3.0461163167914935, 3.495809779393574, 3.392581936914349, 3.1358769110652616, 4.041070866936736, 3.3202631072599207, 4.025637862396358, 3.4632714480164832, 4.025637862396358, 3.6464071306534116, 3.237976574459835, 3.288312103752678, 3.6039796064457867, 3.814412795329531, 3.093256796369123, 4.025637862396358, 2.974481274913581, 3.15573231999406, 2.88963710097958, 3.085737141873115, 3.1929172980713, 3.3458152578917644, 3.070306516971223, 4.179610208504033, 4.025637862396358, 3.4507390373886433, 3.41408546547616, 3.97944668281799, 3.011704497231516, 3.487200189017973, 3.029236795715439, 3.7752698180618083, 4.025637862396358, 4.179993449101688, 4.708366991133288, 2.9546755841073375, 4.116224395293592, 4.419273824459844, 4.19420143685751, 3.7574612368095015, 3.0205551670471475, 3.8517344703285468, 4.119050365491325, 3.8834335167541476, 3.2588369087377838, 3.3374727399760893, 4.110974683941758, 3.085737141873115, 3.2588369087377838, 4.025637862396358, 3.839738229790088, 3.597505374097021, 3.6895914357173876, 3.725127479140868, 4.407929551232915, 4.243171772908823, 4.102185625459166, 3.5819515336464267, 4.67210023885116, 4.025637862396358, 3.011704497231516, 4.063734384423375, 3.741660542510888, 4.3594988631991995, 3.756053491288467, 3.955193819076111, 3.1929172980713, 3.5633560873152086, 3.4105804180928208, 4.371860515187577, 4.475633221295353, 2.6354550436836317, 3.3458152578917644, 4.414328634859375, 3.8132163652538806, 3.659535746118753, 3.0026785447767916, 3.6929700423747898, 4.184554183587198, 3.3998780827461768, 3.115080630234826, 3.4034772432751206, 4.025637862396358, 3.588696108461663, 4.025637862396358, 4.154833323382541, 4.025637862396358, 4.635666967716511, 3.5284603424816834, 3.3458152578917644, 3.593126478863179, 3.2537173825296515, 4.331836208267133, 3.093256796369123, 3.373744327318973, 4.154833323382541, 3.9520316349307, 3.4724163071733463, 3.682738650104513, 4.025637862396358, 3.0377553047191284, 3.36986959494581, 3.659535746118753, 4.025637862396358, 3.5178795011840127, 4.025637862396358, 4.280462728555355, 3.7792548970055115, 3.263895104933416, 3.011704497231516, 3.054325175451314, 3.5178795011840127, 3.2835410635260756, 3.622757261581563, 4.478251649433291, 4.207059123978379, 3.622757261581563, 4.025637862396358, 3.6464071306534116, 3.4210049718746154, 4.025637862396358, 4.278013349594755, 4.22370096666247, 4.025637862396358, 3.3580193280085133, 3.204633956099047, 4.025637862396358, 4.025637862396358, 4.0795839939451755, 2.9934707250131223, 4.537575083516385, 2.9840740848055227, 3.6207168343918568, 3.243288688526272, 3.3998780827461768, 4.096183607465114, 4.025637862396358, 3.3202631072599207, 3.362007776647375, 3.6613736436395707, 4.102680555108649, 3.5512550085839614, 3.1747232377525965, 4.025637862396358, 3.2271490618197807, 4.2733283192721965, 4.025637862396358, 3.1684846465272583, 3.4475429312903905, 4.051151121287894, 3.6124417726828515, 4.507859402491384, 4.01924850956512, 3.6844639679902556, 3.2160395260494328, 3.9255773899748867, 3.577387407026194, 3.802258965792817, 3.4105804180928208, 3.070306516971223, 2.9840740848055227, 3.070306516971223, 4.068739914586581, 3.4900911822976983, 4.025637862396358, 3.7657922251608413, 3.4210049718746154, 4.025637862396358, 4.025637862396358, 4.025637862396358, 4.025637862396358, 3.6247865837393984, 3.054325175451314, 3.70455348599729, 4.025637862396358, 4.047630059569936, 4.025637862396358, 4.233440160285953, 3.1929172980713, 4.52716279796163, 3.054325175451314, 4.386652127771893, 2.964684519731618, 3.5258421809283442, 3.6979797547229696, 4.025637862396358, 4.177686562251363, 3.815605112789745, 4.045854665516563, 3.7947577450252012, 3.575084560951318, 3.2930293319142407, 3.029236795715439, 4.409966996257951, 4.494892832728779, 3.588696108461663], \"xaxis\": \"x2\", \"yaxis\": \"y2\"}],\n",
              "                        {\"barmode\": \"relative\", \"legend\": {\"tracegroupgap\": 0}, \"template\": {\"data\": {\"bar\": [{\"error_x\": {\"color\": \"#f2f5fa\"}, \"error_y\": {\"color\": \"#f2f5fa\"}, \"marker\": {\"line\": {\"color\": \"rgb(17,17,17)\", \"width\": 0.5}}, \"type\": \"bar\"}], \"barpolar\": [{\"marker\": {\"line\": {\"color\": \"rgb(17,17,17)\", \"width\": 0.5}}, \"type\": \"barpolar\"}], \"carpet\": [{\"aaxis\": {\"endlinecolor\": \"#A2B1C6\", \"gridcolor\": \"#506784\", \"linecolor\": \"#506784\", \"minorgridcolor\": \"#506784\", \"startlinecolor\": \"#A2B1C6\"}, \"baxis\": {\"endlinecolor\": \"#A2B1C6\", \"gridcolor\": \"#506784\", \"linecolor\": \"#506784\", \"minorgridcolor\": \"#506784\", \"startlinecolor\": \"#A2B1C6\"}, \"type\": \"carpet\"}], \"choropleth\": [{\"colorbar\": {\"outlinewidth\": 0, \"ticks\": \"\"}, \"type\": \"choropleth\"}], \"contour\": [{\"colorbar\": {\"outlinewidth\": 0, \"ticks\": \"\"}, \"colorscale\": [[0.0, \"#0d0887\"], [0.1111111111111111, \"#46039f\"], [0.2222222222222222, \"#7201a8\"], [0.3333333333333333, \"#9c179e\"], [0.4444444444444444, \"#bd3786\"], [0.5555555555555556, \"#d8576b\"], [0.6666666666666666, \"#ed7953\"], [0.7777777777777778, \"#fb9f3a\"], [0.8888888888888888, \"#fdca26\"], [1.0, \"#f0f921\"]], \"type\": \"contour\"}], \"contourcarpet\": [{\"colorbar\": {\"outlinewidth\": 0, \"ticks\": \"\"}, \"type\": \"contourcarpet\"}], \"heatmap\": [{\"colorbar\": {\"outlinewidth\": 0, \"ticks\": \"\"}, \"colorscale\": [[0.0, \"#0d0887\"], [0.1111111111111111, \"#46039f\"], [0.2222222222222222, \"#7201a8\"], [0.3333333333333333, \"#9c179e\"], [0.4444444444444444, \"#bd3786\"], [0.5555555555555556, \"#d8576b\"], [0.6666666666666666, \"#ed7953\"], [0.7777777777777778, \"#fb9f3a\"], [0.8888888888888888, \"#fdca26\"], [1.0, \"#f0f921\"]], \"type\": \"heatmap\"}], \"heatmapgl\": [{\"colorbar\": {\"outlinewidth\": 0, \"ticks\": \"\"}, \"colorscale\": [[0.0, \"#0d0887\"], [0.1111111111111111, \"#46039f\"], [0.2222222222222222, \"#7201a8\"], [0.3333333333333333, \"#9c179e\"], [0.4444444444444444, \"#bd3786\"], [0.5555555555555556, \"#d8576b\"], [0.6666666666666666, \"#ed7953\"], [0.7777777777777778, \"#fb9f3a\"], [0.8888888888888888, \"#fdca26\"], [1.0, \"#f0f921\"]], \"type\": \"heatmapgl\"}], \"histogram\": [{\"marker\": {\"colorbar\": {\"outlinewidth\": 0, \"ticks\": \"\"}}, \"type\": \"histogram\"}], \"histogram2d\": [{\"colorbar\": {\"outlinewidth\": 0, \"ticks\": \"\"}, \"colorscale\": [[0.0, \"#0d0887\"], [0.1111111111111111, \"#46039f\"], [0.2222222222222222, \"#7201a8\"], [0.3333333333333333, \"#9c179e\"], [0.4444444444444444, \"#bd3786\"], [0.5555555555555556, \"#d8576b\"], [0.6666666666666666, \"#ed7953\"], [0.7777777777777778, \"#fb9f3a\"], [0.8888888888888888, \"#fdca26\"], [1.0, \"#f0f921\"]], \"type\": \"histogram2d\"}], \"histogram2dcontour\": [{\"colorbar\": {\"outlinewidth\": 0, \"ticks\": \"\"}, \"colorscale\": [[0.0, \"#0d0887\"], [0.1111111111111111, \"#46039f\"], [0.2222222222222222, \"#7201a8\"], [0.3333333333333333, \"#9c179e\"], [0.4444444444444444, \"#bd3786\"], [0.5555555555555556, \"#d8576b\"], [0.6666666666666666, \"#ed7953\"], [0.7777777777777778, \"#fb9f3a\"], [0.8888888888888888, \"#fdca26\"], [1.0, \"#f0f921\"]], \"type\": \"histogram2dcontour\"}], \"mesh3d\": [{\"colorbar\": {\"outlinewidth\": 0, \"ticks\": \"\"}, \"type\": \"mesh3d\"}], \"parcoords\": [{\"line\": {\"colorbar\": {\"outlinewidth\": 0, \"ticks\": \"\"}}, \"type\": \"parcoords\"}], \"pie\": [{\"automargin\": true, \"type\": \"pie\"}], \"scatter\": [{\"marker\": {\"line\": {\"color\": \"#283442\"}}, \"type\": \"scatter\"}], \"scatter3d\": [{\"line\": {\"colorbar\": {\"outlinewidth\": 0, \"ticks\": \"\"}}, \"marker\": {\"colorbar\": {\"outlinewidth\": 0, \"ticks\": \"\"}}, \"type\": \"scatter3d\"}], \"scattercarpet\": [{\"marker\": {\"colorbar\": {\"outlinewidth\": 0, \"ticks\": \"\"}}, \"type\": \"scattercarpet\"}], \"scattergeo\": [{\"marker\": {\"colorbar\": {\"outlinewidth\": 0, \"ticks\": \"\"}}, \"type\": \"scattergeo\"}], \"scattergl\": [{\"marker\": {\"line\": {\"color\": \"#283442\"}}, \"type\": \"scattergl\"}], \"scattermapbox\": [{\"marker\": {\"colorbar\": {\"outlinewidth\": 0, \"ticks\": \"\"}}, \"type\": \"scattermapbox\"}], \"scatterpolar\": [{\"marker\": {\"colorbar\": {\"outlinewidth\": 0, \"ticks\": \"\"}}, \"type\": \"scatterpolar\"}], \"scatterpolargl\": [{\"marker\": {\"colorbar\": {\"outlinewidth\": 0, \"ticks\": \"\"}}, \"type\": \"scatterpolargl\"}], \"scatterternary\": [{\"marker\": {\"colorbar\": {\"outlinewidth\": 0, \"ticks\": \"\"}}, \"type\": \"scatterternary\"}], \"surface\": [{\"colorbar\": {\"outlinewidth\": 0, \"ticks\": \"\"}, \"colorscale\": [[0.0, \"#0d0887\"], [0.1111111111111111, \"#46039f\"], [0.2222222222222222, \"#7201a8\"], [0.3333333333333333, \"#9c179e\"], [0.4444444444444444, \"#bd3786\"], [0.5555555555555556, \"#d8576b\"], [0.6666666666666666, \"#ed7953\"], [0.7777777777777778, \"#fb9f3a\"], [0.8888888888888888, \"#fdca26\"], [1.0, \"#f0f921\"]], \"type\": \"surface\"}], \"table\": [{\"cells\": {\"fill\": {\"color\": \"#506784\"}, \"line\": {\"color\": \"rgb(17,17,17)\"}}, \"header\": {\"fill\": {\"color\": \"#2a3f5f\"}, \"line\": {\"color\": \"rgb(17,17,17)\"}}, \"type\": \"table\"}]}, \"layout\": {\"annotationdefaults\": {\"arrowcolor\": \"#f2f5fa\", \"arrowhead\": 0, \"arrowwidth\": 1}, \"coloraxis\": {\"colorbar\": {\"outlinewidth\": 0, \"ticks\": \"\"}}, \"colorscale\": {\"diverging\": [[0, \"#8e0152\"], [0.1, \"#c51b7d\"], [0.2, \"#de77ae\"], [0.3, \"#f1b6da\"], [0.4, \"#fde0ef\"], [0.5, \"#f7f7f7\"], [0.6, \"#e6f5d0\"], [0.7, \"#b8e186\"], [0.8, \"#7fbc41\"], [0.9, \"#4d9221\"], [1, \"#276419\"]], \"sequential\": [[0.0, \"#0d0887\"], [0.1111111111111111, \"#46039f\"], [0.2222222222222222, \"#7201a8\"], [0.3333333333333333, \"#9c179e\"], [0.4444444444444444, \"#bd3786\"], [0.5555555555555556, \"#d8576b\"], [0.6666666666666666, \"#ed7953\"], [0.7777777777777778, \"#fb9f3a\"], [0.8888888888888888, \"#fdca26\"], [1.0, \"#f0f921\"]], \"sequentialminus\": [[0.0, \"#0d0887\"], [0.1111111111111111, \"#46039f\"], [0.2222222222222222, \"#7201a8\"], [0.3333333333333333, \"#9c179e\"], [0.4444444444444444, \"#bd3786\"], [0.5555555555555556, \"#d8576b\"], [0.6666666666666666, \"#ed7953\"], [0.7777777777777778, \"#fb9f3a\"], [0.8888888888888888, \"#fdca26\"], [1.0, \"#f0f921\"]]}, \"colorway\": [\"#636efa\", \"#EF553B\", \"#00cc96\", \"#ab63fa\", \"#FFA15A\", \"#19d3f3\", \"#FF6692\", \"#B6E880\", \"#FF97FF\", \"#FECB52\"], \"font\": {\"color\": \"#f2f5fa\"}, \"geo\": {\"bgcolor\": \"rgb(17,17,17)\", \"lakecolor\": \"rgb(17,17,17)\", \"landcolor\": \"rgb(17,17,17)\", \"showlakes\": true, \"showland\": true, \"subunitcolor\": \"#506784\"}, \"hoverlabel\": {\"align\": \"left\"}, \"hovermode\": \"closest\", \"mapbox\": {\"style\": \"dark\"}, \"paper_bgcolor\": \"rgb(17,17,17)\", \"plot_bgcolor\": \"rgb(17,17,17)\", \"polar\": {\"angularaxis\": {\"gridcolor\": \"#506784\", \"linecolor\": \"#506784\", \"ticks\": \"\"}, \"bgcolor\": \"rgb(17,17,17)\", \"radialaxis\": {\"gridcolor\": \"#506784\", \"linecolor\": \"#506784\", \"ticks\": \"\"}}, \"scene\": {\"xaxis\": {\"backgroundcolor\": \"rgb(17,17,17)\", \"gridcolor\": \"#506784\", \"gridwidth\": 2, \"linecolor\": \"#506784\", \"showbackground\": true, \"ticks\": \"\", \"zerolinecolor\": \"#C8D4E3\"}, \"yaxis\": {\"backgroundcolor\": \"rgb(17,17,17)\", \"gridcolor\": \"#506784\", \"gridwidth\": 2, \"linecolor\": \"#506784\", \"showbackground\": true, \"ticks\": \"\", \"zerolinecolor\": \"#C8D4E3\"}, \"zaxis\": {\"backgroundcolor\": \"rgb(17,17,17)\", \"gridcolor\": \"#506784\", \"gridwidth\": 2, \"linecolor\": \"#506784\", \"showbackground\": true, \"ticks\": \"\", \"zerolinecolor\": \"#C8D4E3\"}}, \"shapedefaults\": {\"line\": {\"color\": \"#f2f5fa\"}}, \"sliderdefaults\": {\"bgcolor\": \"#C8D4E3\", \"bordercolor\": \"rgb(17,17,17)\", \"borderwidth\": 1, \"tickwidth\": 0}, \"ternary\": {\"aaxis\": {\"gridcolor\": \"#506784\", \"linecolor\": \"#506784\", \"ticks\": \"\"}, \"baxis\": {\"gridcolor\": \"#506784\", \"linecolor\": \"#506784\", \"ticks\": \"\"}, \"bgcolor\": \"rgb(17,17,17)\", \"caxis\": {\"gridcolor\": \"#506784\", \"linecolor\": \"#506784\", \"ticks\": \"\"}}, \"title\": {\"x\": 0.05}, \"updatemenudefaults\": {\"bgcolor\": \"#506784\", \"borderwidth\": 0}, \"xaxis\": {\"automargin\": true, \"gridcolor\": \"#283442\", \"linecolor\": \"#506784\", \"ticks\": \"\", \"title\": {\"standoff\": 15}, \"zerolinecolor\": \"#283442\", \"zerolinewidth\": 2}, \"yaxis\": {\"automargin\": true, \"gridcolor\": \"#283442\", \"linecolor\": \"#506784\", \"ticks\": \"\", \"title\": {\"standoff\": 15}, \"zerolinecolor\": \"#283442\", \"zerolinewidth\": 2}}}, \"title\": {\"text\": \"DISTRIBUSI ENZIM CPK vs KEMATIAN\"}, \"xaxis\": {\"anchor\": \"y\", \"domain\": [0.0, 1.0], \"title\": {\"text\": \"KADAR CREATININE PHOSPHOKINASE\"}}, \"xaxis2\": {\"anchor\": \"y2\", \"domain\": [0.0, 1.0], \"matches\": \"x\", \"showgrid\": true, \"showticklabels\": false}, \"yaxis\": {\"anchor\": \"x\", \"domain\": [0.0, 0.7326], \"title\": {\"text\": \"count\"}}, \"yaxis2\": {\"anchor\": \"x2\", \"domain\": [0.7426, 1.0], \"matches\": \"y2\", \"showgrid\": false, \"showline\": false, \"showticklabels\": false, \"ticks\": \"\"}},\n",
              "                        {\"responsive\": true}\n",
              "                    ).then(function(){\n",
              "                            \n",
              "var gd = document.getElementById('f7797dac-1662-436d-8e56-7fc3c111fd7e');\n",
              "var x = new MutationObserver(function (mutations, observer) {{\n",
              "        var display = window.getComputedStyle(gd).display;\n",
              "        if (!display || display === 'none') {{\n",
              "            console.log([gd, 'removed!']);\n",
              "            Plotly.purge(gd);\n",
              "            observer.disconnect();\n",
              "        }}\n",
              "}});\n",
              "\n",
              "// Listen for the removal of the full notebook cells\n",
              "var notebookContainer = gd.closest('#notebook-container');\n",
              "if (notebookContainer) {{\n",
              "    x.observe(notebookContainer, {childList: true});\n",
              "}}\n",
              "\n",
              "// Listen for the clearing of the current output cell\n",
              "var outputEl = gd.closest('.output');\n",
              "if (outputEl) {{\n",
              "    x.observe(outputEl, {childList: true});\n",
              "}}\n",
              "\n",
              "                        })\n",
              "                };\n",
              "                \n",
              "            </script>\n",
              "        </div>\n",
              "</body>\n",
              "</html>"
            ]
          },
          "metadata": {}
        }
      ]
    },
    {
      "cell_type": "markdown",
      "metadata": {
        "id": "_OIglqkAlaem"
      },
      "source": [
        "# Visualisasi Distribusi Ejection Fraction"
      ]
    },
    {
      "cell_type": "code",
      "metadata": {
        "id": "6-06Zbri-_HN",
        "colab": {
          "base_uri": "https://localhost:8080/",
          "height": 542
        },
        "outputId": "5f6240a5-cf05-4f23-d621-61b60071955f"
      },
      "source": [
        "fig = px.histogram(df, x=\"ejection_fraction\", color_discrete_sequence=['#FE6F5E'])\n",
        "fig.update_layout(\n",
        "    title_text='HISTOGRAM DISTRIBUSI EJECTION FRACTION', # judul plot\n",
        "    xaxis_title_text='Ejection Fraction', # judul sumbu x\n",
        "    yaxis_title_text='Jumlah', # judul sumbu y\n",
        "    bargap=0.05, # jarak antara tiap batang yang berdekatans\n",
        "    template = 'plotly_dark'\n",
        ")\n",
        "\n",
        "fig.show()"
      ],
      "execution_count": null,
      "outputs": [
        {
          "output_type": "display_data",
          "data": {
            "text/html": [
              "<html>\n",
              "<head><meta charset=\"utf-8\" /></head>\n",
              "<body>\n",
              "    <div>\n",
              "            <script src=\"https://cdnjs.cloudflare.com/ajax/libs/mathjax/2.7.5/MathJax.js?config=TeX-AMS-MML_SVG\"></script><script type=\"text/javascript\">if (window.MathJax) {MathJax.Hub.Config({SVG: {font: \"STIX-Web\"}});}</script>\n",
              "                <script type=\"text/javascript\">window.PlotlyConfig = {MathJaxConfig: 'local'};</script>\n",
              "        <script src=\"https://cdn.plot.ly/plotly-latest.min.js\"></script>    \n",
              "            <div id=\"3559b9bd-a0b8-4505-a303-26254da123e9\" class=\"plotly-graph-div\" style=\"height:525px; width:100%;\"></div>\n",
              "            <script type=\"text/javascript\">\n",
              "                \n",
              "                    window.PLOTLYENV=window.PLOTLYENV || {};\n",
              "                    \n",
              "                if (document.getElementById(\"3559b9bd-a0b8-4505-a303-26254da123e9\")) {\n",
              "                    Plotly.newPlot(\n",
              "                        '3559b9bd-a0b8-4505-a303-26254da123e9',\n",
              "                        [{\"alignmentgroup\": \"True\", \"bingroup\": \"x\", \"hoverlabel\": {\"namelength\": 0}, \"hovertemplate\": \"ejection_fraction=%{x}<br>count=%{y}\", \"legendgroup\": \"\", \"marker\": {\"color\": \"#FE6F5E\"}, \"name\": \"\", \"offsetgroup\": \"\", \"orientation\": \"v\", \"showlegend\": false, \"type\": \"histogram\", \"x\": [5.073540247790502, 6.966172261451928, 5.073540247790502, 5.073540247790502, 7.135176462792489, 4.345403961411269, 8.575247780217278, 8.882691017043939, 6.701029399874939, 6.966172261451928, 5.687197660638561, 6.222755101703694, 6.966172261451928, 6.222755101703694, 7.904145325280192, 6.966172261451928, 4.180684498623985, 5.687197660638561, 8.250000161791457, 5.687197660638561, 6.222755101703694, 6.701029399874939, 8.575247780217278, 6.222755101703694, 6.966172261451928, 7.135176462792489, 7.534101647809663, 6.966172261451928, 6.222755101703694, 6.966172261451928, 7.534101647809663, 6.701029399874939, 6.222755101703694, 7.904145325280192, 6.701029399874939, 7.904145325280192, 7.904145325280192, 6.966172261451928, 5.073540247790502, 6.222755101703694, 7.534101647809663, 7.904145325280192, 8.575247780217278, 6.966172261451928, 5.687197660638561, 6.966172261451928, 5.073540247790502, 6.222755101703694, 5.687197660638561, 5.073540247790502, 7.904145325280192, 6.966172261451928, 6.222755101703694, 6.701029399874939, 7.135176462792489, 5.073540247790502, 5.073540247790502, 5.687197660638561, 7.135176462792489, 6.701029399874939, 6.701029399874939, 9.71859519435444, 5.073540247790502, 4.345403961411269, 5.687197660638561, 5.687197660638561, 5.687197660638561, 7.135176462792489, 6.701029399874939, 6.701029399874939, 7.904145325280192, 5.073540247790502, 5.073540247790502, 8.575247780217278, 7.135176462792489, 6.966172261451928, 7.534101647809663, 7.135176462792489, 7.904145325280192, 5.687197660638561, 7.904145325280192, 5.687197660638561, 7.904145325280192, 6.701029399874939, 8.575247780217278, 7.135176462792489, 5.687197660638561, 7.534101647809663, 7.534101647809663, 8.575247780217278, 5.687197660638561, 6.966172261451928, 8.575247780217278, 5.687197660638561, 8.575247780217278, 5.687197660638561, 7.135176462792489, 5.687197660638561, 7.534101647809663, 5.687197660638561, 6.222755101703694, 7.904145325280192, 6.222755101703694, 7.534101647809663, 6.701029399874939, 6.966172261451928, 6.701029399874939, 8.575247780217278, 6.701029399874939, 5.687197660638561, 8.575247780217278, 7.135176462792489, 7.135176462792489, 8.575247780217278, 8.575247780217278, 6.966172261451928, 8.575247780217278, 6.966172261451928, 6.966172261451928, 6.222755101703694, 7.135176462792489, 7.904145325280192, 4.653837033100984, 8.575247780217278, 6.222755101703694, 6.701029399874939, 8.575247780217278, 7.534101647809663, 7.135176462792489, 8.575247780217278, 6.701029399874939, 7.135176462792489, 8.575247780217278, 5.687197660638561, 6.701029399874939, 6.222755101703694, 6.966172261451928, 6.701029399874939, 6.222755101703694, 7.135176462792489, 5.687197660638561, 6.222755101703694, 6.222755101703694, 8.575247780217278, 6.222755101703694, 6.701029399874939, 7.534101647809663, 8.575247780217278, 7.534101647809663, 6.701029399874939, 6.701029399874939, 5.687197660638561, 6.701029399874939, 5.687197660638561, 7.904145325280192, 7.534101647809663, 7.135176462792489, 6.701029399874939, 7.135176462792489, 6.222755101703694, 6.966172261451928, 8.575247780217278, 7.135176462792489, 6.701029399874939, 6.701029399874939, 7.135176462792489, 8.575247780217278, 5.073540247790502, 6.701029399874939, 8.575247780217278, 7.135176462792489, 7.904145325280192, 8.575247780217278, 7.135176462792489, 6.222755101703694, 5.687197660638561, 5.687197660638561, 6.966172261451928, 5.687197660638561, 6.222755101703694, 7.904145325280192, 5.687197660638561, 7.135176462792489, 7.534101647809663, 6.701029399874939, 8.575247780217278, 7.135176462792489, 6.222755101703694, 5.073540247790502, 7.534101647809663, 6.966172261451928, 6.222755101703694, 5.073540247790502, 6.701029399874939, 8.575247780217278, 8.575247780217278, 5.687197660638561, 7.135176462792489, 7.534101647809663, 7.135176462792489, 6.966172261451928, 7.135176462792489, 6.701029399874939, 4.653837033100984, 8.700225387158447, 7.904145325280192, 6.222755101703694, 6.701029399874939, 6.701029399874939, 7.904145325280192, 6.701029399874939, 6.701029399874939, 5.073540247790502, 7.904145325280192, 6.701029399874939, 5.687197660638561, 5.687197660638561, 8.575247780217278, 5.687197660638561, 6.701029399874939, 5.687197660638561, 5.687197660638561, 6.222755101703694, 6.701029399874939, 6.701029399874939, 6.966172261451928, 7.534101647809663, 7.904145325280192, 7.904145325280192, 6.222755101703694, 7.135176462792489, 7.534101647809663, 6.701029399874939, 6.222755101703694, 6.701029399874939, 7.135176462792489, 6.966172261451928, 6.966172261451928, 5.687197660638561, 5.687197660638561, 6.701029399874939, 7.135176462792489, 6.222755101703694, 6.701029399874939, 7.534101647809663, 6.701029399874939, 8.575247780217278, 6.222755101703694, 6.966172261451928, 6.966172261451928, 5.687197660638561, 7.904145325280192, 7.135176462792489, 7.135176462792489, 5.687197660638561, 8.575247780217278, 6.966172261451928, 6.701029399874939, 5.073540247790502, 6.966172261451928, 6.966172261451928, 6.701029399874939, 6.222755101703694, 7.135176462792489, 6.966172261451928, 7.135176462792489, 6.222755101703694, 6.966172261451928, 6.701029399874939, 6.966172261451928, 6.222755101703694, 6.966172261451928, 7.135176462792489, 6.222755101703694, 6.966172261451928, 7.135176462792489, 7.135176462792489, 6.701029399874939, 8.250000161791457, 6.701029399874939, 6.966172261451928, 8.250000161791457, 6.701029399874939, 6.966172261451928, 6.701029399874939, 6.966172261451928, 6.966172261451928, 6.966172261451928, 7.534101647809663], \"xaxis\": \"x\", \"yaxis\": \"y\"}],\n",
              "                        {\"bargap\": 0.05, \"barmode\": \"relative\", \"legend\": {\"tracegroupgap\": 0}, \"margin\": {\"t\": 60}, \"template\": {\"data\": {\"bar\": [{\"error_x\": {\"color\": \"#f2f5fa\"}, \"error_y\": {\"color\": \"#f2f5fa\"}, \"marker\": {\"line\": {\"color\": \"rgb(17,17,17)\", \"width\": 0.5}}, \"type\": \"bar\"}], \"barpolar\": [{\"marker\": {\"line\": {\"color\": \"rgb(17,17,17)\", \"width\": 0.5}}, \"type\": \"barpolar\"}], \"carpet\": [{\"aaxis\": {\"endlinecolor\": \"#A2B1C6\", \"gridcolor\": \"#506784\", \"linecolor\": \"#506784\", \"minorgridcolor\": \"#506784\", \"startlinecolor\": \"#A2B1C6\"}, \"baxis\": {\"endlinecolor\": \"#A2B1C6\", \"gridcolor\": \"#506784\", \"linecolor\": \"#506784\", \"minorgridcolor\": \"#506784\", \"startlinecolor\": \"#A2B1C6\"}, \"type\": \"carpet\"}], \"choropleth\": [{\"colorbar\": {\"outlinewidth\": 0, \"ticks\": \"\"}, \"type\": \"choropleth\"}], \"contour\": [{\"colorbar\": {\"outlinewidth\": 0, \"ticks\": \"\"}, \"colorscale\": [[0.0, \"#0d0887\"], [0.1111111111111111, \"#46039f\"], [0.2222222222222222, \"#7201a8\"], [0.3333333333333333, \"#9c179e\"], [0.4444444444444444, \"#bd3786\"], [0.5555555555555556, \"#d8576b\"], [0.6666666666666666, \"#ed7953\"], [0.7777777777777778, \"#fb9f3a\"], [0.8888888888888888, \"#fdca26\"], [1.0, \"#f0f921\"]], \"type\": \"contour\"}], \"contourcarpet\": [{\"colorbar\": {\"outlinewidth\": 0, \"ticks\": \"\"}, \"type\": \"contourcarpet\"}], \"heatmap\": [{\"colorbar\": {\"outlinewidth\": 0, \"ticks\": \"\"}, \"colorscale\": [[0.0, \"#0d0887\"], [0.1111111111111111, \"#46039f\"], [0.2222222222222222, \"#7201a8\"], [0.3333333333333333, \"#9c179e\"], [0.4444444444444444, \"#bd3786\"], [0.5555555555555556, \"#d8576b\"], [0.6666666666666666, \"#ed7953\"], [0.7777777777777778, \"#fb9f3a\"], [0.8888888888888888, \"#fdca26\"], [1.0, \"#f0f921\"]], \"type\": \"heatmap\"}], \"heatmapgl\": [{\"colorbar\": {\"outlinewidth\": 0, \"ticks\": \"\"}, \"colorscale\": [[0.0, \"#0d0887\"], [0.1111111111111111, \"#46039f\"], [0.2222222222222222, \"#7201a8\"], [0.3333333333333333, \"#9c179e\"], [0.4444444444444444, \"#bd3786\"], [0.5555555555555556, \"#d8576b\"], [0.6666666666666666, \"#ed7953\"], [0.7777777777777778, \"#fb9f3a\"], [0.8888888888888888, \"#fdca26\"], [1.0, \"#f0f921\"]], \"type\": \"heatmapgl\"}], \"histogram\": [{\"marker\": {\"colorbar\": {\"outlinewidth\": 0, \"ticks\": \"\"}}, \"type\": \"histogram\"}], \"histogram2d\": [{\"colorbar\": {\"outlinewidth\": 0, \"ticks\": \"\"}, \"colorscale\": [[0.0, \"#0d0887\"], [0.1111111111111111, \"#46039f\"], [0.2222222222222222, \"#7201a8\"], [0.3333333333333333, \"#9c179e\"], [0.4444444444444444, \"#bd3786\"], [0.5555555555555556, \"#d8576b\"], [0.6666666666666666, \"#ed7953\"], [0.7777777777777778, \"#fb9f3a\"], [0.8888888888888888, \"#fdca26\"], [1.0, \"#f0f921\"]], \"type\": \"histogram2d\"}], \"histogram2dcontour\": [{\"colorbar\": {\"outlinewidth\": 0, \"ticks\": \"\"}, \"colorscale\": [[0.0, \"#0d0887\"], [0.1111111111111111, \"#46039f\"], [0.2222222222222222, \"#7201a8\"], [0.3333333333333333, \"#9c179e\"], [0.4444444444444444, \"#bd3786\"], [0.5555555555555556, \"#d8576b\"], [0.6666666666666666, \"#ed7953\"], [0.7777777777777778, \"#fb9f3a\"], [0.8888888888888888, \"#fdca26\"], [1.0, \"#f0f921\"]], \"type\": \"histogram2dcontour\"}], \"mesh3d\": [{\"colorbar\": {\"outlinewidth\": 0, \"ticks\": \"\"}, \"type\": \"mesh3d\"}], \"parcoords\": [{\"line\": {\"colorbar\": {\"outlinewidth\": 0, \"ticks\": \"\"}}, \"type\": \"parcoords\"}], \"pie\": [{\"automargin\": true, \"type\": \"pie\"}], \"scatter\": [{\"marker\": {\"line\": {\"color\": \"#283442\"}}, \"type\": \"scatter\"}], \"scatter3d\": [{\"line\": {\"colorbar\": {\"outlinewidth\": 0, \"ticks\": \"\"}}, \"marker\": {\"colorbar\": {\"outlinewidth\": 0, \"ticks\": \"\"}}, \"type\": \"scatter3d\"}], \"scattercarpet\": [{\"marker\": {\"colorbar\": {\"outlinewidth\": 0, \"ticks\": \"\"}}, \"type\": \"scattercarpet\"}], \"scattergeo\": [{\"marker\": {\"colorbar\": {\"outlinewidth\": 0, \"ticks\": \"\"}}, \"type\": \"scattergeo\"}], \"scattergl\": [{\"marker\": {\"line\": {\"color\": \"#283442\"}}, \"type\": \"scattergl\"}], \"scattermapbox\": [{\"marker\": {\"colorbar\": {\"outlinewidth\": 0, \"ticks\": \"\"}}, \"type\": \"scattermapbox\"}], \"scatterpolar\": [{\"marker\": {\"colorbar\": {\"outlinewidth\": 0, \"ticks\": \"\"}}, \"type\": \"scatterpolar\"}], \"scatterpolargl\": [{\"marker\": {\"colorbar\": {\"outlinewidth\": 0, \"ticks\": \"\"}}, \"type\": \"scatterpolargl\"}], \"scatterternary\": [{\"marker\": {\"colorbar\": {\"outlinewidth\": 0, \"ticks\": \"\"}}, \"type\": \"scatterternary\"}], \"surface\": [{\"colorbar\": {\"outlinewidth\": 0, \"ticks\": \"\"}, \"colorscale\": [[0.0, \"#0d0887\"], [0.1111111111111111, \"#46039f\"], [0.2222222222222222, \"#7201a8\"], [0.3333333333333333, \"#9c179e\"], [0.4444444444444444, \"#bd3786\"], [0.5555555555555556, \"#d8576b\"], [0.6666666666666666, \"#ed7953\"], [0.7777777777777778, \"#fb9f3a\"], [0.8888888888888888, \"#fdca26\"], [1.0, \"#f0f921\"]], \"type\": \"surface\"}], \"table\": [{\"cells\": {\"fill\": {\"color\": \"#506784\"}, \"line\": {\"color\": \"rgb(17,17,17)\"}}, \"header\": {\"fill\": {\"color\": \"#2a3f5f\"}, \"line\": {\"color\": \"rgb(17,17,17)\"}}, \"type\": \"table\"}]}, \"layout\": {\"annotationdefaults\": {\"arrowcolor\": \"#f2f5fa\", \"arrowhead\": 0, \"arrowwidth\": 1}, \"coloraxis\": {\"colorbar\": {\"outlinewidth\": 0, \"ticks\": \"\"}}, \"colorscale\": {\"diverging\": [[0, \"#8e0152\"], [0.1, \"#c51b7d\"], [0.2, \"#de77ae\"], [0.3, \"#f1b6da\"], [0.4, \"#fde0ef\"], [0.5, \"#f7f7f7\"], [0.6, \"#e6f5d0\"], [0.7, \"#b8e186\"], [0.8, \"#7fbc41\"], [0.9, \"#4d9221\"], [1, \"#276419\"]], \"sequential\": [[0.0, \"#0d0887\"], [0.1111111111111111, \"#46039f\"], [0.2222222222222222, \"#7201a8\"], [0.3333333333333333, \"#9c179e\"], [0.4444444444444444, \"#bd3786\"], [0.5555555555555556, \"#d8576b\"], [0.6666666666666666, \"#ed7953\"], [0.7777777777777778, \"#fb9f3a\"], [0.8888888888888888, \"#fdca26\"], [1.0, \"#f0f921\"]], \"sequentialminus\": [[0.0, \"#0d0887\"], [0.1111111111111111, \"#46039f\"], [0.2222222222222222, \"#7201a8\"], [0.3333333333333333, \"#9c179e\"], [0.4444444444444444, \"#bd3786\"], [0.5555555555555556, \"#d8576b\"], [0.6666666666666666, \"#ed7953\"], [0.7777777777777778, \"#fb9f3a\"], [0.8888888888888888, \"#fdca26\"], [1.0, \"#f0f921\"]]}, \"colorway\": [\"#636efa\", \"#EF553B\", \"#00cc96\", \"#ab63fa\", \"#FFA15A\", \"#19d3f3\", \"#FF6692\", \"#B6E880\", \"#FF97FF\", \"#FECB52\"], \"font\": {\"color\": \"#f2f5fa\"}, \"geo\": {\"bgcolor\": \"rgb(17,17,17)\", \"lakecolor\": \"rgb(17,17,17)\", \"landcolor\": \"rgb(17,17,17)\", \"showlakes\": true, \"showland\": true, \"subunitcolor\": \"#506784\"}, \"hoverlabel\": {\"align\": \"left\"}, \"hovermode\": \"closest\", \"mapbox\": {\"style\": \"dark\"}, \"paper_bgcolor\": \"rgb(17,17,17)\", \"plot_bgcolor\": \"rgb(17,17,17)\", \"polar\": {\"angularaxis\": {\"gridcolor\": \"#506784\", \"linecolor\": \"#506784\", \"ticks\": \"\"}, \"bgcolor\": \"rgb(17,17,17)\", \"radialaxis\": {\"gridcolor\": \"#506784\", \"linecolor\": \"#506784\", \"ticks\": \"\"}}, \"scene\": {\"xaxis\": {\"backgroundcolor\": \"rgb(17,17,17)\", \"gridcolor\": \"#506784\", \"gridwidth\": 2, \"linecolor\": \"#506784\", \"showbackground\": true, \"ticks\": \"\", \"zerolinecolor\": \"#C8D4E3\"}, \"yaxis\": {\"backgroundcolor\": \"rgb(17,17,17)\", \"gridcolor\": \"#506784\", \"gridwidth\": 2, \"linecolor\": \"#506784\", \"showbackground\": true, \"ticks\": \"\", \"zerolinecolor\": \"#C8D4E3\"}, \"zaxis\": {\"backgroundcolor\": \"rgb(17,17,17)\", \"gridcolor\": \"#506784\", \"gridwidth\": 2, \"linecolor\": \"#506784\", \"showbackground\": true, \"ticks\": \"\", \"zerolinecolor\": \"#C8D4E3\"}}, \"shapedefaults\": {\"line\": {\"color\": \"#f2f5fa\"}}, \"sliderdefaults\": {\"bgcolor\": \"#C8D4E3\", \"bordercolor\": \"rgb(17,17,17)\", \"borderwidth\": 1, \"tickwidth\": 0}, \"ternary\": {\"aaxis\": {\"gridcolor\": \"#506784\", \"linecolor\": \"#506784\", \"ticks\": \"\"}, \"baxis\": {\"gridcolor\": \"#506784\", \"linecolor\": \"#506784\", \"ticks\": \"\"}, \"bgcolor\": \"rgb(17,17,17)\", \"caxis\": {\"gridcolor\": \"#506784\", \"linecolor\": \"#506784\", \"ticks\": \"\"}}, \"title\": {\"x\": 0.05}, \"updatemenudefaults\": {\"bgcolor\": \"#506784\", \"borderwidth\": 0}, \"xaxis\": {\"automargin\": true, \"gridcolor\": \"#283442\", \"linecolor\": \"#506784\", \"ticks\": \"\", \"title\": {\"standoff\": 15}, \"zerolinecolor\": \"#283442\", \"zerolinewidth\": 2}, \"yaxis\": {\"automargin\": true, \"gridcolor\": \"#283442\", \"linecolor\": \"#506784\", \"ticks\": \"\", \"title\": {\"standoff\": 15}, \"zerolinecolor\": \"#283442\", \"zerolinewidth\": 2}}}, \"title\": {\"text\": \"HISTOGRAM DISTRIBUSI EJECTION FRACTION\"}, \"xaxis\": {\"anchor\": \"y\", \"domain\": [0.0, 1.0], \"title\": {\"text\": \"Ejection Fraction\"}}, \"yaxis\": {\"anchor\": \"x\", \"domain\": [0.0, 1.0], \"title\": {\"text\": \"Jumlah\"}}},\n",
              "                        {\"responsive\": true}\n",
              "                    ).then(function(){\n",
              "                            \n",
              "var gd = document.getElementById('3559b9bd-a0b8-4505-a303-26254da123e9');\n",
              "var x = new MutationObserver(function (mutations, observer) {{\n",
              "        var display = window.getComputedStyle(gd).display;\n",
              "        if (!display || display === 'none') {{\n",
              "            console.log([gd, 'removed!']);\n",
              "            Plotly.purge(gd);\n",
              "            observer.disconnect();\n",
              "        }}\n",
              "}});\n",
              "\n",
              "// Listen for the removal of the full notebook cells\n",
              "var notebookContainer = gd.closest('#notebook-container');\n",
              "if (notebookContainer) {{\n",
              "    x.observe(notebookContainer, {childList: true});\n",
              "}}\n",
              "\n",
              "// Listen for the clearing of the current output cell\n",
              "var outputEl = gd.closest('.output');\n",
              "if (outputEl) {{\n",
              "    x.observe(outputEl, {childList: true});\n",
              "}}\n",
              "\n",
              "                        })\n",
              "                };\n",
              "                \n",
              "            </script>\n",
              "        </div>\n",
              "</body>\n",
              "</html>"
            ]
          },
          "metadata": {}
        }
      ]
    },
    {
      "cell_type": "code",
      "metadata": {
        "id": "D1dYSnD8_irt",
        "colab": {
          "base_uri": "https://localhost:8080/",
          "height": 542
        },
        "outputId": "02130fe1-2911-4821-a6b9-881304bbbaad"
      },
      "source": [
        "import plotly.express as px\n",
        "fig = px.histogram(df, x=\"ejection_fraction\", color=\"DEATH_EVENT\", marginal=\"violin\", hover_data=df.columns,\n",
        "                   title =\"DISTRIBUSI EJECTION FRACTION vs KEMATIAN\", \n",
        "                   labels={\"ejection_fraction\": \"EJECTION FRACTION\"},\n",
        "                   template=\"plotly_dark\",\n",
        "                   color_discrete_map={\"0\": \"RebeccaPurple\", \"1\": \"MediumPurple\"})\n",
        "fig.show()"
      ],
      "execution_count": null,
      "outputs": [
        {
          "output_type": "display_data",
          "data": {
            "text/html": [
              "<html>\n",
              "<head><meta charset=\"utf-8\" /></head>\n",
              "<body>\n",
              "    <div>\n",
              "            <script src=\"https://cdnjs.cloudflare.com/ajax/libs/mathjax/2.7.5/MathJax.js?config=TeX-AMS-MML_SVG\"></script><script type=\"text/javascript\">if (window.MathJax) {MathJax.Hub.Config({SVG: {font: \"STIX-Web\"}});}</script>\n",
              "                <script type=\"text/javascript\">window.PlotlyConfig = {MathJaxConfig: 'local'};</script>\n",
              "        <script src=\"https://cdn.plot.ly/plotly-latest.min.js\"></script>    \n",
              "            <div id=\"e1ba1d4e-dd90-4354-a315-8962b8f95b15\" class=\"plotly-graph-div\" style=\"height:525px; width:100%;\"></div>\n",
              "            <script type=\"text/javascript\">\n",
              "                \n",
              "                    window.PLOTLYENV=window.PLOTLYENV || {};\n",
              "                    \n",
              "                if (document.getElementById(\"e1ba1d4e-dd90-4354-a315-8962b8f95b15\")) {\n",
              "                    Plotly.newPlot(\n",
              "                        'e1ba1d4e-dd90-4354-a315-8962b8f95b15',\n",
              "                        [{\"alignmentgroup\": \"True\", \"bingroup\": \"x\", \"hoverlabel\": {\"namelength\": 0}, \"hovertemplate\": \"DEATH_EVENT=1<br>EJECTION FRACTION=%{x}<br>count=%{y}\", \"legendgroup\": \"DEATH_EVENT=1\", \"marker\": {\"color\": \"#00cc96\"}, \"name\": \"DEATH_EVENT=1\", \"offsetgroup\": \"DEATH_EVENT=1\", \"orientation\": \"v\", \"showlegend\": true, \"type\": \"histogram\", \"x\": [5.073540247790502, 6.966172261451928, 5.073540247790502, 5.073540247790502, 7.135176462792489, 4.345403961411269, 8.575247780217278, 8.882691017043939, 6.701029399874939, 6.966172261451928, 5.687197660638561, 6.222755101703694, 6.966172261451928, 7.904145325280192, 6.966172261451928, 4.180684498623985, 5.687197660638561, 8.250000161791457, 6.222755101703694, 6.701029399874939, 6.222755101703694, 6.966172261451928, 7.135176462792489, 7.534101647809663, 6.966172261451928, 6.222755101703694, 6.966172261451928, 7.534101647809663, 6.701029399874939, 7.904145325280192, 6.701029399874939, 7.904145325280192, 7.904145325280192, 6.966172261451928, 5.073540247790502, 6.222755101703694, 7.534101647809663, 8.575247780217278, 6.966172261451928, 5.687197660638561, 6.966172261451928, 5.073540247790502, 6.222755101703694, 5.687197660638561, 5.073540247790502, 7.904145325280192, 6.966172261451928, 6.222755101703694, 5.073540247790502, 5.073540247790502, 5.687197660638561, 7.135176462792489, 6.701029399874939, 5.073540247790502, 4.345403961411269, 5.687197660638561, 5.687197660638561, 5.687197660638561, 6.701029399874939, 5.073540247790502, 5.073540247790502, 5.687197660638561, 5.687197660638561, 5.687197660638561, 6.222755101703694, 8.575247780217278, 8.575247780217278, 6.966172261451928, 7.135176462792489, 4.653837033100984, 6.966172261451928, 5.687197660638561, 6.222755101703694, 7.534101647809663, 6.222755101703694, 6.966172261451928, 5.687197660638561, 5.687197660638561, 6.966172261451928, 5.687197660638561, 6.222755101703694, 7.904145325280192, 5.687197660638561, 5.073540247790502, 7.534101647809663, 6.222755101703694, 5.073540247790502, 6.222755101703694, 5.687197660638561, 5.687197660638561, 5.073540247790502], \"xaxis\": \"x\", \"yaxis\": \"y\"}, {\"alignmentgroup\": \"True\", \"customdata\": [[75.0, 0.0, 4.025637862396358, 0.0, 5.073540247790502, 1.0, 776.4424769965113, 0.4789426376835807, 130.0, 1.0, 0.0, 4.0, 1.0], [55.0, 0.0, 4.812378887350636, 0.0, 6.966172261451928, 0.0, 774.1559554351417, 0.09107302012510697, 136.0, 1.0, 0.0, 6.0, 1.0], [65.0, 0.0, 3.4570548997227055, 0.0, 5.073540247790502, 0.0, 614.6943008960727, 0.2318846842881995, 129.0, 1.0, 1.0, 7.0, 1.0], [50.0, 1.0, 3.3289576162017305, 0.0, 5.073540247790502, 0.0, 695.2879768764706, 0.4789426376835807, 137.0, 1.0, 0.0, 7.0, 1.0], [90.0, 1.0, 2.88963710097958, 0.0, 7.135176462792489, 1.0, 685.786861883189, 0.5304160641785284, 132.0, 1.0, 1.0, 8.0, 1.0], [75.0, 1.0, 3.6861811576371863, 0.0, 4.345403961411269, 0.0, 547.5868579262194, 0.16723372590987146, 137.0, 1.0, 0.0, 10.0, 1.0], [60.0, 1.0, 3.7883813412996696, 1.0, 8.575247780217278, 0.0, 1002.343886077364, 0.09107302012510697, 131.0, 1.0, 1.0, 10.0, 1.0], [65.0, 0.0, 3.4900911822976983, 0.0, 8.882691017043939, 0.0, 774.1559554351417, 0.33576579935320783, 138.0, 0.0, 0.0, 10.0, 1.0], [80.0, 1.0, 3.377582487715956, 0.0, 6.701029399874939, 1.0, 930.3826429977106, 0.9193638018485613, 133.0, 1.0, 1.0, 10.0, 1.0], [75.0, 1.0, 3.1747232377525965, 0.0, 6.966172261451928, 1.0, 907.3196585819123, 0.7657365262751427, 131.0, 1.0, 1.0, 10.0, 1.0], [62.0, 0.0, 3.659535746118753, 0.0, 5.687197660638561, 1.0, 759.5555109746059, -0.11088268777686425, 140.0, 1.0, 1.0, 10.0, 1.0], [45.0, 1.0, 4.210187576125048, 0.0, 6.222755101703694, 0.0, 565.6886894407847, 0.09107302012510697, 137.0, 1.0, 0.0, 11.0, 1.0], [50.0, 1.0, 3.520551991416286, 0.0, 6.966172261451928, 1.0, 791.5717032413037, 0.09107302012510697, 137.0, 1.0, 0.0, 11.0, 1.0], [82.0, 1.0, 3.8622864787279982, 0.0, 7.904145325280192, 0.0, 341.31609674189446, 0.2318846842881995, 136.0, 1.0, 0.0, 13.0, 1.0], [87.0, 1.0, 3.466343381811516, 0.0, 6.966172261451928, 0.0, 772.2591534855301, -0.11088268777686425, 140.0, 1.0, 0.0, 14.0, 1.0], [45.0, 0.0, 4.025637862396358, 0.0, 4.180684498623985, 0.0, 621.8549428925608, -0.2488922424935961, 127.0, 1.0, 0.0, 14.0, 1.0], [70.0, 1.0, 3.385151629770763, 0.0, 5.687197660638561, 1.0, 736.3690457956537, 0.0, 140.0, 0.0, 0.0, 15.0, 1.0], [48.0, 1.0, 4.025637862396358, 1.0, 8.250000161791457, 0.0, 457.49141757834116, 0.4789426376835807, 121.0, 0.0, 0.0, 15.0, 1.0], [65.0, 1.0, 3.396246496923772, 1.0, 6.222755101703694, 1.0, 819.597002315633, 0.37813826526469946, 136.0, 0.0, 0.0, 20.0, 1.0], [68.0, 1.0, 3.638690114731251, 0.0, 6.701029399874939, 1.0, 809.047764738165, -0.11088268777686425, 140.0, 1.0, 1.0, 20.0, 1.0], [75.0, 0.0, 4.025637862396358, 1.0, 6.222755101703694, 1.0, 774.1559554351417, 0.4583228867072044, 134.0, 0.0, 0.0, 23.0, 1.0], [80.0, 0.0, 3.4632714480164832, 1.0, 6.966172261451928, 0.0, 590.7553925915604, 0.4789426376835807, 144.0, 1.0, 1.0, 23.0, 1.0], [95.0, 1.0, 3.3332371685703257, 0.0, 7.135176462792489, 1.0, 672.8867116488877, 0.0, 138.0, 0.0, 0.0, 24.0, 1.0], [70.0, 0.0, 3.373744327318973, 1.0, 7.534101647809663, 1.0, 802.3762083043258, 0.2318846842881995, 136.0, 1.0, 1.0, 26.0, 1.0], [58.0, 1.0, 3.0205551670471475, 0.0, 6.966172261451928, 0.0, 598.2344654863812, 0.848115479623464, 134.0, 1.0, 0.0, 26.0, 1.0], [82.0, 0.0, 3.1006514096420683, 1.0, 6.222755101703694, 0.0, 679.3707675299254, 0.16723372590987146, 132.0, 1.0, 1.0, 26.0, 1.0], [94.0, 0.0, 4.025637862396358, 1.0, 6.966172261451928, 1.0, 774.1559554351417, 0.4583228867072044, 134.0, 1.0, 0.0, 27.0, 1.0], [85.0, 0.0, 2.4763653125100604, 0.0, 7.534101647809663, 0.0, 897.9099527727451, 0.6783532998801614, 132.0, 1.0, 0.0, 28.0, 1.0], [50.0, 1.0, 3.6912846636505745, 1.0, 6.701029399874939, 1.0, 847.8584767065978, 0.0, 128.0, 0.0, 0.0, 28.0, 1.0], [65.0, 0.0, 3.248535125258288, 1.0, 7.904145325280192, 1.0, 659.7060852640824, 0.0, 140.0, 1.0, 0.0, 29.0, 1.0], [69.0, 0.0, 4.025637862396358, 1.0, 6.701029399874939, 0.0, 722.9630959443265, 0.7281679148382327, 134.0, 1.0, 0.0, 30.0, 1.0], [90.0, 1.0, 3.0205551670471475, 1.0, 7.904145325280192, 0.0, 719.946331078969, 0.0, 134.0, 1.0, 0.0, 30.0, 1.0], [82.0, 1.0, 4.163052214542158, 1.0, 7.904145325280192, 1.0, 850.3760615547534, 0.0, 145.0, 0.0, 0.0, 30.0, 1.0], [60.0, 0.0, 3.666832817196654, 1.0, 6.966172261451928, 0.0, 860.364677002239, 0.6783532998801614, 142.0, 0.0, 0.0, 30.0, 1.0], [70.0, 0.0, 4.025637862396358, 0.0, 5.073540247790502, 1.0, 774.1559554351417, 0.4583228867072044, 134.0, 1.0, 1.0, 31.0, 1.0], [50.0, 0.0, 3.381384714478249, 1.0, 6.222755101703694, 1.0, 598.2344654863812, 0.16723372590987146, 136.0, 0.0, 1.0, 32.0, 1.0], [70.0, 0.0, 4.018602474797208, 1.0, 7.534101647809663, 1.0, 654.687340199836, 0.16723372590987146, 139.0, 1.0, 1.0, 33.0, 1.0], [60.0, 1.0, 4.02941080896221, 1.0, 8.575247780217278, 0.0, 669.618537028356, 0.09107302012510697, 142.0, 0.0, 0.0, 33.0, 1.0], [50.0, 0.0, 4.025637862396358, 1.0, 6.966172261451928, 0.0, 836.4251045417325, 0.4789426376835807, 135.0, 1.0, 1.0, 35.0, 1.0], [51.0, 0.0, 4.322895951444924, 0.0, 5.687197660638561, 1.0, 784.7349251625859, -0.11088268777686425, 130.0, 1.0, 0.0, 38.0, 1.0], [60.0, 0.0, 4.025637862396358, 1.0, 6.966172261451928, 1.0, 999.1975116441009, -0.6596212892708068, 138.0, 1.0, 1.0, 40.0, 1.0], [80.0, 1.0, 4.00674486574818, 0.0, 5.073540247790502, 1.0, 573.5310365674736, 0.7897497661251607, 133.0, 1.0, 0.0, 41.0, 1.0], [57.0, 1.0, 3.3998780827461768, 0.0, 6.222755101703694, 0.0, 938.3061823271569, 0.0, 140.0, 0.0, 0.0, 42.0, 1.0], [68.0, 1.0, 4.022459200450082, 0.0, 5.687197660638561, 1.0, 621.8549428925608, 0.0, 138.0, 1.0, 0.0, 43.0, 1.0], [53.0, 1.0, 3.232597233459061, 0.0, 5.073540247790502, 1.0, 963.8325583526581, 0.28746421927002, 139.0, 0.0, 0.0, 43.0, 1.0], [70.0, 1.0, 3.093256796369123, 1.0, 7.904145325280192, 1.0, 887.1913877442206, 0.0, 134.0, 0.0, 0.0, 44.0, 1.0], [60.0, 1.0, 3.7094065786329438, 1.0, 6.966172261451928, 0.0, 762.3988578427951, 0.552706432945649, 132.0, 0.0, 1.0, 45.0, 1.0], [95.0, 1.0, 3.8538711380859096, 0.0, 6.222755101703694, 0.0, 1009.6430960033683, 0.5059415072413381, 132.0, 1.0, 0.0, 50.0, 1.0], [49.0, 0.0, 4.13503279172315, 0.0, 5.073540247790502, 1.0, 847.8584767065978, 0.09107302012510697, 136.0, 1.0, 1.0, 55.0, 1.0], [72.0, 0.0, 3.8463336502851693, 1.0, 5.073540247790502, 1.0, 760.9786586656928, 0.2318846842881995, 136.0, 1.0, 1.0, 59.0, 1.0], [45.0, 0.0, 4.80737128232443, 1.0, 5.687197660638561, 1.0, 932.6541418213105, 0.0, 139.0, 1.0, 0.0, 60.0, 1.0], [50.0, 0.0, 3.792221109090949, 0.0, 7.135176462792489, 1.0, 704.6471363644654, 0.5730941029367999, 131.0, 0.0, 0.0, 60.0, 1.0], [45.0, 0.0, 4.025637862396358, 0.0, 6.701029399874939, 0.0, 926.9637986572712, 0.0, 145.0, 1.0, 0.0, 61.0, 1.0], [60.0, 0.0, 3.085737141873115, 0.0, 5.073540247790502, 0.0, 530.9201007814545, 0.6663715723635272, 127.0, 1.0, 1.0, 64.0, 1.0], [42.0, 1.0, 3.6929700423747898, 1.0, 4.345403961411269, 0.0, 699.9849174493443, 0.2318846842881995, 136.0, 0.0, 0.0, 65.0, 1.0], [72.0, 1.0, 3.3246332237381946, 0.0, 5.687197660638561, 0.0, 788.8448857751116, 0.0, 140.0, 1.0, 1.0, 65.0, 1.0], [70.0, 0.0, 3.5014457535638677, 0.0, 5.687197660638561, 0.0, 746.6114994403825, 0.16723372590987146, 142.0, 0.0, 0.0, 66.0, 1.0], [65.0, 0.0, 3.3374727399760893, 1.0, 5.687197660638561, 0.0, 1046.2912989981567, 0.4583228867072044, 135.0, 1.0, 0.0, 67.0, 1.0], [85.0, 0.0, 4.739780005327763, 0.0, 6.701029399874939, 0.0, 745.1578565906556, 0.0, 132.0, 1.0, 1.0, 72.0, 1.0], [69.0, 0.0, 4.025637862396358, 0.0, 5.073540247790502, 0.0, 777.831369374731, 0.16723372590987146, 134.0, 1.0, 1.0, 73.0, 1.0], [60.0, 1.0, 2.88963710097958, 0.0, 5.073540247790502, 0.0, 685.786861883189, -0.42547670384637193, 139.0, 1.0, 1.0, 73.0, 1.0], [60.0, 1.0, 3.1425959544652553, 1.0, 5.687197660638561, 0.0, 672.8867116488877, 0.6090640253260807, 132.0, 0.0, 0.0, 77.0, 1.0], [59.0, 1.0, 3.7401887318797953, 1.0, 5.687197660638561, 1.0, 826.1144030522476, 0.0, 141.0, 0.0, 0.0, 78.0, 1.0], [60.0, 1.0, 3.481353339936911, 0.0, 5.687197660638561, 0.0, 695.2879768764706, 0.4156157553193581, 135.0, 1.0, 0.0, 82.0, 1.0], [72.0, 1.0, 3.8047239412929845, 0.0, 6.222755101703694, 1.0, 1162.831066672007, 0.4156157553193581, 138.0, 0.0, 1.0, 88.0, 1.0], [85.0, 0.0, 3.3998780827461768, 0.0, 8.575247780217278, 0.0, 831.2875045383672, 0.16723372590987146, 132.0, 1.0, 1.0, 90.0, 1.0], [70.0, 1.0, 3.4475429312903905, 0.0, 8.575247780217278, 0.0, 887.1913877442206, 0.2318846842881995, 137.0, 0.0, 0.0, 90.0, 1.0], [86.0, 0.0, 4.025637862396358, 0.0, 6.966172261451928, 0.0, 774.1559554351417, 0.4583228867072044, 134.0, 0.0, 0.0, 95.0, 1.0], [60.0, 0.0, 4.025637862396358, 0.0, 7.135176462792489, 0.0, 706.1936209561458, 0.7443902496186251, 134.0, 1.0, 0.0, 96.0, 1.0], [46.0, 0.0, 3.520551991416286, 1.0, 4.653837033100984, 1.0, 784.7349251625859, 0.5304160641785284, 124.0, 0.0, 0.0, 100.0, 1.0], [80.0, 0.0, 4.142068064058192, 0.0, 6.966172261451928, 0.0, 774.1559554351417, 0.09107302012510697, 134.0, 1.0, 0.0, 109.0, 1.0], [72.0, 1.0, 4.196745876639239, 0.0, 5.687197660638561, 1.0, 871.4501186309717, 0.4156157553193581, 139.0, 1.0, 1.0, 111.0, 1.0], [75.0, 1.0, 4.025637862396358, 0.0, 6.222755101703694, 0.0, 718.4326743063957, 0.4583228867072044, 134.0, 1.0, 0.0, 113.0, 1.0], [72.0, 0.0, 3.663202398564424, 0.0, 7.534101647809663, 1.0, 733.4134437432065, 0.6090640253260807, 135.0, 0.0, 0.0, 115.0, 1.0], [45.0, 0.0, 4.498407845328968, 1.0, 6.222755101703694, 0.0, 866.542697377834, 0.09107302012510697, 139.0, 1.0, 0.0, 129.0, 1.0], [80.0, 0.0, 4.129193985270717, 1.0, 6.966172261451928, 1.0, 666.3325649127631, 0.2318846842881995, 135.0, 0.0, 0.0, 130.0, 1.0], [59.0, 1.0, 3.54129068801935, 1.0, 5.687197660638561, 0.0, 712.3423231121928, 0.0, 136.0, 1.0, 1.0, 150.0, 1.0], [65.0, 0.0, 3.8785169656495833, 1.0, 5.687197660638561, 0.0, 776.4424769965113, 0.16723372590987146, 136.0, 1.0, 1.0, 154.0, 1.0], [75.0, 0.0, 3.2738328867537296, 0.0, 6.966172261451928, 1.0, 716.9154694734661, 0.6090640253260807, 134.0, 1.0, 0.0, 162.0, 1.0], [58.0, 1.0, 3.4539095672149585, 0.0, 5.687197660638561, 0.0, 709.2753672683968, 0.16723372590987146, 137.0, 1.0, 1.0, 170.0, 1.0], [60.667, 1.0, 3.297693868635824, 1.0, 6.222755101703694, 0.0, 931.5191614323888, 0.33576579935320783, 136.0, 1.0, 0.0, 171.0, 1.0], [50.0, 0.0, 4.025637862396358, 0.0, 7.904145325280192, 0.0, 598.2344654863812, -0.6596212892708068, 134.0, 0.0, 0.0, 172.0, 1.0], [60.0, 0.0, 4.422520060619963, 1.0, 5.687197660638561, 0.0, 903.8037681633854, 0.5304160641785284, 144.0, 0.0, 0.0, 172.0, 1.0], [45.0, 0.0, 4.025637862396358, 0.0, 5.073540247790502, 1.0, 545.5343667062825, 0.37813826526469946, 135.0, 1.0, 0.0, 180.0, 1.0], [77.0, 1.0, 3.900561772817684, 0.0, 7.534101647809663, 0.0, 715.3946923679188, 0.44900454996621825, 145.0, 1.0, 0.0, 180.0, 1.0], [48.0, 1.0, 3.4070445141334997, 1.0, 6.222755101703694, 1.0, 746.6114994403825, 0.37813826526469946, 130.0, 0.0, 0.0, 193.0, 1.0], [73.0, 0.0, 4.025637862396358, 0.0, 5.073540247790502, 0.0, 774.1559554351417, 0.4583228867072044, 134.0, 1.0, 0.0, 198.0, 1.0], [60.0, 0.0, 3.5151884318144755, 0.0, 6.222755101703694, 0.0, 389.4139100270236, 0.4156157553193581, 127.0, 0.0, 0.0, 207.0, 1.0], [55.0, 0.0, 4.44135063034038, 0.0, 5.687197660638561, 0.0, 841.5279001260941, 0.09107302012510697, 138.0, 1.0, 0.0, 214.0, 1.0], [65.0, 1.0, 3.706178433909776, 1.0, 5.687197660638561, 0.0, 676.1373653155916, 0.28746421927002, 129.0, 1.0, 0.0, 235.0, 1.0], [55.0, 0.0, 4.27719217124118, 0.0, 5.073540247790502, 0.0, 774.1559554351417, 0.4583228867072044, 134.0, 1.0, 1.0, 241.0, 1.0]], \"hoverlabel\": {\"namelength\": 0}, \"hovertemplate\": \"DEATH_EVENT=%{customdata[12]}<br>EJECTION FRACTION=%{customdata[4]}<br>age=%{customdata[0]}<br>anaemia=%{customdata[1]}<br>creatinine_phosphokinase=%{customdata[2]}<br>diabetes=%{customdata[3]}<br>high_blood_pressure=%{customdata[5]}<br>platelets=%{customdata[6]}<br>serum_creatinine=%{customdata[7]}<br>serum_sodium=%{customdata[8]}<br>sex=%{customdata[9]}<br>smoking=%{customdata[10]}<br>time=%{customdata[11]}\", \"legendgroup\": \"DEATH_EVENT=1\", \"marker\": {\"color\": \"#00cc96\"}, \"name\": \"DEATH_EVENT=1\", \"offsetgroup\": \"DEATH_EVENT=1\", \"scalegroup\": \"x\", \"showlegend\": false, \"type\": \"violin\", \"x\": [5.073540247790502, 6.966172261451928, 5.073540247790502, 5.073540247790502, 7.135176462792489, 4.345403961411269, 8.575247780217278, 8.882691017043939, 6.701029399874939, 6.966172261451928, 5.687197660638561, 6.222755101703694, 6.966172261451928, 7.904145325280192, 6.966172261451928, 4.180684498623985, 5.687197660638561, 8.250000161791457, 6.222755101703694, 6.701029399874939, 6.222755101703694, 6.966172261451928, 7.135176462792489, 7.534101647809663, 6.966172261451928, 6.222755101703694, 6.966172261451928, 7.534101647809663, 6.701029399874939, 7.904145325280192, 6.701029399874939, 7.904145325280192, 7.904145325280192, 6.966172261451928, 5.073540247790502, 6.222755101703694, 7.534101647809663, 8.575247780217278, 6.966172261451928, 5.687197660638561, 6.966172261451928, 5.073540247790502, 6.222755101703694, 5.687197660638561, 5.073540247790502, 7.904145325280192, 6.966172261451928, 6.222755101703694, 5.073540247790502, 5.073540247790502, 5.687197660638561, 7.135176462792489, 6.701029399874939, 5.073540247790502, 4.345403961411269, 5.687197660638561, 5.687197660638561, 5.687197660638561, 6.701029399874939, 5.073540247790502, 5.073540247790502, 5.687197660638561, 5.687197660638561, 5.687197660638561, 6.222755101703694, 8.575247780217278, 8.575247780217278, 6.966172261451928, 7.135176462792489, 4.653837033100984, 6.966172261451928, 5.687197660638561, 6.222755101703694, 7.534101647809663, 6.222755101703694, 6.966172261451928, 5.687197660638561, 5.687197660638561, 6.966172261451928, 5.687197660638561, 6.222755101703694, 7.904145325280192, 5.687197660638561, 5.073540247790502, 7.534101647809663, 6.222755101703694, 5.073540247790502, 6.222755101703694, 5.687197660638561, 5.687197660638561, 5.073540247790502], \"xaxis\": \"x2\", \"yaxis\": \"y2\"}, {\"alignmentgroup\": \"True\", \"bingroup\": \"x\", \"hoverlabel\": {\"namelength\": 0}, \"hovertemplate\": \"DEATH_EVENT=0<br>EJECTION FRACTION=%{x}<br>count=%{y}\", \"legendgroup\": \"DEATH_EVENT=0\", \"marker\": {\"color\": \"#ab63fa\"}, \"name\": \"DEATH_EVENT=0\", \"offsetgroup\": \"DEATH_EVENT=0\", \"orientation\": \"v\", \"showlegend\": true, \"type\": \"histogram\", \"x\": [6.222755101703694, 5.687197660638561, 8.575247780217278, 6.222755101703694, 7.904145325280192, 6.701029399874939, 7.135176462792489, 6.701029399874939, 9.71859519435444, 7.135176462792489, 6.701029399874939, 7.904145325280192, 8.575247780217278, 7.135176462792489, 6.966172261451928, 7.534101647809663, 7.135176462792489, 7.904145325280192, 7.904145325280192, 7.904145325280192, 6.701029399874939, 8.575247780217278, 7.135176462792489, 5.687197660638561, 7.534101647809663, 7.534101647809663, 8.575247780217278, 6.966172261451928, 8.575247780217278, 5.687197660638561, 8.575247780217278, 5.687197660638561, 7.135176462792489, 5.687197660638561, 7.534101647809663, 5.687197660638561, 6.222755101703694, 7.904145325280192, 7.534101647809663, 6.701029399874939, 6.966172261451928, 6.701029399874939, 6.701029399874939, 5.687197660638561, 7.135176462792489, 7.135176462792489, 8.575247780217278, 8.575247780217278, 8.575247780217278, 6.966172261451928, 6.966172261451928, 6.222755101703694, 7.904145325280192, 8.575247780217278, 6.222755101703694, 6.701029399874939, 8.575247780217278, 7.534101647809663, 7.135176462792489, 8.575247780217278, 6.701029399874939, 7.135176462792489, 8.575247780217278, 5.687197660638561, 6.701029399874939, 6.222755101703694, 6.701029399874939, 6.222755101703694, 7.135176462792489, 6.222755101703694, 6.222755101703694, 8.575247780217278, 6.701029399874939, 8.575247780217278, 7.534101647809663, 6.701029399874939, 6.701029399874939, 5.687197660638561, 6.701029399874939, 5.687197660638561, 7.904145325280192, 7.534101647809663, 7.135176462792489, 6.701029399874939, 7.135176462792489, 8.575247780217278, 7.135176462792489, 6.701029399874939, 6.701029399874939, 7.135176462792489, 8.575247780217278, 5.073540247790502, 6.701029399874939, 8.575247780217278, 7.135176462792489, 7.904145325280192, 8.575247780217278, 7.135176462792489, 6.222755101703694, 7.135176462792489, 7.534101647809663, 6.701029399874939, 8.575247780217278, 7.135176462792489, 6.222755101703694, 6.966172261451928, 6.222755101703694, 5.073540247790502, 6.701029399874939, 8.575247780217278, 8.575247780217278, 5.687197660638561, 7.135176462792489, 7.534101647809663, 7.135176462792489, 6.966172261451928, 7.135176462792489, 6.701029399874939, 4.653837033100984, 8.700225387158447, 7.904145325280192, 6.701029399874939, 6.701029399874939, 7.904145325280192, 6.701029399874939, 6.701029399874939, 7.904145325280192, 6.701029399874939, 5.687197660638561, 5.687197660638561, 8.575247780217278, 5.687197660638561, 6.701029399874939, 5.687197660638561, 5.687197660638561, 6.701029399874939, 6.701029399874939, 6.966172261451928, 7.534101647809663, 7.904145325280192, 7.904145325280192, 6.222755101703694, 7.135176462792489, 7.534101647809663, 6.701029399874939, 6.222755101703694, 6.701029399874939, 7.135176462792489, 6.966172261451928, 6.966172261451928, 5.687197660638561, 6.701029399874939, 7.135176462792489, 6.222755101703694, 6.701029399874939, 7.534101647809663, 6.701029399874939, 8.575247780217278, 6.222755101703694, 6.966172261451928, 6.966172261451928, 5.687197660638561, 7.904145325280192, 7.135176462792489, 7.135176462792489, 8.575247780217278, 6.966172261451928, 6.701029399874939, 6.966172261451928, 6.966172261451928, 6.701029399874939, 6.222755101703694, 7.135176462792489, 6.966172261451928, 7.135176462792489, 6.222755101703694, 6.966172261451928, 6.701029399874939, 6.966172261451928, 6.222755101703694, 6.966172261451928, 7.135176462792489, 6.222755101703694, 6.966172261451928, 7.135176462792489, 7.135176462792489, 6.701029399874939, 8.250000161791457, 6.701029399874939, 6.966172261451928, 8.250000161791457, 6.701029399874939, 6.966172261451928, 6.701029399874939, 6.966172261451928, 6.966172261451928, 6.966172261451928, 7.534101647809663], \"xaxis\": \"x\", \"yaxis\": \"y\"}, {\"alignmentgroup\": \"True\", \"customdata\": [[49.0, 1.0, 3.1684846465272583, 0.0, 6.222755101703694, 1.0, 973.6191534590789, 0.0, 138.0, 0.0, 0.0, 12.0, 0.0], [65.0, 1.0, 2.9444457368957844, 0.0, 5.687197660638561, 1.0, 791.5717032413037, 0.2318846842881995, 137.0, 0.0, 0.0, 16.0, 0.0], [53.0, 0.0, 3.0461163167914935, 1.0, 8.575247780217278, 0.0, 907.3196585819123, -0.2488922424935961, 135.0, 1.0, 0.0, 22.0, 0.0], [50.0, 1.0, 3.495809779393574, 1.0, 6.222755101703694, 0.0, 826.1144030522476, 0.16723372590987146, 138.0, 0.0, 0.0, 29.0, 0.0], [72.0, 0.0, 3.392581936914349, 1.0, 7.904145325280192, 1.0, 707.7363558474772, 0.0, 134.0, 1.0, 0.0, 33.0, 0.0], [70.0, 1.0, 3.1358769110652616, 0.0, 6.701029399874939, 0.0, 715.3946923679188, 0.639799653655621, 138.0, 1.0, 1.0, 54.0, 0.0], [60.0, 1.0, 4.041070866936736, 0.0, 7.135176462792489, 0.0, 704.6471363644654, -0.6596212892708068, 138.0, 1.0, 1.0, 54.0, 0.0], [55.0, 0.0, 3.3202631072599207, 0.0, 6.701029399874939, 0.0, 760.9786586656928, 0.09107302012510697, 139.0, 1.0, 1.0, 60.0, 0.0], [45.0, 0.0, 4.025637862396358, 0.0, 9.71859519435444, 0.0, 774.1559554351417, 0.15301479280432287, 137.0, 0.0, 0.0, 63.0, 0.0], [41.0, 0.0, 3.4632714480164832, 0.0, 7.135176462792489, 0.0, 914.3064249105983, -0.2488922424935961, 140.0, 1.0, 1.0, 68.0, 0.0], [58.0, 0.0, 4.025637862396358, 1.0, 6.701029399874939, 0.0, 537.2373459527821, -0.11088268777686425, 139.0, 1.0, 1.0, 71.0, 0.0], [65.0, 0.0, 3.6464071306534116, 1.0, 7.904145325280192, 0.0, 590.7553925915604, 0.2318846842881995, 137.0, 1.0, 1.0, 72.0, 0.0], [70.0, 0.0, 3.237976574459835, 0.0, 8.575247780217278, 1.0, 845.3325631011305, -0.2488922424935961, 140.0, 0.0, 1.0, 74.0, 0.0], [42.0, 0.0, 3.288312103752678, 1.0, 7.135176462792489, 0.0, 736.3690457956537, 0.16723372590987146, 140.0, 1.0, 0.0, 74.0, 0.0], [75.0, 1.0, 3.6039796064457867, 1.0, 6.966172261451928, 1.0, 801.0344905952237, -0.6596212892708068, 131.0, 1.0, 1.0, 74.0, 0.0], [55.0, 0.0, 3.814412795329531, 0.0, 7.534101647809663, 1.0, 854.1369950998895, -0.11088268777686425, 140.0, 0.0, 0.0, 74.0, 0.0], [70.0, 0.0, 3.093256796369123, 0.0, 7.135176462792489, 0.0, 814.3413507793258, 0.4156157553193581, 136.0, 0.0, 0.0, 75.0, 0.0], [67.0, 0.0, 4.025637862396358, 0.0, 7.904145325280192, 0.0, 774.1559554351417, 0.15301479280432287, 137.0, 1.0, 1.0, 76.0, 0.0], [79.0, 1.0, 2.974481274913581, 0.0, 7.904145325280192, 1.0, 632.427549909296, 0.44900454996621825, 133.0, 1.0, 0.0, 78.0, 0.0], [51.0, 0.0, 3.15573231999406, 0.0, 7.904145325280192, 0.0, 950.6094478297553, -0.42547670384637193, 140.0, 1.0, 0.0, 79.0, 0.0], [55.0, 0.0, 2.88963710097958, 0.0, 6.701029399874939, 1.0, 634.1706539412304, 0.09107302012510697, 137.0, 1.0, 0.0, 79.0, 0.0], [65.0, 1.0, 3.085737141873115, 1.0, 8.575247780217278, 1.0, 828.7054359489688, -0.2488922424935961, 140.0, 1.0, 0.0, 79.0, 0.0], [44.0, 0.0, 3.1929172980713, 1.0, 7.135176462792489, 1.0, 733.4134437432065, -0.42547670384637193, 139.0, 1.0, 0.0, 79.0, 0.0], [57.0, 1.0, 3.3458152578917644, 0.0, 5.687197660638561, 1.0, 647.9285130915692, 0.09107302012510697, 144.0, 1.0, 0.0, 79.0, 0.0], [70.0, 0.0, 3.070306516971223, 1.0, 7.534101647809663, 0.0, 753.8330761308384, -0.2488922424935961, 136.0, 1.0, 1.0, 80.0, 0.0], [60.0, 0.0, 4.179610208504033, 1.0, 7.534101647809663, 0.0, 819.597002315633, 0.0, 133.0, 1.0, 0.0, 80.0, 0.0], [42.0, 0.0, 4.025637862396358, 0.0, 8.575247780217278, 0.0, 774.1559554351417, 0.15301479280432287, 137.0, 0.0, 0.0, 82.0, 0.0], [58.0, 0.0, 3.4507390373886433, 1.0, 6.966172261451928, 1.0, 857.8796284051286, -0.42547670384637193, 142.0, 0.0, 0.0, 83.0, 0.0], [58.0, 1.0, 3.41408546547616, 0.0, 8.575247780217278, 1.0, 709.2753672683968, 0.0, 141.0, 1.0, 0.0, 83.0, 0.0], [63.0, 1.0, 3.97944668281799, 1.0, 5.687197660638561, 1.0, 760.9786586656928, 0.2318846842881995, 134.0, 1.0, 0.0, 83.0, 0.0], [70.0, 1.0, 3.011704497231516, 0.0, 8.575247780217278, 0.0, 762.3988578427951, 0.09107302012510697, 136.0, 0.0, 0.0, 85.0, 0.0], [60.0, 1.0, 3.487200189017973, 1.0, 5.687197660638561, 1.0, 846.5965659912968, 0.16723372590987146, 137.0, 0.0, 0.0, 85.0, 0.0], [63.0, 1.0, 3.029236795715439, 1.0, 7.135176462792489, 0.0, 712.3423231121928, 0.09107302012510697, 140.0, 0.0, 0.0, 86.0, 0.0], [65.0, 1.0, 3.7752698180618083, 0.0, 5.687197660638561, 0.0, 820.9050796072819, 0.09107302012510697, 141.0, 1.0, 0.0, 87.0, 0.0], [75.0, 0.0, 4.025637862396358, 0.0, 7.534101647809663, 1.0, 774.1559554351417, 0.15301479280432287, 137.0, 1.0, 0.0, 87.0, 0.0], [80.0, 0.0, 4.179993449101688, 0.0, 5.687197660638561, 0.0, 590.7553925915604, 0.09107302012510697, 144.0, 1.0, 1.0, 87.0, 0.0], [42.0, 0.0, 4.708366991133288, 0.0, 6.222755101703694, 0.0, 719.946331078969, 0.0, 140.0, 1.0, 1.0, 87.0, 0.0], [60.0, 0.0, 2.9546755841073375, 0.0, 7.904145325280192, 1.0, 805.0521977270029, 0.5730941029367999, 143.0, 0.0, 0.0, 87.0, 0.0], [55.0, 0.0, 4.116224395293592, 0.0, 7.534101647809663, 0.0, 773.6563851281757, 0.2318846842881995, 137.0, 1.0, 0.0, 88.0, 0.0], [45.0, 1.0, 4.419273824459844, 1.0, 6.701029399874939, 0.0, 719.946331078969, -0.11088268777686425, 138.0, 1.0, 0.0, 88.0, 0.0], [63.0, 0.0, 4.19420143685751, 0.0, 6.966172261451928, 0.0, 828.7054359489688, 0.09107302012510697, 133.0, 1.0, 1.0, 88.0, 0.0], [45.0, 0.0, 3.7574612368095015, 1.0, 6.701029399874939, 0.0, 1349.3894074988548, 0.2318846842881995, 142.0, 1.0, 1.0, 88.0, 0.0], [55.0, 0.0, 3.0205551670471475, 0.0, 6.701029399874939, 0.0, 722.9630959443265, 0.16723372590987146, 135.0, 1.0, 1.0, 90.0, 0.0], [50.0, 0.0, 3.8517344703285468, 1.0, 5.687197660638561, 0.0, 758.1293969574043, 0.37813826526469946, 136.0, 1.0, 0.0, 90.0, 0.0], [60.0, 1.0, 4.119050365491325, 1.0, 7.135176462792489, 1.0, 859.1231504901432, 0.16723372590987146, 126.0, 1.0, 0.0, 91.0, 0.0], [58.0, 1.0, 3.8834335167541476, 0.0, 7.135176462792489, 0.0, 618.2861226406208, 0.0, 139.0, 0.0, 0.0, 91.0, 0.0], [60.0, 1.0, 3.2588369087377838, 1.0, 8.575247780217278, 1.0, 784.7349251625859, -0.42547670384637193, 136.0, 0.0, 0.0, 94.0, 0.0], [65.0, 1.0, 3.3374727399760893, 1.0, 8.575247780217278, 1.0, 684.1890972560772, -0.11088268777686425, 140.0, 0.0, 0.0, 94.0, 0.0], [60.0, 1.0, 4.110974683941758, 0.0, 8.575247780217278, 1.0, 695.2879768764706, 0.33576579935320783, 135.0, 1.0, 1.0, 95.0, 0.0], [66.0, 1.0, 3.085737141873115, 1.0, 6.966172261451928, 1.0, 614.6943008960727, 0.0, 136.0, 0.0, 0.0, 95.0, 0.0], [60.0, 0.0, 3.2588369087377838, 1.0, 6.966172261451928, 0.0, 722.9630959443265, -0.3314111042813302, 140.0, 0.0, 0.0, 95.0, 0.0], [60.0, 1.0, 4.025637862396358, 0.0, 6.222755101703694, 1.0, 547.5868579262194, -0.11088268777686425, 145.0, 0.0, 0.0, 95.0, 0.0], [43.0, 1.0, 3.839738229790088, 0.0, 7.904145325280192, 0.0, 736.3690457956537, 0.2318846842881995, 135.0, 0.0, 0.0, 97.0, 0.0], [58.0, 1.0, 3.597505374097021, 1.0, 8.575247780217278, 0.0, 823.5143150488784, -0.2488922424935961, 137.0, 0.0, 0.0, 104.0, 0.0], [61.0, 0.0, 3.6895914357173876, 0.0, 6.222755101703694, 1.0, 779.2175138962601, -0.42547670384637193, 136.0, 1.0, 1.0, 104.0, 0.0], [53.0, 1.0, 3.725127479140868, 1.0, 6.701029399874939, 0.0, 721.456463733054, 0.719355314012556, 145.0, 1.0, 0.0, 105.0, 0.0], [53.0, 1.0, 4.407929551232915, 0.0, 8.575247780217278, 1.0, 753.8330761308384, -0.42547670384637193, 138.0, 1.0, 1.0, 106.0, 0.0], [60.0, 1.0, 4.243171772908823, 1.0, 7.534101647809663, 0.0, 755.2681977996755, 0.8571957454628651, 131.0, 1.0, 0.0, 107.0, 0.0], [46.0, 0.0, 4.102185625459166, 0.0, 7.135176462792489, 1.0, 774.1559554351417, 0.15301479280432287, 137.0, 0.0, 0.0, 107.0, 0.0], [63.0, 0.0, 3.5819515336464267, 0.0, 8.575247780217278, 1.0, 816.9738691534773, 0.2318846842881995, 145.0, 1.0, 1.0, 107.0, 0.0], [81.0, 0.0, 4.67210023885116, 0.0, 6.701029399874939, 0.0, 727.462222770865, 0.15301479280432287, 137.0, 1.0, 1.0, 107.0, 0.0], [75.0, 0.0, 4.025637862396358, 0.0, 7.135176462792489, 0.0, 774.1559554351417, 0.15301479280432287, 137.0, 1.0, 0.0, 107.0, 0.0], [65.0, 1.0, 3.011704497231516, 1.0, 8.575247780217278, 0.0, 632.427549909296, -0.11088268777686425, 137.0, 0.0, 0.0, 107.0, 0.0], [68.0, 1.0, 4.063734384423375, 0.0, 5.687197660638561, 0.0, 829.9975851660085, 0.5304160641785284, 130.0, 1.0, 0.0, 108.0, 0.0], [62.0, 0.0, 3.741660542510888, 1.0, 6.701029399874939, 0.0, 712.3423231121928, 0.0, 136.0, 0.0, 0.0, 108.0, 0.0], [50.0, 0.0, 4.3594988631991995, 0.0, 6.222755101703694, 1.0, 696.8575280623202, -0.2488922424935961, 138.0, 1.0, 0.0, 108.0, 0.0], [46.0, 1.0, 3.756053491288467, 0.0, 6.701029399874939, 0.0, 883.5864200580681, -0.11088268777686425, 140.0, 0.0, 0.0, 109.0, 0.0], [50.0, 0.0, 3.955193819076111, 1.0, 6.222755101703694, 0.0, 860.364677002239, -0.11088268777686425, 132.0, 0.0, 0.0, 109.0, 0.0], [61.0, 1.0, 3.1929172980713, 0.0, 7.135176462792489, 1.0, 724.4662511263754, -0.11088268777686425, 141.0, 0.0, 0.0, 110.0, 0.0], [50.0, 0.0, 3.5633560873152086, 0.0, 6.222755101703694, 0.0, 777.831369374731, -0.42547670384637193, 141.0, 1.0, 1.0, 112.0, 0.0], [52.0, 0.0, 3.4105804180928208, 0.0, 6.222755101703694, 0.0, 707.7363558474772, -0.42547670384637193, 136.0, 1.0, 1.0, 112.0, 0.0], [64.0, 0.0, 4.371860515187577, 0.0, 8.575247780217278, 0.0, 743.701059029639, 0.0, 137.0, 1.0, 0.0, 113.0, 0.0], [60.0, 0.0, 4.475633221295353, 0.0, 6.701029399874939, 1.0, 722.9630959443265, -0.11088268777686425, 136.0, 1.0, 0.0, 115.0, 0.0], [62.0, 0.0, 2.6354550436836317, 1.0, 8.575247780217278, 1.0, 746.6114994403825, -0.11088268777686425, 139.0, 1.0, 0.0, 117.0, 0.0], [50.0, 0.0, 3.3458152578917644, 0.0, 7.534101647809663, 1.0, 653.0049094064092, -0.11088268777686425, 134.0, 1.0, 1.0, 118.0, 0.0], [50.0, 0.0, 4.414328634859375, 1.0, 6.701029399874939, 0.0, 774.1559554351417, 0.15301479280432287, 137.0, 1.0, 1.0, 119.0, 0.0], [65.0, 1.0, 3.8132163652538806, 0.0, 6.701029399874939, 1.0, 733.4134437432065, -0.2488922424935961, 136.0, 0.0, 0.0, 120.0, 0.0], [60.0, 1.0, 3.659535746118753, 1.0, 5.687197660638561, 0.0, 669.618537028356, 0.4156157553193581, 140.0, 1.0, 0.0, 120.0, 0.0], [52.0, 1.0, 3.0026785447767916, 0.0, 6.701029399874939, 0.0, 792.9312087956066, 0.28746421927002, 136.0, 0.0, 0.0, 120.0, 0.0], [50.0, 0.0, 3.6929700423747898, 0.0, 5.687197660638561, 0.0, 772.2591534855301, 0.0, 136.0, 1.0, 1.0, 120.0, 0.0], [85.0, 1.0, 4.184554183587198, 0.0, 7.904145325280192, 0.0, 733.4134437432065, 0.2318846842881995, 134.0, 1.0, 0.0, 121.0, 0.0], [59.0, 1.0, 3.3998780827461768, 0.0, 7.534101647809663, 1.0, 900.2726215493195, 0.09107302012510697, 139.0, 1.0, 1.0, 121.0, 0.0], [66.0, 1.0, 3.115080630234826, 0.0, 7.135176462792489, 1.0, 743.701059029639, 0.16723372590987146, 134.0, 1.0, 0.0, 121.0, 0.0], [45.0, 1.0, 3.4034772432751206, 0.0, 6.701029399874939, 0.0, 635.9084582277882, -0.2488922424935961, 139.0, 1.0, 1.0, 121.0, 0.0], [63.0, 1.0, 4.025637862396358, 0.0, 7.135176462792489, 0.0, 996.0400924553876, -0.11088268777686425, 137.0, 1.0, 1.0, 123.0, 0.0], [53.0, 0.0, 3.588696108461663, 0.0, 8.575247780217278, 0.0, 710.8106811465606, -0.42547670384637193, 133.0, 1.0, 1.0, 134.0, 0.0], [65.0, 0.0, 4.025637862396358, 1.0, 7.135176462792489, 0.0, 783.3596165600484, 0.0, 138.0, 0.0, 0.0, 140.0, 0.0], [70.0, 0.0, 4.154833323382541, 0.0, 6.701029399874939, 1.0, 829.9975851660085, -0.2488922424935961, 133.0, 0.0, 0.0, 145.0, 0.0], [51.0, 1.0, 4.025637862396358, 1.0, 6.701029399874939, 0.0, 774.1559554351417, 0.33576579935320783, 136.0, 1.0, 1.0, 145.0, 0.0], [52.0, 0.0, 4.635666967716511, 0.0, 7.135176462792489, 0.0, 855.3865601439179, -0.11088268777686425, 140.0, 1.0, 1.0, 146.0, 0.0], [70.0, 1.0, 3.5284603424816834, 0.0, 8.575247780217278, 1.0, 639.3683526295772, 0.09107302012510697, 145.0, 1.0, 1.0, 146.0, 0.0], [50.0, 1.0, 3.3458152578917644, 0.0, 5.073540247790502, 0.0, 661.3696134728824, -0.2488922424935961, 139.0, 1.0, 0.0, 146.0, 0.0], [65.0, 0.0, 3.593126478863179, 1.0, 6.701029399874939, 1.0, 798.3435420455652, -0.11088268777686425, 137.0, 1.0, 1.0, 146.0, 0.0], [60.0, 1.0, 3.2537173825296515, 0.0, 8.575247780217278, 0.0, 870.2261442093983, 0.0, 138.0, 1.0, 1.0, 146.0, 0.0], [69.0, 0.0, 4.331836208267133, 0.0, 7.135176462792489, 0.0, 500.2659862730978, 0.0, 135.0, 1.0, 1.0, 147.0, 0.0], [49.0, 1.0, 3.093256796369123, 0.0, 7.904145325280192, 0.0, 557.723866182209, 0.0, 140.0, 0.0, 0.0, 147.0, 0.0], [63.0, 1.0, 3.373744327318973, 1.0, 8.575247780217278, 0.0, 779.2175138962601, 0.16723372590987146, 145.0, 1.0, 0.0, 147.0, 0.0], [55.0, 0.0, 4.154833323382541, 0.0, 7.135176462792489, 0.0, 795.6424850606941, -0.42547670384637193, 140.0, 1.0, 1.0, 147.0, 0.0], [40.0, 0.0, 3.9520316349307, 1.0, 6.222755101703694, 0.0, 827.4110456784875, -0.11088268777686425, 136.0, 1.0, 0.0, 148.0, 0.0], [60.667, 1.0, 3.4724163071733463, 1.0, 7.135176462792489, 1.0, 680.9810816978916, 0.0, 136.0, 0.0, 0.0, 172.0, 0.0], [40.0, 0.0, 3.682738650104513, 0.0, 7.534101647809663, 1.0, 790.2096003791468, -0.11088268777686425, 140.0, 0.0, 0.0, 174.0, 0.0], [80.0, 0.0, 4.025637862396358, 1.0, 6.701029399874939, 0.0, 885.9915417472831, 0.5304160641785284, 134.0, 1.0, 0.0, 174.0, 0.0], [64.0, 1.0, 3.0377553047191284, 0.0, 8.575247780217278, 0.0, 835.1439942941836, 0.33576579935320783, 135.0, 0.0, 0.0, 174.0, 0.0], [50.0, 1.0, 3.36986959494581, 1.0, 7.135176462792489, 0.0, 769.4562372354645, -0.42547670384637193, 130.0, 1.0, 0.0, 175.0, 0.0], [73.0, 1.0, 3.659535746118753, 1.0, 6.222755101703694, 0.0, 611.0790426634615, 0.15301479280432287, 142.0, 1.0, 1.0, 180.0, 0.0], [45.0, 0.0, 4.025637862396358, 1.0, 6.966172261451928, 1.0, 774.1559554351417, 0.15301479280432287, 137.0, 0.0, 0.0, 185.0, 0.0], [65.0, 0.0, 3.5178795011840127, 0.0, 6.222755101703694, 0.0, 768.0505195334568, -0.2488922424935961, 138.0, 0.0, 0.0, 186.0, 0.0], [50.0, 1.0, 4.025637862396358, 1.0, 5.073540247790502, 1.0, 795.6424850606941, 0.0, 134.0, 0.0, 0.0, 186.0, 0.0], [60.0, 0.0, 4.280462728555355, 1.0, 6.701029399874939, 0.0, 774.1559554351417, 0.44900454996621825, 113.0, 1.0, 1.0, 186.0, 0.0], [45.0, 0.0, 3.7792548970055115, 1.0, 8.575247780217278, 1.0, 917.777668310215, 0.0, 136.0, 1.0, 0.0, 186.0, 0.0], [70.0, 0.0, 3.263895104933416, 0.0, 8.575247780217278, 1.0, 710.8106811465606, -0.11088268777686425, 138.0, 1.0, 0.0, 186.0, 0.0], [60.0, 0.0, 3.011704497231516, 0.0, 5.687197660638561, 1.0, 698.4231655362427, 0.7281679148382327, 136.0, 1.0, 1.0, 187.0, 0.0], [78.0, 1.0, 3.054325175451314, 0.0, 7.135176462792489, 0.0, 792.9312087956066, -0.42547670384637193, 137.0, 1.0, 1.0, 187.0, 0.0], [50.0, 1.0, 3.5178795011840127, 1.0, 7.534101647809663, 0.0, 900.2726215493195, 0.0, 136.0, 0.0, 0.0, 187.0, 0.0], [40.0, 1.0, 3.2835410635260756, 0.0, 7.135176462792489, 0.0, 719.946331078969, -0.2488922424935961, 141.0, 0.0, 0.0, 187.0, 0.0], [85.0, 0.0, 3.622757261581563, 0.0, 6.966172261451928, 0.0, 656.3649870527959, -0.11088268777686425, 136.0, 1.0, 0.0, 187.0, 0.0], [60.0, 1.0, 4.478251649433291, 1.0, 7.135176462792489, 0.0, 801.0344905952237, 0.0, 141.0, 0.0, 0.0, 187.0, 0.0], [49.0, 0.0, 4.207059123978379, 1.0, 6.701029399874939, 1.0, 780.6009262587678, -0.2488922424935961, 130.0, 0.0, 0.0, 187.0, 0.0], [70.0, 0.0, 3.622757261581563, 1.0, 4.653837033100984, 1.0, 931.5191614323888, 0.0, 136.0, 1.0, 1.0, 188.0, 0.0], [50.0, 0.0, 4.025637862396358, 0.0, 8.700225387158447, 1.0, 586.97618025688, -0.2488922424935961, 140.0, 1.0, 1.0, 192.0, 0.0], [78.0, 0.0, 3.6464071306534116, 0.0, 7.904145325280192, 0.0, 1030.182007286907, 0.28746421927002, 138.0, 1.0, 1.0, 192.0, 0.0], [65.0, 1.0, 3.4210049718746154, 0.0, 6.701029399874939, 1.0, 810.3747611317938, -0.2488922424935961, 134.0, 1.0, 0.0, 194.0, 0.0], [73.0, 0.0, 4.025637862396358, 0.0, 6.701029399874939, 1.0, 684.1890972560772, 0.2318846842881995, 134.0, 1.0, 0.0, 195.0, 0.0], [70.0, 0.0, 4.278013349594755, 0.0, 7.904145325280192, 1.0, 895.5403592378601, -0.11088268777686425, 141.0, 0.0, 0.0, 196.0, 0.0], [68.0, 1.0, 4.22370096666247, 1.0, 6.701029399874939, 0.0, 784.7349251625859, 0.09107302012510697, 134.0, 1.0, 0.0, 197.0, 0.0], [55.0, 0.0, 4.025637862396358, 1.0, 6.701029399874939, 1.0, 910.8204822903367, -0.42547670384637193, 140.0, 0.0, 0.0, 197.0, 0.0], [65.0, 0.0, 3.3580193280085133, 0.0, 7.904145325280192, 0.0, 669.618537028356, 0.09107302012510697, 145.0, 1.0, 1.0, 200.0, 0.0], [42.0, 1.0, 3.204633956099047, 0.0, 6.701029399874939, 0.0, 903.8037681633854, 0.09107302012510697, 139.0, 1.0, 1.0, 201.0, 0.0], [47.0, 0.0, 4.025637862396358, 0.0, 5.687197660638561, 0.0, 553.6937576645514, -0.2488922424935961, 134.0, 1.0, 0.0, 201.0, 0.0], [58.0, 0.0, 4.025637862396358, 1.0, 5.687197660638561, 0.0, 1053.253133996072, 0.0, 138.0, 1.0, 0.0, 205.0, 0.0], [75.0, 0.0, 4.0795839939451755, 1.0, 8.575247780217278, 0.0, 776.4424769965113, 0.28746421927002, 125.0, 0.0, 0.0, 205.0, 0.0], [58.0, 1.0, 2.9934707250131223, 0.0, 5.687197660638561, 0.0, 661.3696134728824, 0.2318846842881995, 132.0, 1.0, 1.0, 205.0, 0.0], [55.0, 1.0, 4.537575083516385, 0.0, 6.701029399874939, 1.0, 575.4731164437891, 0.0, 140.0, 1.0, 0.0, 206.0, 0.0], [65.0, 0.0, 2.9840740848055227, 0.0, 5.687197660638561, 0.0, 736.3690457956537, 0.8186887275972219, 130.0, 0.0, 0.0, 207.0, 0.0], [72.0, 0.0, 3.6207168343918568, 0.0, 5.687197660638561, 0.0, 788.8448857751116, 0.16723372590987146, 134.0, 0.0, 0.0, 207.0, 0.0], [70.0, 0.0, 3.243288688526272, 0.0, 6.701029399874939, 0.0, 654.687340199836, 0.09107302012510697, 134.0, 1.0, 1.0, 208.0, 0.0], [40.0, 1.0, 3.3998780827461768, 0.0, 6.701029399874939, 0.0, 762.3988578427951, -0.11088268777686425, 137.0, 1.0, 0.0, 209.0, 0.0], [53.0, 1.0, 4.096183607465114, 0.0, 6.966172261451928, 0.0, 861.6042171948717, 0.28746421927002, 137.0, 1.0, 1.0, 209.0, 0.0], [53.0, 1.0, 4.025637862396358, 0.0, 7.534101647809663, 0.0, 829.9975851660085, 0.09107302012510697, 137.0, 1.0, 1.0, 209.0, 0.0], [77.0, 1.0, 3.3202631072599207, 0.0, 7.904145325280192, 1.0, 950.6094478297553, 0.09107302012510697, 137.0, 1.0, 0.0, 209.0, 0.0], [75.0, 0.0, 3.362007776647375, 0.0, 7.904145325280192, 1.0, 752.3949150740973, 0.09107302012510697, 148.0, 1.0, 0.0, 209.0, 0.0], [70.0, 0.0, 3.6613736436395707, 0.0, 6.222755101703694, 0.0, 634.1706539412304, 0.16723372590987146, 132.0, 1.0, 0.0, 210.0, 0.0], [65.0, 1.0, 4.102680555108649, 1.0, 7.135176462792489, 0.0, 765.2304810243983, 0.0, 136.0, 0.0, 0.0, 210.0, 0.0], [55.0, 1.0, 3.5512550085839614, 0.0, 7.534101647809663, 0.0, 774.1559554351417, 0.15301479280432287, 137.0, 1.0, 1.0, 211.0, 0.0], [70.0, 0.0, 3.1747232377525965, 1.0, 6.701029399874939, 1.0, 1081.5659448576394, 0.2318846842881995, 139.0, 0.0, 0.0, 212.0, 0.0], [65.0, 0.0, 4.025637862396358, 1.0, 6.222755101703694, 0.0, 753.8330761308384, 0.2318846842881995, 136.0, 1.0, 1.0, 212.0, 0.0], [40.0, 0.0, 3.2271490618197807, 0.0, 6.701029399874939, 0.0, 762.3988578427951, 0.09107302012510697, 136.0, 1.0, 1.0, 212.0, 0.0], [73.0, 1.0, 4.2733283192721965, 0.0, 7.135176462792489, 1.0, 710.8106811465606, -0.11088268777686425, 141.0, 0.0, 0.0, 213.0, 0.0], [54.0, 0.0, 4.025637862396358, 1.0, 6.966172261451928, 0.0, 775.0508209141032, 0.44900454996621825, 134.0, 1.0, 0.0, 213.0, 0.0], [61.0, 1.0, 3.1684846465272583, 1.0, 6.966172261451928, 0.0, 799.69027302474, 0.28746421927002, 137.0, 1.0, 0.0, 213.0, 0.0], [64.0, 0.0, 3.4475429312903905, 0.0, 5.687197660638561, 0.0, 749.5093996783344, 0.5918140604594808, 135.0, 1.0, 0.0, 214.0, 0.0], [40.0, 0.0, 4.051151121287894, 0.0, 6.701029399874939, 0.0, 824.8154966732849, 0.0, 142.0, 1.0, 1.0, 214.0, 0.0], [53.0, 0.0, 3.6124417726828515, 1.0, 7.135176462792489, 0.0, 715.3946923679188, 0.16723372590987146, 130.0, 0.0, 0.0, 214.0, 0.0], [50.0, 0.0, 4.507859402491384, 0.0, 6.222755101703694, 1.0, 948.3856728383939, -0.9853029888780486, 139.0, 0.0, 0.0, 214.0, 0.0], [55.0, 0.0, 4.01924850956512, 1.0, 6.701029399874939, 0.0, 727.462222770865, -0.2488922424935961, 143.0, 0.0, 0.0, 215.0, 0.0], [50.0, 0.0, 3.6844639679902556, 0.0, 7.534101647809663, 1.0, 788.8448857751116, 0.0, 133.0, 1.0, 0.0, 215.0, 0.0], [70.0, 0.0, 3.2160395260494328, 1.0, 6.701029399874939, 1.0, 734.8928941133563, 0.16723372590987146, 132.0, 0.0, 0.0, 215.0, 0.0], [53.0, 1.0, 3.9255773899748867, 0.0, 8.575247780217278, 1.0, 774.1559554351417, 0.0, 139.0, 1.0, 0.0, 215.0, 0.0], [52.0, 1.0, 3.577387407026194, 1.0, 6.222755101703694, 1.0, 866.542697377834, 0.0, 142.0, 1.0, 1.0, 216.0, 0.0], [65.0, 0.0, 3.802258965792817, 0.0, 6.966172261451928, 0.0, 815.6587892026752, 0.4156157553193581, 139.0, 0.0, 0.0, 220.0, 0.0], [58.0, 0.0, 3.4105804180928208, 1.0, 6.966172261451928, 1.0, 759.5555109746059, 0.0, 139.0, 1.0, 0.0, 230.0, 0.0], [45.0, 1.0, 3.070306516971223, 1.0, 5.687197660638561, 0.0, 730.444560884831, -0.2488922424935961, 135.0, 1.0, 0.0, 230.0, 0.0], [53.0, 0.0, 2.9840740848055227, 0.0, 7.904145325280192, 0.0, 833.860698122771, -0.42547670384637193, 135.0, 1.0, 1.0, 231.0, 0.0], [55.0, 0.0, 3.070306516971223, 0.0, 7.135176462792489, 0.0, 684.1890972560772, 0.0, 138.0, 1.0, 0.0, 233.0, 0.0], [62.0, 1.0, 4.068739914586581, 0.0, 7.135176462792489, 0.0, 801.0344905952237, -0.42547670384637193, 133.0, 0.0, 0.0, 233.0, 0.0], [68.0, 1.0, 3.4900911822976983, 1.0, 8.575247780217278, 0.0, 692.137019063076, 0.0, 140.0, 0.0, 0.0, 237.0, 0.0], [61.0, 0.0, 4.025637862396358, 1.0, 6.966172261451928, 0.0, 586.97618025688, 0.16723372590987146, 141.0, 1.0, 0.0, 237.0, 0.0], [50.0, 1.0, 3.7657922251608413, 0.0, 6.701029399874939, 0.0, 900.2726215493195, -0.11088268777686425, 140.0, 1.0, 1.0, 240.0, 0.0], [56.0, 1.0, 3.4210049718746154, 1.0, 6.966172261451928, 0.0, 559.726859198066, 0.4156157553193581, 140.0, 1.0, 0.0, 244.0, 0.0], [45.0, 0.0, 4.025637862396358, 1.0, 6.966172261451928, 0.0, 826.1144030522476, -0.11088268777686425, 140.0, 0.0, 0.0, 244.0, 0.0], [40.0, 0.0, 4.025637862396358, 1.0, 6.701029399874939, 0.0, 713.8703185028197, 0.0, 132.0, 1.0, 0.0, 244.0, 0.0], [44.0, 0.0, 4.025637862396358, 1.0, 6.222755101703694, 1.0, 774.1559554351417, 0.37813826526469946, 130.0, 1.0, 1.0, 244.0, 0.0], [51.0, 0.0, 4.025637862396358, 1.0, 7.135176462792489, 0.0, 712.3423231121928, -0.11088268777686425, 134.0, 0.0, 0.0, 244.0, 0.0], [67.0, 0.0, 3.6247865837393984, 0.0, 6.966172261451928, 0.0, 703.0968755352851, 0.16723372590987146, 133.0, 0.0, 0.0, 245.0, 0.0], [42.0, 0.0, 3.054325175451314, 0.0, 7.135176462792489, 0.0, 661.3696134728824, -0.42547670384637193, 140.0, 1.0, 0.0, 245.0, 0.0], [60.0, 1.0, 3.70455348599729, 1.0, 6.222755101703694, 0.0, 592.6349787380514, 0.0, 137.0, 1.0, 1.0, 245.0, 0.0], [45.0, 0.0, 4.025637862396358, 0.0, 6.966172261451928, 1.0, 968.1957227183908, -0.2488922424935961, 137.0, 0.0, 0.0, 245.0, 0.0], [70.0, 0.0, 4.047630059569936, 0.0, 6.701029399874939, 0.0, 857.8796284051286, 0.09107302012510697, 142.0, 0.0, 0.0, 245.0, 0.0], [70.0, 0.0, 4.025637862396358, 1.0, 6.966172261451928, 0.0, 253.11163857983811, 0.09107302012510697, 140.0, 1.0, 0.0, 246.0, 0.0], [50.0, 1.0, 4.233440160285953, 1.0, 6.222755101703694, 0.0, 728.9550847859641, -0.42547670384637193, 136.0, 0.0, 0.0, 246.0, 0.0], [55.0, 0.0, 3.1929172980713, 1.0, 6.966172261451928, 0.0, 999.1975116441009, 0.2318846842881995, 136.0, 0.0, 0.0, 246.0, 0.0], [70.0, 0.0, 4.52716279796163, 1.0, 7.135176462792489, 0.0, 742.2410868323398, 0.0, 137.0, 1.0, 0.0, 247.0, 0.0], [42.0, 0.0, 3.054325175451314, 0.0, 6.222755101703694, 0.0, 703.0968755352851, 0.7518729240004571, 128.0, 1.0, 1.0, 250.0, 0.0], [65.0, 0.0, 4.386652127771893, 0.0, 6.966172261451928, 0.0, 774.1559554351417, 0.09107302012510697, 138.0, 1.0, 1.0, 250.0, 0.0], [50.0, 1.0, 2.964684519731618, 0.0, 7.135176462792489, 0.0, 795.6424850606941, -0.2488922424935961, 141.0, 1.0, 0.0, 250.0, 0.0], [55.0, 1.0, 3.5258421809283442, 1.0, 7.135176462792489, 0.0, 869.0002550093895, 0.16723372590987146, 135.0, 1.0, 0.0, 250.0, 0.0], [60.0, 0.0, 3.6979797547229696, 0.0, 6.701029399874939, 0.0, 795.6424850606941, 0.4156157553193581, 140.0, 1.0, 0.0, 250.0, 0.0], [45.0, 0.0, 4.025637862396358, 1.0, 8.250000161791457, 0.0, 1091.1400504775881, 0.0, 132.0, 0.0, 0.0, 250.0, 0.0], [65.0, 0.0, 4.177686562251363, 1.0, 6.701029399874939, 0.0, 774.1559554351417, 0.09107302012510697, 142.0, 0.0, 0.0, 256.0, 0.0], [90.0, 1.0, 3.815605112789745, 0.0, 6.966172261451928, 0.0, 932.6541418213105, -0.11088268777686425, 144.0, 0.0, 0.0, 256.0, 0.0], [45.0, 0.0, 4.045854665516563, 1.0, 8.250000161791457, 0.0, 713.8703185028197, -0.2488922424935961, 141.0, 0.0, 0.0, 257.0, 0.0], [60.0, 0.0, 3.7947577450252012, 0.0, 6.701029399874939, 0.0, 559.726859198066, 0.28746421927002, 139.0, 1.0, 0.0, 258.0, 0.0], [52.0, 0.0, 3.575084560951318, 1.0, 6.966172261451928, 0.0, 923.5308914820124, 0.0, 140.0, 1.0, 1.0, 258.0, 0.0], [63.0, 1.0, 3.2930293319142407, 1.0, 6.701029399874939, 0.0, 644.5195855029045, -0.11088268777686425, 136.0, 1.0, 1.0, 270.0, 0.0], [62.0, 0.0, 3.029236795715439, 1.0, 6.966172261451928, 1.0, 601.9353817159371, 0.09107302012510697, 143.0, 1.0, 1.0, 270.0, 0.0], [55.0, 0.0, 4.409966996257951, 0.0, 6.966172261451928, 0.0, 783.3596165600484, 0.16723372590987146, 139.0, 0.0, 0.0, 271.0, 0.0], [45.0, 0.0, 4.494892832728779, 0.0, 6.966172261451928, 0.0, 573.5310365674736, 0.28746421927002, 140.0, 1.0, 1.0, 280.0, 0.0], [50.0, 0.0, 3.588696108461663, 0.0, 7.534101647809663, 0.0, 938.3061823271569, 0.37813826526469946, 136.0, 1.0, 1.0, 285.0, 0.0]], \"hoverlabel\": {\"namelength\": 0}, \"hovertemplate\": \"DEATH_EVENT=%{customdata[12]}<br>EJECTION FRACTION=%{customdata[4]}<br>age=%{customdata[0]}<br>anaemia=%{customdata[1]}<br>creatinine_phosphokinase=%{customdata[2]}<br>diabetes=%{customdata[3]}<br>high_blood_pressure=%{customdata[5]}<br>platelets=%{customdata[6]}<br>serum_creatinine=%{customdata[7]}<br>serum_sodium=%{customdata[8]}<br>sex=%{customdata[9]}<br>smoking=%{customdata[10]}<br>time=%{customdata[11]}\", \"legendgroup\": \"DEATH_EVENT=0\", \"marker\": {\"color\": \"#ab63fa\"}, \"name\": \"DEATH_EVENT=0\", \"offsetgroup\": \"DEATH_EVENT=0\", \"scalegroup\": \"x\", \"showlegend\": false, \"type\": \"violin\", \"x\": [6.222755101703694, 5.687197660638561, 8.575247780217278, 6.222755101703694, 7.904145325280192, 6.701029399874939, 7.135176462792489, 6.701029399874939, 9.71859519435444, 7.135176462792489, 6.701029399874939, 7.904145325280192, 8.575247780217278, 7.135176462792489, 6.966172261451928, 7.534101647809663, 7.135176462792489, 7.904145325280192, 7.904145325280192, 7.904145325280192, 6.701029399874939, 8.575247780217278, 7.135176462792489, 5.687197660638561, 7.534101647809663, 7.534101647809663, 8.575247780217278, 6.966172261451928, 8.575247780217278, 5.687197660638561, 8.575247780217278, 5.687197660638561, 7.135176462792489, 5.687197660638561, 7.534101647809663, 5.687197660638561, 6.222755101703694, 7.904145325280192, 7.534101647809663, 6.701029399874939, 6.966172261451928, 6.701029399874939, 6.701029399874939, 5.687197660638561, 7.135176462792489, 7.135176462792489, 8.575247780217278, 8.575247780217278, 8.575247780217278, 6.966172261451928, 6.966172261451928, 6.222755101703694, 7.904145325280192, 8.575247780217278, 6.222755101703694, 6.701029399874939, 8.575247780217278, 7.534101647809663, 7.135176462792489, 8.575247780217278, 6.701029399874939, 7.135176462792489, 8.575247780217278, 5.687197660638561, 6.701029399874939, 6.222755101703694, 6.701029399874939, 6.222755101703694, 7.135176462792489, 6.222755101703694, 6.222755101703694, 8.575247780217278, 6.701029399874939, 8.575247780217278, 7.534101647809663, 6.701029399874939, 6.701029399874939, 5.687197660638561, 6.701029399874939, 5.687197660638561, 7.904145325280192, 7.534101647809663, 7.135176462792489, 6.701029399874939, 7.135176462792489, 8.575247780217278, 7.135176462792489, 6.701029399874939, 6.701029399874939, 7.135176462792489, 8.575247780217278, 5.073540247790502, 6.701029399874939, 8.575247780217278, 7.135176462792489, 7.904145325280192, 8.575247780217278, 7.135176462792489, 6.222755101703694, 7.135176462792489, 7.534101647809663, 6.701029399874939, 8.575247780217278, 7.135176462792489, 6.222755101703694, 6.966172261451928, 6.222755101703694, 5.073540247790502, 6.701029399874939, 8.575247780217278, 8.575247780217278, 5.687197660638561, 7.135176462792489, 7.534101647809663, 7.135176462792489, 6.966172261451928, 7.135176462792489, 6.701029399874939, 4.653837033100984, 8.700225387158447, 7.904145325280192, 6.701029399874939, 6.701029399874939, 7.904145325280192, 6.701029399874939, 6.701029399874939, 7.904145325280192, 6.701029399874939, 5.687197660638561, 5.687197660638561, 8.575247780217278, 5.687197660638561, 6.701029399874939, 5.687197660638561, 5.687197660638561, 6.701029399874939, 6.701029399874939, 6.966172261451928, 7.534101647809663, 7.904145325280192, 7.904145325280192, 6.222755101703694, 7.135176462792489, 7.534101647809663, 6.701029399874939, 6.222755101703694, 6.701029399874939, 7.135176462792489, 6.966172261451928, 6.966172261451928, 5.687197660638561, 6.701029399874939, 7.135176462792489, 6.222755101703694, 6.701029399874939, 7.534101647809663, 6.701029399874939, 8.575247780217278, 6.222755101703694, 6.966172261451928, 6.966172261451928, 5.687197660638561, 7.904145325280192, 7.135176462792489, 7.135176462792489, 8.575247780217278, 6.966172261451928, 6.701029399874939, 6.966172261451928, 6.966172261451928, 6.701029399874939, 6.222755101703694, 7.135176462792489, 6.966172261451928, 7.135176462792489, 6.222755101703694, 6.966172261451928, 6.701029399874939, 6.966172261451928, 6.222755101703694, 6.966172261451928, 7.135176462792489, 6.222755101703694, 6.966172261451928, 7.135176462792489, 7.135176462792489, 6.701029399874939, 8.250000161791457, 6.701029399874939, 6.966172261451928, 8.250000161791457, 6.701029399874939, 6.966172261451928, 6.701029399874939, 6.966172261451928, 6.966172261451928, 6.966172261451928, 7.534101647809663], \"xaxis\": \"x2\", \"yaxis\": \"y2\"}],\n",
              "                        {\"barmode\": \"relative\", \"legend\": {\"tracegroupgap\": 0}, \"template\": {\"data\": {\"bar\": [{\"error_x\": {\"color\": \"#f2f5fa\"}, \"error_y\": {\"color\": \"#f2f5fa\"}, \"marker\": {\"line\": {\"color\": \"rgb(17,17,17)\", \"width\": 0.5}}, \"type\": \"bar\"}], \"barpolar\": [{\"marker\": {\"line\": {\"color\": \"rgb(17,17,17)\", \"width\": 0.5}}, \"type\": \"barpolar\"}], \"carpet\": [{\"aaxis\": {\"endlinecolor\": \"#A2B1C6\", \"gridcolor\": \"#506784\", \"linecolor\": \"#506784\", \"minorgridcolor\": \"#506784\", \"startlinecolor\": \"#A2B1C6\"}, \"baxis\": {\"endlinecolor\": \"#A2B1C6\", \"gridcolor\": \"#506784\", \"linecolor\": \"#506784\", \"minorgridcolor\": \"#506784\", \"startlinecolor\": \"#A2B1C6\"}, \"type\": \"carpet\"}], \"choropleth\": [{\"colorbar\": {\"outlinewidth\": 0, \"ticks\": \"\"}, \"type\": \"choropleth\"}], \"contour\": [{\"colorbar\": {\"outlinewidth\": 0, \"ticks\": \"\"}, \"colorscale\": [[0.0, \"#0d0887\"], [0.1111111111111111, \"#46039f\"], [0.2222222222222222, \"#7201a8\"], [0.3333333333333333, \"#9c179e\"], [0.4444444444444444, \"#bd3786\"], [0.5555555555555556, \"#d8576b\"], [0.6666666666666666, \"#ed7953\"], [0.7777777777777778, \"#fb9f3a\"], [0.8888888888888888, \"#fdca26\"], [1.0, \"#f0f921\"]], \"type\": \"contour\"}], \"contourcarpet\": [{\"colorbar\": {\"outlinewidth\": 0, \"ticks\": \"\"}, \"type\": \"contourcarpet\"}], \"heatmap\": [{\"colorbar\": {\"outlinewidth\": 0, \"ticks\": \"\"}, \"colorscale\": [[0.0, \"#0d0887\"], [0.1111111111111111, \"#46039f\"], [0.2222222222222222, \"#7201a8\"], [0.3333333333333333, \"#9c179e\"], [0.4444444444444444, \"#bd3786\"], [0.5555555555555556, \"#d8576b\"], [0.6666666666666666, \"#ed7953\"], [0.7777777777777778, \"#fb9f3a\"], [0.8888888888888888, \"#fdca26\"], [1.0, \"#f0f921\"]], \"type\": \"heatmap\"}], \"heatmapgl\": [{\"colorbar\": {\"outlinewidth\": 0, \"ticks\": \"\"}, \"colorscale\": [[0.0, \"#0d0887\"], [0.1111111111111111, \"#46039f\"], [0.2222222222222222, \"#7201a8\"], [0.3333333333333333, \"#9c179e\"], [0.4444444444444444, \"#bd3786\"], [0.5555555555555556, \"#d8576b\"], [0.6666666666666666, \"#ed7953\"], [0.7777777777777778, \"#fb9f3a\"], [0.8888888888888888, \"#fdca26\"], [1.0, \"#f0f921\"]], \"type\": \"heatmapgl\"}], \"histogram\": [{\"marker\": {\"colorbar\": {\"outlinewidth\": 0, \"ticks\": \"\"}}, \"type\": \"histogram\"}], \"histogram2d\": [{\"colorbar\": {\"outlinewidth\": 0, \"ticks\": \"\"}, \"colorscale\": [[0.0, \"#0d0887\"], [0.1111111111111111, \"#46039f\"], [0.2222222222222222, \"#7201a8\"], [0.3333333333333333, \"#9c179e\"], [0.4444444444444444, \"#bd3786\"], [0.5555555555555556, \"#d8576b\"], [0.6666666666666666, \"#ed7953\"], [0.7777777777777778, \"#fb9f3a\"], [0.8888888888888888, \"#fdca26\"], [1.0, \"#f0f921\"]], \"type\": \"histogram2d\"}], \"histogram2dcontour\": [{\"colorbar\": {\"outlinewidth\": 0, \"ticks\": \"\"}, \"colorscale\": [[0.0, \"#0d0887\"], [0.1111111111111111, \"#46039f\"], [0.2222222222222222, \"#7201a8\"], [0.3333333333333333, \"#9c179e\"], [0.4444444444444444, \"#bd3786\"], [0.5555555555555556, \"#d8576b\"], [0.6666666666666666, \"#ed7953\"], [0.7777777777777778, \"#fb9f3a\"], [0.8888888888888888, \"#fdca26\"], [1.0, \"#f0f921\"]], \"type\": \"histogram2dcontour\"}], \"mesh3d\": [{\"colorbar\": {\"outlinewidth\": 0, \"ticks\": \"\"}, \"type\": \"mesh3d\"}], \"parcoords\": [{\"line\": {\"colorbar\": {\"outlinewidth\": 0, \"ticks\": \"\"}}, \"type\": \"parcoords\"}], \"pie\": [{\"automargin\": true, \"type\": \"pie\"}], \"scatter\": [{\"marker\": {\"line\": {\"color\": \"#283442\"}}, \"type\": \"scatter\"}], \"scatter3d\": [{\"line\": {\"colorbar\": {\"outlinewidth\": 0, \"ticks\": \"\"}}, \"marker\": {\"colorbar\": {\"outlinewidth\": 0, \"ticks\": \"\"}}, \"type\": \"scatter3d\"}], \"scattercarpet\": [{\"marker\": {\"colorbar\": {\"outlinewidth\": 0, \"ticks\": \"\"}}, \"type\": \"scattercarpet\"}], \"scattergeo\": [{\"marker\": {\"colorbar\": {\"outlinewidth\": 0, \"ticks\": \"\"}}, \"type\": \"scattergeo\"}], \"scattergl\": [{\"marker\": {\"line\": {\"color\": \"#283442\"}}, \"type\": \"scattergl\"}], \"scattermapbox\": [{\"marker\": {\"colorbar\": {\"outlinewidth\": 0, \"ticks\": \"\"}}, \"type\": \"scattermapbox\"}], \"scatterpolar\": [{\"marker\": {\"colorbar\": {\"outlinewidth\": 0, \"ticks\": \"\"}}, \"type\": \"scatterpolar\"}], \"scatterpolargl\": [{\"marker\": {\"colorbar\": {\"outlinewidth\": 0, \"ticks\": \"\"}}, \"type\": \"scatterpolargl\"}], \"scatterternary\": [{\"marker\": {\"colorbar\": {\"outlinewidth\": 0, \"ticks\": \"\"}}, \"type\": \"scatterternary\"}], \"surface\": [{\"colorbar\": {\"outlinewidth\": 0, \"ticks\": \"\"}, \"colorscale\": [[0.0, \"#0d0887\"], [0.1111111111111111, \"#46039f\"], [0.2222222222222222, \"#7201a8\"], [0.3333333333333333, \"#9c179e\"], [0.4444444444444444, \"#bd3786\"], [0.5555555555555556, \"#d8576b\"], [0.6666666666666666, \"#ed7953\"], [0.7777777777777778, \"#fb9f3a\"], [0.8888888888888888, \"#fdca26\"], [1.0, \"#f0f921\"]], \"type\": \"surface\"}], \"table\": [{\"cells\": {\"fill\": {\"color\": \"#506784\"}, \"line\": {\"color\": \"rgb(17,17,17)\"}}, \"header\": {\"fill\": {\"color\": \"#2a3f5f\"}, \"line\": {\"color\": \"rgb(17,17,17)\"}}, \"type\": \"table\"}]}, \"layout\": {\"annotationdefaults\": {\"arrowcolor\": \"#f2f5fa\", \"arrowhead\": 0, \"arrowwidth\": 1}, \"coloraxis\": {\"colorbar\": {\"outlinewidth\": 0, \"ticks\": \"\"}}, \"colorscale\": {\"diverging\": [[0, \"#8e0152\"], [0.1, \"#c51b7d\"], [0.2, \"#de77ae\"], [0.3, \"#f1b6da\"], [0.4, \"#fde0ef\"], [0.5, \"#f7f7f7\"], [0.6, \"#e6f5d0\"], [0.7, \"#b8e186\"], [0.8, \"#7fbc41\"], [0.9, \"#4d9221\"], [1, \"#276419\"]], \"sequential\": [[0.0, \"#0d0887\"], [0.1111111111111111, \"#46039f\"], [0.2222222222222222, \"#7201a8\"], [0.3333333333333333, \"#9c179e\"], [0.4444444444444444, \"#bd3786\"], [0.5555555555555556, \"#d8576b\"], [0.6666666666666666, \"#ed7953\"], [0.7777777777777778, \"#fb9f3a\"], [0.8888888888888888, \"#fdca26\"], [1.0, \"#f0f921\"]], \"sequentialminus\": [[0.0, \"#0d0887\"], [0.1111111111111111, \"#46039f\"], [0.2222222222222222, \"#7201a8\"], [0.3333333333333333, \"#9c179e\"], [0.4444444444444444, \"#bd3786\"], [0.5555555555555556, \"#d8576b\"], [0.6666666666666666, \"#ed7953\"], [0.7777777777777778, \"#fb9f3a\"], [0.8888888888888888, \"#fdca26\"], [1.0, \"#f0f921\"]]}, \"colorway\": [\"#636efa\", \"#EF553B\", \"#00cc96\", \"#ab63fa\", \"#FFA15A\", \"#19d3f3\", \"#FF6692\", \"#B6E880\", \"#FF97FF\", \"#FECB52\"], \"font\": {\"color\": \"#f2f5fa\"}, \"geo\": {\"bgcolor\": \"rgb(17,17,17)\", \"lakecolor\": \"rgb(17,17,17)\", \"landcolor\": \"rgb(17,17,17)\", \"showlakes\": true, \"showland\": true, \"subunitcolor\": \"#506784\"}, \"hoverlabel\": {\"align\": \"left\"}, \"hovermode\": \"closest\", \"mapbox\": {\"style\": \"dark\"}, \"paper_bgcolor\": \"rgb(17,17,17)\", \"plot_bgcolor\": \"rgb(17,17,17)\", \"polar\": {\"angularaxis\": {\"gridcolor\": \"#506784\", \"linecolor\": \"#506784\", \"ticks\": \"\"}, \"bgcolor\": \"rgb(17,17,17)\", \"radialaxis\": {\"gridcolor\": \"#506784\", \"linecolor\": \"#506784\", \"ticks\": \"\"}}, \"scene\": {\"xaxis\": {\"backgroundcolor\": \"rgb(17,17,17)\", \"gridcolor\": \"#506784\", \"gridwidth\": 2, \"linecolor\": \"#506784\", \"showbackground\": true, \"ticks\": \"\", \"zerolinecolor\": \"#C8D4E3\"}, \"yaxis\": {\"backgroundcolor\": \"rgb(17,17,17)\", \"gridcolor\": \"#506784\", \"gridwidth\": 2, \"linecolor\": \"#506784\", \"showbackground\": true, \"ticks\": \"\", \"zerolinecolor\": \"#C8D4E3\"}, \"zaxis\": {\"backgroundcolor\": \"rgb(17,17,17)\", \"gridcolor\": \"#506784\", \"gridwidth\": 2, \"linecolor\": \"#506784\", \"showbackground\": true, \"ticks\": \"\", \"zerolinecolor\": \"#C8D4E3\"}}, \"shapedefaults\": {\"line\": {\"color\": \"#f2f5fa\"}}, \"sliderdefaults\": {\"bgcolor\": \"#C8D4E3\", \"bordercolor\": \"rgb(17,17,17)\", \"borderwidth\": 1, \"tickwidth\": 0}, \"ternary\": {\"aaxis\": {\"gridcolor\": \"#506784\", \"linecolor\": \"#506784\", \"ticks\": \"\"}, \"baxis\": {\"gridcolor\": \"#506784\", \"linecolor\": \"#506784\", \"ticks\": \"\"}, \"bgcolor\": \"rgb(17,17,17)\", \"caxis\": {\"gridcolor\": \"#506784\", \"linecolor\": \"#506784\", \"ticks\": \"\"}}, \"title\": {\"x\": 0.05}, \"updatemenudefaults\": {\"bgcolor\": \"#506784\", \"borderwidth\": 0}, \"xaxis\": {\"automargin\": true, \"gridcolor\": \"#283442\", \"linecolor\": \"#506784\", \"ticks\": \"\", \"title\": {\"standoff\": 15}, \"zerolinecolor\": \"#283442\", \"zerolinewidth\": 2}, \"yaxis\": {\"automargin\": true, \"gridcolor\": \"#283442\", \"linecolor\": \"#506784\", \"ticks\": \"\", \"title\": {\"standoff\": 15}, \"zerolinecolor\": \"#283442\", \"zerolinewidth\": 2}}}, \"title\": {\"text\": \"DISTRIBUSI EJECTION FRACTION vs KEMATIAN\"}, \"xaxis\": {\"anchor\": \"y\", \"domain\": [0.0, 1.0], \"title\": {\"text\": \"EJECTION FRACTION\"}}, \"xaxis2\": {\"anchor\": \"y2\", \"domain\": [0.0, 1.0], \"matches\": \"x\", \"showgrid\": true, \"showticklabels\": false}, \"yaxis\": {\"anchor\": \"x\", \"domain\": [0.0, 0.7326], \"title\": {\"text\": \"count\"}}, \"yaxis2\": {\"anchor\": \"x2\", \"domain\": [0.7426, 1.0], \"matches\": \"y2\", \"showgrid\": false, \"showline\": false, \"showticklabels\": false, \"ticks\": \"\"}},\n",
              "                        {\"responsive\": true}\n",
              "                    ).then(function(){\n",
              "                            \n",
              "var gd = document.getElementById('e1ba1d4e-dd90-4354-a315-8962b8f95b15');\n",
              "var x = new MutationObserver(function (mutations, observer) {{\n",
              "        var display = window.getComputedStyle(gd).display;\n",
              "        if (!display || display === 'none') {{\n",
              "            console.log([gd, 'removed!']);\n",
              "            Plotly.purge(gd);\n",
              "            observer.disconnect();\n",
              "        }}\n",
              "}});\n",
              "\n",
              "// Listen for the removal of the full notebook cells\n",
              "var notebookContainer = gd.closest('#notebook-container');\n",
              "if (notebookContainer) {{\n",
              "    x.observe(notebookContainer, {childList: true});\n",
              "}}\n",
              "\n",
              "// Listen for the clearing of the current output cell\n",
              "var outputEl = gd.closest('.output');\n",
              "if (outputEl) {{\n",
              "    x.observe(outputEl, {childList: true});\n",
              "}}\n",
              "\n",
              "                        })\n",
              "                };\n",
              "                \n",
              "            </script>\n",
              "        </div>\n",
              "</body>\n",
              "</html>"
            ]
          },
          "metadata": {}
        }
      ]
    },
    {
      "cell_type": "markdown",
      "metadata": {
        "id": "P891aBmemIj_"
      },
      "source": [
        "# Histogram Distribusi Trombosit"
      ]
    },
    {
      "cell_type": "code",
      "metadata": {
        "id": "iZ6d2aHU_5O8",
        "colab": {
          "base_uri": "https://localhost:8080/",
          "height": 542
        },
        "outputId": "e84d48c0-79fe-48bf-acb6-cce9006fb048"
      },
      "source": [
        "fig = px.histogram(df, x=\"platelets\", color_discrete_sequence=['#FE6F5E'])\n",
        "fig.update_layout(\n",
        "    title_text='HISTOGRAM DISTRIBUSI TROMBOSIT', \n",
        "    xaxis_title_text='Trombosit', \n",
        "    yaxis_title_text='Jumlah', \n",
        "    bargap=0.05,\n",
        "    template = 'plotly_dark'\n",
        ")\n",
        "\n",
        "fig.show()"
      ],
      "execution_count": null,
      "outputs": [
        {
          "output_type": "display_data",
          "data": {
            "text/html": [
              "<html>\n",
              "<head><meta charset=\"utf-8\" /></head>\n",
              "<body>\n",
              "    <div>\n",
              "            <script src=\"https://cdnjs.cloudflare.com/ajax/libs/mathjax/2.7.5/MathJax.js?config=TeX-AMS-MML_SVG\"></script><script type=\"text/javascript\">if (window.MathJax) {MathJax.Hub.Config({SVG: {font: \"STIX-Web\"}});}</script>\n",
              "                <script type=\"text/javascript\">window.PlotlyConfig = {MathJaxConfig: 'local'};</script>\n",
              "        <script src=\"https://cdn.plot.ly/plotly-latest.min.js\"></script>    \n",
              "            <div id=\"26e17b1d-b478-418b-9744-8dbe52f0577c\" class=\"plotly-graph-div\" style=\"height:525px; width:100%;\"></div>\n",
              "            <script type=\"text/javascript\">\n",
              "                \n",
              "                    window.PLOTLYENV=window.PLOTLYENV || {};\n",
              "                    \n",
              "                if (document.getElementById(\"26e17b1d-b478-418b-9744-8dbe52f0577c\")) {\n",
              "                    Plotly.newPlot(\n",
              "                        '26e17b1d-b478-418b-9744-8dbe52f0577c',\n",
              "                        [{\"alignmentgroup\": \"True\", \"bingroup\": \"x\", \"hoverlabel\": {\"namelength\": 0}, \"hovertemplate\": \"platelets=%{x}<br>count=%{y}\", \"legendgroup\": \"\", \"marker\": {\"color\": \"#FE6F5E\"}, \"name\": \"\", \"offsetgroup\": \"\", \"orientation\": \"v\", \"showlegend\": false, \"type\": \"histogram\", \"x\": [776.4424769965113, 774.1559554351417, 614.6943008960727, 695.2879768764706, 685.786861883189, 547.5868579262194, 1002.343886077364, 774.1559554351417, 930.3826429977106, 907.3196585819123, 759.5555109746059, 565.6886894407847, 791.5717032413037, 973.6191534590789, 341.31609674189446, 772.2591534855301, 621.8549428925608, 736.3690457956537, 457.49141757834116, 791.5717032413037, 819.597002315633, 809.047764738165, 907.3196585819123, 774.1559554351417, 590.7553925915604, 672.8867116488877, 802.3762083043258, 598.2344654863812, 679.3707675299254, 774.1559554351417, 897.9099527727451, 847.8584767065978, 826.1144030522476, 659.7060852640824, 722.9630959443265, 719.946331078969, 850.3760615547534, 860.364677002239, 774.1559554351417, 598.2344654863812, 654.687340199836, 707.7363558474772, 669.618537028356, 836.4251045417325, 784.7349251625859, 999.1975116441009, 573.5310365674736, 938.3061823271569, 621.8549428925608, 963.8325583526581, 887.1913877442206, 762.3988578427951, 1009.6430960033683, 715.3946923679188, 704.6471363644654, 847.8584767065978, 760.9786586656928, 932.6541418213105, 704.6471363644654, 760.9786586656928, 926.9637986572712, 774.1559554351417, 530.9201007814545, 699.9849174493443, 788.8448857751116, 746.6114994403825, 1046.2912989981567, 914.3064249105983, 537.2373459527821, 745.1578565906556, 590.7553925915604, 777.831369374731, 685.786861883189, 845.3325631011305, 736.3690457956537, 801.0344905952237, 854.1369950998895, 814.3413507793258, 774.1559554351417, 672.8867116488877, 632.427549909296, 826.1144030522476, 950.6094478297553, 634.1706539412304, 828.7054359489688, 733.4134437432065, 647.9285130915692, 753.8330761308384, 819.597002315633, 774.1559554351417, 695.2879768764706, 857.8796284051286, 709.2753672683968, 760.9786586656928, 762.3988578427951, 846.5965659912968, 712.3423231121928, 820.9050796072819, 774.1559554351417, 590.7553925915604, 719.946331078969, 805.0521977270029, 1162.831066672007, 773.6563851281757, 719.946331078969, 828.7054359489688, 1349.3894074988548, 831.2875045383672, 722.9630959443265, 758.1293969574043, 887.1913877442206, 859.1231504901432, 618.2861226406208, 784.7349251625859, 684.1890972560772, 774.1559554351417, 695.2879768764706, 614.6943008960727, 722.9630959443265, 547.5868579262194, 706.1936209561458, 736.3690457956537, 784.7349251625859, 823.5143150488784, 779.2175138962601, 721.456463733054, 753.8330761308384, 755.2681977996755, 774.1559554351417, 816.9738691534773, 727.462222770865, 774.1559554351417, 632.427549909296, 829.9975851660085, 712.3423231121928, 696.8575280623202, 774.1559554351417, 883.5864200580681, 860.364677002239, 724.4662511263754, 871.4501186309717, 777.831369374731, 707.7363558474772, 743.701059029639, 718.4326743063957, 722.9630959443265, 733.4134437432065, 746.6114994403825, 653.0049094064092, 774.1559554351417, 733.4134437432065, 669.618537028356, 792.9312087956066, 772.2591534855301, 733.4134437432065, 900.2726215493195, 743.701059029639, 635.9084582277882, 996.0400924553876, 866.542697377834, 666.3325649127631, 710.8106811465606, 783.3596165600484, 829.9975851660085, 774.1559554351417, 855.3865601439179, 639.3683526295772, 661.3696134728824, 798.3435420455652, 870.2261442093983, 500.2659862730978, 557.723866182209, 779.2175138962601, 795.6424850606941, 827.4110456784875, 712.3423231121928, 776.4424769965113, 716.9154694734661, 709.2753672683968, 931.5191614323888, 598.2344654863812, 903.8037681633854, 680.9810816978916, 790.2096003791468, 885.9915417472831, 835.1439942941836, 769.4562372354645, 611.0790426634615, 545.5343667062825, 715.3946923679188, 774.1559554351417, 768.0505195334568, 795.6424850606941, 774.1559554351417, 917.777668310215, 710.8106811465606, 698.4231655362427, 792.9312087956066, 900.2726215493195, 719.946331078969, 656.3649870527959, 801.0344905952237, 780.6009262587678, 931.5191614323888, 586.97618025688, 1030.182007286907, 746.6114994403825, 810.3747611317938, 684.1890972560772, 895.5403592378601, 784.7349251625859, 910.8204822903367, 774.1559554351417, 669.618537028356, 903.8037681633854, 553.6937576645514, 1053.253133996072, 776.4424769965113, 661.3696134728824, 575.4731164437891, 736.3690457956537, 788.8448857751116, 389.4139100270236, 654.687340199836, 762.3988578427951, 861.6042171948717, 829.9975851660085, 950.6094478297553, 752.3949150740973, 634.1706539412304, 765.2304810243983, 774.1559554351417, 1081.5659448576394, 753.8330761308384, 762.3988578427951, 710.8106811465606, 775.0508209141032, 799.69027302474, 841.5279001260941, 749.5093996783344, 824.8154966732849, 715.3946923679188, 948.3856728383939, 727.462222770865, 788.8448857751116, 734.8928941133563, 774.1559554351417, 866.542697377834, 815.6587892026752, 759.5555109746059, 730.444560884831, 833.860698122771, 684.1890972560772, 801.0344905952237, 676.1373653155916, 692.137019063076, 586.97618025688, 900.2726215493195, 774.1559554351417, 559.726859198066, 826.1144030522476, 713.8703185028197, 774.1559554351417, 712.3423231121928, 703.0968755352851, 661.3696134728824, 592.6349787380514, 968.1957227183908, 857.8796284051286, 253.11163857983811, 728.9550847859641, 999.1975116441009, 742.2410868323398, 703.0968755352851, 774.1559554351417, 795.6424850606941, 869.0002550093895, 795.6424850606941, 1091.1400504775881, 774.1559554351417, 932.6541418213105, 713.8703185028197, 559.726859198066, 923.5308914820124, 644.5195855029045, 601.9353817159371, 783.3596165600484, 573.5310365674736, 938.3061823271569], \"xaxis\": \"x\", \"yaxis\": \"y\"}],\n",
              "                        {\"bargap\": 0.05, \"barmode\": \"relative\", \"legend\": {\"tracegroupgap\": 0}, \"margin\": {\"t\": 60}, \"template\": {\"data\": {\"bar\": [{\"error_x\": {\"color\": \"#f2f5fa\"}, \"error_y\": {\"color\": \"#f2f5fa\"}, \"marker\": {\"line\": {\"color\": \"rgb(17,17,17)\", \"width\": 0.5}}, \"type\": \"bar\"}], \"barpolar\": [{\"marker\": {\"line\": {\"color\": \"rgb(17,17,17)\", \"width\": 0.5}}, \"type\": \"barpolar\"}], \"carpet\": [{\"aaxis\": {\"endlinecolor\": \"#A2B1C6\", \"gridcolor\": \"#506784\", \"linecolor\": \"#506784\", \"minorgridcolor\": \"#506784\", \"startlinecolor\": \"#A2B1C6\"}, \"baxis\": {\"endlinecolor\": \"#A2B1C6\", \"gridcolor\": \"#506784\", \"linecolor\": \"#506784\", \"minorgridcolor\": \"#506784\", \"startlinecolor\": \"#A2B1C6\"}, \"type\": \"carpet\"}], \"choropleth\": [{\"colorbar\": {\"outlinewidth\": 0, \"ticks\": \"\"}, \"type\": \"choropleth\"}], \"contour\": [{\"colorbar\": {\"outlinewidth\": 0, \"ticks\": \"\"}, \"colorscale\": [[0.0, \"#0d0887\"], [0.1111111111111111, \"#46039f\"], [0.2222222222222222, \"#7201a8\"], [0.3333333333333333, \"#9c179e\"], [0.4444444444444444, \"#bd3786\"], [0.5555555555555556, \"#d8576b\"], [0.6666666666666666, \"#ed7953\"], [0.7777777777777778, \"#fb9f3a\"], [0.8888888888888888, \"#fdca26\"], [1.0, \"#f0f921\"]], \"type\": \"contour\"}], \"contourcarpet\": [{\"colorbar\": {\"outlinewidth\": 0, \"ticks\": \"\"}, \"type\": \"contourcarpet\"}], \"heatmap\": [{\"colorbar\": {\"outlinewidth\": 0, \"ticks\": \"\"}, \"colorscale\": [[0.0, \"#0d0887\"], [0.1111111111111111, \"#46039f\"], [0.2222222222222222, \"#7201a8\"], [0.3333333333333333, \"#9c179e\"], [0.4444444444444444, \"#bd3786\"], [0.5555555555555556, \"#d8576b\"], [0.6666666666666666, \"#ed7953\"], [0.7777777777777778, \"#fb9f3a\"], [0.8888888888888888, \"#fdca26\"], [1.0, \"#f0f921\"]], \"type\": \"heatmap\"}], \"heatmapgl\": [{\"colorbar\": {\"outlinewidth\": 0, \"ticks\": \"\"}, \"colorscale\": [[0.0, \"#0d0887\"], [0.1111111111111111, \"#46039f\"], [0.2222222222222222, \"#7201a8\"], [0.3333333333333333, \"#9c179e\"], [0.4444444444444444, \"#bd3786\"], [0.5555555555555556, \"#d8576b\"], [0.6666666666666666, \"#ed7953\"], [0.7777777777777778, \"#fb9f3a\"], [0.8888888888888888, \"#fdca26\"], [1.0, \"#f0f921\"]], \"type\": \"heatmapgl\"}], \"histogram\": [{\"marker\": {\"colorbar\": {\"outlinewidth\": 0, \"ticks\": \"\"}}, \"type\": \"histogram\"}], \"histogram2d\": [{\"colorbar\": {\"outlinewidth\": 0, \"ticks\": \"\"}, \"colorscale\": [[0.0, \"#0d0887\"], [0.1111111111111111, \"#46039f\"], [0.2222222222222222, \"#7201a8\"], [0.3333333333333333, \"#9c179e\"], [0.4444444444444444, \"#bd3786\"], [0.5555555555555556, \"#d8576b\"], [0.6666666666666666, \"#ed7953\"], [0.7777777777777778, \"#fb9f3a\"], [0.8888888888888888, \"#fdca26\"], [1.0, \"#f0f921\"]], \"type\": \"histogram2d\"}], \"histogram2dcontour\": [{\"colorbar\": {\"outlinewidth\": 0, \"ticks\": \"\"}, \"colorscale\": [[0.0, \"#0d0887\"], [0.1111111111111111, \"#46039f\"], [0.2222222222222222, \"#7201a8\"], [0.3333333333333333, \"#9c179e\"], [0.4444444444444444, \"#bd3786\"], [0.5555555555555556, \"#d8576b\"], [0.6666666666666666, \"#ed7953\"], [0.7777777777777778, \"#fb9f3a\"], [0.8888888888888888, \"#fdca26\"], [1.0, \"#f0f921\"]], \"type\": \"histogram2dcontour\"}], \"mesh3d\": [{\"colorbar\": {\"outlinewidth\": 0, \"ticks\": \"\"}, \"type\": \"mesh3d\"}], \"parcoords\": [{\"line\": {\"colorbar\": {\"outlinewidth\": 0, \"ticks\": \"\"}}, \"type\": \"parcoords\"}], \"pie\": [{\"automargin\": true, \"type\": \"pie\"}], \"scatter\": [{\"marker\": {\"line\": {\"color\": \"#283442\"}}, \"type\": \"scatter\"}], \"scatter3d\": [{\"line\": {\"colorbar\": {\"outlinewidth\": 0, \"ticks\": \"\"}}, \"marker\": {\"colorbar\": {\"outlinewidth\": 0, \"ticks\": \"\"}}, \"type\": \"scatter3d\"}], \"scattercarpet\": [{\"marker\": {\"colorbar\": {\"outlinewidth\": 0, \"ticks\": \"\"}}, \"type\": \"scattercarpet\"}], \"scattergeo\": [{\"marker\": {\"colorbar\": {\"outlinewidth\": 0, \"ticks\": \"\"}}, \"type\": \"scattergeo\"}], \"scattergl\": [{\"marker\": {\"line\": {\"color\": \"#283442\"}}, \"type\": \"scattergl\"}], \"scattermapbox\": [{\"marker\": {\"colorbar\": {\"outlinewidth\": 0, \"ticks\": \"\"}}, \"type\": \"scattermapbox\"}], \"scatterpolar\": [{\"marker\": {\"colorbar\": {\"outlinewidth\": 0, \"ticks\": \"\"}}, \"type\": \"scatterpolar\"}], \"scatterpolargl\": [{\"marker\": {\"colorbar\": {\"outlinewidth\": 0, \"ticks\": \"\"}}, \"type\": \"scatterpolargl\"}], \"scatterternary\": [{\"marker\": {\"colorbar\": {\"outlinewidth\": 0, \"ticks\": \"\"}}, \"type\": \"scatterternary\"}], \"surface\": [{\"colorbar\": {\"outlinewidth\": 0, \"ticks\": \"\"}, \"colorscale\": [[0.0, \"#0d0887\"], [0.1111111111111111, \"#46039f\"], [0.2222222222222222, \"#7201a8\"], [0.3333333333333333, \"#9c179e\"], [0.4444444444444444, \"#bd3786\"], [0.5555555555555556, \"#d8576b\"], [0.6666666666666666, \"#ed7953\"], [0.7777777777777778, \"#fb9f3a\"], [0.8888888888888888, \"#fdca26\"], [1.0, \"#f0f921\"]], \"type\": \"surface\"}], \"table\": [{\"cells\": {\"fill\": {\"color\": \"#506784\"}, \"line\": {\"color\": \"rgb(17,17,17)\"}}, \"header\": {\"fill\": {\"color\": \"#2a3f5f\"}, \"line\": {\"color\": \"rgb(17,17,17)\"}}, \"type\": \"table\"}]}, \"layout\": {\"annotationdefaults\": {\"arrowcolor\": \"#f2f5fa\", \"arrowhead\": 0, \"arrowwidth\": 1}, \"coloraxis\": {\"colorbar\": {\"outlinewidth\": 0, \"ticks\": \"\"}}, \"colorscale\": {\"diverging\": [[0, \"#8e0152\"], [0.1, \"#c51b7d\"], [0.2, \"#de77ae\"], [0.3, \"#f1b6da\"], [0.4, \"#fde0ef\"], [0.5, \"#f7f7f7\"], [0.6, \"#e6f5d0\"], [0.7, \"#b8e186\"], [0.8, \"#7fbc41\"], [0.9, \"#4d9221\"], [1, \"#276419\"]], \"sequential\": [[0.0, \"#0d0887\"], [0.1111111111111111, \"#46039f\"], [0.2222222222222222, \"#7201a8\"], [0.3333333333333333, \"#9c179e\"], [0.4444444444444444, \"#bd3786\"], [0.5555555555555556, \"#d8576b\"], [0.6666666666666666, \"#ed7953\"], [0.7777777777777778, \"#fb9f3a\"], [0.8888888888888888, \"#fdca26\"], [1.0, \"#f0f921\"]], \"sequentialminus\": [[0.0, \"#0d0887\"], [0.1111111111111111, \"#46039f\"], [0.2222222222222222, \"#7201a8\"], [0.3333333333333333, \"#9c179e\"], [0.4444444444444444, \"#bd3786\"], [0.5555555555555556, \"#d8576b\"], [0.6666666666666666, \"#ed7953\"], [0.7777777777777778, \"#fb9f3a\"], [0.8888888888888888, \"#fdca26\"], [1.0, \"#f0f921\"]]}, \"colorway\": [\"#636efa\", \"#EF553B\", \"#00cc96\", \"#ab63fa\", \"#FFA15A\", \"#19d3f3\", \"#FF6692\", \"#B6E880\", \"#FF97FF\", \"#FECB52\"], \"font\": {\"color\": \"#f2f5fa\"}, \"geo\": {\"bgcolor\": \"rgb(17,17,17)\", \"lakecolor\": \"rgb(17,17,17)\", \"landcolor\": \"rgb(17,17,17)\", \"showlakes\": true, \"showland\": true, \"subunitcolor\": \"#506784\"}, \"hoverlabel\": {\"align\": \"left\"}, \"hovermode\": \"closest\", \"mapbox\": {\"style\": \"dark\"}, \"paper_bgcolor\": \"rgb(17,17,17)\", \"plot_bgcolor\": \"rgb(17,17,17)\", \"polar\": {\"angularaxis\": {\"gridcolor\": \"#506784\", \"linecolor\": \"#506784\", \"ticks\": \"\"}, \"bgcolor\": \"rgb(17,17,17)\", \"radialaxis\": {\"gridcolor\": \"#506784\", \"linecolor\": \"#506784\", \"ticks\": \"\"}}, \"scene\": {\"xaxis\": {\"backgroundcolor\": \"rgb(17,17,17)\", \"gridcolor\": \"#506784\", \"gridwidth\": 2, \"linecolor\": \"#506784\", \"showbackground\": true, \"ticks\": \"\", \"zerolinecolor\": \"#C8D4E3\"}, \"yaxis\": {\"backgroundcolor\": \"rgb(17,17,17)\", \"gridcolor\": \"#506784\", \"gridwidth\": 2, \"linecolor\": \"#506784\", \"showbackground\": true, \"ticks\": \"\", \"zerolinecolor\": \"#C8D4E3\"}, \"zaxis\": {\"backgroundcolor\": \"rgb(17,17,17)\", \"gridcolor\": \"#506784\", \"gridwidth\": 2, \"linecolor\": \"#506784\", \"showbackground\": true, \"ticks\": \"\", \"zerolinecolor\": \"#C8D4E3\"}}, \"shapedefaults\": {\"line\": {\"color\": \"#f2f5fa\"}}, \"sliderdefaults\": {\"bgcolor\": \"#C8D4E3\", \"bordercolor\": \"rgb(17,17,17)\", \"borderwidth\": 1, \"tickwidth\": 0}, \"ternary\": {\"aaxis\": {\"gridcolor\": \"#506784\", \"linecolor\": \"#506784\", \"ticks\": \"\"}, \"baxis\": {\"gridcolor\": \"#506784\", \"linecolor\": \"#506784\", \"ticks\": \"\"}, \"bgcolor\": \"rgb(17,17,17)\", \"caxis\": {\"gridcolor\": \"#506784\", \"linecolor\": \"#506784\", \"ticks\": \"\"}}, \"title\": {\"x\": 0.05}, \"updatemenudefaults\": {\"bgcolor\": \"#506784\", \"borderwidth\": 0}, \"xaxis\": {\"automargin\": true, \"gridcolor\": \"#283442\", \"linecolor\": \"#506784\", \"ticks\": \"\", \"title\": {\"standoff\": 15}, \"zerolinecolor\": \"#283442\", \"zerolinewidth\": 2}, \"yaxis\": {\"automargin\": true, \"gridcolor\": \"#283442\", \"linecolor\": \"#506784\", \"ticks\": \"\", \"title\": {\"standoff\": 15}, \"zerolinecolor\": \"#283442\", \"zerolinewidth\": 2}}}, \"title\": {\"text\": \"HISTOGRAM DISTRIBUSI TROMBOSIT\"}, \"xaxis\": {\"anchor\": \"y\", \"domain\": [0.0, 1.0], \"title\": {\"text\": \"Trombosit\"}}, \"yaxis\": {\"anchor\": \"x\", \"domain\": [0.0, 1.0], \"title\": {\"text\": \"Jumlah\"}}},\n",
              "                        {\"responsive\": true}\n",
              "                    ).then(function(){\n",
              "                            \n",
              "var gd = document.getElementById('26e17b1d-b478-418b-9744-8dbe52f0577c');\n",
              "var x = new MutationObserver(function (mutations, observer) {{\n",
              "        var display = window.getComputedStyle(gd).display;\n",
              "        if (!display || display === 'none') {{\n",
              "            console.log([gd, 'removed!']);\n",
              "            Plotly.purge(gd);\n",
              "            observer.disconnect();\n",
              "        }}\n",
              "}});\n",
              "\n",
              "// Listen for the removal of the full notebook cells\n",
              "var notebookContainer = gd.closest('#notebook-container');\n",
              "if (notebookContainer) {{\n",
              "    x.observe(notebookContainer, {childList: true});\n",
              "}}\n",
              "\n",
              "// Listen for the clearing of the current output cell\n",
              "var outputEl = gd.closest('.output');\n",
              "if (outputEl) {{\n",
              "    x.observe(outputEl, {childList: true});\n",
              "}}\n",
              "\n",
              "                        })\n",
              "                };\n",
              "                \n",
              "            </script>\n",
              "        </div>\n",
              "</body>\n",
              "</html>"
            ]
          },
          "metadata": {}
        }
      ]
    },
    {
      "cell_type": "code",
      "metadata": {
        "id": "nrMrpW_emda3"
      },
      "source": [
        "fig = px.histogram(df, x=\"platelets\", color=\"DEATH_EVENT\", marginal=\"violin\", hover_data=df.columns,\n",
        "                   title =\"DISTRIBUSI TROMBOSIT VS KEMATIAN\", \n",
        "                   labels={\"platelets\": \"TROMBOST\"},\n",
        "                   template=\"plotly_dark\",\n",
        "                   color_discrete_map={\"0\": \"RebeccaPurple\", \"1\": \"MediumPurple\"})\n",
        "fig.show()"
      ],
      "execution_count": null,
      "outputs": []
    },
    {
      "cell_type": "markdown",
      "metadata": {
        "id": "2oUv6LY6rbJP"
      },
      "source": [
        "# Visualisasi Distribusi Serum Sodium"
      ]
    },
    {
      "cell_type": "code",
      "metadata": {
        "id": "iJhfUXYxAdct"
      },
      "source": [
        "fig = px.histogram(df, x=\"serum_sodium\", color_discrete_sequence=['#FE6F5E'])\n",
        "fig.update_layout(\n",
        "    title_text='HISTOGRAM DISTRIBUSI SERUM SODIUM', \n",
        "    xaxis_title_text='Trombosit', \n",
        "    yaxis_title_text='Jumlah', \n",
        "    bargap=0.05,\n",
        "    template = 'plotly_dark'\n",
        ")"
      ],
      "execution_count": null,
      "outputs": []
    },
    {
      "cell_type": "code",
      "metadata": {
        "id": "_BNem-_wCOP7"
      },
      "source": [
        "fig = px.histogram(df, x=\"serum_sodium\", color=\"DEATH_EVENT\", marginal=\"violin\",hover_data=df.columns,\n",
        "                   title =\"DISTRIBUSI SERUM SODIUM vs KEMATIAN\", \n",
        "                   labels={\"serum_sodium\": \"SERUM SODIUM\"},\n",
        "                   template=\"plotly_dark\",\n",
        "                   color_discrete_map={\"0\": \"RebeccaPurple\", \"1\": \"MediumPurple\"})\n",
        "fig.show()"
      ],
      "execution_count": null,
      "outputs": []
    },
    {
      "cell_type": "markdown",
      "metadata": {
        "id": "qqv4IKANrfp2"
      },
      "source": [
        "# Visualisasi Pie Chart Distribusi Jenis Kelamin"
      ]
    },
    {
      "cell_type": "code",
      "metadata": {
        "id": "1nmPQzhnCSYa"
      },
      "source": [
        "import plotly.graph_objects as go\n",
        "from plotly.subplots import make_subplots\n",
        "\n",
        "d1 = df[(df[\"DEATH_EVENT\"]==0) & (df[\"sex\"]==1)]\n",
        "d2 = df[(df[\"DEATH_EVENT\"]==1) & (df[\"sex\"]==1)]\n",
        "d3 = df[(df[\"DEATH_EVENT\"]==0) & (df[\"sex\"]==0)]\n",
        "d4 = df[(df[\"DEATH_EVENT\"]==1) & (df[\"sex\"]==0)]\n",
        "\n",
        "label1 = [\"Laki-laki\",\"Perempuan\"]\n",
        "label2 = ['Laki-laki - Hidup','Laki-laki - Meninggal', \"Perempuan -  Hidup\", \"Perempuan - Hidup\"]\n",
        "values1 = [(len(d1)+len(d2)), (len(d3)+len(d4))]\n",
        "values2 = [len(d1),len(d2),len(d3),len(d4)]\n",
        "\n",
        "fig = make_subplots(rows=1, cols=2, specs=[[{'type':'domain'}, {'type':'domain'}]])\n",
        "fig.add_trace(go.Pie(labels=label1, values=values1, name=\"Jenis Kelamin\"),\n",
        "              1, 1)\n",
        "fig.add_trace(go.Pie(labels=label2, values=values2, name=\"Jenis Kelamin vs Kematian\"),\n",
        "              1, 2)\n",
        "\n",
        "fig.update_traces(hole=.4, hoverinfo=\"label+percent\")\n",
        "\n",
        "fig.update_layout(\n",
        "    title_text=\"Distribusi Jenis Kelamin  \\\n",
        "                                                        Jenis Kelamin vs Kematian\",\n",
        "    annotations=[dict(text='Jenis Kelamin', x=0.19, y=0.5, font_size=10, showarrow=False),\n",
        "                 dict(text='Jenis Kelamin vs Kematian', x=0.84, y=0.5, font_size=9, showarrow=False)],\n",
        "    autosize=False,width=1200, height=500, paper_bgcolor=\"white\")\n",
        "\n",
        "fig.show()"
      ],
      "execution_count": null,
      "outputs": []
    },
    {
      "cell_type": "markdown",
      "metadata": {
        "id": "m4yeWoTgro6k"
      },
      "source": [
        "# Visualisasi Pie Chart Distribusi Diabetes"
      ]
    },
    {
      "cell_type": "code",
      "metadata": {
        "id": "Sa5qaP4OCXNv"
      },
      "source": [
        "d1 = df[(df[\"DEATH_EVENT\"]==0) & (df[\"diabetes\"]==0)]\n",
        "d2 = df[(df[\"DEATH_EVENT\"]==0) & (df[\"diabetes\"]==1)]\n",
        "d3 = df[(df[\"DEATH_EVENT\"]==1) & (df[\"diabetes\"]==0)]\n",
        "d4 = df[(df[\"DEATH_EVENT\"]==1) & (df[\"diabetes\"]==1)]\n",
        "\n",
        "label1 = [\"Tanpa Diabetes\",\"Diabetes\"]\n",
        "label2 = ['Tanpa Diabetes - Hidup','Diabetes - Hidup', \"Tanpa Diabetes -  Meninggal\", \"Diabetes  - Meninggal\"]\n",
        "values1 = [(len(d1)+len(d3)), (len(d2)+len(d4))]\n",
        "values2 = [len(d1),len(d2),len(d3),len(d4)]\n",
        "\n",
        "fig = make_subplots(rows=1, cols=2, specs=[[{'type':'domain'}, {'type':'domain'}]])\n",
        "fig.add_trace(go.Pie(labels=label1, values=values1, name=\"Diabetes\"),\n",
        "              1, 1)\n",
        "fig.add_trace(go.Pie(labels=label2, values=values2, name=\"Diabetes vs Kematian\"),\n",
        "              1, 2)\n",
        "\n",
        "fig.update_traces(hole=.4, hoverinfo=\"label+percent\")\n",
        "\n",
        "fig.update_layout(\n",
        "    title_text=\"DISTRIBUSI DIABETES \\\n",
        "                                                          DIABETES vs KEMATIAN\",\n",
        "    annotations=[dict(text='DIABETES', x=0.20, y=0.5, font_size=10, showarrow=False),\n",
        "                 dict(text='DIABETES vs KEMATIAN', x=0.84, y=0.5, font_size=8, showarrow=False)],\n",
        "    autosize=False,width=1200, height=500, paper_bgcolor=\"white\")\n",
        "fig.show()"
      ],
      "execution_count": null,
      "outputs": []
    },
    {
      "cell_type": "markdown",
      "metadata": {
        "id": "4uJu4JJ8sEXm"
      },
      "source": [
        "# Visualisasi Pie Chart Distribusi Anemia"
      ]
    },
    {
      "cell_type": "code",
      "metadata": {
        "id": "atie6gpfe3r6"
      },
      "source": [
        "d1 = df[(df[\"DEATH_EVENT\"]==0) & (df[\"anaemia\"]==0)]\n",
        "d2 = df[(df[\"DEATH_EVENT\"]==1) & (df[\"anaemia\"]==0)]\n",
        "d3 = df[(df[\"DEATH_EVENT\"]==0) & (df[\"anaemia\"]==1)]\n",
        "d4 = df[(df[\"DEATH_EVENT\"]==1) & (df[\"anaemia\"]==1)]\n",
        "\n",
        "label1 = [\"Tanpa Anemia\",\"Anemia\"]\n",
        "label2 = ['Tanpa Anemia - Hidup','Tanpa Anemia - Meninggal', \"Anemia -  Hidup\", \"Anemia  - Meninggal\"]\n",
        "values1 = [(len(d1)+len(d2)), (len(d3)+len(d4))]\n",
        "values2 = [len(d1),len(d2),len(d3),len(d4)]\n",
        "\n",
        "# Membuat subplots: Gunakan tipe 'domain' untuk subplot pie\n",
        "fig = make_subplots(rows=1, cols=2, specs=[[{'type':'domain'}, {'type':'domain'}]])\n",
        "fig.add_trace(go.Pie(labels=label1, values=values1, name=\"ANEMIA\"),\n",
        "              1, 1)\n",
        "fig.add_trace(go.Pie(labels=label2, values=values2, name=\"ANEMIA VS KEMATIAN\"),\n",
        "              1, 2)\n",
        "\n",
        "# Gunakan `hole` untuk membuat pie chart mirip donat\n",
        "fig.update_traces(hole=.4, hoverinfo=\"label+percent\")\n",
        "\n",
        "fig.update_layout(\n",
        "    title_text=\"DISTRIBUSI ANEMIA \\\n",
        "                                                        ANEMIA VS KEMATIAN\",\n",
        "    # Menambahkan anotasi di tengah pie chart.\n",
        "    annotations=[dict(text='ANEMIA', x=0.20, y=0.5, font_size=10, showarrow=False),\n",
        "                 dict(text='ANEMIA VS KEMATIAN', x=0.84, y=0.5, font_size=8, showarrow=False)],\n",
        "    autosize=False,width=1200, height=500, paper_bgcolor=\"white\")\n",
        "fig.show()\n"
      ],
      "execution_count": null,
      "outputs": []
    },
    {
      "cell_type": "markdown",
      "metadata": {
        "id": "etkKD-UltSTX"
      },
      "source": [
        "# Visualisasi Pie Chart Distribusi Tekanan Darah Tinggi"
      ]
    },
    {
      "cell_type": "code",
      "metadata": {
        "id": "V0Q5xEu1s11s"
      },
      "source": [
        "d1 = df[(df[\"DEATH_EVENT\"]==0) & (df[\"high_blood_pressure\"]==0)]\n",
        "d2 = df[(df[\"DEATH_EVENT\"]==1) & (df[\"high_blood_pressure\"]==0)]\n",
        "d3 = df[(df[\"DEATH_EVENT\"]==0) & (df[\"high_blood_pressure\"]==1)]\n",
        "d4 = df[(df[\"DEATH_EVENT\"]==1) & (df[\"high_blood_pressure\"]==1)]\n",
        "\n",
        "label1 = [\"Tanpa Tekanan Darah Tinggi\",\"Tekanan Darah Tinggi\"]\n",
        "label2 = ['Tanpa Tekanan Darah Tinggi - Hidup','Tanpa Tekanan Darah Tinggi - Meninggal', \"Tekanan Darah Tinggi -  Hidup\", \"Tekanan Darah Tinggi  - Meninggal\"]\n",
        "values1 = [(len(d1)+len(d2)), (len(d3)+len(d4))]\n",
        "values2 = [len(d1),len(d2),len(d3),len(d4)]\n",
        "\n",
        "# Membuat subplots: Gunakan tipe 'domain' untuk subplot pie\n",
        "fig = make_subplots(rows=1, cols=2, specs=[[{'type':'domain'}, {'type':'domain'}]])\n",
        "fig.add_trace(go.Pie(labels=label1, values=values1, name=\"HIGH BP\"),\n",
        "              1, 1)\n",
        "fig.add_trace(go.Pie(labels=label2, values=values2, name=\"HIGH BP VS DEATH_EVENT\"),\n",
        "              1, 2)\n",
        "\n",
        "# Gunakan `hole` untuk membuat pie chart mirip donat\n",
        "fig.update_traces(hole=.4, hoverinfo=\"label+percent\")\n",
        "\n",
        "fig.update_layout(\n",
        "    title_text=\"DISTRIBUSI TEKANAN DARAH TINGGI \\\n",
        "                          TEKANAN DARAH TINGGI VS KEMATIAN\",\n",
        "    # Menambahkan anotasi di tengah pie chart.\n",
        "    annotations=[dict(text='Tekanan Darah Tinggi', x=0.15, y=0.5, font_size=10, showarrow=False),\n",
        "                 dict(text='Tekanan Darah Tinggi', x=0.84, y=0.5, font_size=10, showarrow=False),\n",
        "                 dict(text='VS Kematian', x=0.82, y=0.45, font_size=10, showarrow=False)],\n",
        "    autosize=False,width=1200, height=500, paper_bgcolor=\"white\")\n",
        "fig.show()"
      ],
      "execution_count": null,
      "outputs": []
    },
    {
      "cell_type": "markdown",
      "metadata": {
        "id": "ERhiDXfwvSLb"
      },
      "source": [
        "# Visualisasi Pie Chart Distribusi Merokok"
      ]
    },
    {
      "cell_type": "code",
      "metadata": {
        "id": "1AaeJUCHvZjv"
      },
      "source": [
        "d1 = df[(df[\"DEATH_EVENT\"]==0) & (df[\"smoking\"]==0)]\n",
        "d2 = df[(df[\"DEATH_EVENT\"]==1) & (df[\"smoking\"]==0)]\n",
        "d3 = df[(df[\"DEATH_EVENT\"]==0) & (df[\"smoking\"]==1)]\n",
        "d4 = df[(df[\"DEATH_EVENT\"]==1) & (df[\"smoking\"]==1)]\n",
        "\n",
        "label1 = [\"Tidak Merokok\",\"Merokok\"]\n",
        "label2 = ['Tidak Merokok - Hidup','Tidak Merokok - Meninggal', \"Merokok - Hidup\", \"Merokok - Meninggal\"]\n",
        "values1 = [(len(d1)+len(d2)), (len(d3)+len(d4))]\n",
        "values2 = [len(d1),len(d2),len(d3),len(d4)]\n",
        "\n",
        "# Membuat subplots: Gunakan tipe 'domain' untuk subplot pie\n",
        "fig = make_subplots(rows=1, cols=2, specs=[[{'type':'domain'}, {'type':'domain'}]])\n",
        "fig.add_trace(go.Pie(labels=label1, values=values1, name=\"MEROKOK\"),\n",
        "              1, 1)\n",
        "fig.add_trace(go.Pie(labels=label2, values=values2, name=\"MEROKOK VS KEMATIAN\"),\n",
        "              1, 2)\n",
        "\n",
        "# Gunakan `hole` untuk membuat pie chart mirip donat\n",
        "fig.update_traces(hole=.4, hoverinfo=\"label+percent\")\n",
        "\n",
        "fig.update_layout(\n",
        "    title_text=\"DISTRIBUSI PERILAKU MEROKOK \\\n",
        "                                              MEROKOK VS KEMATIAN\",\n",
        "    # Add annotations in the center of the donut pies.\n",
        "    annotations=[dict(text='MEROKOK', x=0.20, y=0.5, font_size=10, showarrow=False),\n",
        "                 dict(text='MEROKOK VS KEMATIAN', x=0.84, y=0.5, font_size=8, showarrow=False)],\n",
        "    autosize=False,width=1200, height=500, paper_bgcolor=\"white\")\n",
        "fig.show()"
      ],
      "execution_count": null,
      "outputs": []
    },
    {
      "cell_type": "markdown",
      "metadata": {
        "id": "_CaCn5mRwxlm"
      },
      "source": [
        "# Visualisasi Distribusi Umur VS Diabetes"
      ]
    },
    {
      "cell_type": "code",
      "metadata": {
        "id": "TI4yPUgkw56f"
      },
      "source": [
        "fig = px.histogram(df, x=\"age\", color=\"diabetes\", marginal=\"violin\",hover_data=df.columns,\n",
        "                   title =\"DISTRIBUSI UMUR VS DIABETES\", \n",
        "                   labels={\"diabetes\": \"DIABETES\", \"age\": \"UMUR\"},\n",
        "                   template=\"plotly_dark\")\n",
        "fig.show()"
      ],
      "execution_count": null,
      "outputs": []
    },
    {
      "cell_type": "markdown",
      "metadata": {
        "id": "tKzogQ2oyEVW"
      },
      "source": [
        "# Visualisasi Distribusi Umur vs Anemia"
      ]
    },
    {
      "cell_type": "code",
      "metadata": {
        "id": "u0VFxv1ByJit"
      },
      "source": [
        "fig = px.histogram(df, x=\"age\", color=\"anaemia\", marginal=\"violin\",hover_data=df.columns,\n",
        "                   title =\"DISTRIBUSI UMUR VS ANEMIA\", \n",
        "                   labels={\"anaemia\": \"ANEMIA\", \"age\": \"UMUR\"},\n",
        "                   template=\"plotly_dark\")\n",
        "fig.show()"
      ],
      "execution_count": null,
      "outputs": []
    },
    {
      "cell_type": "markdown",
      "metadata": {
        "id": "3qC6ZciZyZhp"
      },
      "source": [
        "# Visualisasi Distribusi Umur vs Tekanan Darah Tinggi"
      ]
    },
    {
      "cell_type": "code",
      "metadata": {
        "id": "GSbcCYJFyf7-"
      },
      "source": [
        "fig = px.histogram(df, x=\"age\", color=\"high_blood_pressure\", marginal=\"violin\",hover_data=df.columns,\n",
        "                   title =\"DISTRIBUSI UMUR VS TEKANAN DARAH TINGGI\", \n",
        "                   labels={\"high_blood_pressure\": \"TEKANAN DARAH TINGGI\", \"age\": \"UMUR\"},\n",
        "                   template=\"plotly_dark\")\n",
        "fig.show()"
      ],
      "execution_count": null,
      "outputs": []
    },
    {
      "cell_type": "markdown",
      "metadata": {
        "id": "QbdcUtqQyzpk"
      },
      "source": [
        "# Visualisasi Distribusi Umur vs Perilaku Merokok"
      ]
    },
    {
      "cell_type": "code",
      "metadata": {
        "id": "rt-gDOhty8pI"
      },
      "source": [
        "fig = px.histogram(df, x=\"age\", color=\"smoking\", marginal=\"violin\",hover_data=df.columns,\n",
        "                   title =\"DISTRIBUSI UMUR VS PERILAKU MEROKOK\", \n",
        "                   labels={\"smoking\": \"PERILAKU MEROKOK\", \"age\": \"UMUR\"},\n",
        "                   template=\"plotly_dark\")\n",
        "fig.show()"
      ],
      "execution_count": null,
      "outputs": []
    },
    {
      "cell_type": "markdown",
      "metadata": {
        "id": "2-RbVj58zW6v"
      },
      "source": [
        "Menampilkan Data pada Fitur time, ejection_fraction, dan serum_creatinine dengan DEATH_EVENT\n",
        "\n"
      ]
    },
    {
      "cell_type": "code",
      "metadata": {
        "id": "nL3OZQmZzVkH"
      },
      "source": [
        "X = df.iloc[:, [4,7,11]].values\n",
        "y = df.iloc[:,-1].values"
      ],
      "execution_count": null,
      "outputs": []
    },
    {
      "cell_type": "code",
      "metadata": {
        "id": "2qcghdTFz1ea"
      },
      "source": [
        "print(X)"
      ],
      "execution_count": null,
      "outputs": []
    },
    {
      "cell_type": "code",
      "metadata": {
        "id": "_jWxB8syz53G"
      },
      "source": [
        "print(y)"
      ],
      "execution_count": null,
      "outputs": []
    },
    {
      "cell_type": "markdown",
      "metadata": {
        "id": "uMZ8sLH4_5Mi"
      },
      "source": [
        "##**MODEL**"
      ]
    },
    {
      "cell_type": "markdown",
      "metadata": {
        "id": "XKeJ_2HFGUUf"
      },
      "source": [
        "Akan dicoba beberapa model, yaitu:\n",
        "1.   Extreme Gradien Boosting (XGBoost)\n",
        "2.   Random Forest\n",
        "3.   Logistic Regression\n",
        "4.   Desision Tree \n",
        "5.   Support Vector Machine (SVM)\n",
        "6.   Cat Boost \n",
        "\n",
        "Lalu akan dievaluasi model terbaik dari 6 model tersebut\n",
        "\n"
      ]
    },
    {
      "cell_type": "markdown",
      "metadata": {
        "id": "Yul0emWbAHpk"
      },
      "source": [
        "#Import Library"
      ]
    },
    {
      "cell_type": "code",
      "metadata": {
        "id": "YNFlgVKQ_ZnS"
      },
      "source": [
        "from scipy import stats\n",
        "from scipy.stats import norm, skew, boxcox\n",
        "from collections import Counter\n",
        "\n",
        "from sklearn.preprocessing import RobustScaler, StandardScaler\n",
        "from sklearn.metrics import mean_squared_error, confusion_matrix, accuracy_score, plot_confusion_matrix, auc\n",
        "from sklearn.base import BaseEstimator, TransformerMixin, RegressorMixin, clone\n",
        "\n",
        "from sklearn.model_selection import train_test_split, StratifiedKFold, GridSearchCV\n",
        "from sklearn.linear_model import LogisticRegression\n",
        "from catboost import CatBoostClassifier, Pool\n",
        "from sklearn.svm import SVC\n",
        "from sklearn.ensemble import RandomForestClassifier, VotingClassifier\n",
        "from sklearn.neighbors import KNeighborsClassifier\n",
        "from sklearn.tree import DecisionTreeClassifier\n",
        "from sklearn.feature_selection import RFE\n",
        "from imblearn.over_sampling import SMOTE\n",
        "\n",
        "#XGBOOST\n",
        "from xgboost import XGBClassifier\n",
        "\n",
        "#warning\n",
        "import warnings\n",
        "warnings.filterwarnings('ignore')"
      ],
      "execution_count": null,
      "outputs": []
    },
    {
      "cell_type": "markdown",
      "metadata": {
        "id": "te4OztkoAifc"
      },
      "source": [
        "##Memisahkan Data Fitur dan Data Target"
      ]
    },
    {
      "cell_type": "code",
      "metadata": {
        "id": "gJ3p_T0j_2CZ"
      },
      "source": [
        "X = df.drop(\"DEATH_EVENT\", axis = 1) #Data Fitur\n",
        "y = df.DEATH_EVENT #Data Target"
      ],
      "execution_count": null,
      "outputs": []
    },
    {
      "cell_type": "markdown",
      "metadata": {
        "id": "OXYsu5mgEdz8"
      },
      "source": [
        "##Menerapkan SMOTE"
      ]
    },
    {
      "cell_type": "markdown",
      "metadata": {
        "id": "HgjQd6jHRHbK"
      },
      "source": [
        "Karena jumlah data antar label/target masih tidak seimbang (imbalance), maka dilakukan penyeimbangan data dengan teknik SMOTE"
      ]
    },
    {
      "cell_type": "code",
      "metadata": {
        "id": "24cg2EiJEcEM"
      },
      "source": [
        "print(\"Sebelum SMOTE\")\n",
        "y.value_counts()"
      ],
      "execution_count": null,
      "outputs": []
    },
    {
      "cell_type": "code",
      "metadata": {
        "id": "wGZu6IzjFbKN"
      },
      "source": [
        "sm = SMOTE(random_state=42)\n",
        "X_sm, y_sm = sm.fit_resample(X, y)"
      ],
      "execution_count": null,
      "outputs": []
    },
    {
      "cell_type": "code",
      "metadata": {
        "id": "I9dcZ3CzFjuE"
      },
      "source": [
        "print(\"Setelah Smote\")\n",
        "y_sm.value_counts()"
      ],
      "execution_count": null,
      "outputs": []
    },
    {
      "cell_type": "markdown",
      "metadata": {
        "id": "oo2P0DZtF3Zv"
      },
      "source": [
        "##Split Data Latih dan Data Uji"
      ]
    },
    {
      "cell_type": "code",
      "metadata": {
        "id": "lgqP3w1QFpHR"
      },
      "source": [
        "test_size = 0.2\n",
        "X_train, X_test, y_train, y_test = train_test_split(X_sm, y_sm, test_size = test_size, random_state = 42)"
      ],
      "execution_count": null,
      "outputs": []
    },
    {
      "cell_type": "code",
      "metadata": {
        "id": "5JJPCd29GNEa"
      },
      "source": [
        "# List kosong menyimpan hasil akurasi\n",
        "result_acc = []"
      ],
      "execution_count": null,
      "outputs": []
    },
    {
      "cell_type": "markdown",
      "metadata": {
        "id": "KEQLodWRHeXF"
      },
      "source": [
        "##XG Boost"
      ]
    },
    {
      "cell_type": "code",
      "metadata": {
        "id": "BkAsM4XeHcb5"
      },
      "source": [
        "XGB = XGBClassifier(max_depth = 1)\n",
        "XGB.fit(X_train, y_train)\n",
        "y_pred_xgb = XGB.predict(X_test)\n",
        "cm_xgb = confusion_matrix(y_pred_xgb, y_test)\n",
        "acc_xgb = accuracy_score(y_test, y_pred_xgb)\n",
        "result_acc.append(acc_xgb)\n",
        "print(\"HASIL\")\n",
        "print(\"Akurasi Model XGB : \", acc_xgb)\n",
        "print(\"Confusion Matrix XGB : \", cm_xgb)"
      ],
      "execution_count": null,
      "outputs": []
    },
    {
      "cell_type": "markdown",
      "metadata": {
        "id": "P5vMoJRPHpyo"
      },
      "source": [
        "##Random Forest"
      ]
    },
    {
      "cell_type": "code",
      "metadata": {
        "id": "t--qAN0DHsrL"
      },
      "source": [
        "RF = RandomForestClassifier()\n",
        "RF.fit(X_train, y_train)\n",
        "importance = RF.feature_importances_\n",
        "\n",
        "# Plot Kepentingan Fitur\n",
        "plt.bar([x for x in range(len(importance))], importance, color = \"red\")\n",
        "plt.show()"
      ],
      "execution_count": null,
      "outputs": []
    },
    {
      "cell_type": "code",
      "metadata": {
        "id": "qc0lX4xSH3-S"
      },
      "source": [
        "X_train_RF = X_train[[\"age\",\"creatinine_phosphokinase\",\"ejection_fraction\",\"serum_creatinine\",\"time\"]]\n",
        "X_test_RF = X_test[[\"age\",\"creatinine_phosphokinase\",\"ejection_fraction\",\"serum_creatinine\",\"time\"]]"
      ],
      "execution_count": null,
      "outputs": []
    },
    {
      "cell_type": "code",
      "metadata": {
        "id": "E6lXSxqEH481"
      },
      "source": [
        "RF = RandomForestClassifier(max_depth=7, random_state=25)\n",
        "RF.fit(X_train_RF, y_train)\n",
        "y_pred_RF = RF.predict(X_test_RF)\n",
        "cm_RF = confusion_matrix(y_pred_RF, y_test)\n",
        "acc_RF = accuracy_score(y_test, y_pred_RF)\n",
        "result_acc.append(acc_RF)\n",
        "print(\"HASIL\")\n",
        "print(\"Akurasi Model Random Forest : \", acc_RF)\n",
        "print(\"Confusion Matrix Model Random Forest : \", cm_RF)"
      ],
      "execution_count": null,
      "outputs": []
    },
    {
      "cell_type": "markdown",
      "metadata": {
        "id": "2GnSQCITQOdj"
      },
      "source": [
        "##Logistic Regression"
      ]
    },
    {
      "cell_type": "code",
      "metadata": {
        "id": "P3Hd3EuQQE-D"
      },
      "source": [
        "LogReg = LogisticRegression()\n",
        "LogReg.fit(X_train, y_train)\n",
        "importance = LogReg.coef_[0]\n",
        "\n",
        "plt.bar([x for x in range(len(importance))], importance, color = \"orange\")\n",
        "plt.show()"
      ],
      "execution_count": null,
      "outputs": []
    },
    {
      "cell_type": "code",
      "metadata": {
        "id": "Bg_5NMswQSN3"
      },
      "source": [
        "X_train_LogReg = X_train[[\"creatinine_phosphokinase\",\"ejection_fraction\",\"serum_creatinine\",\"sex\"]]\n",
        "X_test_LogReg = X_test[[\"creatinine_phosphokinase\",\"ejection_fraction\",\"serum_creatinine\",\"sex\"]]"
      ],
      "execution_count": null,
      "outputs": []
    },
    {
      "cell_type": "code",
      "metadata": {
        "id": "qW2BSMbgQWBD"
      },
      "source": [
        "LogReg = LogisticRegression()\n",
        "LogReg.fit(X_train_LogReg, y_train)\n",
        "y_pred_LogReg = LogReg.predict(X_test_LogReg)\n",
        "cm_LogReg = confusion_matrix(y_pred_LogReg, y_test)\n",
        "acc_LogReg = accuracy_score(y_test, y_pred_LogReg)\n",
        "result_acc.append(acc_LogReg)\n",
        "print(\"HASIL\")\n",
        "print(\"Akurasi Model Logistic Regression : \", acc_LogReg)\n",
        "print(\"Confusion Matrix Model Logistic Regression : \", cm_LogReg)"
      ],
      "execution_count": null,
      "outputs": []
    },
    {
      "cell_type": "markdown",
      "metadata": {
        "id": "MoaIq-ueQgWu"
      },
      "source": [
        "## Decision Tree"
      ]
    },
    {
      "cell_type": "code",
      "metadata": {
        "id": "jvXkJBf2QZVk"
      },
      "source": [
        "DT = DecisionTreeClassifier()\n",
        "DT.fit(X_train, y_train)\n",
        "importance = DT.feature_importances_\n",
        "\n",
        "plt.bar([x for x in range(len(importance))], importance, color = \"blue\")\n",
        "plt.show()"
      ],
      "execution_count": null,
      "outputs": []
    },
    {
      "cell_type": "code",
      "metadata": {
        "id": "Tsj9h7YtQjLt"
      },
      "source": [
        "X_train_DT = X_train[[\"creatinine_phosphokinase\",\"ejection_fraction\",\"time\"]]\n",
        "X_test_DT = X_test[[\"creatinine_phosphokinase\",\"ejection_fraction\",\"time\"]]"
      ],
      "execution_count": null,
      "outputs": []
    },
    {
      "cell_type": "code",
      "metadata": {
        "id": "_ycaDHvaQpF9"
      },
      "source": [
        "DT_param_grid = {\"min_samples_split\" : range(10,500,20),\n",
        "                \"max_depth\": range(1,20)}\n",
        "\n",
        "DT = DecisionTreeClassifier()\n",
        "clf = GridSearchCV(DT, param_grid=DT_param_grid, cv = StratifiedKFold(n_splits = 10), scoring = \"accuracy\", n_jobs = -1,verbose = 1)\n",
        "clf.fit(X_train_DT, y_train)\n",
        "\n",
        "y_pred_DT = clf.predict(X_test_DT)\n",
        "cm_y_pred_DT = confusion_matrix(y_pred_DT, y_test)\n",
        "acc_y_pred_DT = accuracy_score(y_test, y_pred_DT)\n",
        "result_acc.append(acc_y_pred_DT)\n",
        "print(\"HASIL\")\n",
        "print(\"Akurasi Model Decision Tree : \", acc_y_pred_DT)\n",
        "print(\"Confusion Matrix Decision Tree: \", cm_y_pred_DT)"
      ],
      "execution_count": null,
      "outputs": []
    },
    {
      "cell_type": "markdown",
      "metadata": {
        "id": "wtiyLyBhQ25t"
      },
      "source": [
        "## Support Vector Machine"
      ]
    },
    {
      "cell_type": "code",
      "metadata": {
        "id": "WLoIq287QtCa"
      },
      "source": [
        "SVM = SVC(kernel=\"linear\")\n",
        "SVM.fit(X_train, y_train)\n",
        "importance = SVM.coef_[0]\n",
        "\n",
        "plt.bar([x for x in range(len(importance))], importance, color = \"brown\")\n",
        "plt.show()"
      ],
      "execution_count": null,
      "outputs": []
    },
    {
      "cell_type": "code",
      "metadata": {
        "id": "cmtgG6etQ6WT"
      },
      "source": [
        "X_train_SVM = X_train[[\"creatinine_phosphokinase\",\"ejection_fraction\",\"serum_creatinine\",\"sex\"]]\n",
        "X_test_SVM = X_test[[\"creatinine_phosphokinase\",\"ejection_fraction\",\"serum_creatinine\",\"sex\"]]"
      ],
      "execution_count": null,
      "outputs": []
    },
    {
      "cell_type": "code",
      "metadata": {
        "id": "C49vBxGrQ-O4"
      },
      "source": [
        "SVM = SVC()\n",
        "SVM.fit(X_train_SVM, y_train)\n",
        "y_pred_SVM = SVM.predict(X_test_SVM)\n",
        "cm_SVM = confusion_matrix(y_pred_SVM, y_test)\n",
        "acc_SVM = accuracy_score(y_test, y_pred_SVM)\n",
        "result_acc.append(acc_SVM)\n",
        "print(\"HASIL\")\n",
        "print(\"Akurasi Model SVM : \", acc_SVM)\n",
        "print(\"Confusion Matrix SVM : \", cm_SVM)"
      ],
      "execution_count": null,
      "outputs": []
    },
    {
      "cell_type": "markdown",
      "metadata": {
        "id": "VJekfeqlRFTH"
      },
      "source": [
        "## Cat Boost"
      ]
    },
    {
      "cell_type": "code",
      "metadata": {
        "id": "4gENlIaBRBEN"
      },
      "source": [
        "best_params = {'bagging_temperature': 0.8,\n",
        "               'depth': 5,\n",
        "               'iterations': 500,\n",
        "               'l2_leaf_reg': 30,\n",
        "               'learning_rate': 0.05,\n",
        "               'random_strength': 0.8}\n",
        "\n",
        "CB = CatBoostClassifier(\n",
        "        **best_params,\n",
        "        loss_function='Logloss',\n",
        "        eval_metric='Accuracy',         \n",
        "        nan_mode='Min',\n",
        "        verbose=False\n",
        "    )\n",
        "\n",
        "CB.fit(X_train, y_train,\n",
        "       verbose_eval=100, \n",
        "       early_stopping_rounds=50,\n",
        "       eval_set=(X_test, y_test),\n",
        "       use_best_model=False,\n",
        "       plot=True)\n",
        "\n",
        "y_pred_CB = CB.predict(X_test)\n",
        "\n",
        "cm_CB = confusion_matrix(y_pred_CB, y_test)\n",
        "acc_CB = accuracy_score(y_test, y_pred_CB)\n",
        "result_acc.append(acc_CB)\n",
        "print(\"HASIL\")\n",
        "print(\"Akurasi Model Cat Boost : \", acc_CB)\n",
        "print(\"Confusion Matrix Model Cat Boost : \", cm_CB)"
      ],
      "execution_count": null,
      "outputs": []
    },
    {
      "cell_type": "markdown",
      "metadata": {
        "id": "dyXWOqMfaXJE"
      },
      "source": [
        "##Perbandingan Hasil Antar Model"
      ]
    },
    {
      "cell_type": "code",
      "metadata": {
        "id": "y3wGmm4vRLef"
      },
      "source": [
        "results = pd.DataFrame({\"Hasil Model\":result_acc, \n",
        "                        \"Model\":[\"XGBoost\",\n",
        "                                  \"RandomForest\",\n",
        "                                  \"LogisticRegression\",\n",
        "                                  \"DecisionTree\", \n",
        "                                  \"SVM\",\n",
        "                                  \"CatBoost\"]})"
      ],
      "execution_count": null,
      "outputs": []
    },
    {
      "cell_type": "code",
      "metadata": {
        "id": "EeiC9tTHRUVz"
      },
      "source": [
        "# Menampilkan hasil untuk tiap model yang telah dibangun\n",
        "results"
      ],
      "execution_count": null,
      "outputs": []
    },
    {
      "cell_type": "code",
      "metadata": {
        "id": "9LOnOz5xRYoE"
      },
      "source": [
        "# Membuat Horizontal Bar Plot untuk Tiap Model\n",
        "g = sns.barplot(\"Hasil Model\", \"Model\", data = results)\n",
        "g.set_xlabel(\"Akurasi\")\n",
        "g.set_title(\"Hasil Tiap Model\", color = \"darkred\")\n",
        "plt.show()"
      ],
      "execution_count": null,
      "outputs": []
    },
    {
      "cell_type": "code",
      "source": [
        "import pickle"
      ],
      "metadata": {
        "id": "McgGNy7XgweQ"
      },
      "execution_count": null,
      "outputs": []
    },
    {
      "cell_type": "code",
      "source": [
        "# Save model Random Forest\n",
        "filename = 'modelRF.pkl'\n",
        "pickle.dump(RF, open(filename, 'wb'))"
      ],
      "metadata": {
        "id": "bzZd90DFgOKh"
      },
      "execution_count": null,
      "outputs": []
    },
    {
      "cell_type": "code",
      "source": [
        "print(\"Prediksi Gagal Jantung\")\n",
        "age = float(input(\"Umur anda (dalam angka): \"))\n",
        "cpk = float(input(\"Kadar enzim CPK (dalam angka): \"))\n",
        "ef = float(input(\"Persentase kadar darah yang dipompa keluar jantung (dalam persen): \"))\n",
        "sc = float(input(\"Kadar creatinine dalam darah (dalam mg/dL): \"))\n",
        "time = int(input(\"Periode follow up (dalam hari): \"))\n",
        "\n",
        "hasil_prediksi = RF.predict([[age,cpk,ef,sc,time]])\n",
        "if hasil_prediksi == 1:\n",
        "  print(\"\\nBerdasarkan record tersebut, orang yang bersangkutan sudah meninggal\")\n",
        "else:\n",
        "  print(\"\\nBerdasarkan record tersebut, orang yang bersangkutan tidak meninggal\")"
      ],
      "metadata": {
        "colab": {
          "base_uri": "https://localhost:8080/"
        },
        "id": "2hwr-ruGVA_8",
        "outputId": "55c97467-d28a-4035-e674-85032cdfef38"
      },
      "execution_count": null,
      "outputs": [
        {
          "output_type": "stream",
          "name": "stdout",
          "text": [
            "Prediksi Gagal Jantung\n",
            "Umur anda (dalam angka): 14\n",
            "Kadar enzim CPK (dalam angka): 800\n",
            "Persentase kadar darah yang dipompa keluar jantung (dalam persen): 70\n",
            "Kadar creatinine dalam darah (dalam mg/dL): 1.2\n",
            "Periode follow up (dalam hari): 8\n",
            "\n",
            "Anda didiagnosis mengidap gagal jantung\n"
          ]
        }
      ]
    }
  ]
}